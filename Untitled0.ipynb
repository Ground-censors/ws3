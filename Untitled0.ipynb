{
 "metadata": {
  "name": "",
  "signature": "sha256:d66d1e87bee5d411585b21a379d3b140708ec36a14aca8cf3f81aa69e50a3c48"
 },
 "nbformat": 3,
 "nbformat_minor": 0,
 "worksheets": [
  {
   "cells": [
    {
     "cell_type": "code",
     "collapsed": false,
     "input": [
      "from scipy.interpolate import interp1d\n",
      "p = [(0, 10), (10, 10), (50, 30), (100, 20), (1000, 20)]\n",
      "x, y = zip(*p)\n",
      "f = interp1d(x, y)"
     ],
     "language": "python",
     "metadata": {},
     "outputs": [],
     "prompt_number": 2
    },
    {
     "cell_type": "code",
     "collapsed": false,
     "input": [
      "f((2, 3, 11, 49, 51, 99, 101, 999, 1000, 1000))"
     ],
     "language": "python",
     "metadata": {},
     "outputs": [
      {
       "metadata": {},
       "output_type": "pyout",
       "prompt_number": 10,
       "text": [
        "array([ 10. ,  10. ,  10.5,  29.5,  29.8,  20.2,  20. ,  20. ,  20. ,  20. ])"
       ]
      }
     ],
     "prompt_number": 10
    },
    {
     "cell_type": "code",
     "collapsed": false,
     "input": [
      "f(101) + 2"
     ],
     "language": "python",
     "metadata": {},
     "outputs": [
      {
       "metadata": {},
       "output_type": "pyout",
       "prompt_number": 11,
       "text": [
        "22.0"
       ]
      }
     ],
     "prompt_number": 11
    },
    {
     "cell_type": "code",
     "collapsed": false,
     "input": [
      "model_name = 'PC_4537_U03153_4FF_V05'\n",
      "model_path = '../../dat/woodstock/03153'\n",
      "filename_suffix = 'act'\n",
      "with open('%s/%s.%s' % (model_path, model_name, filename_suffix)) as f:\n",
      "    s = f.read()"
     ],
     "language": "python",
     "metadata": {},
     "outputs": [],
     "prompt_number": 1
    },
    {
     "cell_type": "code",
     "collapsed": false,
     "input": [
      "import re\n",
      "ss = '; commentcomment\\n*THEME 1 ; foo\\n blah\\n blah\\n*THEME 2 ; bar\\n blah\\n blah\\n*THEME 33 ; qux\\n blah\\n blah\\n' \n",
      "#p = '^\\s*(\\*THEME\\s*\\d*.*)(?=(THEME))' #(?=(\\*THEME))' # '\\*(?=\\*)'\n",
      "#p = '(?<=THEME).*' #(?=(\\*THEME))' # '\\*(?=\\*)'\n",
      "p = r'\\*THEME' #(?=(\\*THEME))' # '\\*(?=\\*)'\n",
      "#p = '(?=T).*'\n",
      "#p = '^.*THEME.*'\n",
      "rx1 = re.compile(p, re.M|re.S)\n",
      "#m = rx1.search(ss)\n",
      "#m.group(0)\n",
      "\n",
      "ss = s\n",
      "\n",
      "# count themes\n",
      "nthemes = len(re.findall(p, ss))\n",
      "print 'Theme count:', nthemes\n",
      "print\n",
      "# strip crap from top of file\n",
      "m = re.search(r'\\*THEME.*', ss, re.M|re.S)\n",
      "sss = m.group(0)\n",
      "#print sss\n",
      "tokens = re.split(r'\\*THEME.*\\n', sss)\n",
      "theme_data = tokens[1:]\n",
      "#print theme_data[0]\n",
      "m = re.split('^\\*AGGREGATE', theme_data[0], re.M|re.S)"
     ],
     "language": "python",
     "metadata": {},
     "outputs": [
      {
       "output_type": "stream",
       "stream": "stdout",
       "text": [
        "Theme count: 20\n",
        "\n",
        "           {CODE ou NOM ANALYSTE                      DESCRIPTION ANALYSTE}\r\n",
        " GS0001    Non Forestier                              ;Non Forestier\r\n",
        " GS0002    SbEP_MS2_ABC_Irr                           ;SbEP_MS2_ABC_Irr\r\n",
        " GS0003    SbEb_MS2_ABC_Irr                           ;SbEb_MS2_ABC_Irr\r\n",
        " GS0004    SbEP_RS2_ABC_Irr                           ;SbEP_RS2_ABC_Irr\r\n",
        " GS0005    SbEP_RS2_na_Reg                            ;SbEP_RS2_na_Reg\r\n",
        " GS0006    SbEP_MS2_na_Reg                            ;SbEP_MS2_na_Reg\r\n",
        " GS0007    a classer                                  ;a classer\r\n",
        " GS0008    Pb_RS5_na_Reg                              ;Pb_RS5_na_Reg\r\n",
        " GS0009    TF_CHENAIE                                 ;Filtre 12\r\n",
        " GS0010    EuPg_RE2/RS5_na_na                         ;EuPg_RE2/RS5_na_na\r\n",
        " GS0011    EuRx_MJ/MS_na_na                           ;EuRx_MJ/MS_na_na\r\n",
        " GS0012    EuRx_RE20/RSx0-8_na_na                     ;EuRx_RE20/RSx0-8_na_na\r\n",
        " GS0013    EuRx_RE2/RS_na_na                          ;EuRx_RE2/RS_na_na\r\n",
        " GS0014    EuFx_MJx0-8_na_na                          ;EuFx_MJx0-8_na_na\r\n",
        " GS0015    EuFx_MJ_na_na                              ;EuFx_MJ_na_na\r\n",
        " GS0016    EuFx_RSx0-8_na_na                          ;EuFx_RSx0-8_na_na\r\n",
        " GS0017    EuFx_RS_na_na                              ;EuFx_RS_na_na\r\n",
        " GS0018    En_RE20_na_Reg                             ;En_RE20_na_Reg\r\n",
        " GS0019    En_RE2_na_Reg                              ;En_RE2_na_Reg\r\n",
        " GS0020    En_RE3_na_Reg                              ;En_RE3_na_Reg\r\n",
        " GS0021    En_RS20_na_Reg                             ;En_RS20_na_Reg\r\n",
        " GS0022    En_RS2_ABC_Irr                             ;En_RS2_ABC_Irr\r\n",
        " GS0023    En_RS2_D_Irr                               ;En_RS2_D_Irr\r\n",
        " GS0024    En_RS2_CD_Reg                              ;En_RS2_CD_Reg\r\n",
        " GS0025    En_RS2_AB_Reg                              ;En_RS2_AB_Reg\r\n",
        " GS0026    En_MS2_na_Reg                              ;En_MS2_na_Reg\r\n",
        " GS0027    Sb_MS10_na_Reg                             ;Sb_MS10_na_Reg\r\n",
        " GS0028    Sb_MS1_EPC_Reg                             ;Sb_MS1_EPC_Reg\r\n",
        " GS0029    Sb_MS1_ABC_Irr                             ;Sb_MS1_ABC_Irr\r\n",
        " GS0030    Sb_MS1_CD_Reg                              ;Sb_MS1_CD_Reg\r\n",
        " GS0031    Sb_MS1_AB_Reg                              ;Sb_MS1_AB_Reg\r\n",
        " GS0032    Sb_MS20_na_Reg                             ;Sb_MS20_na_Reg\r\n",
        " GS0033    Sb_MS2_EPC_Reg                             ;Sb_MS2_EPC_Reg\r\n",
        " GS0034    Sb_MS2_ABC_Irr                             ;Sb_MS2_ABC_Irr\r\n",
        " GS0035    Sb_MS2_CD_Reg                              ;Sb_MS2_CD_Reg\r\n",
        " GS0036    Sb_MS2_AB_Reg                              ;Sb_MS2_AB_Reg\r\n",
        " GS0037    PgRx_na_PL_Reg                             ;PgRx_na_PL_Reg\r\n",
        " GS0038    PgRx_na_na_Reg                             ;PgRx_na_na_Reg\r\n",
        " GS0039    TF_MELEZAIE                                ;Filtre 21\r\n",
        " GS0040    TF_CEDRIERE                                ;Filtre 9\r\n",
        " GS0041    TF_PESSIERE BLANCHE                        ;Filtre 22\r\n",
        " GS0042    Pu_RT1_na_Reg                              ;Pu_RT1_na_Reg\r\n",
        " GS0043    To_RC3_na_Irr                              ;To_RC3_na_Irr\r\n",
        " GS0044    ToEpx_RC3_na_Irr                           ;ToEpx_RC3_na_Irr\r\n",
        " GS0045    ToSb_RC3_na_Irr                            ;ToSb_RC3_na_Irr\r\n",
        " GS0046    ToRx_RC3_na_Irr                            ;ToRx_RC3_na_Irr\r\n",
        " GS0047    To_RS1_na_Irr                              ;To_RS1_na_Irr\r\n",
        " GS0048    ToEpx_RS1_na_Irr                           ;ToEpx_RS1_na_Irr\r\n",
        " GS0049    ToSb_RS1_na_Irr                            ;ToSb_RS1_na_Irr\r\n",
        " GS0050    ToRx_RS1_na_Irr                            ;ToRx_RS1_na_Irr\r\n",
        " GS0051    EpxTo_RS2_na_na                            ;EpxTo_RS2_na_na\r\n",
        " GS0052    EpxTo_RS3_na_na                            ;EpxTo_RS3_na_na\r\n",
        " GS0053    EpxTo_RE3_na_na                            ;EpxTo_RE3_na_na\r\n",
        " GS0054    EpxEb_MS2_PL_Reg                           ;EpxEb_MS2_PL_Reg\r\n",
        " GS0055    EpxEb_MS2_ABC_Irr                          ;EpxEb_MS2_ABC_Irr\r\n",
        " GS0056    EpxEb_MS2_CD_Reg                           ;EpxEb_MS2_CD_Reg\r\n",
        " GS0057    EpxEb_MS2_AB_Reg                           ;EpxEb_MS2_AB_Reg\r\n",
        " GS0058    EpxEb_RS1_ABC_Irr                          ;EpxEb_RS1_ABC_Irr\r\n",
        " GS0059    EpxEb_RS1_na_Reg                           ;EpxEb_RS1_na_Reg\r\n",
        " GS0060    EpxSb_MS1_PL_Reg                           ;EpxSb_MS1_PL_Reg\r\n",
        " GS0061    EpxSb_MS1_ABC_Irr                          ;EpxSb_MS1_ABC_Irr\r\n",
        " GS0062    EpxSb_MS1_CD_Reg                           ;EpxSb_MS1_CD_Reg\r\n",
        " GS0063    EpxSb_MS1_AB_Reg                           ;EpxSb_MS1_AB_Reg\r\n",
        " GS0064    EpxSb_MS20_na_Reg                          ;EpxSb_MS20_na_Reg\r\n",
        " GS0065    EpxSb_MS2_PL_Reg                           ;EpxSb_MS2_PL_Reg\r\n",
        " GS0066    EpxSb_MS2_EPC_Reg                          ;EpxSb_MS2_EPC_Reg\r\n",
        " GS0067    EpxSb_MS2_ABC_Irr                          ;EpxSb_MS2_ABC_Irr\r\n",
        " GS0068    EpxSb_MS2_D_Irr                            ;EpxSb_MS2_D_Irr\r\n",
        " GS0069    EpxSb_MS2_CD_Reg                           ;EpxSb_MS2_CD_Reg\r\n",
        " GS0070    EpxSb_MS2_AB_Reg                           ;EpxSb_MS2_AB_Reg\r\n",
        " GS0071    EpxSb_RS20_na_Reg                          ;EpxSb_RS20_na_Reg\r\n",
        " GS0072    EpxSb_RS2_EPC_Reg                          ;EpxSb_RS2_EPC_Reg\r\n",
        " GS0073    EpxSb_RS2_ABC_Irr                          ;EpxSb_RS2_ABC_Irr\r\n",
        " GS0074    EpxSb_RS2_D_Irr                            ;EpxSb_RS2_D_Irr\r\n",
        " GS0075    EpxSb_RS2_CD_Reg                           ;EpxSb_RS2_CD_Reg\r\n",
        " GS0076    EpxSb_RS2_AB_Reg                           ;EpxSb_RS2_AB_Reg\r\n",
        " GS0077    EpxSb_RS3_ABC_Irr                          ;EpxSb_RS3_ABC_Irr\r\n",
        " GS0078    EpxSb_RS3_CD_Reg                           ;EpxSb_RS3_CD_Reg\r\n",
        " GS0079    EpxSb_RS3_AB_Reg                           ;EpxSb_RS3_AB_Reg\r\n",
        " GS0080    EpxSb_RS50_na_Reg                          ;EpxSb_RS50_na_Reg\r\n",
        " GS0081    EpxSb_RS5_PL_Reg                           ;EpxSb_RS5_PL_Reg\r\n",
        " GS0082    EpxSb_RS5_ABC_Irr                          ;EpxSb_RS5_ABC_Irr\r\n",
        " GS0083    EpxSb_RS5_na_Reg                           ;EpxSb_RS5_na_Reg\r\n",
        " GS0084    TF_PESSIERE (Rx)                           ;Filtre 26\r\n",
        " GS0085    SbTo_RS1_789_Irr                           ;SbTo_RS1_789_Irr\r\n",
        " GS0086    SbTo_RS1_na_Irr                            ;SbTo_RS1_na_Irr\r\n",
        " GS0087    SbEb_MS1_ABC_Irr                           ;SbEb_MS1_ABC_Irr\r\n",
        " GS0088    SbEb_MS1_CD_Reg                            ;SbEb_MS1_CD_Reg\r\n",
        " GS0089    SbEb_MS1_AB_Reg                            ;SbEb_MS1_AB_Reg\r\n",
        " GS0090    SbEb_MS20_na_Reg                           ;SbEb_MS20_na_Reg\r\n",
        " GS0091    SbEb_MS2_CD_Reg                            ;SbEb_MS2_CD_Reg\r\n",
        " GS0092    SbEb_MS2_AB_Reg                            ;SbEb_MS2_AB_Reg\r\n",
        " GS0093    SbEb_RS2_ABC_Irr                           ;SbEb_RS2_ABC_Irr\r\n",
        " GS0094    SbEb_RS2_na_Reg                            ;SbEb_RS2_na_Reg\r\n",
        " GS0095    SbEP_MS20_na_Reg                           ;SbEP_MS20_na_Reg\r\n",
        " GS0096    SbEP_MS2_EPC_Reg                           ;SbEP_MS2_EPC_Reg\r\n",
        " GS0097    SbEP_MS1_ABC_Irr                           ;SbEP_MS1_ABC_Irr\r\n",
        " GS0098    SbEP_MS1_na_Reg                            ;SbEP_MS1_na_Reg\r\n",
        " GS0099    SbEP_RS3_na_Reg                            ;SbEP_RS3_na_Reg\r\n",
        " GS0100    SbEP_RS20_na_Reg                           ;SbEP_RS20_na_Reg\r\n",
        " GS0101    TF_RESINEUX (ind)                          ;Strates r\ufffdsineuses ind\ufffdtermin\ufffdes\r\n",
        " GS0102    TF_BETULAIE BLANCHE                        ;Filtre 1\r\n",
        " GS0103    Es_FE_na_Irr                               ;Es_FE_na_Irr\r\n",
        " GS0104    Es_FE_na_Reg                               ;EsFE_na_Reg\r\n",
        " GS0105    Es_FE_App_na                               ;Es_FE_App_na\r\n",
        " GS0106    TF_PEUPLERAIE                              ;Filtre 27\r\n",
        " GS0107    TF_ERABLIERE ROUGE                         ;Filtre 17\r\n",
        " GS0108    Bj_FE_na_Irr                               ;Bj_FE_na_Irr\r\n",
        " GS0109    Bj_MJ/MS1_App_na                           ;Bj_MJ/MS1_App_na\r\n",
        " GS0110    Bj_MJ/MS1_na_Irr                           ;Bj_MJ/MS1_na_Irr\r\n",
        " GS0111    Bj_MJ/MS1_na_Reg                           ;Bj_MJ/MS1_na_Reg\r\n",
        " GS0112    BjFt_FE_App_na                             ;BjFt_FE_App_na\r\n",
        " GS0113    BjFt_FE_na_Irr                             ;BjFt_FE_na_Irr\r\n",
        " GS0114    BjFt_FE_na_Reg                             ;BjFt_FE_na_Reg\r\n",
        " GS0115    BjFt_MJ/MS1_App_na                         ;BjFt_MJ/MS1_App_na\r\n",
        " GS0116    BjFt_MJ/MS1_na_Irr                         ;BjFt_MJ/MS1_na_Irr\r\n",
        " GS0117    BjFt_MJ/MS1_na_Reg                         ;BjFt_MJ/MS1_na_Reg\r\n",
        " GS0118    BjFi_MJ/MS1_App_na                         ;BjFi_MJ/MS1_App_na\r\n",
        " GS0119    BjFi_MJ/MS1_na_Irr                         ;BjFi_MJ/MS1_na_Irr\r\n",
        " GS0120    BjFi_MJ/MS1_na_Reg                         ;BjFi_MJ/MS1_na_Reg\r\n",
        " GS0121    EsBj_FE_na_Irr                             ;EsBj_FE_na_Irr\r\n",
        " GS0122    EsBj_FE_na_Reg                             ;EsBj_FE_na_Reg\r\n",
        " GS0123    EsBj_FE_App_na                             ;EsBj_FE_App_na\r\n",
        " GS0124    EsHg_FE_na_Irr                             ;EsHg_FE_na_Irr\r\n",
        " GS0125    EsHg_FE_na_Reg                             ;EsHg_FE_na_Reg\r\n",
        " GS0126    EsHg_FE_App_na                             ;EsHg_FE_App_na\r\n",
        " GS0127    EsFn_FE_na_Irr                             ;EsFn_FE_na_Irr\r\n",
        " GS0128    EsFn_FE_na_Reg                             ;EsFn_FE_na_Reg\r\n",
        " GS0129    EsFn_FE_App_na                             ;EsFn_FE_App_na\r\n",
        " GS0130    EsFi_FE_na_Irr                             ;EsFi_FE_na_Irr\r\n",
        " GS0131    EsFi_FE_na_Reg                             ;EsFi_FE_na_Reg\r\n",
        " GS0132    EsFi_FE_App_na                             ;EsFi_FE_App_na\r\n",
        " GS0133    BpFi_MS2_AB_Reg                            ;BpFi_MS2_AB_Reg\r\n",
        " GS0134    BpFi_MS2_CD_Reg                            ;BpFi_MS2_CD_Reg\r\n",
        " GS0135    BpFi_MS1_AB_Reg                            ;BpFi_MS1_AB_Reg\r\n",
        " GS0136    BpFi_MS1_CD_Reg                            ;BpFi_MS1_CD_Reg\r\n",
        " GS0137    BpFt_FE3_AB_na                             ;BpFt_FE3_AB_na\r\n",
        " GS0138    BpFt_MJ/MS1_AB_na                          ;BpFt_MJ/MS1_AB_na\r\n",
        " GS0139    BpFt_MJ/MS1_CD_na                          ;BpFt_MJ/MS1_CD_na\r\n",
        " GS0140    Pe_MS2_na_Reg                              ;Pe_MS2_na_Reg\r\n",
        " GS0141    Pe_MS1_na_Reg                              ;Pe_MS1_na_Reg\r\n",
        " GS0142    TF_PEUPLERAIE (FT)                         ;Filtre 29\r\n",
        " GS0143    EoFi_FE3_na_na                             ;EoFi_FE3_na_na\r\n",
        " GS0144    EoFi_MJ/MS_AB_na                           ;EoFi_MJ/MS_AB_na\r\n",
        " GS0145    EoFi_MJ/MS_CD_na                           ;EoFi_MJ/MS_CD_na\r\n",
        " GS0146    EoFt_FE_AB_na                              ;EoFt_FE_AB_na\r\n",
        " GS0147    EoFt_MJ1/MS1_AB_na                         ;EoFt_MJ1/MS1_AB_na\r\n",
        " GS0148    EoFt_MJ1/MS1_CD_na                         ;EoFt_MJ1/MS1_CD_na\r\n",
        " GS0149    TF_FEUILLUS TOL (ind)                      ;TF_FEUILLUS TOL (ind)\r\n",
        " GS0150    TF_FEUILLUS INTOL (ind)                    ;TF_FEUILLUS INTOL (ind)\r\n",
        " GS0151    ToFx_MJ/MS1_na_Irr                         ;ToFx_MJ/MS1_na_Irr\r\n",
        " GS0152    EpxPe_MS10_na_na                           ;EpxPe_MS10_na_na\r\n",
        " GS0153    EpxPe_MS1_na_na                            ;EpxPe_MS1_na_na\r\n",
        " GS0154    EpxPe_MS2_na_na                            ;EpxPe_MS2_na_na\r\n",
        " GS0155    EpxPe_RS3_na_na                            ;EpxPe_RS3_na_na\r\n",
        " GS0156    EpxPe_RS20_na_na                           ;EpxPe_RS20_na_na\r\n",
        " GS0157    EpxPe_RS2_na_na                            ;EpxPe_RS2_na_na\r\n",
        " GS0158    EpxBp_MS10_na_Reg                          ;EpxBp_MS10_na_Reg\r\n",
        " GS0159    EpxBp_MS1_na_Reg_Bj                        ;EpxBp_MS1_na_Reg_Bj\r\n",
        " GS0160    EpxBp_MS1_ABC_Irr                          ;EpxBp_MS1_ABC_Irr\r\n",
        " GS0161    EpxBp_MS1_CD_Reg                           ;EpxBp_MS1_CD_Reg\r\n",
        " GS0162    EpxBp_MS1_AB_Reg                           ;EpxBp_MS1_AB_Reg\r\n",
        " GS0163    EpxBp_MS20_na_reg                          ;EpxBp_MS20_na_reg\r\n",
        " GS0164    EpxBp_MS2_ABC_Irr                          ;EpxBp_MS2_ABC_Irr\r\n",
        " GS0165    EpxBp_MS2_CD_Reg                           ;EpxBp_MS2_CD_Reg\r\n",
        " GS0166    EpxBp_MS2_AB_Reg                           ;EpxBp_MS2_AB_Reg\r\n",
        " GS0167    EpxBp_RS20_na_reg                          ;EpxBp_RS20_na_reg\r\n",
        " GS0168    EpxBp_RS2_ABC_Irr                          ;EpxBp_RS2_ABC_Irr\r\n",
        " GS0169    EpxBp_RS2_CD_Reg                           ;EpxBp_RS2_CD_Reg\r\n",
        " GS0170    EpxBp_RS2_AB_Reg                           ;EpxBp_RS2_AB_Reg\r\n",
        " GS0171    SbBj_MJ/MS1_na_na_Bj                       ;SbBj_MJ/MS1_na_na_Bj\r\n",
        " GS0172    SbBj_MJ/MS1_na_na                          ;SbBj_MJ/MS1_na_na\r\n",
        " GS0173    SbBp_MS10_na_Reg                           ;SbBp_MS10_na_Reg\r\n",
        " GS0174    SbBp_MS1_na_Irr                            ;SbBp_MS1_na_Irr\r\n",
        " GS0175    SbBp_MS1_EPC_Reg                           ;SbBp_MS1_EPC_Reg\r\n",
        " GS0176    SbBp_MS1_AB_Reg                            ;SbBp_MS1_AB_Reg\r\n",
        " GS0177    SbBp_MS1_CD_Reg                            ;SbBp_MS1_CD_Reg\r\n",
        " GS0178    SbBp_MS20_na_Reg                           ;SbBp_MS20_na_Reg\r\n",
        " GS0179    SbBp_MS2_EPC_Reg                           ;SbBp_MS2_EPC_Reg\r\n",
        " GS0180    SbBp_MS2_AB_Reg                            ;SbBp_MS2_AB_Reg\r\n",
        " GS0181    SbBp_MS2_CD_Reg                            ;SbBp_MS2_CD_Reg\r\n",
        " GS0182    SbPe_MS1_na_na                             ;SbPe_MS1_na_na\r\n",
        " GS0183    BjRx_MJ/MS1_App_na                         ;BjRx_MJ/MS1_App_na\r\n",
        " GS0184    BjRx_MJ/MS1_na_Irr_Bj                      ;BjRx_MJ/MS1_na_Irr_Bj\r\n",
        " GS0185    BjRx_MJ/MS1_na_Irr                         ;BjRx_MJ/MS1_na_Irr\r\n",
        " GS0186    BjRx_MJ/MS1_na_Reg_Bj                      ;BjRx_MJ/MS1_na_Reg_Bj\r\n",
        " GS0187    BjRx_MJ/MS1_na_Reg                         ;BjRx_MJ/MS1_na_Reg\r\n",
        " GS0188    EsRx_MJ2_na_na                             ;EsRx_MJ2_na_na\r\n",
        " GS0189    PeRx_MS1_na_Reg                            ;PeRx_MS1_na_Reg\r\n",
        " GS0190    PeRx_MS2_na_Reg                            ;PeRx_MS2_na_Reg\r\n",
        " GS0191    BpRx_MJx0/MS10_na_Reg                      ;BpRx_MJx0/MS10_na_Reg\r\n",
        " GS0192    BpRx_MJ/MS1_AB_Reg_Bj                      ;BpRx_MJ/MS1_AB_Reg_Bj\r\n",
        " GS0193    BpRx_MJ/MS1_CD_Reg_Bj                      ;BpRx_MJ/MS1_CD_Reg_Bj\r\n",
        " GS0194    BpRx_MJ/MS1_AB_Reg                         ;BpRx_MJ/MS1_AB_Reg\r\n",
        " GS0195    BpRx_MJ/MS1_CD_Reg                         ;BpRx_MJ/MS1_CD_Reg\r\n",
        " GS0196    BpRx_MS20_na_Reg                           ;BpRx_MS20_na_Reg\r\n",
        " GS0197    BpRx_MS2_AB_Reg                            ;BpRx_MS2_AB_Reg\r\n",
        " GS0198    BpRx_MS2_CD_Reg                            ;BpRx_MS2_CD_Reg\r\n",
        " GS0199    BpRx_RS20_na_Reg                           ;BpRx_RS20_na_Reg\r\n",
        " GS0200    BpRx_RS2_na_Reg                            ;BpRx_RS2_na_Reg\r\n",
        " GS0201    EoRx_MJ/MS_na_Reg_Bj                       ;EoRx_MJ/MS_na_Reg_Bj\r\n",
        " GS0202    EoRx_MJ/MS_AB_Reg                          ;EoRx_MJ/MS_AB_Reg\r\n",
        " GS0203    EoRx_MJ/MS_CD_Reg                          ;EoRx_MJ/MS_CD_Reg\r\n",
        " GS0204    TF_MELANGES F (ind)                        ;TF_MELANGES F (ind)\r\n",
        " GS0205    M7M_PL_FE3                                 ;M7M_PL_FE3\r\n",
        " GS0206    EpxEb_MS1_PL_Reg_M7M                       ;EpxEb_MS1_PL_Reg_M7M\r\n",
        " GS0207    MJ/MS1_R_PL_NON_EDUQUE                     ;MJ/MS1_R_PL_NON_EDUQUE\r\n",
        " GS0208    MJ/MS1_M_PL_EDUQUE                         ;MJ/MS1_M_PL_EDUQUE\r\n",
        " GS0209    En_MS2_PL_Reg_M7M                          ;En_MS2_PL_Reg_M7M\r\n",
        "\r\n",
        " GS0210    SbEP_MS2_PLEPC_Reg_M7M                     ;SbEP_MS2_PLEPC_Reg_M7M\r\n",
        " GS0211    EpxBp_MS2_PLEPC_Reg_M7M                    ;EpxBp_MS2_PLEPC_Reg_M7M\r\n",
        " GS0212    RE2/RS_M_PL_EDUQUE                         ;RE2/RS_M_PL_EDUQUE\r\n",
        " GS0213    RE2/RS_M_PL_NON_EDUQUE                     ;RE2/RS_M_PL_NON_EDUQUE\r\n",
        " GS0214    En_RS2_PL_Reg_M7M                          ;En_RS2_PL_Reg_M7M\r\n",
        " GS0215    M7M_NAT_FE                                 ;M7M_NAT_FE\r\n",
        " GS0216    M7M_NAT_MJ1                                ;M7M_NAT_MJ1\r\n",
        " GS0217    M7M_NAT_mj2                                ;M7M_NAT_mj2\r\n",
        " GS0218    MS1_R_ES_NON_EDUQUE                        ;MS1_R_ES_NON_EDUQUE\r\n",
        " GS0219    MS1_R_BR_NON_EDUQUE                        ;MS1_R_BR_NON_EDUQUE\r\n",
        " GS0220    MS1_R_CT_NON_EDUQUE                        ;MS1_R_CT_NON_EDUQUE\r\n",
        " GS0221    MS1_M_CT_EDUQUE                            ;MS1_M_CT_EDUQUE\r\n",
        " GS0222    MS1_F_BR_NON_EDUQUE                        ;MS1_F_BR_NON_EDUQUE\r\n",
        " GS0223    MS1_F_CT_EDUQUE                            ;MS1_F_CT_EDUQUE\r\n",
        " GS0224    Ms1_na_ES_NON_EDUQUE                       ;Ms1_na_ES_NON_EDUQUE\r\n",
        " GS0225    MS1_na_BR_NON_EDUQUE                       ;MS1_na_BR_NON_EDUQUE\r\n",
        " GS0226    MS1_na_CT_EDUQUE                           ;MS1_na_CT_EDUQUE\r\n",
        " GS0227    MS2_R_BR_NON_EDUQUE                        ;MS2_R_BR_NON_EDUQUE\r\n",
        " GS0228    EpxSb_MS2_EPC_Reg_M7M                      ;EpxSb_MS2_EPC_Reg_M7M\r\n",
        "\r\n",
        " GS0229    MS2_F_BR_NON_EDUQUE                        ;MS2_F_BR_NON_EDUQUE\r\n",
        " GS0230    MS2_F_CT_EDUQUE                            ;MS2_F_CT_EDUQUE\r\n",
        " GS0231    SbEP_MS2_na_Reg_M7M                        ;SbEP_MS2_na_Reg_M7M\r\n",
        "\r\n",
        " GS0232    MS2_na_CT_EDUQUE                           ;MS2_na_CT_EDUQUE\r\n",
        " GS0233    MS4_R_BR_NON_EDUQUE                        ;MS4_R_BR_NON_EDUQUE\r\n",
        " GS0234    MS4_R_CT_EDUQUE                            ;MS4_R_CT_EDUQUE\r\n",
        " GS0235    MS4_M_BR_NON_EDUQUE                        ;MS4_M_BR_NON_EDUQUE\r\n",
        " GS0236    MS4_M_CT_EDUQUE                            ;MS4_M_CT_EDUQUE\r\n",
        " GS0237    MS4_M_CT_NON_EDUQUE                        ;MS4_M_CT_NON_EDUQUE\r\n",
        " GS0238    MS4_F_ES_NON_EDUQUE                        ;MS4_F_ES_NON_EDUQUE\r\n",
        " GS0239    MS4_F_BR_NON_EDUQUE                        ;MS4_F_BR_NON_EDUQUE\r\n",
        " GS0240    MS4_F_CT_EDUQUE                            ;MS4_F_CT_EDUQUE\r\n",
        " GS0241    MS4_F_CT_NON_EDUQUE                        ;MS4_F_CT_NON_EDUQUE\r\n",
        " GS0242    MS4_na_ES_NON_EDUQUE                       ;MS4_na_ES_NON_EDUQUE\r\n",
        " GS0243    MS4_na_BR_NON_EDUQUE                       ;MS4_na_BR_NON_EDUQUE\r\n",
        " GS0244    MS4_na_CT_EDUQUE                           ;MS4_na_CT_EDUQUE\r\n",
        " GS0245    MS6_R_ES_NON_EDUQUE                        ;MS6_R_ES_NON_EDUQUE\r\n",
        " GS0246    MS6_R_BR_NON_EDUQUE                        ;MS6_R_BR_NON_EDUQUE\r\n",
        " GS0247    SbEP_MS1_EPC_Reg_M7M                       ;SbEP_MS1_EPC_Reg_M7M\r\n",
        "\r\n",
        " GS0248    MS6_R_CT_NON_EDUQUE                        ;MS6_R_CT_NON_EDUQUE\r\n",
        " GS0249    MS6_M_BR_NON_EDUQUE                        ;MS6_M_BR_NON_EDUQUE\r\n",
        " GS0250    MS6_M_CT_EDUQUE                            ;MS6_M_CT_EDUQUE\r\n",
        " GS0251    MS6_F_ES_NON_EDUQUE                        ;MS6_F_ES_NON_EDUQUE\r\n",
        " GS0252    MS6_F_BR_NON_EDUQUE                        ;MS6_F_BR_NON_EDUQUE\r\n",
        " GS0253    MS6_F_CT_EDUQUE                            ;MS6_F_CT_EDUQUE\r\n",
        " GS0254    MS6_F_CT_NON_EDUQUE                        ;MS6_F_CT_NON_EDUQUE\r\n",
        " GS0255    MS6_na_ES_NON_EDUQUE                       ;MS6_na_ES_NON_EDUQUE\r\n",
        " GS0256    MS6_na_BR_NON_EDUQUE                       ;MS6_na_BR_NON_EDUQUE\r\n",
        " GS0257    MS6_na_CT_EDUQUE                           ;MS6_na_CT_EDUQUE\r\n",
        " GS0258    M7M_NAT_RC3                                ;M7M_NAT_RC3\r\n",
        " GS0259    RE2_R_ES_NON_EDUQUE                        ;RE2_R_ES_NON_EDUQUE\r\n",
        " GS0260    RE2_R_BR_NON_EDUQUE                        ;RE2_R_BR_NON_EDUQUE\r\n",
        " GS0261    RE2_R_CT_EDUQUE                            ;RE2_R_CT_EDUQUE\r\n",
        " GS0262    RE2_M_ES_NON_EDUQUE                        ;RE2_M_ES_NON_EDUQUE\r\n",
        " GS0263    RE2_M_BR_NON_EDUQUE                        ;RE2_M_BR_NON_EDUQUE\r\n",
        " GS0264    RE2_M_CT_EDUQUE                            ;RE2_M_CT_EDUQUE\r\n",
        " GS0265    RE2_M_CT_NON_EDUQUE                        ;RE2_M_CT_NON_EDUQUE\r\n",
        " GS0266    RE2_F_ES_NON_EDUQUE                        ;RE2_F_ES_NON_EDUQUE\r\n",
        " GS0267    RE2_F_BR_NON_EDUQUE                        ;RE2_F_BR_NON_EDUQUE\r\n",
        " GS0268    RE2_F_CT_EDUQUE                            ;RE2_F_CT_EDUQUE\r\n",
        " GS0269    RE2_F_CT_NON_EDUQUE                        ;RE2_F_CT_NON_EDUQUE\r\n",
        " GS0270    RE2_na_ES_NON_EDUQUE                       ;RE2_na_ES_NON_EDUQUE\r\n",
        " GS0271    RE2_na_BR_NON_EDUQUE                       ;RE2_na_BR_NON_EDUQUE\r\n",
        " GS0272    RE2_na_CT_EDUQUE                           ;RE2_na_CT_EDUQUE\r\n",
        " GS0273    RE3_R_ES_NON_EDUQUE                        ;RE3_R_ES_NON_EDUQUE\r\n",
        " GS0274    RE3_R_BR_NON_EDUQUE                        ;RE3_R_BR_NON_EDUQUE\r\n",
        " GS0275    RE3_R_CT_EDUQUE                            ;RE3_R_CT_EDUQUE\r\n",
        " GS0276    RE3_R_CT_NON_EDUQUE                        ;RE3_R_CT_NON_EDUQUE\r\n",
        " GS0277    RE3_M_ES_NON_EDUQUE                        ;RE3_M_ES_NON_EDUQUE\r\n",
        " GS0278    RE3_M_BR_NON_EDUQUE                        ;RE3_M_BR_NON_EDUQUE\r\n",
        " GS0279    RE3_M_CT_EDUQUE                            ;RE3_M_CT_EDUQUE\r\n",
        " GS0280    RE3_M_CT_NON_EDUQUE                        ;RE3_M_CT_NON_EDUQUE\r\n",
        " GS0281    RE3_F_ES_NON_EDUQUE                        ;RE3_F_ES_NON_EDUQUE\r\n",
        " GS0282    RE3_F_BR_NON_EDUQUE                        ;RE3_F_BR_NON_EDUQUE\r\n",
        " GS0283    RE3_F_CT_EDUQUE                            ;RE3_F_CT_EDUQUE\r\n",
        " GS0284    RE3_F_CT_NON_EDUQUE                        ;RE3_F_CT_NON_EDUQUE\r\n",
        " GS0285    RE3_na_ES_NON_EDUQUE                       ;RE3_na_ES_NON_EDUQUE\r\n",
        " GS0286    RE3_na_BR_NON_EDUQUE                       ;RE3_na_BR_NON_EDUQUE\r\n",
        " GS0287    RE3_na_CT_EDUQUE                           ;RE3_na_CT_EDUQUE\r\n",
        " GS0288    M7M_NAT_RS1                                ;M7M_NAT_RS1\r\n",
        " GS0289    RS2_R_BR_NON_EDUQUE                        ;RS2_R_BR_NON_EDUQUE\r\n",
        " GS0290    En_RS2_EPC_Reg_M7M                         ;En_RS2_EPC_Reg_M7M\r\n",
        " GS0291    SbBp_RS20_na_Reg_M7M                       ;SbBp_RS20_na_Reg_M7M\r\n",
        "\r\n",
        " GS0292    RS2_M_BR_NON_EDUQUE                        ;RS2_M_BR_NON_EDUQUE\r\n",
        " GS0293    EpxPe_RS2_EPC_Reg_M7M                      ;EpxPe_RS2_EPC_Reg_M7M\r\n",
        "\r\n",
        " GS0294    RS2_F_ES_NON_EDUQUE                        ;RS2_F_ES_NON_EDUQUE\r\n",
        " GS0295    RS2_F_BR_NON_EDUQUE                        ;RS2_F_BR_NON_EDUQUE\r\n",
        " GS0296    RS2_F_CT_EDUQUE                            ;RS2_F_CT_EDUQUE\r\n",
        " GS0297    RS2_F_CT_NON_EDUQUE                        ;RS2_F_CT_NON_EDUQUE\r\n",
        " GS0298    RS2_na_ES_NON_EDUQUE                       ;RS2_na_ES_NON_EDUQUE\r\n",
        " GS0299    RS2_na_CT_EDUQUE                           ;RS2_na_CT_EDUQUE\r\n",
        " GS0300    M7M_NAT_RS3                                ;M7M_NAT_RS3\r\n",
        " GS0301    M7M_NAT_RS5                                ;M7M_NAT_RS5\r\n",
        " GS0302    M7M_NAT_RT1                                ;M7M_NAT_RT1\r\n",
        " NA        NON ADMISSIBLE\r\n",
        "\r\n",
        ";*AGGREGATE  PeuResDense ;Peuplement r\ufffdsineux dense\r\n",
        "\r\n",
        ";*AGGREGATE  PibRegu  ;Peuplements de pin blanc \ufffd structure r\ufffdguli\ufffdre\r\n",
        "\r\n",
        ";*AGGREGATE PibIrregu   ;Peuplements de pin blanc \ufffd structure irr\ufffdguli\ufffdre\r\n",
        "\r\n",
        ";*AGGREGATE GsESSE ;Groupe de strates sapin et \ufffdpinettes\r\n",
        "\r\n",
        "\n"
       ]
      }
     ],
     "prompt_number": 214
    },
    {
     "cell_type": "code",
     "collapsed": false,
     "input": [
      "import re\n",
      "ss = 'abcdef'\n",
      "p = '(?<=abc)def'\n",
      "rx1 = re.compile(p, re.M|re.S)\n",
      "m = re.search(p, ss)\n",
      "m.group(0)"
     ],
     "language": "python",
     "metadata": {},
     "outputs": [
      {
       "metadata": {},
       "output_type": "pyout",
       "prompt_number": 140,
       "text": [
        "'def'"
       ]
      }
     ],
     "prompt_number": 140
    },
    {
     "cell_type": "code",
     "collapsed": false,
     "input": [
      "import re\n",
      "ss = r'*AGGREGATE GS00001 XXX YYY ; comment string\\n'\n",
      "re.search('(?<=AGGREGATE)\\s+\\S+', ss).group(0).strip()\n"
     ],
     "language": "python",
     "metadata": {},
     "outputs": [
      {
       "metadata": {},
       "output_type": "pyout",
       "prompt_number": 230,
       "text": [
        "'GS00001'"
       ]
      }
     ],
     "prompt_number": 230
    },
    {
     "cell_type": "code",
     "collapsed": false,
     "input": [
      "import re\n",
      "ss = r' GS00001 XXX YYY ; comment string\\n'\n",
      "re.search('\\S+', ss.strip()).group(0)\n"
     ],
     "language": "python",
     "metadata": {},
     "outputs": [
      {
       "metadata": {},
       "output_type": "pyout",
       "prompt_number": 233,
       "text": [
        "'GS00001'"
       ]
      }
     ],
     "prompt_number": 233
    },
    {
     "cell_type": "code",
     "collapsed": false,
     "input": [
      "import re\n",
      "ss = r' GS00001 XXX YYY ; comment string\\n'\n",
      "re.split('\\S+', ss.strip()).group(0)\n"
     ],
     "language": "python",
     "metadata": {},
     "outputs": [
      {
       "ename": "AttributeError",
       "evalue": "'list' object has no attribute 'group'",
       "output_type": "pyerr",
       "traceback": [
        "\u001b[0;31m---------------------------------------------------------------------------\u001b[0m\n\u001b[0;31mAttributeError\u001b[0m                            Traceback (most recent call last)",
        "\u001b[0;32m<ipython-input-234-6eb11cbe5113>\u001b[0m in \u001b[0;36m<module>\u001b[0;34m()\u001b[0m\n\u001b[1;32m      1\u001b[0m \u001b[0;32mimport\u001b[0m \u001b[0mre\u001b[0m\u001b[0;34m\u001b[0m\u001b[0m\n\u001b[1;32m      2\u001b[0m \u001b[0mss\u001b[0m \u001b[0;34m=\u001b[0m \u001b[0;34mr' GS00001 XXX YYY ; comment string\\n'\u001b[0m\u001b[0;34m\u001b[0m\u001b[0m\n\u001b[0;32m----> 3\u001b[0;31m \u001b[0mre\u001b[0m\u001b[0;34m.\u001b[0m\u001b[0msplit\u001b[0m\u001b[0;34m(\u001b[0m\u001b[0;34m'\\S+'\u001b[0m\u001b[0;34m,\u001b[0m \u001b[0mss\u001b[0m\u001b[0;34m.\u001b[0m\u001b[0mstrip\u001b[0m\u001b[0;34m(\u001b[0m\u001b[0;34m)\u001b[0m\u001b[0;34m)\u001b[0m\u001b[0;34m.\u001b[0m\u001b[0mgroup\u001b[0m\u001b[0;34m(\u001b[0m\u001b[0;36m0\u001b[0m\u001b[0;34m)\u001b[0m\u001b[0;34m\u001b[0m\u001b[0m\n\u001b[0m",
        "\u001b[0;31mAttributeError\u001b[0m: 'list' object has no attribute 'group'"
       ]
      }
     ],
     "prompt_number": 234
    },
    {
     "cell_type": "code",
     "collapsed": false,
     "input": [
      "sss = ' ddd yyy   ; xxx'\n",
      "re.split('\\s+', sss.strip().partition(';')[0].strip())"
     ],
     "language": "python",
     "metadata": {},
     "outputs": [
      {
       "metadata": {},
       "output_type": "pyout",
       "prompt_number": 241,
       "text": [
        "['ddd', 'yyy']"
       ]
      }
     ],
     "prompt_number": 241
    },
    {
     "cell_type": "code",
     "collapsed": false,
     "input": [
      "x = '0123456789'\n",
      "x[:9]"
     ],
     "language": "python",
     "metadata": {},
     "outputs": [
      {
       "metadata": {},
       "output_type": "pyout",
       "prompt_number": 243,
       "text": [
        "'012345678'"
       ]
      }
     ],
     "prompt_number": 243
    },
    {
     "cell_type": "code",
     "collapsed": false,
     "input": [
      "x = 'abc'\n",
      "'b' in x"
     ],
     "language": "python",
     "metadata": {},
     "outputs": [
      {
       "metadata": {},
       "output_type": "pyout",
       "prompt_number": 245,
       "text": [
        "True"
       ]
      }
     ],
     "prompt_number": 245
    },
    {
     "cell_type": "code",
     "collapsed": false,
     "input": [
      "d = {}\n",
      "if d: \n",
      "    print 'not None'\n",
      "else:\n",
      "    print 'None'"
     ],
     "language": "python",
     "metadata": {},
     "outputs": [
      {
       "output_type": "stream",
       "stream": "stdout",
       "text": [
        "None\n"
       ]
      }
     ],
     "prompt_number": 247
    },
    {
     "cell_type": "code",
     "collapsed": false,
     "input": [],
     "language": "python",
     "metadata": {},
     "outputs": []
    },
    {
     "cell_type": "code",
     "collapsed": false,
     "input": [
      "import re\n",
      "\n",
      "#s = 'foo \\n bar _AGE qux \\n _YTD(xxx, yyy) baz \\n _DIVIDE(zzz, 000, 111)'\n",
      "\n",
      "#p = r'(?<=_)[A-Z]+'\n",
      "p = r'(?<=_)[A-Z]+(?=\\()'\n",
      "\n",
      "\n",
      "keywords = set(m for m in re.findall(p, s, re.M|re.S))\n",
      "print keywords\n",
      "\n",
      "#for m in re.match(p, s, re.M|re.S):\n",
      "#    print m.group(0)"
     ],
     "language": "python",
     "metadata": {},
     "outputs": [
      {
       "output_type": "stream",
       "stream": "stdout",
       "text": [
        "set(['DIVIDE', 'SUM', 'CAI', 'YTP', 'MAI', 'RANGE', 'MULTIPLY'])\n"
       ]
      }
     ],
     "prompt_number": 275
    },
    {
     "cell_type": "code",
     "collapsed": false,
     "input": [
      "s = '_XXX(yyy, 1.0, xxx, 2)'\n",
      "p = '(?<=_)[A-Z]+(?=\\()'\n",
      "re.search(p, s).group(0)\n",
      "p = '(?<=\\().*(?=\\))'\n",
      "foo, bar, baz, qux = re.split('\\s?,\\s?', re.search(p, s).group(0))\n",
      "print foo, bar, baz, qux"
     ],
     "language": "python",
     "metadata": {},
     "outputs": [
      {
       "output_type": "stream",
       "stream": "stdout",
       "text": [
        "yyy 1.0 xxx 2\n"
       ]
      }
     ],
     "prompt_number": 289
    },
    {
     "cell_type": "code",
     "collapsed": false,
     "input": [
      "s = u'1.234'\n",
      "s.isdecimal()"
     ],
     "language": "python",
     "metadata": {},
     "outputs": [
      {
       "metadata": {},
       "output_type": "pyout",
       "prompt_number": 295,
       "text": [
        "False"
       ]
      }
     ],
     "prompt_number": 295
    },
    {
     "cell_type": "code",
     "collapsed": false,
     "input": [
      "int('foo')"
     ],
     "language": "python",
     "metadata": {},
     "outputs": [
      {
       "ename": "ValueError",
       "evalue": "invalid literal for int() with base 10: 'foo'",
       "output_type": "pyerr",
       "traceback": [
        "\u001b[0;31m---------------------------------------------------------------------------\u001b[0m\n\u001b[0;31mValueError\u001b[0m                                Traceback (most recent call last)",
        "\u001b[0;32m<ipython-input-296-94e316df6b7a>\u001b[0m in \u001b[0;36m<module>\u001b[0;34m()\u001b[0m\n\u001b[0;32m----> 1\u001b[0;31m \u001b[0mint\u001b[0m\u001b[0;34m(\u001b[0m\u001b[0;34m'foo'\u001b[0m\u001b[0;34m)\u001b[0m\u001b[0;34m\u001b[0m\u001b[0m\n\u001b[0m",
        "\u001b[0;31mValueError\u001b[0m: invalid literal for int() with base 10: 'foo'"
       ]
      }
     ],
     "prompt_number": 296
    },
    {
     "cell_type": "code",
     "collapsed": false,
     "input": [
      "def num(s):\n",
      "    try:\n",
      "        return int(s)\n",
      "    except ValueError:\n",
      "        return float(s)\n",
      "    \n",
      "def is_num(s):\n",
      "    try:\n",
      "        num(s)\n",
      "        return True\n",
      "    except:\n",
      "        return False\n",
      "\n",
      "sum(is_num(s) for s in ['foo', 'bar'])\n"
     ],
     "language": "python",
     "metadata": {},
     "outputs": [
      {
       "metadata": {},
       "output_type": "pyout",
       "prompt_number": 307,
       "text": [
        "0"
       ]
      }
     ],
     "prompt_number": 307
    },
    {
     "cell_type": "code",
     "collapsed": false,
     "input": [
      "[1] + [2, 3]"
     ],
     "language": "python",
     "metadata": {},
     "outputs": [
      {
       "metadata": {},
       "output_type": "pyout",
       "prompt_number": 308,
       "text": [
        "[1, 2, 3]"
       ]
      }
     ],
     "prompt_number": 308
    },
    {
     "cell_type": "code",
     "collapsed": false,
     "input": [
      "x = [0, 1, 2]\n",
      "[x for x in range(0, 2+1)]"
     ],
     "language": "python",
     "metadata": {},
     "outputs": [
      {
       "metadata": {},
       "output_type": "pyout",
       "prompt_number": 309,
       "text": [
        "[0, 1, 2]"
       ]
      }
     ],
     "prompt_number": 309
    },
    {
     "cell_type": "code",
     "collapsed": false,
     "input": [
      "import numpy as np\n",
      "f = [0, 1, 2, 2, 1, 1, 0, 0]\n",
      "np.argmax(f)"
     ],
     "language": "python",
     "metadata": {},
     "outputs": [
      {
       "metadata": {},
       "output_type": "pyout",
       "prompt_number": 310,
       "text": [
        "2"
       ]
      }
     ],
     "prompt_number": 310
    },
    {
     "cell_type": "code",
     "collapsed": false,
     "input": [
      "import numpy as np\n",
      "foo = np.array([1., 2., 3.])\n",
      "bar = np.array([10, 20, 30])\n",
      "qux = np.array([100, 200, 300])\n",
      "zip(foo, bar if False else qux)\n",
      "foo / bar\n",
      "bar / foo\n",
      "foo * 2. if 0 else 3."
     ],
     "language": "python",
     "metadata": {},
     "outputs": [
      {
       "metadata": {},
       "output_type": "pyout",
       "prompt_number": 327,
       "text": [
        "3.0"
       ]
      }
     ],
     "prompt_number": 327
    },
    {
     "cell_type": "code",
     "collapsed": false,
     "input": [
      "class Foo:\n",
      "    x = [0, 1, 2]\n",
      "    y = [0, 10, 20]\n",
      "\n",
      "    def __getitem__(self, x):\n",
      "        return self.y[x]\n",
      "    \n",
      "foo = Foo()\n",
      "argmax = max(foo.x, foo)"
     ],
     "language": "python",
     "metadata": {},
     "outputs": [],
     "prompt_number": 1
    },
    {
     "cell_type": "code",
     "collapsed": false,
     "input": [
      "foo[2]"
     ],
     "language": "python",
     "metadata": {},
     "outputs": [
      {
       "metadata": {},
       "output_type": "pyout",
       "prompt_number": 3,
       "text": [
        "20"
       ]
      }
     ],
     "prompt_number": 3
    },
    {
     "cell_type": "code",
     "collapsed": false,
     "input": [
      "import array\n",
      "a = array.array('f', [1., 2., 3., 2., 4., 1.])\n",
      "a = [1., 2., 3., 2., 4., 1.]\n",
      "a.index(max(a))"
     ],
     "language": "python",
     "metadata": {},
     "outputs": [
      {
       "metadata": {},
       "output_type": "pyout",
       "prompt_number": 11,
       "text": [
        "4"
       ]
      }
     ],
     "prompt_number": 11
    },
    {
     "cell_type": "code",
     "collapsed": false,
     "input": [
      "import re\n",
      "ss = 'blahblah {foo bar} \\n; morestuff {}\\n \\n 123 {third . 109-8 \\n ljasdf} \\n.'\n",
      "p = r'\\{.*?\\}'\n",
      "for m in re.findall(p, ss, re.M|re.S):\n",
      "    print m\n",
      "    \n",
      "ss = re.sub(p, '', ss, flags=re.M|re.S)\n",
      "print ss\n",
      "print '---'\n",
      "for m in re.findall(r'^\\s*;*.$', ss, re.M|re.S):\n",
      "    print 'comment:', m\n"
     ],
     "language": "python",
     "metadata": {},
     "outputs": [
      {
       "output_type": "stream",
       "stream": "stdout",
       "text": [
        "{foo bar}\n",
        "{}\n",
        "{third . 109-8 \n",
        " ljasdf}\n",
        "blahblah  \n",
        "; morestuff \n",
        " \n",
        " 123  \n",
        ".\n",
        "---\n",
        "comment:  \n",
        "comment: .\n"
       ]
      }
     ],
     "prompt_number": 16
    },
    {
     "cell_type": "code",
     "collapsed": false,
     "input": [
      "l = [1, 2, 3]\n",
      "l[:2]"
     ],
     "language": "python",
     "metadata": {},
     "outputs": [
      {
       "metadata": {},
       "output_type": "pyout",
       "prompt_number": 19,
       "text": [
        "[1, 2]"
       ]
      }
     ],
     "prompt_number": 19
    },
    {
     "cell_type": "code",
     "collapsed": false,
     "input": [
      "l[2:]"
     ],
     "language": "python",
     "metadata": {},
     "outputs": [
      {
       "metadata": {},
       "output_type": "pyout",
       "prompt_number": 20,
       "text": [
        "[3]"
       ]
      }
     ],
     "prompt_number": 20
    },
    {
     "cell_type": "code",
     "collapsed": false,
     "input": [],
     "language": "python",
     "metadata": {},
     "outputs": []
    }
   ],
   "metadata": {}
  }
 ]
}