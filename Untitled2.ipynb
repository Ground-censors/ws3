{
 "metadata": {
  "name": "",
  "signature": "sha256:db0f18383931398ab107cfc4d3d3f09c7c24c63aeabfe21bd590e626a8cddb2a"
 },
 "nbformat": 3,
 "nbformat_minor": 0,
 "worksheets": [
  {
   "cells": [
    {
     "cell_type": "code",
     "collapsed": false,
     "input": [
      "%load_ext autoreload\n",
      "%autoreload 2\n"
     ],
     "language": "python",
     "metadata": {},
     "outputs": [],
     "prompt_number": 1
    },
    {
     "cell_type": "code",
     "collapsed": false,
     "input": [
      "from core import Curve"
     ],
     "language": "python",
     "metadata": {},
     "outputs": [],
     "prompt_number": 2
    },
    {
     "cell_type": "code",
     "collapsed": false,
     "input": [
      "points = [(10, 1.),  \n",
      "          (11, 1.),  # pop\n",
      "          (12, 1.),  \n",
      "          (13, 1.1), # pop\n",
      "          (14, 1.2), # pop\n",
      "          (15, 1.3), # pop\n",
      "          (16, 1.4), # pop\n",
      "          (17, 1.5),\n",
      "          (18, 2.0),\n",
      "          (19, 2.5),\n",
      "          (20, 2.6),\n",
      "          (21, 2.6), # pop\n",
      "          (22, 2.6),\n",
      "          (23, 2.5), # pop\n",
      "          (24, 2.4),\n",
      "          (25, 2.0),\n",
      "          (26, 2.0), # pop\n",
      "          (27, 2.0)] # pop (will be point inserted at 100)\n",
      "c = Curve(points=points)"
     ],
     "language": "python",
     "metadata": {},
     "outputs": [],
     "prompt_number": 3
    },
    {
     "cell_type": "code",
     "collapsed": false,
     "input": [
      "points = [(10, 1),  \n",
      "          (11, 1),  # pop\n",
      "          (12, 1),  \n",
      "          (13, 1.1), # pop\n",
      "          (14, 1.2), # pop\n",
      "          (15, 1.3), # pop\n",
      "          (16, 1.4), # pop\n",
      "          (17, 1.5),\n",
      "          (18, 2.0),\n",
      "          (19, 2.5),\n",
      "          (20, 2.6),\n",
      "          (21, 2.6), # pop\n",
      "          (22, 2.6),\n",
      "          (23, 2.5), # pop\n",
      "          (24, 2.4),\n",
      "          (25, 2),\n",
      "          (26, 2), # pop\n",
      "          (27, 2)] # pop (will be point inserted at 100)\n",
      "c = Curve(points=points)"
     ],
     "language": "python",
     "metadata": {},
     "outputs": [],
     "prompt_number": 23
    },
    {
     "cell_type": "code",
     "collapsed": false,
     "input": [
      "for i in range(30): print i, c[i]"
     ],
     "language": "python",
     "metadata": {},
     "outputs": [
      {
       "output_type": "stream",
       "stream": "stdout",
       "text": [
        "0 0.0\n",
        "1 0.0\n",
        "2 0.0\n",
        "3 0.0\n",
        "4 0.0\n",
        "5 0.0\n",
        "6 0.0\n",
        "7 0.0\n",
        "8 0.0\n",
        "9 0.0\n",
        "10 1.0\n",
        "11 1.0\n",
        "12 1.0\n",
        "13 1.1\n",
        "14 1.2\n",
        "15 1.3\n",
        "16 1.4\n",
        "17 1.5\n",
        "18 2.0\n",
        "19 2.5\n",
        "20 2.6\n",
        "21 2.6\n",
        "22 2.6\n",
        "23 2.5\n",
        "24 2.4\n",
        "25 2.0\n",
        "26 2.0\n",
        "27 2.0\n",
        "28 2.0\n",
        "29 2.0\n"
       ]
      }
     ],
     "prompt_number": 26
    },
    {
     "cell_type": "code",
     "collapsed": false,
     "input": [
      "r = c.range(0.1, 2.11)\n",
      "for i in range(30): print i, r[i]"
     ],
     "language": "python",
     "metadata": {},
     "outputs": [
      {
       "output_type": "stream",
       "stream": "stdout",
       "text": [
        "lb 10.0 ub 15.1\n",
        "0 0.0\n",
        "1 0.0\n",
        "2 0.0\n",
        "3 0.0\n",
        "4 0.0\n",
        "5 0.0\n",
        "6 0.0\n",
        "7 0.0\n",
        "8 0.0\n",
        "9 0.0\n",
        "10 1.0\n",
        "11 1.0\n",
        "12 1.0\n",
        "13 1.0\n",
        "14 1.0\n",
        "15 1.0\n",
        "16 0.1\n",
        "17 0.0\n",
        "18 0.0\n",
        "19 0.0\n",
        "20 0.0\n",
        "21 0.0\n",
        "22 0.0\n",
        "23 0.0\n",
        "24 0.0\n",
        "25 0.0\n",
        "26 0.0\n",
        "27 0.0\n",
        "28 0.0\n",
        "29 0.0\n"
       ]
      }
     ],
     "prompt_number": 22
    },
    {
     "cell_type": "code",
     "collapsed": false,
     "input": [
      "for x, y in enumerate(c._points): print x, y"
     ],
     "language": "python",
     "metadata": {},
     "outputs": [
      {
       "output_type": "stream",
       "stream": "stdout",
       "text": [
        "0 (0, 0.0)\n",
        "1 (9, 0.0)\n",
        "2 (10, 1.0)\n",
        "3 (12, 1.0)\n",
        "4 (17, 1.5)\n",
        "5 (19, 2.5)\n",
        "6 (20, 2.6)\n",
        "7 (22, 2.6)\n",
        "8 (24, 2.4)\n",
        "9 (25, 2.0)\n",
        "10 (100, 2.0)\n"
       ]
      }
     ],
     "prompt_number": 8
    },
    {
     "cell_type": "code",
     "collapsed": false,
     "input": [
      "import numpy as np\n",
      "from numpy.linalg import norm\n",
      "from numpy import dot\n",
      "\n",
      "a1 = np.array([(0, 0), (1, 0)])\n",
      "a2 = np.array([(1, 0), (2, 0)])\n",
      "\n",
      "np.arccos(dot(a1, a2) / (norm(a1) * norm(a2)))"
     ],
     "language": "python",
     "metadata": {},
     "outputs": [
      {
       "metadata": {},
       "output_type": "pyout",
       "prompt_number": 19,
       "text": [
        "array([[ 1.57079633,  1.57079633],\n",
        "       [ 1.10714872,  1.57079633]])"
       ]
      }
     ],
     "prompt_number": 19
    },
    {
     "cell_type": "code",
     "collapsed": false,
     "input": [
      "a = np.array([[0, 0], [1, 1]])\n",
      "np.linalg.norm(a)"
     ],
     "language": "python",
     "metadata": {},
     "outputs": [
      {
       "metadata": {},
       "output_type": "pyout",
       "prompt_number": 15,
       "text": [
        "1.4142135623730951"
       ]
      }
     ],
     "prompt_number": 15
    },
    {
     "cell_type": "code",
     "collapsed": false,
     "input": [
      "import numpy as np\n",
      "\n",
      "def unit_vector(vector):\n",
      "    \"\"\" Returns the unit vector of the vector.  \"\"\"\n",
      "    return vector / np.linalg.norm(vector)\n",
      "\n",
      "def angle_between(v1, v2):\n",
      "    \"\"\" Returns the angle in radians between vectors 'v1' and 'v2'::\n",
      "\n",
      "            >>> angle_between((1, 0, 0), (0, 1, 0))\n",
      "            1.5707963267948966\n",
      "            >>> angle_between((1, 0, 0), (1, 0, 0))\n",
      "            0.0\n",
      "            >>> angle_between((1, 0, 0), (-1, 0, 0))\n",
      "            3.141592653589793\n",
      "    \"\"\"\n",
      "    v1_u = unit_vector(v1)\n",
      "    v2_u = unit_vector(v2)\n",
      "    angle = np.arccos(np.dot(v1_u, v2_u))\n",
      "    if np.isnan(angle):\n",
      "        if (v1_u == v2_u).all():\n",
      "            return 0.0\n",
      "        else:\n",
      "            return np.pi\n",
      "    return angle"
     ],
     "language": "python",
     "metadata": {},
     "outputs": [],
     "prompt_number": 20
    },
    {
     "cell_type": "code",
     "collapsed": false,
     "input": [
      "v1 = (1, 1)\n",
      "v2 = (2, 2)\n",
      "angle_between(v1, v2)"
     ],
     "language": "python",
     "metadata": {},
     "outputs": [
      {
       "metadata": {},
       "output_type": "pyout",
       "prompt_number": 29,
       "text": [
        "2.1073424255447017e-08"
       ]
      }
     ],
     "prompt_number": 29
    },
    {
     "cell_type": "code",
     "collapsed": false,
     "input": [
      "def foo(arg):\n",
      "    return arg\n",
      "\n",
      "x = None\n",
      "foo(x or [3])"
     ],
     "language": "python",
     "metadata": {},
     "outputs": [
      {
       "metadata": {},
       "output_type": "pyout",
       "prompt_number": 4,
       "text": [
        "[3]"
       ]
      }
     ],
     "prompt_number": 4
    },
    {
     "cell_type": "code",
     "collapsed": false,
     "input": [
      "class Foo():\n",
      "    def __init__(self):\n",
      "        self.data = []\n",
      "        \n",
      "    def foo(self, datum):\n",
      "        self.data.append(datum)\n",
      "\n",
      "class Bar():\n",
      "    def __init__(self, foo):\n",
      "        self.foo = foo\n",
      "        self.bar = foo.foo\n",
      "        \n",
      "f = Foo()\n",
      "b = Bar(f)\n",
      "b.bar('bar')\n",
      "b.bar('bbar')\n",
      "f.data"
     ],
     "language": "python",
     "metadata": {},
     "outputs": [
      {
       "metadata": {},
       "output_type": "pyout",
       "prompt_number": 9,
       "text": [
        "['bar', 'bbar']"
       ]
      }
     ],
     "prompt_number": 9
    },
    {
     "cell_type": "code",
     "collapsed": false,
     "input": [
      "s = 'ALSKLJ | ljasdfj & lkajsdflkjs'\n",
      "ss = s.lower().replace('|', 'or').replace('&', 'and')\n",
      "ss"
     ],
     "language": "python",
     "metadata": {},
     "outputs": [
      {
       "metadata": {},
       "output_type": "pyout",
       "prompt_number": 14,
       "text": [
        "'alsklj or ljasdfj and lkajsdflkjs'"
       ]
      }
     ],
     "prompt_number": 14
    },
    {
     "cell_type": "code",
     "collapsed": false,
     "input": [
      "ss.find('and')"
     ],
     "language": "python",
     "metadata": {},
     "outputs": [
      {
       "metadata": {},
       "output_type": "pyout",
       "prompt_number": 15,
       "text": [
        "18"
       ]
      }
     ],
     "prompt_number": 15
    },
    {
     "cell_type": "code",
     "collapsed": false,
     "input": [
      "ss.find('xx') or ss.find('or')"
     ],
     "language": "python",
     "metadata": {},
     "outputs": [
      {
       "metadata": {},
       "output_type": "pyout",
       "prompt_number": 22,
       "text": [
        "-1"
       ]
      }
     ],
     "prompt_number": 22
    },
    {
     "cell_type": "code",
     "collapsed": false,
     "input": [
      "ss.find('or')"
     ],
     "language": "python",
     "metadata": {},
     "outputs": [
      {
       "metadata": {},
       "output_type": "pyout",
       "prompt_number": 19,
       "text": [
        "7"
       ]
      }
     ],
     "prompt_number": 19
    },
    {
     "cell_type": "code",
     "collapsed": false,
     "input": [
      "'and' in ss or 'or' in ss"
     ],
     "language": "python",
     "metadata": {},
     "outputs": [
      {
       "metadata": {},
       "output_type": "pyout",
       "prompt_number": 26,
       "text": [
        "True"
       ]
      }
     ],
     "prompt_number": 26
    },
    {
     "cell_type": "code",
     "collapsed": false,
     "input": [
      "l = ['1.2', '2.3', '3.4']\n",
      "l = map(float, l)"
     ],
     "language": "python",
     "metadata": {},
     "outputs": [],
     "prompt_number": 27
    },
    {
     "cell_type": "code",
     "collapsed": false,
     "input": [
      "l"
     ],
     "language": "python",
     "metadata": {},
     "outputs": [
      {
       "metadata": {},
       "output_type": "pyout",
       "prompt_number": 28,
       "text": [
        "[1.2, 2.3, 3.4]"
       ]
      }
     ],
     "prompt_number": 28
    },
    {
     "cell_type": "code",
     "collapsed": false,
     "input": [
      "alo, ahi = None, None\n",
      "if alo or ahi:\n",
      "    print 'foo'\n",
      "else:\n",
      "    print 'bar'"
     ],
     "language": "python",
     "metadata": {},
     "outputs": [
      {
       "output_type": "stream",
       "stream": "stdout",
       "text": [
        "bar\n"
       ]
      }
     ],
     "prompt_number": 34
    },
    {
     "cell_type": "code",
     "collapsed": false,
     "input": [
      "import sys\n",
      "sys.getsizeof(99.)"
     ],
     "language": "python",
     "metadata": {},
     "outputs": [
      {
       "metadata": {},
       "output_type": "pyout",
       "prompt_number": 5,
       "text": [
        "16"
       ]
      }
     ],
     "prompt_number": 5
    },
    {
     "cell_type": "code",
     "collapsed": false,
     "input": [
      "points = [(0, 0), (10, 1.), (20., 1.), (21, 0.)]\n",
      "#points = [(i, float(i)) for i in range(100)]\n",
      "c = Curve(points=points, simplify=True)"
     ],
     "language": "python",
     "metadata": {},
     "outputs": [],
     "prompt_number": 19
    },
    {
     "cell_type": "code",
     "collapsed": false,
     "input": [
      "sys.getsizeof(c)"
     ],
     "language": "python",
     "metadata": {},
     "outputs": [
      {
       "metadata": {},
       "output_type": "pyout",
       "prompt_number": 10,
       "text": [
        "36"
       ]
      }
     ],
     "prompt_number": 10
    },
    {
     "cell_type": "code",
     "collapsed": false,
     "input": [
      "sys.getsizeof(c.points)"
     ],
     "language": "python",
     "metadata": {},
     "outputs": [
      {
       "metadata": {},
       "output_type": "pyout",
       "prompt_number": 9,
       "text": [
        "440"
       ]
      }
     ],
     "prompt_number": 9
    },
    {
     "cell_type": "code",
     "collapsed": false,
     "input": [
      "import getsize"
     ],
     "language": "python",
     "metadata": {},
     "outputs": [],
     "prompt_number": 12
    },
    {
     "cell_type": "code",
     "collapsed": false,
     "input": [
      "getsize.asizeof([(), ()])"
     ],
     "language": "python",
     "metadata": {},
     "outputs": [
      {
       "metadata": {},
       "output_type": "pyout",
       "prompt_number": 27,
       "text": [
        "80"
       ]
      }
     ],
     "prompt_number": 27
    },
    {
     "cell_type": "code",
     "collapsed": false,
     "input": [
      "%matplotlib inline\n",
      "import numpy as np\n",
      "import pandas as pd\n",
      "import matplotlib.pyplot as plt\n",
      "import seaborn\n",
      "df = pd.read_csv('../../dat/bar.dat', header=None, delim_whitespace=True)"
     ],
     "language": "python",
     "metadata": {},
     "outputs": [],
     "prompt_number": 47
    },
    {
     "cell_type": "code",
     "collapsed": false,
     "input": [
      "df[5].mean(), df[5].min(), df[5].max()"
     ],
     "language": "python",
     "metadata": {},
     "outputs": [
      {
       "metadata": {},
       "output_type": "pyout",
       "prompt_number": 48,
       "text": [
        "(5.7582379756645485, 1.0, 20.333333333300001)"
       ]
      }
     ],
     "prompt_number": 48
    },
    {
     "cell_type": "code",
     "collapsed": false,
     "input": [
      "df[6].mean(), df[6].max()"
     ],
     "language": "python",
     "metadata": {},
     "outputs": [
      {
       "metadata": {},
       "output_type": "pyout",
       "prompt_number": 49,
       "text": [
        "(0.0087234103084895421, 0.048906024280800001)"
       ]
      }
     ],
     "prompt_number": 49
    },
    {
     "cell_type": "code",
     "collapsed": false,
     "input": [],
     "language": "python",
     "metadata": {},
     "outputs": [],
     "prompt_number": 49
    },
    {
     "cell_type": "code",
     "collapsed": false,
     "input": [
      "fig, axes = plt.subplots(1, 4, figsize=(20, 8))\n",
      "axes[0].set_title('Compressed Point Count')\n",
      "axes[1].set_title('Original Point Count')\n",
      "axes[2].set_title('Compression Ratio')\n",
      "axes[3].set_title('Relative Error')\n",
      "for i, c in enumerate([3, 4, 5, 6]):\n",
      "    df[c].hist(ax=axes[i], )\n",
      "plt.savefig('../../dat/curve_compression.png', format='png')"
     ],
     "language": "python",
     "metadata": {},
     "outputs": [
      {
       "metadata": {},
       "output_type": "display_data",
       "png": "[encoded data removed]",
       "text": [
        "<matplotlib.figure.Figure at 0x2da0690>"
       ]
      }
     ],
     "prompt_number": 50
    },
    {
     "cell_type": "code",
     "collapsed": false,
     "input": [
      "l = [2, 1, 3]\n",
      "l = [2]\n",
      "x = sorted(l)[-1]\n",
      "x"
     ],
     "language": "python",
     "metadata": {},
     "outputs": [
      {
       "metadata": {},
       "output_type": "pyout",
       "prompt_number": 4,
       "text": [
        "2"
       ]
      }
     ],
     "prompt_number": 4
    },
    {
     "cell_type": "code",
     "collapsed": false,
     "input": [],
     "language": "python",
     "metadata": {},
     "outputs": []
    }
   ],
   "metadata": {}
  }
 ]
}