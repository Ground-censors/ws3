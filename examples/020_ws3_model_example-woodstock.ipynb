{
 "cells": [
  {
   "cell_type": "markdown",
   "id": "fde58d65-ba6d-4c6b-b742-2e277efb71b4",
   "metadata": {
    "tags": []
   },
   "source": [
    "# Build a `ws3` model from Woodstock-format text input files\n",
    "\n",
    "`ws3` has built-in functions that can parse Woodstock-formatted model definition text files. Here we build an equivalent model to the direct-code model defined in `ws3_model_example`, but using Woodstock-foratted input files (as an alternative to the pure Python code implementation above).\n",
    "\n",
    "The Woodstock-formatted input files are just flat text files, containing special Woodstock code."
   ]
  },
  {
   "cell_type": "markdown",
   "id": "fc33af5b-497d-444a-8358-68917c0a40c0",
   "metadata": {},
   "source": [
    "Woodstock models are defined in terms of a number of _sections_. The sections can be defined in a single text file, or in separate text files. We will use separate text files for each section in this example.\n",
    "\n",
    "Our model will include the following sections:\n",
    "* `LANDSCAPE`\n",
    "* `AREAS`\n",
    "* `YIELD`\n",
    "* `ACTIONS`\n",
    "* `TRANSITIONS`\n",
    "\n",
    "There are other possible sections that one can include in a Woodstock model, which will not include here. This is not intended to be a comprehensive overview of Woodstock-format model definition. Refer to the Woodstock technical documentation for the complete story.\n",
    "\n",
    "The model input files for this example are located in `data/woodstock_model_files`."
   ]
  },
  {
   "cell_type": "markdown",
   "id": "67f0e0fa-4a38-4508-96c1-a8f322fa7071",
   "metadata": {},
   "source": [
    "Optionally, uninstall the `ws3` package and replace it with a pointer to _this local clone of the GitHub repository code_ (useful if you want ot tweak the source code for whatever reason). "
   ]
  },
  {
   "cell_type": "code",
   "execution_count": 1,
   "id": "bc1a3370-33d8-4e8f-bde6-a77efb66c400",
   "metadata": {
    "tags": []
   },
   "outputs": [
    {
     "name": "stdout",
     "output_type": "stream",
     "text": [
      "Found existing installation: ws3 0.0.1.post3\n",
      "Uninstalling ws3-0.0.1.post3:\n",
      "  Successfully uninstalled ws3-0.0.1.post3\n",
      "Note: you may need to restart the kernel to use updated packages.\n",
      "Obtaining file:///media/data/project/gparadis/ws3\n",
      "  Preparing metadata (setup.py) ... \u001b[?25ldone\n",
      "\u001b[?25hRequirement already satisfied: fiona in /media/data/home/gparadis/.virtualenvs/foo/lib/python3.10/site-packages (from ws3==0.0.1.post3) (1.9.1)\n",
      "Requirement already satisfied: matplotlib in /media/data/home/gparadis/.virtualenvs/foo/lib/python3.10/site-packages (from ws3==0.0.1.post3) (3.7.0)\n",
      "Requirement already satisfied: numpy in /media/data/home/gparadis/.virtualenvs/foo/lib/python3.10/site-packages (from ws3==0.0.1.post3) (1.23.5)\n",
      "Requirement already satisfied: pandas in /media/data/home/gparadis/.virtualenvs/foo/lib/python3.10/site-packages (from ws3==0.0.1.post3) (1.5.3)\n",
      "Requirement already satisfied: profilehooks in /media/data/home/gparadis/.virtualenvs/foo/lib/python3.10/site-packages (from ws3==0.0.1.post3) (1.12.0)\n",
      "Requirement already satisfied: rasterio in /media/data/home/gparadis/.virtualenvs/foo/lib/python3.10/site-packages (from ws3==0.0.1.post3) (1.3.6)\n",
      "Requirement already satisfied: scipy in /media/data/home/gparadis/.virtualenvs/foo/lib/python3.10/site-packages (from ws3==0.0.1.post3) (1.10.1)\n",
      "Requirement already satisfied: click-plugins>=1.0 in /media/data/home/gparadis/.virtualenvs/foo/lib/python3.10/site-packages (from fiona->ws3==0.0.1.post3) (1.1.1)\n",
      "Requirement already satisfied: attrs>=19.2.0 in /media/data/home/gparadis/.virtualenvs/foo/lib/python3.10/site-packages (from fiona->ws3==0.0.1.post3) (22.2.0)\n",
      "Requirement already satisfied: certifi in /media/data/home/gparadis/.virtualenvs/foo/lib/python3.10/site-packages (from fiona->ws3==0.0.1.post3) (2022.12.7)\n",
      "Requirement already satisfied: click~=8.0 in /media/data/home/gparadis/.virtualenvs/foo/lib/python3.10/site-packages (from fiona->ws3==0.0.1.post3) (8.1.3)\n",
      "Requirement already satisfied: cligj>=0.5 in /media/data/home/gparadis/.virtualenvs/foo/lib/python3.10/site-packages (from fiona->ws3==0.0.1.post3) (0.7.2)\n",
      "Requirement already satisfied: setuptools in /media/data/home/gparadis/.virtualenvs/foo/lib/python3.10/site-packages (from fiona->ws3==0.0.1.post3) (59.6.0)\n",
      "Requirement already satisfied: munch>=2.3.2 in /media/data/home/gparadis/.virtualenvs/foo/lib/python3.10/site-packages (from fiona->ws3==0.0.1.post3) (2.5.0)\n",
      "Requirement already satisfied: pyparsing>=2.3.1 in /media/data/home/gparadis/.virtualenvs/foo/lib/python3.10/site-packages (from matplotlib->ws3==0.0.1.post3) (3.0.9)\n",
      "Requirement already satisfied: contourpy>=1.0.1 in /media/data/home/gparadis/.virtualenvs/foo/lib/python3.10/site-packages (from matplotlib->ws3==0.0.1.post3) (1.0.7)\n",
      "Requirement already satisfied: python-dateutil>=2.7 in /media/data/home/gparadis/.virtualenvs/foo/lib/python3.10/site-packages (from matplotlib->ws3==0.0.1.post3) (2.8.2)\n",
      "Requirement already satisfied: kiwisolver>=1.0.1 in /media/data/home/gparadis/.virtualenvs/foo/lib/python3.10/site-packages (from matplotlib->ws3==0.0.1.post3) (1.4.4)\n",
      "Requirement already satisfied: fonttools>=4.22.0 in /media/data/home/gparadis/.virtualenvs/foo/lib/python3.10/site-packages (from matplotlib->ws3==0.0.1.post3) (4.38.0)\n",
      "Requirement already satisfied: packaging>=20.0 in /media/data/home/gparadis/.virtualenvs/foo/lib/python3.10/site-packages (from matplotlib->ws3==0.0.1.post3) (23.0)\n",
      "Requirement already satisfied: cycler>=0.10 in /media/data/home/gparadis/.virtualenvs/foo/lib/python3.10/site-packages (from matplotlib->ws3==0.0.1.post3) (0.11.0)\n",
      "Requirement already satisfied: pillow>=6.2.0 in /media/data/home/gparadis/.virtualenvs/foo/lib/python3.10/site-packages (from matplotlib->ws3==0.0.1.post3) (9.4.0)\n",
      "Requirement already satisfied: pytz>=2020.1 in /media/data/home/gparadis/.virtualenvs/foo/lib/python3.10/site-packages (from pandas->ws3==0.0.1.post3) (2022.7.1)\n",
      "Requirement already satisfied: snuggs>=1.4.1 in /media/data/home/gparadis/.virtualenvs/foo/lib/python3.10/site-packages (from rasterio->ws3==0.0.1.post3) (1.4.7)\n",
      "Requirement already satisfied: affine in /media/data/home/gparadis/.virtualenvs/foo/lib/python3.10/site-packages (from rasterio->ws3==0.0.1.post3) (2.4.0)\n",
      "Requirement already satisfied: six in /media/data/home/gparadis/.virtualenvs/foo/lib/python3.10/site-packages (from munch>=2.3.2->fiona->ws3==0.0.1.post3) (1.16.0)\n",
      "Installing collected packages: ws3\n",
      "  Running setup.py develop for ws3\n",
      "Successfully installed ws3-0.0.1.post3\n",
      "Note: you may need to restart the kernel to use updated packages.\n"
     ]
    }
   ],
   "source": [
    "clobber_ws3 = True\n",
    "if clobber_ws3:\n",
    "    %pip uninstall -y ws3\n",
    "    %pip install -e .."
   ]
  },
  {
   "cell_type": "markdown",
   "id": "5d959ca3-248b-46c5-9341-8601f324a9f2",
   "metadata": {},
   "source": [
    "## `LANDSCAPE` section"
   ]
  },
  {
   "cell_type": "markdown",
   "id": "cc48c083-06bb-41d3-9dd5-e842b6d41859",
   "metadata": {},
   "source": [
    "The `LANDSCAPE` section defines themes (i.e., state variables), theme basecodes (i.e., valid state variable values), and theme aggregates (i.e., groups of state variable values within a given theme, which can include aggregates with no [documented] limit on recursion depth)."
   ]
  },
  {
   "cell_type": "markdown",
   "id": "c8582b3d-d84e-43c6-9bf0-556bb1121f15",
   "metadata": {},
   "source": [
    "The `LANDSCAPE` section for this example is defined in file `data/woodstock_model_files/tsa24_clipped.lan`."
   ]
  },
  {
   "cell_type": "code",
   "execution_count": 2,
   "id": "da14f678-6c5e-4e71-b68f-4e52308765ac",
   "metadata": {
    "tags": []
   },
   "outputs": [
    {
     "name": "stdout",
     "output_type": "stream",
     "text": [
      "\n",
      "*THEME Timber Supply Area (TSA)\n",
      "tsa24_clipped\n",
      "\n",
      "*THEME Timber Harvesting Land Base (THLB)\n",
      "0\n",
      "1\n",
      "\n",
      "*THEME Analysis Unit (AU)\n",
      "2402002\n",
      "2401007\n",
      "2402001\n",
      "2401005\n",
      "2402000\n",
      "2403004\n",
      "2403006\n",
      "2401004\n",
      "2401006\n",
      "2402004\n",
      "2402007\n",
      "2403005\n",
      "2401002\n",
      "2403007\n",
      "2403003\n",
      "2401000\n",
      "2402005\n",
      "2402006\n",
      "2401003\n",
      "2403002\n",
      "2402003\n",
      "2403000\n",
      "2401001\n",
      "2403001\n",
      "\n",
      "*THEME Leading tree species (CANFI species code)\n",
      "304\n",
      "100\n",
      "1201\n",
      "204\n",
      "104\n",
      "\n",
      "*THEME Yield curve ID\n",
      "2402002\n",
      "2401007\n",
      "2422007\n",
      "2402001\n",
      "2401005\n",
      "2422003\n",
      "2402000\n",
      "2403004\n",
      "2423004\n",
      "2403006\n",
      "2421007\n",
      "2423003\n",
      "2401004\n",
      "2401006\n",
      "2402004\n",
      "2421002\n",
      "2422004\n",
      "2423002\n",
      "2422002\n",
      "2402007\n",
      "2403005\n",
      "2401002\n",
      "2403007\n",
      "2423007\n",
      "2403003\n",
      "2401000\n",
      "2402005\n",
      "2402006\n",
      "2401003\n",
      "2423001\n",
      "2403002\n",
      "2402003\n",
      "2422000\n",
      "2403000\n",
      "2401001\n",
      "2423000\n",
      "2403001\n"
     ]
    }
   ],
   "source": [
    "!cat data/woodstock_model_files/tsa24_clipped.lan"
   ]
  },
  {
   "cell_type": "markdown",
   "id": "3b448b34-4784-4b97-9dfe-22b25f8feaaf",
   "metadata": {},
   "source": [
    "## `AREAS` section\n",
    "\n",
    "The `AREAS` section defines the initial inventory, as area by development type and age. "
   ]
  },
  {
   "cell_type": "markdown",
   "id": "a2245d4b-bcee-487f-8437-083b671d9d11",
   "metadata": {},
   "source": [
    "The `AREAS` section for this example is defined in file `data/woodstock_model_files/tsa24_clipped.are`."
   ]
  },
  {
   "cell_type": "code",
   "execution_count": 3,
   "id": "e4ba8c39-bf97-40c4-941b-810a12c0e8e4",
   "metadata": {
    "tags": []
   },
   "outputs": [
    {
     "name": "stdout",
     "output_type": "stream",
     "text": [
      "\n",
      "*A tsa24_clipped 0 2401000 100 2401000 85 15.182274886309896\n",
      "*A tsa24_clipped 0 2401000 100 2401000 95 20.653788842921458\n",
      "*A tsa24_clipped 0 2401000 100 2401000 105 1.109374490200082\n",
      "*A tsa24_clipped 0 2401000 100 2401000 125 25.73174833461312\n",
      "*A tsa24_clipped 0 2401000 100 2401000 135 62.02382759721078\n",
      "*A tsa24_clipped 0 2401000 100 2401000 145 45.32228954967691\n",
      "*A tsa24_clipped 0 2401000 100 2401000 155 3.052804424896181\n",
      "*A tsa24_clipped 0 2402005 1201 2402005 85 1.812979326195168\n",
      "*A tsa24_clipped 1 2401002 204 2401002 78 103.76740323520823\n",
      "*A tsa24_clipped 1 2401002 204 2401002 80 4.173147018452507\n",
      "*A tsa24_clipped 1 2401002 204 2401002 85 282.1296355046733\n",
      "*A tsa24_clipped 1 2401002 204 2401002 91 73.1021561503533\n",
      "*A tsa24_clipped 1 2401002 204 2401002 93 28.37956666951611\n",
      "*A tsa24_clipped 1 2401002 204 2401002 95 94.94675966211176\n",
      "*A tsa24_clipped 1 2401002 204 2401002 105 32.175418531537815\n",
      "*A tsa24_clipped 1 2401002 204 2401002 113 4.184826329641321\n",
      "*A tsa24_clipped 1 2401002 204 2401002 115 50.030816858894816\n",
      "*A tsa24_clipped 1 2401002 204 2401002 125 78.16612132001225\n",
      "*A tsa24_clipped 1 2401002 204 2401002 135 72.24421919373785\n",
      "*A tsa24_clipped 1 2401002 204 2401002 145 96.38442685503642\n",
      "*A tsa24_clipped 1 2401002 204 2401002 153 9.591469412607397\n",
      "*A tsa24_clipped 1 2401002 204 2401002 155 34.32629241113743\n",
      "*A tsa24_clipped 1 2401002 204 2421002 20 0.422054121206099\n",
      "*A tsa24_clipped 1 2402000 100 2402000 165 0.638005468748551\n",
      "*A tsa24_clipped 1 2402002 204 2402002 78 32.64168183055375\n",
      "*A tsa24_clipped 1 2402002 204 2402002 93 48.21816452980633\n",
      "*A tsa24_clipped 1 2402002 204 2402002 95 33.89498244313859\n",
      "*A tsa24_clipped 1 2402002 204 2402002 115 3.195378954654358\n",
      "*A tsa24_clipped 1 2403000 100 2403000 93 14.811643286926836\n",
      "*A tsa24_clipped 1 2403002 204 2403002 73 2.243990590272984\n",
      "*A tsa24_clipped 1 2403002 204 2423002 9 59.81429119367274\n",
      "*A tsa24_clipped 1 2403002 204 2423002 18 32.366198551219505\n"
     ]
    }
   ],
   "source": [
    "!cat data/woodstock_model_files/tsa24_clipped.are"
   ]
  },
  {
   "cell_type": "markdown",
   "id": "f4f1f344-fec9-4f09-b71f-51f74d58430e",
   "metadata": {
    "tags": []
   },
   "source": [
    "## `YIELDS` section\n",
    "\n",
    "The `YIELDS` section defines yield curves and links these to development types."
   ]
  },
  {
   "cell_type": "markdown",
   "id": "9f34b014-4f4b-4b92-be7d-5b895463bdde",
   "metadata": {},
   "source": [
    "The `YIELDS` section for this example is defined in file `data/woodstock_model_files/tsa24_clipped.yld`."
   ]
  },
  {
   "cell_type": "code",
   "execution_count": 4,
   "id": "518f8a33-feb8-423c-b180-745ee777f9d0",
   "metadata": {
    "tags": []
   },
   "outputs": [
    {
     "name": "stdout",
     "output_type": "stream",
     "text": [
      "\n",
      "*Y ? ? 2401000 ? 2401000\n",
      "s0100 1 0 1 5 10 16 24 33 43 54 64 75 85 95 104 113 121 127 133 138 143 146 148 150 151 151 150 149 147 145 145\n",
      "*Y ? ? 2401000 ? 2401000\n",
      "s0100 1 0 1 5 10 16 24 33 43 54 64 75 85 95 104 113 121 127 133 138 143 146 148 150 151 151 150 149 147 145 145\n",
      "*Y ? ? 2402000 ? 2402000\n",
      "s0100 1 4 13 27 42 58 76 93 110 126 141 156 169 182 193 203 211 219 225 231 235 238 240 242 242 242 241 240 238 235 235\n",
      "*Y ? ? 2402000 ? 2422000\n",
      "s0100 1 0 0 0 0 3 18 46 79 112 144 171 195 215 234 248 261 272 282 290 298 305 311 316 320 325 328 330 333 335 336\n",
      "*Y ? ? 2403000 ? 2403000\n",
      "s0100 1 3 15 37 67 99 133 166 197 225 250 272 290 305 316 325 330 333 333 331 328 322 316 308 299 289 279 268 257 246 246\n",
      "*Y ? ? 2403000 ? 2423000\n",
      "s0100 1 0 0 0 5 38 88 142 190 231 265 293 315 334 350 365 377 388 396 403 410 416 420 424 427 429 431 433 433 433 433\n",
      "*Y ? ? 2401001 ? 2401001\n",
      "s0304 1 0 0 0 0 0 0 2 5 11 18 25 32 40 47 54 62 66 70 75 79 83 88 92 94 95 97 97 97 97 97\n",
      "*Y ? ? 2401001 ? 2401001\n",
      "s0304 1 0 0 0 0 0 0 2 5 11 18 25 32 40 47 54 62 66 70 75 79 83 88 92 94 95 97 97 97 97 97\n",
      "*Y ? ? 2402001 ? 2402001\n",
      "s0304 1 0 0 0 0 0 3 8 17 29 43 57 71 84 96 107 117 125 132 138 143 146 149 150 151 151 150 149 146 144 144\n",
      "*Y ? ? 2402001 ? 2402001\n",
      "s0304 1 0 0 0 0 0 3 8 17 29 43 57 71 84 96 107 117 125 132 138 143 146 149 150 151 151 150 149 146 144 144\n",
      "*Y ? ? 2403001 ? 2403001\n",
      "s0304 1 0 0 1 6 16 30 48 68 87 106 123 140 154 167 178 188 195 201 206 209 210 211 210 209 206 203 199 195 190 190\n",
      "*Y ? ? 2403001 ? 2423001\n",
      "s0304 1 0 0 0 0 0 0 6 21 43 70 97 126 152 176 199 218 236 252 265 277 288 297 306 314 321 326 331 336 339 340\n",
      "*Y ? ? 2401002 ? 2401002\n",
      "s0204 1 0 4 12 25 40 57 73 89 103 116 128 137 145 152 157 160 162 163 163 162 160 158 154 151 147 142 137 132 127 127\n",
      "*Y ? ? 2401002 ? 2421002\n",
      "s0204 1 0 0 0 0 1 7 23 47 71 94 114 132 146 157 166 173 179 183 187 190 191 192 193 194 195 195 195 196 196 196\n",
      "*Y ? ? 2402002 ? 2402002\n",
      "s0204 1 5 18 37 57 79 101 122 142 160 176 191 203 214 222 229 233 237 238 239 238 236 233 229 224 219 213 207 201 194 194\n",
      "*Y ? ? 2402002 ? 2422002\n",
      "s0204 1 0 0 0 1 16 55 100 143 180 208 231 247 261 271 278 282 286 288 289 290 291 292 292 293 293 293 293 293 293 293\n",
      "*Y ? ? 2403002 ? 2403002\n",
      "s0204 1 8 29 59 93 129 165 200 232 261 287 309 328 343 355 363 368 371 371 369 365 359 352 344 334 324 313 301 290 277 277\n",
      "*Y ? ? 2403002 ? 2423002\n",
      "s0204 1 0 0 0 24 98 184 257 312 353 380 400 413 422 428 433 435 436 437 436 434 433 431 430 429 428 428 428 428 428 428\n",
      "*Y ? ? 2401003 ? 2401003\n",
      "s0304 1 0 0 0 1 6 15 27 42 58 74 89 103 116 127 137 145 152 157 161 164 166 167 166 165 163 161 158 154 150 150\n",
      "*Y ? ? 2401003 ? 2401003\n",
      "s0304 1 0 0 0 1 6 15 27 42 58 74 89 103 116 127 137 145 152 157 161 164 166 167 166 165 163 161 158 154 150 150\n",
      "*Y ? ? 2402003 ? 2402003\n",
      "s0304 1 0 0 2 9 22 42 67 94 120 145 168 189 207 222 235 245 252 258 261 262 261 259 255 251 245 238 231 223 215 215\n",
      "*Y ? ? 2402003 ? 2422003\n",
      "s0304 1 0 0 0 0 0 6 25 52 84 117 150 180 206 228 247 263 277 290 301 311 319 327 333 338 342 347 350 353 357 358\n",
      "*Y ? ? 2403003 ? 2403003\n",
      "s0304 1 6 25 53 86 120 155 189 220 249 275 297 315 330 342 350 356 359 359 357 354 348 341 333 324 314 304 293 281 270 270\n",
      "*Y ? ? 2403003 ? 2423003\n",
      "s0304 1 0 0 0 1 17 60 114 170 221 264 299 327 352 372 390 404 416 426 435 443 450 456 461 466 469 471 473 474 475 476\n",
      "*Y ? ? 2401004 ? 2401004\n",
      "s0104 1 0 0 0 0 0 2 6 12 22 33 45 58 70 83 94 105 115 125 133 139 145 150 154 157 159 160 160 159 158 158\n",
      "*Y ? ? 2401004 ? 2401004\n",
      "s0104 1 0 0 0 0 0 2 6 12 22 33 45 58 70 83 94 105 115 125 133 139 145 150 154 157 159 160 160 159 158 158\n",
      "*Y ? ? 2402004 ? 2402004\n",
      "s0104 1 0 0 0 1 4 11 22 35 51 68 87 106 125 142 159 174 188 199 209 216 222 225 227 228 226 224 220 215 209 209\n",
      "*Y ? ? 2402004 ? 2422004\n",
      "s0104 1 0 0 0 0 0 0 5 18 37 60 85 111 134 156 176 194 210 224 236 247 257 265 273 280 286 291 296 300 303 304\n",
      "*Y ? ? 2403004 ? 2403004\n",
      "s0104 1 0 0 1 6 16 33 55 80 105 129 153 175 195 213 229 242 253 262 269 274 277 279 279 277 275 271 267 261 255 255\n",
      "*Y ? ? 2403004 ? 2423004\n",
      "s0104 1 0 0 0 0 1 10 33 63 98 133 165 195 222 245 266 284 301 316 329 341 351 360 368 374 380 384 387 390 393 394\n",
      "*Y ? ? 2401005 ? 2401005\n",
      "s1201 1 2 12 30 53 78 102 124 144 160 174 184 191 196 198 198 196 193 188 182 175 168 161 153 145 137 129 120 112 105 105\n",
      "*Y ? ? 2401005 ? 2401005\n",
      "s1201 1 2 12 30 53 78 102 124 144 160 174 184 191 196 198 198 196 193 188 182 175 168 161 153 145 137 129 120 112 105 105\n",
      "*Y ? ? 2402005 ? 2402005\n",
      "s1201 1 8 30 59 89 118 146 170 191 208 221 230 237 240 240 238 234 229 222 214 205 196 186 176 166 156 146 137 127 118 118\n",
      "*Y ? ? 2402005 ? 2402005\n",
      "s1201 1 8 30 59 89 118 146 170 191 208 221 230 237 240 240 238 234 229 222 214 205 196 186 176 166 156 146 137 127 118 118\n",
      "*Y ? ? 2403005 ? 2403005\n",
      "s1201 1 10 37 73 111 148 183 214 240 260 276 287 294 297 296 292 286 278 268 258 246 233 220 208 195 182 169 158 146 135 135\n",
      "*Y ? ? 2403005 ? 2403005\n",
      "s1201 1 10 37 73 111 148 183 214 240 260 276 287 294 297 296 292 286 278 268 258 246 233 220 208 195 182 169 158 146 135 135\n",
      "*Y ? ? 2401006 ? 2401006\n",
      "s1201 1 4 17 35 57 79 101 121 139 155 168 179 187 193 197 199 199 198 196 192 188 182 176 170 163 156 149 142 134 127 127\n",
      "*Y ? ? 2401006 ? 2401006\n",
      "s1201 1 4 17 35 57 79 101 121 139 155 168 179 187 193 197 199 199 198 196 192 188 182 176 170 163 156 149 142 134 127 127\n",
      "*Y ? ? 2402006 ? 2402006\n",
      "s1201 1 8 30 59 90 121 150 176 199 219 234 246 255 260 262 262 260 255 249 242 234 225 215 205 195 184 174 164 154 144 144\n",
      "*Y ? ? 2402006 ? 2402006\n",
      "s1201 1 8 30 59 90 121 150 176 199 219 234 246 255 260 262 262 260 255 249 242 234 225 215 205 195 184 174 164 154 144 144\n",
      "*Y ? ? 2403006 ? 2403006\n",
      "s1201 1 9 35 69 106 143 178 210 237 260 279 293 302 308 310 309 306 300 292 283 273 261 250 237 225 212 199 187 175 163 163\n",
      "*Y ? ? 2403006 ? 2403006\n",
      "s1201 1 9 35 69 106 143 178 210 237 260 279 293 302 308 310 309 306 300 292 283 273 261 250 237 225 212 199 187 175 163 163\n",
      "*Y ? ? 2401007 ? 2401007\n",
      "s0100 1 0 0 3 12 27 47 71 95 119 140 160 177 191 203 213 220 225 228 229 228 226 223 218 213 207 200 193 186 178 178\n",
      "*Y ? ? 2401007 ? 2421007\n",
      "s0100 1 0 0 0 0 3 19 49 83 118 151 180 205 226 245 261 275 286 296 305 313 320 327 332 337 341 344 347 350 352 353\n",
      "*Y ? ? 2402007 ? 2402007\n",
      "s0100 1 0 2 12 29 54 83 113 142 170 194 216 235 250 263 272 278 282 283 283 280 276 270 263 256 247 238 229 219 209 209\n",
      "*Y ? ? 2402007 ? 2422007\n",
      "s0100 1 0 0 0 2 24 65 114 161 201 235 264 288 307 323 338 351 362 371 379 385 391 396 401 405 407 410 412 413 414 415\n",
      "*Y ? ? 2403007 ? 2403007\n",
      "s0100 1 6 28 61 100 143 186 226 264 297 326 350 370 384 395 402 404 404 401 395 387 378 367 354 341 327 313 298 284 269 269\n",
      "*Y ? ? 2403007 ? 2423007\n",
      "s0100 1 0 0 0 30 99 177 244 300 343 378 407 432 452 468 483 495 505 513 519 523 526 529 531 534 535 535 535 535 536 535\n",
      "*YC ? ? ? ? ?\n",
      "totvol _SUM(s0100, s0204, s0304, s1201, s0104)\n",
      "swdvol _SUM(s0100, s0204, s0304, s0104)\n",
      "hwdvol _SUM(s1201)\n"
     ]
    }
   ],
   "source": [
    "!cat data/woodstock_model_files/tsa24_clipped.yld"
   ]
  },
  {
   "cell_type": "markdown",
   "id": "7d9fafef-2096-45fc-bf7f-b80a55c55559",
   "metadata": {
    "tags": []
   },
   "source": [
    "## `ACTIONS` section\n",
    "\n",
    "The `ACTIONS` section defines actions (i.e., treatments). "
   ]
  },
  {
   "cell_type": "markdown",
   "id": "85f79376-60ae-4503-baa1-f687da35a53c",
   "metadata": {},
   "source": [
    "The `ACTIONS` section for this example is defined in file `data/woodstock_model_files/tsa24_clipped.act`."
   ]
  },
  {
   "cell_type": "code",
   "execution_count": 5,
   "id": "1411321c-5ada-4f74-8a80-b38a4b37ace7",
   "metadata": {
    "tags": []
   },
   "outputs": [
    {
     "name": "stdout",
     "output_type": "stream",
     "text": [
      "\n",
      "ACTIONS\n",
      "*ACTION harvest 0\n",
      "*OPERABLE harvest\n",
      "? 1 ? ? ? _AGE >= 80 AND _AGE <= 999\n"
     ]
    }
   ],
   "source": [
    "!cat data/woodstock_model_files/tsa24_clipped.act"
   ]
  },
  {
   "cell_type": "markdown",
   "id": "e0d8f691-b9c1-41f4-a33d-49e0c833f1ed",
   "metadata": {
    "tags": []
   },
   "source": [
    "## `TRANSITIONS` section\n",
    "\n",
    "The `TRANSITIONS` section defines transitions (i.e., change in theme-wise state variable values and age, induced by applying an action to an area of an age class within a development type).\n",
    "\n",
    "We have AU-wise transitions to specific TIPSY curves after harvesting action in this model."
   ]
  },
  {
   "cell_type": "markdown",
   "id": "4cd07a9a-7d76-4bd3-876b-e07fecc15d25",
   "metadata": {},
   "source": [
    "The `TRANSITIONS` section for this example is defined in file `data/woodstock_model_files/tsa24_clipped.trn`."
   ]
  },
  {
   "cell_type": "code",
   "execution_count": 6,
   "id": "cc9d606d-83dd-4f1f-94df-2fd132eef2b4",
   "metadata": {
    "tags": []
   },
   "outputs": [
    {
     "name": "stdout",
     "output_type": "stream",
     "text": [
      "\n",
      "*CASE harvest\n",
      "*SOURCE ? ? 2402000 ? ?\n",
      "*TARGET ? ? ? ? 2422000 100\n",
      "*SOURCE ? ? 2403000 ? ?\n",
      "*TARGET ? ? ? ? 2423000 100\n",
      "*SOURCE ? ? 2403001 ? ?\n",
      "*TARGET ? ? ? ? 2423001 100\n",
      "*SOURCE ? ? 2401002 ? ?\n",
      "*TARGET ? ? ? ? 2421002 100\n",
      "*SOURCE ? ? 2402002 ? ?\n",
      "*TARGET ? ? ? ? 2422002 100\n",
      "*SOURCE ? ? 2403002 ? ?\n",
      "*TARGET ? ? ? ? 2423002 100\n",
      "*SOURCE ? ? 2402003 ? ?\n",
      "*TARGET ? ? ? ? 2422003 100\n",
      "*SOURCE ? ? 2403003 ? ?\n",
      "*TARGET ? ? ? ? 2423003 100\n",
      "*SOURCE ? ? 2402004 ? ?\n",
      "*TARGET ? ? ? ? 2422004 100\n",
      "*SOURCE ? ? 2403004 ? ?\n",
      "*TARGET ? ? ? ? 2423004 100\n",
      "*SOURCE ? ? 2401007 ? ?\n",
      "*TARGET ? ? ? ? 2421007 100\n",
      "*SOURCE ? ? 2402007 ? ?\n",
      "*TARGET ? ? ? ? 2422007 100\n",
      "*SOURCE ? ? 2403007 ? ?\n",
      "*TARGET ? ? ? ? 2423007 100\n"
     ]
    }
   ],
   "source": [
    "!cat data/woodstock_model_files/tsa24_clipped.trn"
   ]
  },
  {
   "cell_type": "markdown",
   "id": "e4653089-9546-4d51-8b43-36a0b09ed4e4",
   "metadata": {
    "tags": []
   },
   "source": [
    "## Create and run `ForestModel` instance"
   ]
  },
  {
   "cell_type": "markdown",
   "id": "cb5a318b-6aa9-4e7e-a501-412a2d427ba5",
   "metadata": {},
   "source": [
    "The import files assume path and filename values based on `model_path` and `model_name` attributes set in the `ForestModel.__init__` method, combined with standard filename extensions for Woodstock model sections (i.e., `.lan`, `.are`, `.yld`, `.act`, `.trn`, etc.). See `ws3.forest` module source code for details."
   ]
  },
  {
   "cell_type": "code",
   "execution_count": 7,
   "id": "a3903c9b-ec4f-487b-9c78-fe72258c508c",
   "metadata": {
    "tags": []
   },
   "outputs": [],
   "source": [
    "import matplotlib.pyplot as plt\n",
    "import pandas as pd\n",
    "import geopandas as gpd\n",
    "import ws3.forest, ws3.core"
   ]
  },
  {
   "cell_type": "code",
   "execution_count": 8,
   "id": "9a75b67d-d7cc-47ad-8048-0836f69a6514",
   "metadata": {
    "tags": []
   },
   "outputs": [],
   "source": [
    "base_year = 2020\n",
    "horizon = 10\n",
    "period_length = 10\n",
    "max_age = 1000\n",
    "tvy_name = 'totvol'"
   ]
  },
  {
   "cell_type": "code",
   "execution_count": 9,
   "id": "8bfa40e6-eafb-49d8-9f03-57c03987400b",
   "metadata": {
    "tags": []
   },
   "outputs": [],
   "source": [
    "fm = ws3.forest.ForestModel(model_name='tsa24_clipped',\n",
    "                            model_path='data/woodstock_model_files',\n",
    "                            base_year=base_year,\n",
    "                            horizon=horizon,\n",
    "                            period_length=period_length,\n",
    "                            max_age=max_age)"
   ]
  },
  {
   "cell_type": "code",
   "execution_count": 10,
   "id": "8b4df6fd-aacf-4422-8f72-e8ec56d22071",
   "metadata": {
    "tags": []
   },
   "outputs": [],
   "source": [
    "fm.import_landscape_section()"
   ]
  },
  {
   "cell_type": "code",
   "execution_count": 11,
   "id": "debc4d74-1adc-4f0e-afc8-c8ba6b8ea16e",
   "metadata": {
    "tags": []
   },
   "outputs": [
    {
     "data": {
      "text/plain": [
       "0"
      ]
     },
     "execution_count": 11,
     "metadata": {},
     "output_type": "execute_result"
    }
   ],
   "source": [
    "fm.import_areas_section()"
   ]
  },
  {
   "cell_type": "code",
   "execution_count": 12,
   "id": "c28690cf-0d25-4823-9f06-a1d4654dd781",
   "metadata": {
    "tags": []
   },
   "outputs": [],
   "source": [
    "fm.import_yields_section()"
   ]
  },
  {
   "cell_type": "code",
   "execution_count": 13,
   "id": "4fe9adfd-3cd0-4ff8-9c9e-03c7a6236ee1",
   "metadata": {
    "tags": []
   },
   "outputs": [],
   "source": [
    "fm.import_actions_section()"
   ]
  },
  {
   "cell_type": "code",
   "execution_count": 14,
   "id": "4231a279-5592-45c0-8c37-a1bd8b15673f",
   "metadata": {
    "tags": []
   },
   "outputs": [],
   "source": [
    "fm.import_transitions_section()"
   ]
  },
  {
   "cell_type": "code",
   "execution_count": 15,
   "id": "bab23b55-d54d-4625-aebc-89ae7f9df458",
   "metadata": {
    "tags": []
   },
   "outputs": [],
   "source": [
    "fm.reset()"
   ]
  },
  {
   "cell_type": "markdown",
   "id": "26b16450-f014-42ba-96b7-97426a71611e",
   "metadata": {
    "tags": []
   },
   "source": [
    "## Run a priority queue harvest scheduling heuristic\n",
    "\n",
    "The local `util` module defines a `schedule_harvest_areacontrol` function that implements a old-stand-first priority queue harvest scheduling heuristic. To make this demo as n00b friendly as possible, we set this up to be self-parametrising, i.e., the model automatically figures out an appropriate \"periodic harvest area target\" parameter value, by analysing the shape of its own yield curves to estimate a landscape-level optimal rotation age.\n",
    "\n",
    "The local `util` module also defines a `compile_scenario` function that compiles some aggregate performance indicators from results of a harvesting and growth scenario, as well as a `plot_scenario` function that plots a grid of three bar charts so we can \"see\" the solution. \n",
    "\n",
    "Note that these are just local utility functions custom-coded to work with our test dataset an scenarios, that we defined in a side-car module for convenient re-use in other notebooks in this examples library to provide some visual feedback on the modelling process. "
   ]
  },
  {
   "cell_type": "code",
   "execution_count": 16,
   "id": "2f37dafa-e8bc-4f04-9aab-5b49ec65dc43",
   "metadata": {
    "tags": []
   },
   "outputs": [],
   "source": [
    "from util import schedule_harvest_areacontrol\n",
    "from util import compile_scenario\n",
    "from util import plot_scenario"
   ]
  },
  {
   "cell_type": "code",
   "execution_count": 17,
   "id": "5198b9ba-86fe-44b3-8258-3650e7c416a2",
   "metadata": {
    "tags": []
   },
   "outputs": [],
   "source": [
    "verbose = False # flip to True if you want the harvest scheduler to get _really_ chatty while it works\n",
    "sch = schedule_harvest_areacontrol(fm, verbose=verbose)"
   ]
  },
  {
   "cell_type": "code",
   "execution_count": 18,
   "id": "e09fe036-97ec-43de-907a-37c9897ec309",
   "metadata": {
    "tags": []
   },
   "outputs": [
    {
     "data": {
      "text/plain": [
       "(<Figure size 1200x400 with 3 Axes>,\n",
       " array([<Axes: title={'center': 'Harvested area (ha)'}>,\n",
       "        <Axes: title={'center': 'Harvested volume (m3)'}>,\n",
       "        <Axes: title={'center': 'Growing Stock (m3)'}>], dtype=object))"
      ]
     },
     "execution_count": 18,
     "metadata": {},
     "output_type": "execute_result"
    },
    {
     "data": {
      "image/png": "[encoded data removed]",
      "text/plain": [
       "<Figure size 1200x400 with 3 Axes>"
      ]
     },
     "metadata": {},
     "output_type": "display_data"
    }
   ],
   "source": [
    "plot_scenario(compile_scenario(fm))"
   ]
  },
  {
   "cell_type": "markdown",
   "id": "f583083b-0d06-4867-93a5-a43a3d3939d8",
   "metadata": {},
   "source": [
    "Ta da!"
   ]
  },
  {
   "cell_type": "code",
   "execution_count": null,
   "id": "e7a055f3-45fe-4271-8707-7e15c3c1ea07",
   "metadata": {},
   "outputs": [],
   "source": []
  }
 ],
 "metadata": {
  "kernelspec": {
   "display_name": "Python 3 (venv:foo)",
   "language": "python",
   "name": "foo"
  },
  "language_info": {
   "codemirror_mode": {
    "name": "ipython",
    "version": 3
   },
   "file_extension": ".py",
   "mimetype": "text/x-python",
   "name": "python",
   "nbconvert_exporter": "python",
   "pygments_lexer": "ipython3",
   "version": "3.10.6"
  }
 },
 "nbformat": 4,
 "nbformat_minor": 5
}
