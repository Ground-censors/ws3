{
 "cells": [
  {
   "cell_type": "markdown",
   "id": "fe4de448-d218-420b-bdae-17c1e4b4181c",
   "metadata": {
    "tags": []
   },
   "source": [
    "# Building a `ws3` model from scratch\n",
    "\n",
    "This notebook has an example of building a new `ws3` model from scratch.\n",
    "\n",
    "> We _strongly recommend_ that you run this notebook in venv-sandboxed Python kernel (see `venv_python_kernel_setup` notebook for an example of how to do this). This will ensure that you are working from a fresh Python package environment, and not wasting time debugging random interactions between this notebook and whatever mishmash of packages you have installed on your system in various parts of your Python path. You have been warned. "
   ]
  },
  {
   "cell_type": "markdown",
   "id": "bec44080-352d-493a-9014-0892e4668c8f",
   "metadata": {},
   "source": [
    "Optionally, uninstall the `ws3` package and replace it with a pointer to _this local clone of the GitHub repository code_ (useful if you want ot tweak the source code for whatever reason). "
   ]
  },
  {
   "cell_type": "code",
   "execution_count": 2,
   "id": "d8619cfa-a3d9-4da3-b943-b848918cd800",
   "metadata": {
    "tags": []
   },
   "outputs": [
    {
     "name": "stdout",
     "output_type": "stream",
     "text": [
      "Found existing installation: ws3 0.0.1.post3\n",
      "Uninstalling ws3-0.0.1.post3:\n",
      "  Successfully uninstalled ws3-0.0.1.post3\n",
      "Note: you may need to restart the kernel to use updated packages.\n",
      "Obtaining file:///media/data/project/gparadis/ws3\n",
      "  Preparing metadata (setup.py) ... \u001b[?25ldone\n",
      "\u001b[?25hRequirement already satisfied: fiona in /media/data/home/gparadis/.virtualenvs/foo/lib/python3.10/site-packages (from ws3==0.0.1.post3) (1.9.1)\n",
      "Requirement already satisfied: matplotlib in /media/data/home/gparadis/.virtualenvs/foo/lib/python3.10/site-packages (from ws3==0.0.1.post3) (3.7.0)\n",
      "Requirement already satisfied: numpy in /media/data/home/gparadis/.virtualenvs/foo/lib/python3.10/site-packages (from ws3==0.0.1.post3) (1.23.5)\n",
      "Requirement already satisfied: pandas in /media/data/home/gparadis/.virtualenvs/foo/lib/python3.10/site-packages (from ws3==0.0.1.post3) (1.5.3)\n",
      "Requirement already satisfied: profilehooks in /media/data/home/gparadis/.virtualenvs/foo/lib/python3.10/site-packages (from ws3==0.0.1.post3) (1.12.0)\n",
      "Requirement already satisfied: rasterio in /media/data/home/gparadis/.virtualenvs/foo/lib/python3.10/site-packages (from ws3==0.0.1.post3) (1.3.6)\n",
      "Requirement already satisfied: scipy in /media/data/home/gparadis/.virtualenvs/foo/lib/python3.10/site-packages (from ws3==0.0.1.post3) (1.10.1)\n",
      "Requirement already satisfied: click-plugins>=1.0 in /media/data/home/gparadis/.virtualenvs/foo/lib/python3.10/site-packages (from fiona->ws3==0.0.1.post3) (1.1.1)\n",
      "Requirement already satisfied: munch>=2.3.2 in /media/data/home/gparadis/.virtualenvs/foo/lib/python3.10/site-packages (from fiona->ws3==0.0.1.post3) (2.5.0)\n",
      "Requirement already satisfied: certifi in /media/data/home/gparadis/.virtualenvs/foo/lib/python3.10/site-packages (from fiona->ws3==0.0.1.post3) (2022.12.7)\n",
      "Requirement already satisfied: click~=8.0 in /media/data/home/gparadis/.virtualenvs/foo/lib/python3.10/site-packages (from fiona->ws3==0.0.1.post3) (8.1.3)\n",
      "Requirement already satisfied: attrs>=19.2.0 in /media/data/home/gparadis/.virtualenvs/foo/lib/python3.10/site-packages (from fiona->ws3==0.0.1.post3) (22.2.0)\n",
      "Requirement already satisfied: setuptools in /media/data/home/gparadis/.virtualenvs/foo/lib/python3.10/site-packages (from fiona->ws3==0.0.1.post3) (59.6.0)\n",
      "Requirement already satisfied: cligj>=0.5 in /media/data/home/gparadis/.virtualenvs/foo/lib/python3.10/site-packages (from fiona->ws3==0.0.1.post3) (0.7.2)\n",
      "Requirement already satisfied: pillow>=6.2.0 in /media/data/home/gparadis/.virtualenvs/foo/lib/python3.10/site-packages (from matplotlib->ws3==0.0.1.post3) (9.4.0)\n",
      "Requirement already satisfied: packaging>=20.0 in /media/data/home/gparadis/.virtualenvs/foo/lib/python3.10/site-packages (from matplotlib->ws3==0.0.1.post3) (23.0)\n",
      "Requirement already satisfied: python-dateutil>=2.7 in /media/data/home/gparadis/.virtualenvs/foo/lib/python3.10/site-packages (from matplotlib->ws3==0.0.1.post3) (2.8.2)\n",
      "Requirement already satisfied: contourpy>=1.0.1 in /media/data/home/gparadis/.virtualenvs/foo/lib/python3.10/site-packages (from matplotlib->ws3==0.0.1.post3) (1.0.7)\n",
      "Requirement already satisfied: cycler>=0.10 in /media/data/home/gparadis/.virtualenvs/foo/lib/python3.10/site-packages (from matplotlib->ws3==0.0.1.post3) (0.11.0)\n",
      "Requirement already satisfied: fonttools>=4.22.0 in /media/data/home/gparadis/.virtualenvs/foo/lib/python3.10/site-packages (from matplotlib->ws3==0.0.1.post3) (4.38.0)\n",
      "Requirement already satisfied: pyparsing>=2.3.1 in /media/data/home/gparadis/.virtualenvs/foo/lib/python3.10/site-packages (from matplotlib->ws3==0.0.1.post3) (3.0.9)\n",
      "Requirement already satisfied: kiwisolver>=1.0.1 in /media/data/home/gparadis/.virtualenvs/foo/lib/python3.10/site-packages (from matplotlib->ws3==0.0.1.post3) (1.4.4)\n",
      "Requirement already satisfied: pytz>=2020.1 in /media/data/home/gparadis/.virtualenvs/foo/lib/python3.10/site-packages (from pandas->ws3==0.0.1.post3) (2022.7.1)\n",
      "Requirement already satisfied: snuggs>=1.4.1 in /media/data/home/gparadis/.virtualenvs/foo/lib/python3.10/site-packages (from rasterio->ws3==0.0.1.post3) (1.4.7)\n",
      "Requirement already satisfied: affine in /media/data/home/gparadis/.virtualenvs/foo/lib/python3.10/site-packages (from rasterio->ws3==0.0.1.post3) (2.4.0)\n",
      "Requirement already satisfied: six in /media/data/home/gparadis/.virtualenvs/foo/lib/python3.10/site-packages (from munch>=2.3.2->fiona->ws3==0.0.1.post3) (1.16.0)\n",
      "Installing collected packages: ws3\n",
      "  Running setup.py develop for ws3\n",
      "Successfully installed ws3-0.0.1.post3\n",
      "Note: you may need to restart the kernel to use updated packages.\n"
     ]
    }
   ],
   "source": [
    "clobber_ws3 = True\n",
    "if clobber_ws3:\n",
    "    %pip uninstall -y ws3\n",
    "    %pip install -e .."
   ]
  },
  {
   "cell_type": "markdown",
   "id": "52e1114c-44ce-47b5-bde8-bd5b85ce9623",
   "metadata": {
    "tags": []
   },
   "source": [
    "## Import required packages"
   ]
  },
  {
   "cell_type": "code",
   "execution_count": 3,
   "id": "79142af4-821c-45a9-9e9f-562cde0f98d2",
   "metadata": {
    "tags": []
   },
   "outputs": [],
   "source": [
    "%load_ext autoreload\n",
    "%autoreload 2"
   ]
  },
  {
   "cell_type": "code",
   "execution_count": 4,
   "id": "1271efba-f9c2-40a8-86c9-2d2e6ca4323f",
   "metadata": {
    "tags": []
   },
   "outputs": [],
   "source": [
    "import matplotlib.pyplot as plt\n",
    "import pandas as pd\n",
    "import geopandas as gpd\n",
    "import ws3.forest, ws3.core"
   ]
  },
  {
   "cell_type": "markdown",
   "id": "e1090a31-8215-46dc-b6c9-61030fc01ff7",
   "metadata": {},
   "source": [
    "## Set up Python environment"
   ]
  },
  {
   "cell_type": "markdown",
   "id": "2597ec84-062c-4d10-ae51-22d669185ba4",
   "metadata": {},
   "source": [
    "Define some basic parameters."
   ]
  },
  {
   "cell_type": "code",
   "execution_count": 5,
   "id": "11a7ae85-6e7e-4537-b645-249a76208841",
   "metadata": {
    "tags": []
   },
   "outputs": [],
   "source": [
    "base_year = 2020\n",
    "horizon = 10\n",
    "period_length = 10\n",
    "max_age = 1000\n",
    "tvy_name = 'totvol'"
   ]
  },
  {
   "cell_type": "markdown",
   "id": "0ada77ae-106d-475b-b21f-f7095cbebd9e",
   "metadata": {},
   "source": [
    "Import sample inventory and yield curve data.\n",
    "\n",
    "The inventory data is imported a from vector data layer (stored in industry-standard ESRI Shapefile format). This is a small square of real forest data clipped from a larger dataset representing Timber Supply Area (TSA) 24 in British Columbia (BC), Canada. This data layer is derived from publicly-available BC Vegetation Resource Inventory (VRI) datasets (see [British Columbia Data Catalogue](https://catalogue.data.gov.bc.ca/)) that we pre-processed to include the data attributes we need (in the format we want) for this `ws3` model-building example. \n",
    "\n",
    "The yield curve data was generated from a complex process (the details of which are outside the scope of this example, contact [Gregory Paradis](mailto:gregory.paradis@ubc.ca) for details), using a methodology consistent with _de facto_ professional best-practices for the Timber Supply Review (TSR) modelling process in BC. "
   ]
  },
  {
   "cell_type": "code",
   "execution_count": 6,
   "id": "147a0b10-de95-45ea-9090-910f636ef418",
   "metadata": {
    "tags": []
   },
   "outputs": [],
   "source": [
    "stands = gpd.read_file('data/shp/tsa24_clipped.shp/stands.shp')"
   ]
  },
  {
   "cell_type": "code",
   "execution_count": 7,
   "id": "e2e354ee-96d1-474c-b92a-c2c106719bd2",
   "metadata": {
    "tags": []
   },
   "outputs": [
    {
     "data": {
      "text/html": [
       "<div>\n",
       "<style scoped>\n",
       "    .dataframe tbody tr th:only-of-type {\n",
       "        vertical-align: middle;\n",
       "    }\n",
       "\n",
       "    .dataframe tbody tr th {\n",
       "        vertical-align: top;\n",
       "    }\n",
       "\n",
       "    .dataframe thead th {\n",
       "        text-align: right;\n",
       "    }\n",
       "</style>\n",
       "<table border=\"1\" class=\"dataframe\">\n",
       "  <thead>\n",
       "    <tr style=\"text-align: right;\">\n",
       "      <th></th>\n",
       "      <th>theme0</th>\n",
       "      <th>theme1</th>\n",
       "      <th>theme2</th>\n",
       "      <th>curve1</th>\n",
       "      <th>curve2</th>\n",
       "      <th>SPECIES_CD</th>\n",
       "      <th>age</th>\n",
       "      <th>area</th>\n",
       "      <th>theme3</th>\n",
       "      <th>geometry</th>\n",
       "    </tr>\n",
       "  </thead>\n",
       "  <tbody>\n",
       "    <tr>\n",
       "      <th>0</th>\n",
       "      <td>tsa24_clipped</td>\n",
       "      <td>1</td>\n",
       "      <td>2401002</td>\n",
       "      <td>2401002</td>\n",
       "      <td>2401002</td>\n",
       "      <td>PLI</td>\n",
       "      <td>145</td>\n",
       "      <td>0.111814</td>\n",
       "      <td>204</td>\n",
       "      <td>MULTIPOLYGON (((1112711.004 1120816.405, 11127...</td>\n",
       "    </tr>\n",
       "    <tr>\n",
       "      <th>1</th>\n",
       "      <td>tsa24_clipped</td>\n",
       "      <td>1</td>\n",
       "      <td>2401002</td>\n",
       "      <td>2401002</td>\n",
       "      <td>2401002</td>\n",
       "      <td>PLI</td>\n",
       "      <td>145</td>\n",
       "      <td>0.113925</td>\n",
       "      <td>204</td>\n",
       "      <td>POLYGON ((1113299.500 1120834.770, 1113298.336...</td>\n",
       "    </tr>\n",
       "    <tr>\n",
       "      <th>2</th>\n",
       "      <td>tsa24_clipped</td>\n",
       "      <td>1</td>\n",
       "      <td>2401002</td>\n",
       "      <td>2401002</td>\n",
       "      <td>2401002</td>\n",
       "      <td>PLI</td>\n",
       "      <td>135</td>\n",
       "      <td>7.025088</td>\n",
       "      <td>204</td>\n",
       "      <td>POLYGON ((1112035.066 1121064.403, 1112071.399...</td>\n",
       "    </tr>\n",
       "    <tr>\n",
       "      <th>3</th>\n",
       "      <td>tsa24_clipped</td>\n",
       "      <td>1</td>\n",
       "      <td>2402002</td>\n",
       "      <td>2402002</td>\n",
       "      <td>2402002</td>\n",
       "      <td>PLI</td>\n",
       "      <td>93</td>\n",
       "      <td>11.029940</td>\n",
       "      <td>204</td>\n",
       "      <td>POLYGON ((1114394.740 1120822.943, 1114394.421...</td>\n",
       "    </tr>\n",
       "    <tr>\n",
       "      <th>4</th>\n",
       "      <td>tsa24_clipped</td>\n",
       "      <td>1</td>\n",
       "      <td>2401000</td>\n",
       "      <td>2401000</td>\n",
       "      <td>2401000</td>\n",
       "      <td>SX</td>\n",
       "      <td>145</td>\n",
       "      <td>9.581284</td>\n",
       "      <td>100</td>\n",
       "      <td>MULTIPOLYGON (((1114322.804 1120983.973, 11143...</td>\n",
       "    </tr>\n",
       "    <tr>\n",
       "      <th>...</th>\n",
       "      <td>...</td>\n",
       "      <td>...</td>\n",
       "      <td>...</td>\n",
       "      <td>...</td>\n",
       "      <td>...</td>\n",
       "      <td>...</td>\n",
       "      <td>...</td>\n",
       "      <td>...</td>\n",
       "      <td>...</td>\n",
       "      <td>...</td>\n",
       "    </tr>\n",
       "    <tr>\n",
       "      <th>185</th>\n",
       "      <td>tsa24_clipped</td>\n",
       "      <td>1</td>\n",
       "      <td>2401002</td>\n",
       "      <td>2401002</td>\n",
       "      <td>2401002</td>\n",
       "      <td>PLI</td>\n",
       "      <td>85</td>\n",
       "      <td>5.667730</td>\n",
       "      <td>204</td>\n",
       "      <td>POLYGON ((1115036.356 1124809.762, 1115037.888...</td>\n",
       "    </tr>\n",
       "    <tr>\n",
       "      <th>186</th>\n",
       "      <td>tsa24_clipped</td>\n",
       "      <td>1</td>\n",
       "      <td>2401002</td>\n",
       "      <td>2401002</td>\n",
       "      <td>2401002</td>\n",
       "      <td>PLI</td>\n",
       "      <td>85</td>\n",
       "      <td>1.811041</td>\n",
       "      <td>204</td>\n",
       "      <td>POLYGON ((1114157.650 1124633.924, 1114154.478...</td>\n",
       "    </tr>\n",
       "    <tr>\n",
       "      <th>187</th>\n",
       "      <td>tsa24_clipped</td>\n",
       "      <td>1</td>\n",
       "      <td>2401002</td>\n",
       "      <td>2401002</td>\n",
       "      <td>2401002</td>\n",
       "      <td>PLI</td>\n",
       "      <td>95</td>\n",
       "      <td>1.137586</td>\n",
       "      <td>204</td>\n",
       "      <td>POLYGON ((1114675.233 1124802.103, 1114684.360...</td>\n",
       "    </tr>\n",
       "    <tr>\n",
       "      <th>188</th>\n",
       "      <td>tsa24_clipped</td>\n",
       "      <td>0</td>\n",
       "      <td>2401000</td>\n",
       "      <td>2401000</td>\n",
       "      <td>2401000</td>\n",
       "      <td>SB</td>\n",
       "      <td>95</td>\n",
       "      <td>0.494253</td>\n",
       "      <td>100</td>\n",
       "      <td>POLYGON ((1114249.328 1124669.031, 1114271.225...</td>\n",
       "    </tr>\n",
       "    <tr>\n",
       "      <th>189</th>\n",
       "      <td>tsa24_clipped</td>\n",
       "      <td>1</td>\n",
       "      <td>2402002</td>\n",
       "      <td>2402002</td>\n",
       "      <td>2402002</td>\n",
       "      <td>PLI</td>\n",
       "      <td>95</td>\n",
       "      <td>0.387243</td>\n",
       "      <td>204</td>\n",
       "      <td>POLYGON ((1112837.042 1124802.518, 1112821.020...</td>\n",
       "    </tr>\n",
       "  </tbody>\n",
       "</table>\n",
       "<p>190 rows × 10 columns</p>\n",
       "</div>"
      ],
      "text/plain": [
       "            theme0  theme1   theme2   curve1   curve2 SPECIES_CD  age  \\\n",
       "0    tsa24_clipped       1  2401002  2401002  2401002        PLI  145   \n",
       "1    tsa24_clipped       1  2401002  2401002  2401002        PLI  145   \n",
       "2    tsa24_clipped       1  2401002  2401002  2401002        PLI  135   \n",
       "3    tsa24_clipped       1  2402002  2402002  2402002        PLI   93   \n",
       "4    tsa24_clipped       1  2401000  2401000  2401000         SX  145   \n",
       "..             ...     ...      ...      ...      ...        ...  ...   \n",
       "185  tsa24_clipped       1  2401002  2401002  2401002        PLI   85   \n",
       "186  tsa24_clipped       1  2401002  2401002  2401002        PLI   85   \n",
       "187  tsa24_clipped       1  2401002  2401002  2401002        PLI   95   \n",
       "188  tsa24_clipped       0  2401000  2401000  2401000         SB   95   \n",
       "189  tsa24_clipped       1  2402002  2402002  2402002        PLI   95   \n",
       "\n",
       "          area  theme3                                           geometry  \n",
       "0     0.111814     204  MULTIPOLYGON (((1112711.004 1120816.405, 11127...  \n",
       "1     0.113925     204  POLYGON ((1113299.500 1120834.770, 1113298.336...  \n",
       "2     7.025088     204  POLYGON ((1112035.066 1121064.403, 1112071.399...  \n",
       "3    11.029940     204  POLYGON ((1114394.740 1120822.943, 1114394.421...  \n",
       "4     9.581284     100  MULTIPOLYGON (((1114322.804 1120983.973, 11143...  \n",
       "..         ...     ...                                                ...  \n",
       "185   5.667730     204  POLYGON ((1115036.356 1124809.762, 1115037.888...  \n",
       "186   1.811041     204  POLYGON ((1114157.650 1124633.924, 1114154.478...  \n",
       "187   1.137586     204  POLYGON ((1114675.233 1124802.103, 1114684.360...  \n",
       "188   0.494253     100  POLYGON ((1114249.328 1124669.031, 1114271.225...  \n",
       "189   0.387243     204  POLYGON ((1112837.042 1124802.518, 1112821.020...  \n",
       "\n",
       "[190 rows x 10 columns]"
      ]
     },
     "execution_count": 7,
     "metadata": {},
     "output_type": "execute_result"
    }
   ],
   "source": [
    "stands"
   ]
  },
  {
   "cell_type": "markdown",
   "id": "be459641-89ec-4f7e-bad3-e20b01f76a31",
   "metadata": {},
   "source": [
    "Import data tables linking analysis units to yield curves."
   ]
  },
  {
   "cell_type": "code",
   "execution_count": 8,
   "id": "090ad90c-971a-4931-9a68-d50ee9a09e5d",
   "metadata": {
    "tags": []
   },
   "outputs": [],
   "source": [
    "au_table = pd.read_csv('data/au_table.csv').set_index('au_id')\n",
    "curve_table = pd.read_csv('data/curve_table.csv')\n",
    "curve_points_table = pd.read_csv('data/curve_points_table.csv').set_index('curve_id')"
   ]
  },
  {
   "cell_type": "code",
   "execution_count": 9,
   "id": "350f4224-c95e-4947-bd82-a5af0a9b4578",
   "metadata": {
    "tags": []
   },
   "outputs": [],
   "source": [
    "au_table['thlb'] = au_table.apply(lambda row: 0 if row.unmanaged_curve_id == row.managed_curve_id else 1, axis=1)"
   ]
  },
  {
   "cell_type": "code",
   "execution_count": 10,
   "id": "cf466615-38ba-4ede-b1a8-50b187b66129",
   "metadata": {
    "tags": []
   },
   "outputs": [
    {
     "data": {
      "text/html": [
       "<div>\n",
       "<style scoped>\n",
       "    .dataframe tbody tr th:only-of-type {\n",
       "        vertical-align: middle;\n",
       "    }\n",
       "\n",
       "    .dataframe tbody tr th {\n",
       "        vertical-align: top;\n",
       "    }\n",
       "\n",
       "    .dataframe thead th {\n",
       "        text-align: right;\n",
       "    }\n",
       "</style>\n",
       "<table border=\"1\" class=\"dataframe\">\n",
       "  <thead>\n",
       "    <tr style=\"text-align: right;\">\n",
       "      <th></th>\n",
       "      <th>record_id</th>\n",
       "      <th>tsa</th>\n",
       "      <th>stratum_code</th>\n",
       "      <th>si_level</th>\n",
       "      <th>canfi_species</th>\n",
       "      <th>unmanaged_curve_id</th>\n",
       "      <th>managed_curve_id</th>\n",
       "      <th>thlb</th>\n",
       "    </tr>\n",
       "    <tr>\n",
       "      <th>au_id</th>\n",
       "      <th></th>\n",
       "      <th></th>\n",
       "      <th></th>\n",
       "      <th></th>\n",
       "      <th></th>\n",
       "      <th></th>\n",
       "      <th></th>\n",
       "      <th></th>\n",
       "    </tr>\n",
       "  </thead>\n",
       "  <tbody>\n",
       "    <tr>\n",
       "      <th>2401000</th>\n",
       "      <td>63</td>\n",
       "      <td>24</td>\n",
       "      <td>SBS_SX</td>\n",
       "      <td>L</td>\n",
       "      <td>100</td>\n",
       "      <td>2401000</td>\n",
       "      <td>2401000</td>\n",
       "      <td>0</td>\n",
       "    </tr>\n",
       "    <tr>\n",
       "      <th>2402000</th>\n",
       "      <td>64</td>\n",
       "      <td>24</td>\n",
       "      <td>SBS_SX</td>\n",
       "      <td>M</td>\n",
       "      <td>100</td>\n",
       "      <td>2402000</td>\n",
       "      <td>2422000</td>\n",
       "      <td>1</td>\n",
       "    </tr>\n",
       "    <tr>\n",
       "      <th>2403000</th>\n",
       "      <td>65</td>\n",
       "      <td>24</td>\n",
       "      <td>SBS_SX</td>\n",
       "      <td>H</td>\n",
       "      <td>100</td>\n",
       "      <td>2403000</td>\n",
       "      <td>2423000</td>\n",
       "      <td>1</td>\n",
       "    </tr>\n",
       "    <tr>\n",
       "      <th>2401001</th>\n",
       "      <td>66</td>\n",
       "      <td>24</td>\n",
       "      <td>ESSF_BL</td>\n",
       "      <td>L</td>\n",
       "      <td>304</td>\n",
       "      <td>2401001</td>\n",
       "      <td>2401001</td>\n",
       "      <td>0</td>\n",
       "    </tr>\n",
       "    <tr>\n",
       "      <th>2402001</th>\n",
       "      <td>67</td>\n",
       "      <td>24</td>\n",
       "      <td>ESSF_BL</td>\n",
       "      <td>M</td>\n",
       "      <td>304</td>\n",
       "      <td>2402001</td>\n",
       "      <td>2402001</td>\n",
       "      <td>0</td>\n",
       "    </tr>\n",
       "    <tr>\n",
       "      <th>2403001</th>\n",
       "      <td>68</td>\n",
       "      <td>24</td>\n",
       "      <td>ESSF_BL</td>\n",
       "      <td>H</td>\n",
       "      <td>304</td>\n",
       "      <td>2403001</td>\n",
       "      <td>2423001</td>\n",
       "      <td>1</td>\n",
       "    </tr>\n",
       "    <tr>\n",
       "      <th>2401002</th>\n",
       "      <td>69</td>\n",
       "      <td>24</td>\n",
       "      <td>SBS_PLI</td>\n",
       "      <td>L</td>\n",
       "      <td>204</td>\n",
       "      <td>2401002</td>\n",
       "      <td>2421002</td>\n",
       "      <td>1</td>\n",
       "    </tr>\n",
       "    <tr>\n",
       "      <th>2402002</th>\n",
       "      <td>70</td>\n",
       "      <td>24</td>\n",
       "      <td>SBS_PLI</td>\n",
       "      <td>M</td>\n",
       "      <td>204</td>\n",
       "      <td>2402002</td>\n",
       "      <td>2422002</td>\n",
       "      <td>1</td>\n",
       "    </tr>\n",
       "    <tr>\n",
       "      <th>2403002</th>\n",
       "      <td>71</td>\n",
       "      <td>24</td>\n",
       "      <td>SBS_PLI</td>\n",
       "      <td>H</td>\n",
       "      <td>204</td>\n",
       "      <td>2403002</td>\n",
       "      <td>2423002</td>\n",
       "      <td>1</td>\n",
       "    </tr>\n",
       "    <tr>\n",
       "      <th>2401003</th>\n",
       "      <td>72</td>\n",
       "      <td>24</td>\n",
       "      <td>SBS_BL</td>\n",
       "      <td>L</td>\n",
       "      <td>304</td>\n",
       "      <td>2401003</td>\n",
       "      <td>2401003</td>\n",
       "      <td>0</td>\n",
       "    </tr>\n",
       "    <tr>\n",
       "      <th>2402003</th>\n",
       "      <td>73</td>\n",
       "      <td>24</td>\n",
       "      <td>SBS_BL</td>\n",
       "      <td>M</td>\n",
       "      <td>304</td>\n",
       "      <td>2402003</td>\n",
       "      <td>2422003</td>\n",
       "      <td>1</td>\n",
       "    </tr>\n",
       "    <tr>\n",
       "      <th>2403003</th>\n",
       "      <td>74</td>\n",
       "      <td>24</td>\n",
       "      <td>SBS_BL</td>\n",
       "      <td>H</td>\n",
       "      <td>304</td>\n",
       "      <td>2403003</td>\n",
       "      <td>2423003</td>\n",
       "      <td>1</td>\n",
       "    </tr>\n",
       "    <tr>\n",
       "      <th>2401004</th>\n",
       "      <td>75</td>\n",
       "      <td>24</td>\n",
       "      <td>ESSF_SE</td>\n",
       "      <td>L</td>\n",
       "      <td>104</td>\n",
       "      <td>2401004</td>\n",
       "      <td>2401004</td>\n",
       "      <td>0</td>\n",
       "    </tr>\n",
       "    <tr>\n",
       "      <th>2402004</th>\n",
       "      <td>76</td>\n",
       "      <td>24</td>\n",
       "      <td>ESSF_SE</td>\n",
       "      <td>M</td>\n",
       "      <td>104</td>\n",
       "      <td>2402004</td>\n",
       "      <td>2422004</td>\n",
       "      <td>1</td>\n",
       "    </tr>\n",
       "    <tr>\n",
       "      <th>2403004</th>\n",
       "      <td>77</td>\n",
       "      <td>24</td>\n",
       "      <td>ESSF_SE</td>\n",
       "      <td>H</td>\n",
       "      <td>104</td>\n",
       "      <td>2403004</td>\n",
       "      <td>2423004</td>\n",
       "      <td>1</td>\n",
       "    </tr>\n",
       "    <tr>\n",
       "      <th>2401005</th>\n",
       "      <td>78</td>\n",
       "      <td>24</td>\n",
       "      <td>SBS_AT</td>\n",
       "      <td>L</td>\n",
       "      <td>1201</td>\n",
       "      <td>2401005</td>\n",
       "      <td>2401005</td>\n",
       "      <td>0</td>\n",
       "    </tr>\n",
       "    <tr>\n",
       "      <th>2402005</th>\n",
       "      <td>79</td>\n",
       "      <td>24</td>\n",
       "      <td>SBS_AT</td>\n",
       "      <td>M</td>\n",
       "      <td>1201</td>\n",
       "      <td>2402005</td>\n",
       "      <td>2402005</td>\n",
       "      <td>0</td>\n",
       "    </tr>\n",
       "    <tr>\n",
       "      <th>2403005</th>\n",
       "      <td>80</td>\n",
       "      <td>24</td>\n",
       "      <td>SBS_AT</td>\n",
       "      <td>H</td>\n",
       "      <td>1201</td>\n",
       "      <td>2403005</td>\n",
       "      <td>2403005</td>\n",
       "      <td>0</td>\n",
       "    </tr>\n",
       "    <tr>\n",
       "      <th>2401006</th>\n",
       "      <td>81</td>\n",
       "      <td>24</td>\n",
       "      <td>SBS_AT+SX</td>\n",
       "      <td>L</td>\n",
       "      <td>1201</td>\n",
       "      <td>2401006</td>\n",
       "      <td>2401006</td>\n",
       "      <td>0</td>\n",
       "    </tr>\n",
       "    <tr>\n",
       "      <th>2402006</th>\n",
       "      <td>82</td>\n",
       "      <td>24</td>\n",
       "      <td>SBS_AT+SX</td>\n",
       "      <td>M</td>\n",
       "      <td>1201</td>\n",
       "      <td>2402006</td>\n",
       "      <td>2402006</td>\n",
       "      <td>0</td>\n",
       "    </tr>\n",
       "    <tr>\n",
       "      <th>2403006</th>\n",
       "      <td>83</td>\n",
       "      <td>24</td>\n",
       "      <td>SBS_AT+SX</td>\n",
       "      <td>H</td>\n",
       "      <td>1201</td>\n",
       "      <td>2403006</td>\n",
       "      <td>2403006</td>\n",
       "      <td>0</td>\n",
       "    </tr>\n",
       "    <tr>\n",
       "      <th>2401007</th>\n",
       "      <td>84</td>\n",
       "      <td>24</td>\n",
       "      <td>SBS_SX+AT</td>\n",
       "      <td>L</td>\n",
       "      <td>100</td>\n",
       "      <td>2401007</td>\n",
       "      <td>2421007</td>\n",
       "      <td>1</td>\n",
       "    </tr>\n",
       "    <tr>\n",
       "      <th>2402007</th>\n",
       "      <td>85</td>\n",
       "      <td>24</td>\n",
       "      <td>SBS_SX+AT</td>\n",
       "      <td>M</td>\n",
       "      <td>100</td>\n",
       "      <td>2402007</td>\n",
       "      <td>2422007</td>\n",
       "      <td>1</td>\n",
       "    </tr>\n",
       "    <tr>\n",
       "      <th>2403007</th>\n",
       "      <td>86</td>\n",
       "      <td>24</td>\n",
       "      <td>SBS_SX+AT</td>\n",
       "      <td>H</td>\n",
       "      <td>100</td>\n",
       "      <td>2403007</td>\n",
       "      <td>2423007</td>\n",
       "      <td>1</td>\n",
       "    </tr>\n",
       "  </tbody>\n",
       "</table>\n",
       "</div>"
      ],
      "text/plain": [
       "         record_id  tsa stratum_code si_level  canfi_species  \\\n",
       "au_id                                                          \n",
       "2401000         63   24       SBS_SX        L            100   \n",
       "2402000         64   24       SBS_SX        M            100   \n",
       "2403000         65   24       SBS_SX        H            100   \n",
       "2401001         66   24      ESSF_BL        L            304   \n",
       "2402001         67   24      ESSF_BL        M            304   \n",
       "2403001         68   24      ESSF_BL        H            304   \n",
       "2401002         69   24      SBS_PLI        L            204   \n",
       "2402002         70   24      SBS_PLI        M            204   \n",
       "2403002         71   24      SBS_PLI        H            204   \n",
       "2401003         72   24       SBS_BL        L            304   \n",
       "2402003         73   24       SBS_BL        M            304   \n",
       "2403003         74   24       SBS_BL        H            304   \n",
       "2401004         75   24      ESSF_SE        L            104   \n",
       "2402004         76   24      ESSF_SE        M            104   \n",
       "2403004         77   24      ESSF_SE        H            104   \n",
       "2401005         78   24       SBS_AT        L           1201   \n",
       "2402005         79   24       SBS_AT        M           1201   \n",
       "2403005         80   24       SBS_AT        H           1201   \n",
       "2401006         81   24    SBS_AT+SX        L           1201   \n",
       "2402006         82   24    SBS_AT+SX        M           1201   \n",
       "2403006         83   24    SBS_AT+SX        H           1201   \n",
       "2401007         84   24    SBS_SX+AT        L            100   \n",
       "2402007         85   24    SBS_SX+AT        M            100   \n",
       "2403007         86   24    SBS_SX+AT        H            100   \n",
       "\n",
       "         unmanaged_curve_id  managed_curve_id  thlb  \n",
       "au_id                                                \n",
       "2401000             2401000           2401000     0  \n",
       "2402000             2402000           2422000     1  \n",
       "2403000             2403000           2423000     1  \n",
       "2401001             2401001           2401001     0  \n",
       "2402001             2402001           2402001     0  \n",
       "2403001             2403001           2423001     1  \n",
       "2401002             2401002           2421002     1  \n",
       "2402002             2402002           2422002     1  \n",
       "2403002             2403002           2423002     1  \n",
       "2401003             2401003           2401003     0  \n",
       "2402003             2402003           2422003     1  \n",
       "2403003             2403003           2423003     1  \n",
       "2401004             2401004           2401004     0  \n",
       "2402004             2402004           2422004     1  \n",
       "2403004             2403004           2423004     1  \n",
       "2401005             2401005           2401005     0  \n",
       "2402005             2402005           2402005     0  \n",
       "2403005             2403005           2403005     0  \n",
       "2401006             2401006           2401006     0  \n",
       "2402006             2402006           2402006     0  \n",
       "2403006             2403006           2403006     0  \n",
       "2401007             2401007           2421007     1  \n",
       "2402007             2402007           2422007     1  \n",
       "2403007             2403007           2423007     1  "
      ]
     },
     "execution_count": 10,
     "metadata": {},
     "output_type": "execute_result"
    }
   ],
   "source": [
    "au_table"
   ]
  },
  {
   "cell_type": "markdown",
   "id": "17e2e9ac-b514-48d7-92e0-efa976cf056d",
   "metadata": {},
   "source": [
    "Need to rebuild the Timber Harvesting Land Base (THLB) attribute (i.e., `theme1`) in the stand inventory table. Current implementation is inconsistent with yield VDYP/TIPSY yield curve (and AU definition) modelling assumptions. \n",
    "\n",
    "In a nutshell, AUs either have only a VDYP yield curve or both VDYP and TISPY yield curves (if considered potentially operable). We need to set the THLB attribute to 0 for stands in AUs with have only a VDYP curve (i.e., where `au_table.unmanaged_curve_id == au_table.managed_curve_id`), and 1 otherwise. \n",
    "\n",
    "Otherwise, we would get weird cases where we can harvest a stand but there is not TIPSY curve defined for second-growth stand conditions."
   ]
  },
  {
   "cell_type": "code",
   "execution_count": 11,
   "id": "dbf4b93f-5060-429d-86aa-856bc3f23642",
   "metadata": {
    "tags": []
   },
   "outputs": [],
   "source": [
    "stands.theme1 = stands.apply(lambda row: au_table.loc[row.theme2].thlb, axis=1)"
   ]
  },
  {
   "cell_type": "markdown",
   "id": "b5f99801-86ff-48d7-9a29-599ea60913dc",
   "metadata": {},
   "source": [
    "Copy `curve1` to `theme4` so we can track yield curve transitions independently from AU."
   ]
  },
  {
   "cell_type": "code",
   "execution_count": 12,
   "id": "02fde4ca-fe5c-424a-bfe7-efdba260df61",
   "metadata": {
    "tags": []
   },
   "outputs": [],
   "source": [
    "stands['theme4'] = stands.curve1"
   ]
  },
  {
   "cell_type": "markdown",
   "id": "9bc02b7b-48d8-4ca8-8523-59dfd79a508c",
   "metadata": {},
   "source": [
    "Set up themes."
   ]
  },
  {
   "cell_type": "code",
   "execution_count": 13,
   "id": "40ab8116-4629-4363-ad32-18b6c1ecdd45",
   "metadata": {
    "tags": []
   },
   "outputs": [],
   "source": [
    "theme_cols=['theme0', # TSA \n",
    "            'theme1', # THLB\n",
    "            'theme2', # AU\n",
    "            'theme3', # leading species code\n",
    "            'theme4'] # yield curve ID\n",
    "basecodes = [list(map(lambda x: str(x), stands[tc].unique())) for tc in theme_cols]"
   ]
  },
  {
   "cell_type": "code",
   "execution_count": 14,
   "id": "ecd94456-5e7e-4459-a6c5-17adbdbf95b3",
   "metadata": {
    "tags": []
   },
   "outputs": [],
   "source": [
    "# also scrape au_table for AU and curve ID values that are not in inventory but might pop up later (hack?)\n",
    "basecodes[2] = list(set(basecodes[2] + list(au_table.index.astype(str))))\n",
    "basecodes[3] = list(set(basecodes[3] + list(au_table.canfi_species.astype(str))))\n",
    "basecodes[4] = list(set(basecodes[4] + list(au_table.unmanaged_curve_id.astype(str)) + list(au_table.managed_curve_id.astype(str))))               "
   ]
  },
  {
   "cell_type": "code",
   "execution_count": 15,
   "id": "d288b57d-18ec-4536-a09c-e609027d3c9a",
   "metadata": {
    "tags": []
   },
   "outputs": [
    {
     "data": {
      "text/plain": [
       "[['tsa24_clipped'],\n",
       " ['1', '0'],\n",
       " ['2403007',\n",
       "  '2401003',\n",
       "  '2401006',\n",
       "  '2403000',\n",
       "  '2401007',\n",
       "  '2402003',\n",
       "  '2403002',\n",
       "  '2402004',\n",
       "  '2401005',\n",
       "  '2402006',\n",
       "  '2401002',\n",
       "  '2403003',\n",
       "  '2401001',\n",
       "  '2403006',\n",
       "  '2402005',\n",
       "  '2403001',\n",
       "  '2402001',\n",
       "  '2403004',\n",
       "  '2401000',\n",
       "  '2402000',\n",
       "  '2402007',\n",
       "  '2403005',\n",
       "  '2401004',\n",
       "  '2402002'],\n",
       " ['104', '1201', '204', '100', '304'],\n",
       " ['2403007',\n",
       "  '2401003',\n",
       "  '2422000',\n",
       "  '2401006',\n",
       "  '2403000',\n",
       "  '2401007',\n",
       "  '2402003',\n",
       "  '2403002',\n",
       "  '2402004',\n",
       "  '2422004',\n",
       "  '2401005',\n",
       "  '2402006',\n",
       "  '2401002',\n",
       "  '2403003',\n",
       "  '2401001',\n",
       "  '2423007',\n",
       "  '2403006',\n",
       "  '2423000',\n",
       "  '2423002',\n",
       "  '2421007',\n",
       "  '2402005',\n",
       "  '2403001',\n",
       "  '2402001',\n",
       "  '2423001',\n",
       "  '2403004',\n",
       "  '2401000',\n",
       "  '2422007',\n",
       "  '2402000',\n",
       "  '2402007',\n",
       "  '2422003',\n",
       "  '2421002',\n",
       "  '2423004',\n",
       "  '2403005',\n",
       "  '2423003',\n",
       "  '2401004',\n",
       "  '2402002',\n",
       "  '2422002']]"
      ]
     },
     "execution_count": 15,
     "metadata": {},
     "output_type": "execute_result"
    }
   ],
   "source": [
    "basecodes"
   ]
  },
  {
   "cell_type": "markdown",
   "id": "d3e8b152-771b-44b9-a05f-5e4cddc0d788",
   "metadata": {},
   "source": [
    "Create a new blank `ForestModel` instance."
   ]
  },
  {
   "cell_type": "code",
   "execution_count": 16,
   "id": "6f59fa17-7364-463f-b03b-19ec903249f3",
   "metadata": {
    "tags": []
   },
   "outputs": [],
   "source": [
    "fm = ws3.forest.ForestModel(model_name='tsa24_clipped',\n",
    "                            model_path='data',\n",
    "                            base_year=base_year,\n",
    "                            horizon=horizon,\n",
    "                            period_length=period_length,\n",
    "                            max_age=max_age)"
   ]
  },
  {
   "cell_type": "markdown",
   "id": "0d97a6be-21ee-4920-984f-1b4b99a481d0",
   "metadata": {},
   "source": [
    "Now populate `fm` with data."
   ]
  },
  {
   "cell_type": "markdown",
   "id": "3288ccb0-e93a-4bde-b81f-c2022f26aa85",
   "metadata": {},
   "source": [
    "Set up themes."
   ]
  },
  {
   "cell_type": "code",
   "execution_count": 17,
   "id": "d3cf3d0c-086e-4c52-925d-e4566fead756",
   "metadata": {
    "tags": []
   },
   "outputs": [],
   "source": [
    "for ti, t in enumerate(theme_cols):\n",
    "    fm.add_theme(t, basecodes[ti])"
   ]
  },
  {
   "cell_type": "markdown",
   "id": "929d9ce2-9535-4edd-b199-66c0422dbd3e",
   "metadata": {},
   "source": [
    "Load areas from inventory data."
   ]
  },
  {
   "cell_type": "code",
   "execution_count": 18,
   "id": "2d93ec79-1a15-4e36-85b7-1e9ff7925645",
   "metadata": {
    "tags": []
   },
   "outputs": [],
   "source": [
    "gstands = stands.groupby(theme_cols+['age'])"
   ]
  },
  {
   "cell_type": "code",
   "execution_count": 19,
   "id": "6a275407-81e9-4c5c-8ab3-147189c1cb20",
   "metadata": {
    "tags": []
   },
   "outputs": [],
   "source": [
    "for name, group in gstands:\n",
    "    dtk, age, area = tuple(map(lambda x: str(x), name[:-1])), int(name[-1]), group['area'].sum()\n",
    "    if dtk not in fm.dtypes:\n",
    "        fm.dtypes[dtk] = ws3.forest.DevelopmentType(dtk, fm)\n",
    "    fm.dtypes[dtk].area(0, age, area)"
   ]
  },
  {
   "cell_type": "markdown",
   "id": "6ecf1dc0-d16a-434a-8bac-ececccf7240a",
   "metadata": {},
   "source": [
    "Inspect `dtypes` attribute of `ForestModel` instance."
   ]
  },
  {
   "cell_type": "markdown",
   "id": "cc2be72d-7867-4a04-b5d8-283cbef09591",
   "metadata": {},
   "source": [
    "Directly inject yield curve data into the `fm` instance. \n",
    "\n",
    "This a bit obscure, and the exact process will differ from case to case depending on input data structure and desired model structure. This is _not_ the one and only way to do this."
   ]
  },
  {
   "cell_type": "code",
   "execution_count": 20,
   "id": "8cb25039-344f-47d7-a1be-d1b8dec7fb51",
   "metadata": {
    "tags": []
   },
   "outputs": [],
   "source": [
    "for au_id, au_row in au_table.iterrows():\n",
    "    yname = 's%04d' % int(au_row.canfi_species)\n",
    "    for is_managed in (0, 1):\n",
    "        curve_id = au_row.unmanaged_curve_id if not is_managed else au_row.managed_curve_id\n",
    "        mask = ('?', '?', str(au_id), '?', str(curve_id))\n",
    "        points = [(r.x, r.y) for _, r in curve_points_table.loc[curve_id].iterrows() if not r.x % period_length and r.x <= max_age]\n",
    "        c = fm.register_curve(ws3.core.Curve(yname, points=points, type='a', is_volume=True, xmax=fm.max_age, period_length=period_length))\n",
    "        fm.yields.append((mask, 'a', [(yname, c)])) # only if not already present?\n",
    "        fm.ynames.add(yname) \n",
    "        for dtk in fm.unmask(mask): \n",
    "            fm.dtypes[dtk].add_ycomp('a', yname, c)"
   ]
  },
  {
   "cell_type": "markdown",
   "id": "af6179b1-b97f-4917-a29c-99c06032a622",
   "metadata": {},
   "source": [
    "Add total volume curves."
   ]
  },
  {
   "cell_type": "code",
   "execution_count": 21,
   "id": "1c869a2a-e2c5-48f4-8a78-ad76271e9292",
   "metadata": {
    "tags": []
   },
   "outputs": [],
   "source": [
    "expr = '_SUM(%s)' % ', '.join(fm.ynames)\n",
    "fm.yields.append((('?', '?', '?', '?', '?'), 'c', [(tvy_name, expr)]))\n",
    "fm.ynames.add(tvy_name)\n",
    "for dtk in fm.dtypes.keys(): fm.dtypes[dtk].add_ycomp('c', tvy_name, expr)  "
   ]
  },
  {
   "cell_type": "markdown",
   "id": "d1d0516f-657e-4072-bb31-d1892dbd6b06",
   "metadata": {},
   "source": [
    "Set up actions. This part is a bit ugly, because `ws3` was originally designed to import Woodstock code (not to directly code models like this). As with yield curves, there is more than one way to implement this, and the details will depend on your input data format and exactly what model you are trying to build.\n",
    "\n",
    "All of this gets automatically set up correctly if you use the built-in functions to import Woostock-style input files, but is your responsibility if you bypass and direct-code your model.\n",
    "\n",
    "There is a lot going on here. \n",
    "\n",
    "Generic transitions are configured at the `ForestModel` level. These are basically equivalent (conceptually, and functionally) to transitions defined in a Woodstock model. The source masks allow `ws3` to match the key of a new development type (whose runtime instantiation is triggered by application of an action) to one or more appropriate transitions, which then get compiled into the new development type. Etc. Makes more sense if you understand how Woodstock models work. Need to provide more information about this in the `ws3` documentation."
   ]
  },
  {
   "cell_type": "code",
   "execution_count": 22,
   "id": "2aa340e3-7a6a-431b-8d99-0349868af803",
   "metadata": {
    "tags": []
   },
   "outputs": [],
   "source": [
    "acode = 'harvest'\n",
    "oe = '_age >= 80 and _age <= 500' # operability expression\n",
    "fm.transitions[acode] = {}\n",
    "for au_id, au_row in au_table.iterrows():\n",
    "    if not au_row.thlb: continue\n",
    "    target_curve_id = au_row.managed_curve_id\n",
    "    smask = ('?', '?', str(au_id), '?', '?')\n",
    "    tmask = ('?', '?', '?', '?', str(target_curve_id))\n",
    "    target = [(tmask, 1.0, None, None, None, None, None)] # list of one (single target... not modelling \"divergent\" transitions)\n",
    "    fm.actions[acode] = ws3.forest.Action(acode, targetage=0, is_harvest=True)\n",
    "    fm.oper_expr[acode] = {smask:oe}        \n",
    "    fm.transitions[acode].update({smask:{'':target}}) # the '' is a blank source condition expression\n",
    "    for dtk in fm.unmask(smask):\n",
    "        dt = fm.dtypes[dtk]\n",
    "        dt.oper_expr[acode] = [oe]\n",
    "        for age in range(1, fm.max_age):\n",
    "            if not dt.is_operable(acode, 1, age): continue\n",
    "            #if dtk == ('tsa24_clipped', '1', '2402000', '100', '2402000'):\n",
    "            #    print('setting transition for', dtk, age, 'to', target)\n",
    "            fm.dtypes[dtk].transitions[acode, age] = target"
   ]
  },
  {
   "cell_type": "code",
   "execution_count": 23,
   "id": "ad390446-db3d-4a47-a5bc-0cdb57b4a20f",
   "metadata": {},
   "outputs": [],
   "source": [
    "fm.compile_actions()"
   ]
  },
  {
   "cell_type": "markdown",
   "id": "ed414a3a-e46b-4202-9820-954a797c805c",
   "metadata": {},
   "source": [
    "## Poke around `ForestModel` instance data structures to see what we just did"
   ]
  },
  {
   "cell_type": "markdown",
   "id": "1340875e-11a8-4062-8931-cfa56457ce66",
   "metadata": {},
   "source": [
    "We can poke around the model data structures a bit to see the data we injected above."
   ]
  },
  {
   "cell_type": "markdown",
   "id": "80e315a7-a72e-4e39-8f0d-ae9a03bb3a06",
   "metadata": {},
   "source": [
    "Print list of yield component names we are using in this model. In our case, the `sXXX` curves are species-specific yield curves where `XXX` is a [CANFI](https://nfi.nfis.org/en/history) tree species code."
   ]
  },
  {
   "cell_type": "code",
   "execution_count": 24,
   "id": "1088edeb-e74e-4901-a144-50c55b5e0405",
   "metadata": {
    "tags": []
   },
   "outputs": [
    {
     "data": {
      "text/plain": [
       "{'s0100', 's0104', 's0204', 's0304', 's1201', 'totvol'}"
      ]
     },
     "execution_count": 24,
     "metadata": {},
     "output_type": "execute_result"
    }
   ],
   "source": [
    "fm.ynames"
   ]
  },
  {
   "cell_type": "markdown",
   "id": "5e030331-ff65-4329-8959-a95555c03ade",
   "metadata": {},
   "source": [
    "List yield components present in our example `DevelopmentType` instance from earlier."
   ]
  },
  {
   "cell_type": "code",
   "execution_count": 25,
   "id": "ecd7bd8b-821a-4876-a4e8-424bae980125",
   "metadata": {
    "tags": []
   },
   "outputs": [
    {
     "data": {
      "text/plain": [
       "['s0204', 'totvol']"
      ]
     },
     "execution_count": 25,
     "metadata": {},
     "output_type": "execute_result"
    }
   ],
   "source": [
    "dt.ycomps()"
   ]
  },
  {
   "cell_type": "markdown",
   "id": "df5e8932-8d93-4580-b5fb-844a01129935",
   "metadata": {},
   "source": [
    "Get a reference to the total yield curve.\n",
    "\n",
    "The `ws3.core.Curve` class can do all sorts of neat things with yield curve (e.g., curves can resample themselves, interpolate between data points, extrapolate beyond data points, be operated on using standard Python arithmetic operators, CAI, MAI, YTP, etc.). See source code for details. "
   ]
  },
  {
   "cell_type": "code",
   "execution_count": 26,
   "id": "1b4be027-d64a-4e89-b9d3-b16808e6d1ad",
   "metadata": {
    "tags": []
   },
   "outputs": [],
   "source": [
    "c = dt.ycomp('totvol')"
   ]
  },
  {
   "cell_type": "code",
   "execution_count": 27,
   "id": "a705e982-159f-4499-aeeb-c948cc98db4f",
   "metadata": {
    "tags": []
   },
   "outputs": [
    {
     "data": {
      "text/plain": [
       "[(0, 0.0),\n",
       " (30, 0.2),\n",
       " (40, 24.4),\n",
       " (50, 98.20000000000002),\n",
       " (60, 184.10000000000002),\n",
       " (70, 257.4),\n",
       " (80, 312.6),\n",
       " (90, 353.8),\n",
       " (100, 380.3),\n",
       " (110, 400.5),\n",
       " (120, 413.0),\n",
       " (130, 422.1),\n",
       " (140, 428.7),\n",
       " (150, 433.3),\n",
       " (160, 435.0),\n",
       " (180, 437.4),\n",
       " (190, 436.8),\n",
       " (200, 434.7),\n",
       " (210, 433.0),\n",
       " (230, 430.5),\n",
       " (250, 428.9),\n",
       " (1000, 426.9)]"
      ]
     },
     "execution_count": 27,
     "metadata": {},
     "output_type": "execute_result"
    }
   ],
   "source": [
    "c.points()"
   ]
  },
  {
   "cell_type": "markdown",
   "id": "bdb04f08-7f28-47e0-a05a-eebdf256bc7b",
   "metadata": {
    "tags": []
   },
   "source": [
    "Plot total volume, CAI, MAI, MAI YTP, etc. Optimal rotation age in red.\n",
    "\n",
    "Note that all the stuff a forester would expect to see happening with these yield curves is seems to be happening:\n",
    "* A tangent to the volume curve passing through the origin touches the yield curve at the optimal rotation age.\n",
    "* The CAI curve is blocky because curve points are sparse (curves have been automatically resampled to 10-year intervals by default, so the yield curve is actually a piecewise linear assemblage).\n",
    "* The MAI curve intersects the CAI curve at the optimal rotation age.\n",
    "\n",
    "This is not meant to be an exhaustive demonstration of `ws3` curve manipulation and usage. Go have a look at the source code to see what else you can do. The `Curve` class implementation is intended to help avoid needing to so low-level math and logic on curve datasets for most typical model-building use cases."
   ]
  },
  {
   "cell_type": "code",
   "execution_count": 28,
   "id": "855b6693-e96c-43d0-a815-6ba222c6b0bf",
   "metadata": {
    "tags": []
   },
   "outputs": [
    {
     "data": {
      "text/plain": [
       "(0.0, 300.0)"
      ]
     },
     "execution_count": 28,
     "metadata": {},
     "output_type": "execute_result"
    },
    {
     "data": {
      "image/png": "[encoded data removed]",
      "text/plain": [
       "<Figure size 800x1200 with 3 Axes>"
      ]
     },
     "metadata": {},
     "output_type": "display_data"
    }
   ],
   "source": [
    "fig, ax = plt.subplots(3, 1, figsize=(8, 12), sharex=True)\n",
    "\n",
    "cvol = c\n",
    "ccai = c.cai()\n",
    "cmai = c.mai()\n",
    "cmaiytp = c.mai().ytp()\n",
    "x_cmai = cmaiytp.lookup(0) # optimal rotation age (i.e., culmination of MAI curve)\n",
    "labels = 'total volume', 'MAI (and CAI)', 'MAI YTP'\n",
    "\n",
    "ax[0].plot(*zip(*c.points()))\n",
    "ax[0].plot([0, x_cmai], [0., cvol[x_cmai]], linestyle='--', color='green')\n",
    "\n",
    "ax[1].plot(*zip(*c.mai().points()))\n",
    "ax[1].plot(*zip(*c.cai().points()), linestyle=':')\n",
    "\n",
    "ax[2].plot(*zip(*c.mai().ytp().points()))\n",
    "ax[2].axhline(0, color='black')\n",
    "\n",
    "for i in range(len(ax)):\n",
    "    ax[i].set_ylabel(labels[i])\n",
    "    ax[i].set_ylim(0, None)\n",
    "    ax[i].axvline(x_cmai, color='red')\n",
    "plt.xlim(0, 300)"
   ]
  },
  {
   "cell_type": "markdown",
   "id": "89395e58-3954-440a-adb1-e14765d120f6",
   "metadata": {},
   "source": [
    "Note that when setting up a new `ForestModel` instance, you have to stash a copy of _all_ the yield curves you need, _including the curves for development types that are not present in the intial inventory_ (`ws3` grabs a copy of these when JIt-building new `DevelopmentType` objects on the fly, only if induced by applying an action to an development type and the specified transition induces a new development type). \n",
    "\n",
    "All of this gets automatically set up correctly if you use the built-in functions to import Woostock-style input files, but is your responsibility if you bypass and direct-code your model."
   ]
  },
  {
   "cell_type": "code",
   "execution_count": 29,
   "id": "c2323544-b370-436c-8006-b390762accab",
   "metadata": {
    "tags": []
   },
   "outputs": [
    {
     "data": {
      "text/plain": [
       "(49,\n",
       " (('?', '?', '2401000', '?', '2401000'),\n",
       "  'a',\n",
       "  [('s0100', <ws3.core.Curve at 0x7fa7d0ef3ac0>)]))"
      ]
     },
     "execution_count": 29,
     "metadata": {},
     "output_type": "execute_result"
    }
   ],
   "source": [
    "len(fm.yields), fm.yields[0]"
   ]
  },
  {
   "cell_type": "markdown",
   "id": "b3094bd2-4a46-486f-99e9-67ff0b01e392",
   "metadata": {},
   "source": [
    "Have a look at the actions in the model."
   ]
  },
  {
   "cell_type": "code",
   "execution_count": 30,
   "id": "71b9999c-49a4-47c2-a069-f649ae4c17f0",
   "metadata": {
    "tags": []
   },
   "outputs": [
    {
     "data": {
      "text/plain": [
       "{'harvest': <ws3.forest.Action at 0x7fa7d0c4a980>}"
      ]
     },
     "execution_count": 30,
     "metadata": {},
     "output_type": "execute_result"
    }
   ],
   "source": [
    "fm.actions"
   ]
  },
  {
   "cell_type": "code",
   "execution_count": 31,
   "id": "3a683e85-c28e-4fea-a0af-59b064cfc349",
   "metadata": {
    "tags": []
   },
   "outputs": [
    {
     "data": {
      "text/plain": [
       "[(('?', '?', '2402000', '?', '?'),\n",
       "  {'': [(('?', '?', '?', '?', '2422000'),\n",
       "     1.0,\n",
       "     None,\n",
       "     None,\n",
       "     None,\n",
       "     None,\n",
       "     None)]}),\n",
       " (('?', '?', '2403000', '?', '?'),\n",
       "  {'': [(('?', '?', '?', '?', '2423000'),\n",
       "     1.0,\n",
       "     None,\n",
       "     None,\n",
       "     None,\n",
       "     None,\n",
       "     None)]}),\n",
       " (('?', '?', '2403001', '?', '?'),\n",
       "  {'': [(('?', '?', '?', '?', '2423001'),\n",
       "     1.0,\n",
       "     None,\n",
       "     None,\n",
       "     None,\n",
       "     None,\n",
       "     None)]})]"
      ]
     },
     "execution_count": 31,
     "metadata": {},
     "output_type": "execute_result"
    }
   ],
   "source": [
    "list(fm.transitions['harvest'].items())[:3]"
   ]
  },
  {
   "cell_type": "code",
   "execution_count": 32,
   "id": "b3c9391f-cf41-45cc-b0ee-cd2f66dc3d3f",
   "metadata": {
    "tags": []
   },
   "outputs": [
    {
     "data": {
      "text/plain": [
       "defaultdict(list, {'harvest': ['_age >= 80 and _age <= 500']})"
      ]
     },
     "execution_count": 32,
     "metadata": {},
     "output_type": "execute_result"
    }
   ],
   "source": [
    "dt.oper_expr"
   ]
  },
  {
   "cell_type": "code",
   "execution_count": 33,
   "id": "fde6fb84-65ca-4133-bb5d-a994e07339e9",
   "metadata": {
    "tags": []
   },
   "outputs": [
    {
     "data": {
      "text/plain": [
       "{'harvest': {1: (80, 500),\n",
       "  2: (80, 500),\n",
       "  3: (80, 500),\n",
       "  4: (80, 500),\n",
       "  5: (80, 500),\n",
       "  6: (80, 500),\n",
       "  7: (80, 500),\n",
       "  8: (80, 500),\n",
       "  9: (80, 500),\n",
       "  10: (80, 500)}}"
      ]
     },
     "execution_count": 33,
     "metadata": {},
     "output_type": "execute_result"
    }
   ],
   "source": [
    "dt.operability"
   ]
  },
  {
   "cell_type": "code",
   "execution_count": 34,
   "id": "bb6e7ce8-7e80-4a05-9d9c-7583256682f6",
   "metadata": {
    "tags": []
   },
   "outputs": [
    {
     "data": {
      "text/plain": [
       "[(('harvest', 80),\n",
       "  [(('?', '?', '?', '?', '2423002'), 1.0, None, None, None, None, None)]),\n",
       " (('harvest', 81),\n",
       "  [(('?', '?', '?', '?', '2423002'), 1.0, None, None, None, None, None)]),\n",
       " (('harvest', 82),\n",
       "  [(('?', '?', '?', '?', '2423002'), 1.0, None, None, None, None, None)])]"
      ]
     },
     "execution_count": 34,
     "metadata": {},
     "output_type": "execute_result"
    }
   ],
   "source": [
    "list(dt.transitions.items())[:3]"
   ]
  },
  {
   "cell_type": "code",
   "execution_count": 35,
   "id": "2a93cae4-96c5-4034-aec6-b1c8ba97fc43",
   "metadata": {
    "tags": []
   },
   "outputs": [
    {
     "data": {
      "text/plain": [
       "[(('harvest', 498),\n",
       "  [(('?', '?', '?', '?', '2423002'), 1.0, None, None, None, None, None)]),\n",
       " (('harvest', 499),\n",
       "  [(('?', '?', '?', '?', '2423002'), 1.0, None, None, None, None, None)]),\n",
       " (('harvest', 500),\n",
       "  [(('?', '?', '?', '?', '2423002'), 1.0, None, None, None, None, None)])]"
      ]
     },
     "execution_count": 35,
     "metadata": {},
     "output_type": "execute_result"
    }
   ],
   "source": [
    "list(dt.transitions.items())[-3:]"
   ]
  },
  {
   "cell_type": "code",
   "execution_count": 36,
   "id": "7f5b4801-63f7-4a73-b494-d3d2b3f999b4",
   "metadata": {
    "tags": []
   },
   "outputs": [
    {
     "data": {
      "text/plain": [
       "{('tsa24_clipped',\n",
       "  '0',\n",
       "  '2401000',\n",
       "  '100',\n",
       "  '2401000'): <ws3.forest.DevelopmentType at 0x7fa7d0b6a7d0>,\n",
       " ('tsa24_clipped',\n",
       "  '0',\n",
       "  '2402005',\n",
       "  '1201',\n",
       "  '2402005'): <ws3.forest.DevelopmentType at 0x7fa7d0b6bbb0>,\n",
       " ('tsa24_clipped',\n",
       "  '1',\n",
       "  '2401002',\n",
       "  '204',\n",
       "  '2401002'): <ws3.forest.DevelopmentType at 0x7fa7d0b6b8b0>,\n",
       " ('tsa24_clipped',\n",
       "  '1',\n",
       "  '2401002',\n",
       "  '204',\n",
       "  '2421002'): <ws3.forest.DevelopmentType at 0x7fa7d0b6bc10>,\n",
       " ('tsa24_clipped',\n",
       "  '1',\n",
       "  '2402000',\n",
       "  '100',\n",
       "  '2402000'): <ws3.forest.DevelopmentType at 0x7fa7d0b6ba60>,\n",
       " ('tsa24_clipped',\n",
       "  '1',\n",
       "  '2402002',\n",
       "  '204',\n",
       "  '2402002'): <ws3.forest.DevelopmentType at 0x7fa7d0b6bfd0>,\n",
       " ('tsa24_clipped',\n",
       "  '1',\n",
       "  '2403000',\n",
       "  '100',\n",
       "  '2403000'): <ws3.forest.DevelopmentType at 0x7fa7d0b6ace0>,\n",
       " ('tsa24_clipped',\n",
       "  '1',\n",
       "  '2403002',\n",
       "  '204',\n",
       "  '2403002'): <ws3.forest.DevelopmentType at 0x7fa7d0b6b4c0>,\n",
       " ('tsa24_clipped',\n",
       "  '1',\n",
       "  '2403002',\n",
       "  '204',\n",
       "  '2423002'): <ws3.forest.DevelopmentType at 0x7fa7d0b68220>}"
      ]
     },
     "execution_count": 36,
     "metadata": {},
     "output_type": "execute_result"
    }
   ],
   "source": [
    "fm.dtypes"
   ]
  },
  {
   "cell_type": "markdown",
   "id": "c476cdb8-9967-456f-b43b-4ec320bdcd49",
   "metadata": {},
   "source": [
    "Get a reference to one of the managed (i.e., THLB) `DevelopmentType` instances we now have in `fm` (specifically, the `DevelopmentType` with key `('tsa24_clipped', '1', '2403002', '204', '2423002')`. We do this by _unmasking_ the `DevelopmentType` list using a mask string in Woodstock format, where the `?` represents a wildcard. Refer to the `ws3` documentation for a more in-depth explanation of theme and masks and development types and such (this documentation is a WIP so this may not be clearly documented yet). "
   ]
  },
  {
   "cell_type": "code",
   "execution_count": 37,
   "id": "5b60b1cb-f7c5-4410-9eba-0c5cfb66d51b",
   "metadata": {
    "tags": []
   },
   "outputs": [
    {
     "data": {
      "text/plain": [
       "('tsa24_clipped', '1', '2403002', '204', '2423002')"
      ]
     },
     "execution_count": 37,
     "metadata": {},
     "output_type": "execute_result"
    }
   ],
   "source": [
    "dtk = fm.unmask('? 1 ? ? ?').pop()\n",
    "dtk"
   ]
  },
  {
   "cell_type": "code",
   "execution_count": 38,
   "id": "90aee76f-10a4-4449-82b5-a84d394b317a",
   "metadata": {
    "tags": []
   },
   "outputs": [
    {
     "data": {
      "text/plain": [
       "('tsa24_clipped', '1', '2403002', '204', '2423002')"
      ]
     },
     "execution_count": 38,
     "metadata": {},
     "output_type": "execute_result"
    }
   ],
   "source": [
    "dt = fm.dtypes[dtk]\n",
    "dt.key"
   ]
  },
  {
   "cell_type": "markdown",
   "id": "3bca2dc2-70d9-4776-892f-89cb98522c78",
   "metadata": {},
   "source": [
    "Inspect the `_areas` private attribute of the `DevelopmentType` instance we grabbed. This data structure stores the _inventory_ for the parent `DevelopmentType` (i.e., area by period and ageclass). \n",
    "\n",
    "At this point in the modelling process, we have only defined the _initial inventory_ in period 0. The other periods get populated later when we initialize the period-1 inventory and simulated growth and actions (which we have not done yet)."
   ]
  },
  {
   "cell_type": "code",
   "execution_count": 39,
   "id": "dbd47c7d-0a3f-408c-8531-c1ad02b4340a",
   "metadata": {
    "tags": []
   },
   "outputs": [
    {
     "data": {
      "text/plain": [
       "{0: defaultdict(float, {9: 59.81429119367274, 18: 32.366198551219505}),\n",
       " 1: defaultdict(float, {}),\n",
       " 2: defaultdict(float, {}),\n",
       " 3: defaultdict(float, {}),\n",
       " 4: defaultdict(float, {}),\n",
       " 5: defaultdict(float, {}),\n",
       " 6: defaultdict(float, {}),\n",
       " 7: defaultdict(float, {}),\n",
       " 8: defaultdict(float, {}),\n",
       " 9: defaultdict(float, {}),\n",
       " 10: defaultdict(float, {})}"
      ]
     },
     "execution_count": 39,
     "metadata": {},
     "output_type": "execute_result"
    }
   ],
   "source": [
    "dt._areas"
   ]
  },
  {
   "cell_type": "markdown",
   "id": "67b0959e-e106-44e8-a12b-713d2b6ef599",
   "metadata": {},
   "source": [
    "You can see that initial inventory for this `DevelopementType` contains 59.8 hectares in ageclass 9 and 32.4 hectares in ageclass 18). \n",
    "\n",
    "Below, we should how you can access this same information using the public interfaces built into the `DevelopmentType` and `ForestModel` classes."
   ]
  },
  {
   "cell_type": "code",
   "execution_count": 40,
   "id": "71ebdf5a-9d8e-404b-8810-89c91f2226cc",
   "metadata": {
    "tags": []
   },
   "outputs": [
    {
     "data": {
      "text/plain": [
       "92.18048974489224"
      ]
     },
     "execution_count": 40,
     "metadata": {},
     "output_type": "execute_result"
    }
   ],
   "source": [
    "dt.area(period=0) # total inventory area in period 0"
   ]
  },
  {
   "cell_type": "code",
   "execution_count": 41,
   "id": "d78c3229-626c-4416-a395-e806c5daa381",
   "metadata": {
    "tags": []
   },
   "outputs": [
    {
     "data": {
      "text/plain": [
       "{9: 59.81429119367274, 18: 32.366198551219505}"
      ]
     },
     "execution_count": 41,
     "metadata": {},
     "output_type": "execute_result"
    }
   ],
   "source": [
    "acd = fm.age_class_distribution(0, mask=dt.key, omit_null=True)\n",
    "acd"
   ]
  },
  {
   "cell_type": "code",
   "execution_count": 42,
   "id": "b3388762-813c-4af8-96f2-dc67e8d6ffd3",
   "metadata": {
    "tags": []
   },
   "outputs": [
    {
     "name": "stdout",
     "output_type": "stream",
     "text": [
      "9 59.81429119367274\n",
      "18 32.366198551219505\n"
     ]
    }
   ],
   "source": [
    "for age in acd:\n",
    "    print(age, dt.area(period=0, age=age)) # ageclass 9 inventory area in period 0"
   ]
  },
  {
   "cell_type": "markdown",
   "id": "0ce5cd85-f309-415b-849f-f4fd5691fb63",
   "metadata": {
    "tags": []
   },
   "source": [
    "## Implement a priority queue harvest scheduling heuristic\n",
    "\n",
    "Below we define a function that implements a old-stand-first priority queue harvest scheduling heuristic. To make this demo as n00b friends as possible, we set this up to be self-parametrising, i.e., the model automatically figures out an appropriate \"periodic harvest area target\" parameter value, by analysing the shape of its own yield curves to estimate a landscape-level optimal rotation age."
   ]
  },
  {
   "cell_type": "code",
   "execution_count": 43,
   "id": "15b44ea1-55fa-4c68-a907-a2ca82c5c742",
   "metadata": {
    "tags": []
   },
   "outputs": [],
   "source": [
    "def schedule_harvest_areacontrol(fm, period=None, acode='harvest', util=0.85, \n",
    "                                 target_masks=None, target_areas=None,\n",
    "                                 target_scalefactors=None,\n",
    "                                 mask_area_thresh=0.,\n",
    "                                 verbose=0):\n",
    "    if not target_areas:\n",
    "        if not target_masks: # default to AU-wise THLB \n",
    "            au_vals = []\n",
    "            au_agg = []\n",
    "            for au in fm.theme_basecodes(2):\n",
    "                mask = '? 1 %s ? ?' % au\n",
    "                masked_area = fm.inventory(0, mask=mask)\n",
    "                if masked_area > mask_area_thresh:\n",
    "                    au_vals.append(au)\n",
    "                else:\n",
    "                    au_agg.append(au)\n",
    "                    if verbose > 0:\n",
    "                        print('adding to au_agg', mask, masked_area)\n",
    "            if au_agg:\n",
    "                fm._themes[2]['areacontrol_au_agg'] = au_agg \n",
    "                if fm.inventory(0, mask='? ? areacontrol_au_agg ? ?') > mask_area_thresh:\n",
    "                    au_vals.append('areacontrol_au_agg')\n",
    "            target_masks = ['? 1 %s ? ?' % au for au in au_vals]\n",
    "        target_areas = []\n",
    "        for i, mask in enumerate(target_masks): # compute area-weighted mean CMAI age for each masked DT set\n",
    "            masked_area = fm.inventory(0, mask=mask, verbose=verbose)\n",
    "            if not masked_area: continue\n",
    "            r = sum((fm.dtypes[dtk].ycomp('totvol').mai().ytp().lookup(0) * fm.dtypes[dtk].area(0)) for dtk in fm.unmask(mask))\n",
    "            r /= masked_area\n",
    "            asf = 1. if not target_scalefactors else target_scalefactors[i]  \n",
    "            ta = (1/r) * fm.period_length * masked_area * asf\n",
    "            #print(mask, masked_area, r, asf, ta)\n",
    "            target_areas.append(ta)\n",
    "    periods = fm.periods if not period else [period]\n",
    "    for period in periods:\n",
    "        for mask, target_area in zip(target_masks, target_areas):\n",
    "            if verbose > 0:\n",
    "                print('calling areaselector', period, acode, target_area, mask)\n",
    "            fm.areaselector.operate(period, acode, target_area, mask=mask, verbose=verbose)\n",
    "    sch = fm.compile_schedule()\n",
    "    return sch"
   ]
  },
  {
   "cell_type": "markdown",
   "id": "bd26c6b4-2c0f-4d3c-b915-2afd6e9671fb",
   "metadata": {},
   "source": [
    "Define some helper functions to compile and plot scenario results."
   ]
  },
  {
   "cell_type": "code",
   "execution_count": 44,
   "id": "4b76b658-b43c-43af-b884-36d5dd2297e8",
   "metadata": {
    "tags": []
   },
   "outputs": [],
   "source": [
    "def compile_scenario(fm):\n",
    "    oha = [fm.compile_product(period, '1.', acode='harvest') for period in fm.periods]\n",
    "    ohv = [fm.compile_product(period, 'totvol * 0.85', acode='harvest') for period in fm.periods]\n",
    "    ogs = [fm.inventory(period, 'totvol') for period in fm.periods]\n",
    "    data = {'period':fm.periods, \n",
    "            'oha':oha, \n",
    "            'ohv':ohv, \n",
    "            'ogs':ogs}\n",
    "    df = pd.DataFrame(data)\n",
    "    return df\n",
    "\n",
    "\n",
    "def plot_scenario(df):\n",
    "    fig, ax = plt.subplots(1, 3, figsize=(12, 4))\n",
    "    ax[0].bar(df.period, df.oha)\n",
    "    ax[0].set_ylim(0, None)\n",
    "    ax[0].set_title('Harvested area (ha)')\n",
    "    ax[1].bar(df.period, df.ohv)\n",
    "    ax[1].set_ylim(0, None)\n",
    "    ax[1].set_title('Harvested volume (m3)')\n",
    "    ax[2].bar(df.period, df.ogs)\n",
    "    ax[2].set_ylim(0, None)\n",
    "    ax[2].set_title('Growing Stock (m3)')\n",
    "    return fig, ax"
   ]
  },
  {
   "cell_type": "code",
   "execution_count": 45,
   "id": "b1e30372-b8de-4498-89d0-25fdaa99e403",
   "metadata": {
    "tags": []
   },
   "outputs": [],
   "source": [
    "fm.reset()"
   ]
  },
  {
   "cell_type": "code",
   "execution_count": 46,
   "id": "f803e4ee-ef0e-4220-9242-939e26d12a2a",
   "metadata": {
    "tags": []
   },
   "outputs": [],
   "source": [
    "sch = schedule_harvest_areacontrol(fm)"
   ]
  },
  {
   "cell_type": "code",
   "execution_count": 47,
   "id": "a467f0a6-3052-4b53-8978-ea745e36740f",
   "metadata": {
    "tags": []
   },
   "outputs": [
    {
     "data": {
      "text/plain": [
       "(<Figure size 1200x400 with 3 Axes>,\n",
       " array([<Axes: title={'center': 'Harvested area (ha)'}>,\n",
       "        <Axes: title={'center': 'Harvested volume (m3)'}>,\n",
       "        <Axes: title={'center': 'Growing Stock (m3)'}>], dtype=object))"
      ]
     },
     "execution_count": 47,
     "metadata": {},
     "output_type": "execute_result"
    },
    {
     "data": {
      "image/png": "[encoded data removed]",
      "text/plain": [
       "<Figure size 1200x400 with 3 Axes>"
      ]
     },
     "metadata": {},
     "output_type": "display_data"
    }
   ],
   "source": [
    "plot_scenario(compile_scenario(fm))"
   ]
  },
  {
   "cell_type": "markdown",
   "id": "0b104cf8-75cd-4752-be4c-0c25e6c3a7ce",
   "metadata": {},
   "source": [
    "Not bad for a simplistic priority queue heuristic! Using the default `ws3.forest.GreedyAreaSelector` class to select harvest areas is definitely not the only way to simulate harvesting in `ws3`. \n",
    "\n",
    "You can always _manually prescribe_ any combination of treatments in any period, and `ws3` will its best to comply. By default `ws3` has several layers of fault protection turned on to avoid crashing with angry-looking error messages every time a user prescribes an invalid action. "
   ]
  },
  {
   "cell_type": "markdown",
   "id": "2651a9c6-7f6e-412b-aab7-b000013936a5",
   "metadata": {},
   "source": [
    "## Implement some manually prescribed harvest actions"
   ]
  },
  {
   "cell_type": "markdown",
   "id": "61902182-d363-4d64-afd1-09a7e95bf485",
   "metadata": {},
   "source": [
    "Below we reset the `fm` instance (which resets applied actions and inventory to starting positions), the manually prescribe a harvesting actions (using our sample `DevelopmentType` instance from earlier as the target, just as an example). "
   ]
  },
  {
   "cell_type": "markdown",
   "id": "09fbbe86-62a4-4a32-9742-971c61ef9da4",
   "metadata": {},
   "source": [
    "First, we try to harvest 1.0 hectare of age 9 stands in period 1."
   ]
  },
  {
   "cell_type": "code",
   "execution_count": 48,
   "id": "df1df4d4-1a38-4dcf-b606-c92b7c753015",
   "metadata": {
    "tags": []
   },
   "outputs": [
    {
     "name": "stdout",
     "output_type": "stream",
     "text": [
      "not operable\n",
      "tsa24_clipped 1 2403002 204 2423002 harvest 1 9\n",
      "(80, 500)\n"
     ]
    },
    {
     "data": {
      "text/plain": [
       "(4, None, None)"
      ]
     },
     "execution_count": 48,
     "metadata": {},
     "output_type": "execute_result"
    }
   ],
   "source": [
    "fm.reset()\n",
    "fm.apply_action(dtype_key=dt.key, \n",
    "                acode='harvest', \n",
    "                period=1,\n",
    "                age=9,\n",
    "                area=1.0)"
   ]
  },
  {
   "cell_type": "markdown",
   "id": "39a689ee-18cc-4b00-8368-d8a06087a785",
   "metadata": {},
   "source": [
    "No good. Not operable. Also not surprizing, given that we defined harvest operability window to start at age 40 for all development types.\n",
    "\n",
    "We can use the `operable_dtypes` method to find a suitable target for our harvesting action."
   ]
  },
  {
   "cell_type": "code",
   "execution_count": 49,
   "id": "3d8b63b7-2f82-4521-95ad-c3cb8bf04d99",
   "metadata": {
    "tags": []
   },
   "outputs": [
    {
     "data": {
      "text/plain": [
       "{('tsa24_clipped', '1', '2401002', '204', '2401002'): [135,\n",
       "  105,\n",
       "  155,\n",
       "  80,\n",
       "  113,\n",
       "  145,\n",
       "  115,\n",
       "  85,\n",
       "  125,\n",
       "  153,\n",
       "  91,\n",
       "  93,\n",
       "  95],\n",
       " ('tsa24_clipped', '1', '2402000', '100', '2402000'): [165],\n",
       " ('tsa24_clipped', '1', '2402002', '204', '2402002'): [115, 93, 95],\n",
       " ('tsa24_clipped', '1', '2403000', '100', '2403000'): [93]}"
      ]
     },
     "execution_count": 49,
     "metadata": {},
     "output_type": "execute_result"
    }
   ],
   "source": [
    "fm.operable_dtypes(acode='harvest', period=1)"
   ]
  },
  {
   "cell_type": "code",
   "execution_count": 50,
   "id": "b708c948-b7a4-493f-b475-23ef5b04b849",
   "metadata": {
    "tags": []
   },
   "outputs": [
    {
     "data": {
      "text/plain": [
       "0.0"
      ]
     },
     "execution_count": 50,
     "metadata": {},
     "output_type": "execute_result"
    }
   ],
   "source": [
    "fm.operable_area(acode='harvest', period=5, age=40)"
   ]
  },
  {
   "cell_type": "markdown",
   "id": "863f782f-d1ef-47cb-b11f-99745b7c670b",
   "metadata": {},
   "source": [
    "How much area is operable for development type `('tsa24_clipped', '1', '2401002', '204', '2401002')` age 135 in period 1?"
   ]
  },
  {
   "cell_type": "code",
   "execution_count": 51,
   "id": "61241bcf-e820-4b11-8d09-d04f823d093f",
   "metadata": {
    "tags": []
   },
   "outputs": [
    {
     "data": {
      "text/plain": [
       "72.24421919373785"
      ]
     },
     "execution_count": 51,
     "metadata": {},
     "output_type": "execute_result"
    }
   ],
   "source": [
    "fm.operable_area(acode='harvest', period=1, age=135)"
   ]
  },
  {
   "cell_type": "markdown",
   "id": "a7f2a2d6-3ab6-48b1-aca7-515042194a90",
   "metadata": {},
   "source": [
    "Harvest 50 ha of that."
   ]
  },
  {
   "cell_type": "code",
   "execution_count": 52,
   "id": "2dd7355a-c9d0-4860-a2df-72cdb28646aa",
   "metadata": {
    "tags": []
   },
   "outputs": [
    {
     "data": {
      "text/plain": [
       "(0, 0.0, [[('tsa24_clipped', '1', '2401002', '204', '2421002'), 1.0, 0]])"
      ]
     },
     "execution_count": 52,
     "metadata": {},
     "output_type": "execute_result"
    }
   ],
   "source": [
    "fm.apply_action(dtype_key=('tsa24_clipped', '1', '2401002', '204', '2401002'), \n",
    "                acode='harvest', \n",
    "                period=1,\n",
    "                age=135,\n",
    "                area=50.,\n",
    "                compile_c_ycomps=True)"
   ]
  },
  {
   "cell_type": "markdown",
   "id": "4900adf7-4181-4572-8019-468cf6d58f24",
   "metadata": {},
   "source": [
    "Note that the way we set this model up, the actionned area transitions to develoment type `('tsa24_clipped', '1', '2401002', '204', '2421002')`, which corresponds to second-growth yield curve (as opposed to the first-growth yield curve the area was originally tracking along). We will look for this second-growth development type key below and try to harvest it a second time."
   ]
  },
  {
   "cell_type": "markdown",
   "id": "03b05e83-05a4-433e-9f56-6a3b0a072e4a",
   "metadata": {},
   "source": [
    "Commit the action. Just roll with it. Normally `ws3` takes care of committing actions at appropriate moments, but you have to do this yourself when running in fully manual mode (like we are doing now)."
   ]
  },
  {
   "cell_type": "code",
   "execution_count": 53,
   "id": "205dde37-b916-433f-b999-ace0c76eb531",
   "metadata": {
    "tags": []
   },
   "outputs": [],
   "source": [
    "fm.commit_actions(period=1)"
   ]
  },
  {
   "cell_type": "markdown",
   "id": "2190a0c8-9bb5-4001-aebc-4375be70b7d1",
   "metadata": {},
   "source": [
    "Check the new operable area."
   ]
  },
  {
   "cell_type": "code",
   "execution_count": 54,
   "id": "2f7dadd0-ff66-4e59-9e05-cd7ab7058caa",
   "metadata": {
    "tags": []
   },
   "outputs": [
    {
     "data": {
      "text/plain": [
       "22.244219193737848"
      ]
     },
     "execution_count": 54,
     "metadata": {},
     "output_type": "execute_result"
    }
   ],
   "source": [
    "fm.operable_area(acode='harvest', period=1, age=135)"
   ]
  },
  {
   "cell_type": "markdown",
   "id": "93ca99ed-8b1f-4882-8f65-d11f8ceba828",
   "metadata": {},
   "source": [
    "22.2 operable ha left. Makes sense."
   ]
  },
  {
   "cell_type": "markdown",
   "id": "f60bdcbd-2e1a-479b-837b-93d7bdf27b88",
   "metadata": {},
   "source": [
    "So, we know that our previously harvested area transitions to development type `('tsa24_clipped', '1', '2401002', '204', '2421002')`. \n",
    "\n",
    "We can query the development type object about its period-wise operability."
   ]
  },
  {
   "cell_type": "code",
   "execution_count": 55,
   "id": "96a0508c-2c15-43be-9c19-e4595dead201",
   "metadata": {
    "tags": []
   },
   "outputs": [
    {
     "data": {
      "text/plain": [
       "{'harvest': {1: (80, 500),\n",
       "  2: (80, 500),\n",
       "  3: (80, 500),\n",
       "  4: (80, 500),\n",
       "  5: (80, 500),\n",
       "  6: (80, 500),\n",
       "  7: (80, 500),\n",
       "  8: (80, 500),\n",
       "  9: (80, 500),\n",
       "  10: (80, 500)}}"
      ]
     },
     "execution_count": 55,
     "metadata": {},
     "output_type": "execute_result"
    }
   ],
   "source": [
    "dtk = ('tsa24_clipped', '1', '2401002', '204', '2421002')\n",
    "dt = fm.dtypes[dtk]\n",
    "dt.operability"
   ]
  },
  {
   "cell_type": "markdown",
   "id": "2a09cf9c-8c87-4b8a-a3db-5399a6a8476d",
   "metadata": {},
   "source": [
    "We can see that it become operable at age 80.\n",
    "\n",
    "If we inspect the private `_areas` attribute of the develoment type, we can see that there is 0.42 ha of age-20 area in the initial inventory, and a new 50.0 ha that gets created from our harvest action (which is"
   ]
  },
  {
   "cell_type": "code",
   "execution_count": 56,
   "id": "349e2792-2296-42af-b5b2-9414d1355d38",
   "metadata": {
    "tags": []
   },
   "outputs": [
    {
     "data": {
      "text/plain": [
       "{0: defaultdict(float, {20: 0.422054121206099}),\n",
       " 1: defaultdict(float, {20: 0.422054121206099, 0: 50.0}),\n",
       " 2: defaultdict(float, {30: 0.422054121206099, 10: 50.0}),\n",
       " 3: defaultdict(float, {40: 0.422054121206099, 20: 50.0}),\n",
       " 4: defaultdict(float, {50: 0.422054121206099, 30: 50.0}),\n",
       " 5: defaultdict(float, {60: 0.422054121206099, 40: 50.0}),\n",
       " 6: defaultdict(float, {70: 0.422054121206099, 50: 50.0}),\n",
       " 7: defaultdict(float, {80: 0.422054121206099, 60: 50.0}),\n",
       " 8: defaultdict(float, {90: 0.422054121206099, 70: 50.0}),\n",
       " 9: defaultdict(float, {100: 0.422054121206099, 80: 50.0}),\n",
       " 10: defaultdict(float, {110: 0.422054121206099, 90: 50.0})}"
      ]
     },
     "execution_count": 56,
     "metadata": {},
     "output_type": "execute_result"
    }
   ],
   "source": [
    "dt._areas"
   ]
  },
  {
   "cell_type": "markdown",
   "id": "241a1788-f956-4e8d-84b8-beeec9b38c89",
   "metadata": {},
   "source": [
    "We can use the `operable_ages` method to find the first period in which it become operable."
   ]
  },
  {
   "cell_type": "code",
   "execution_count": 57,
   "id": "151e65bb-11e2-4ad5-8af5-6a65b9ff3867",
   "metadata": {
    "tags": []
   },
   "outputs": [
    {
     "name": "stdout",
     "output_type": "stream",
     "text": [
      "period: 1 operable ages: [] operable area: 0.0\n",
      "period: 2 operable ages: [] operable area: 0.0\n",
      "period: 3 operable ages: [] operable area: 0.0\n",
      "period: 4 operable ages: [] operable area: 0.0\n",
      "period: 5 operable ages: [] operable area: 0.0\n",
      "period: 6 operable ages: [] operable area: 0.0\n",
      "period: 7 operable ages: [80] operable area: 0.422054121206099\n",
      "period: 8 operable ages: [90] operable area: 0.422054121206099\n",
      "period: 9 operable ages: [80, 100] operable area: 50.4220541212061\n",
      "period: 10 operable ages: [90, 110] operable area: 50.4220541212061\n"
     ]
    }
   ],
   "source": [
    "for p in fm.periods: \n",
    "    print('period:', p, \n",
    "          'operable ages:', dt.operable_ages('harvest', p),\n",
    "          'operable area:', dt.operable_area('harvest', p))"
   ]
  },
  {
   "cell_type": "markdown",
   "id": "d9a67c00-eb46-4562-97b4-063e3f67d09c",
   "metadata": {},
   "source": [
    "So, the 50 ha of area we previously harvested does not become operable again until period 9."
   ]
  },
  {
   "cell_type": "markdown",
   "id": "da09ea29-59e0-423a-b073-b7bfb14c0391",
   "metadata": {},
   "source": [
    "Try to harvest the same area (now tracking along a second-growth yield curve) a second time."
   ]
  },
  {
   "cell_type": "code",
   "execution_count": 58,
   "id": "204bb45e-9c58-4437-b9b1-ef7e82cfec14",
   "metadata": {
    "tags": []
   },
   "outputs": [
    {
     "data": {
      "text/plain": [
       "(0, 0.0, [[('tsa24_clipped', '1', '2401002', '204', '2421002'), 1.0, 0]])"
      ]
     },
     "execution_count": 58,
     "metadata": {},
     "output_type": "execute_result"
    }
   ],
   "source": [
    "fm.apply_action(dtype_key=dtk, \n",
    "                acode='harvest', \n",
    "                period=9,\n",
    "                age=80,\n",
    "                area=50.,\n",
    "                compile_c_ycomps=True)"
   ]
  },
  {
   "cell_type": "code",
   "execution_count": 59,
   "id": "5bfcedc5-332e-4c4e-a352-9ad5cecb5f00",
   "metadata": {
    "tags": []
   },
   "outputs": [],
   "source": [
    "fm.commit_actions(period=9)"
   ]
  },
  {
   "cell_type": "markdown",
   "id": "53cc0bdf-db3e-495a-9581-5611bebac0ba",
   "metadata": {},
   "source": [
    "Plot results."
   ]
  },
  {
   "cell_type": "code",
   "execution_count": 60,
   "id": "9cce5ad3-c8a7-4d49-b3dc-3f6b73a5a73c",
   "metadata": {
    "tags": []
   },
   "outputs": [
    {
     "data": {
      "text/plain": [
       "(<Figure size 1200x400 with 3 Axes>,\n",
       " array([<Axes: title={'center': 'Harvested area (ha)'}>,\n",
       "        <Axes: title={'center': 'Harvested volume (m3)'}>,\n",
       "        <Axes: title={'center': 'Growing Stock (m3)'}>], dtype=object))"
      ]
     },
     "execution_count": 60,
     "metadata": {},
     "output_type": "execute_result"
    },
    {
     "data": {
      "image/png": "[encoded data removed]",
      "text/plain": [
       "<Figure size 1200x400 with 3 Axes>"
      ]
     },
     "metadata": {},
     "output_type": "display_data"
    }
   ],
   "source": [
    "plot_scenario(compile_scenario(fm))"
   ]
  },
  {
   "cell_type": "markdown",
   "id": "4120fade-d91c-4214-83bc-c71b0aafd0de",
   "metadata": {},
   "source": [
    "Note that you would rarely (if ever) need to be poking around the guts of your `ws3` model in this way just to schedule some harvesting treatments. The point of the stuff above is to help you understand some of the basic action scheduling and action operability functions (and where the bit live in the `ws3` data model), which in turn are the building blocks of all the higher-level scheduling functions in ws3. \n",
    "\n",
    "If you like, take some time now to go have a closer look at the source code for the `GreedyAreaSelector` class in (defined in the `ws3.forest` module). If you look closely, you will see that it is basically just combining all the bit we used in our random-seeming example above (i.e., `operable_dtypes`, `operable_area`, `apply_action`, `commit_actions`), glued together with some `while` loops and `if` conditions and other stuff. Neat, right? \n",
    "\n",
    "If you wanted to, you could write your own `AreaSelector` class that uses different logic to select and operate on area in your model (as long as your class has an `__init__` method that sets a `parent` attribute that points back to your `ForestModel` instance and an `operate` method with appropriate args, it should work). You can monkey-patch the `ForestModel.areaselector` attribute at runtime to change the default behaviour of your model as well (several of the fault-recovery functions in the `ForestModel` class use the `areaselector` to find operable area when the things go a bit pear-shaped and you have set up the model to do its best to find operable area and keep going when part of the prescribed action schedule is infeasible). See `ForestModel.repair_actions`, `ForestModel.commit_actions`, `ForestModel.apply_action`, and `ForestModel.apply_schedule` for examples of where the `areaselector` gets used to smooth over bumps in the road."
   ]
  },
  {
   "cell_type": "markdown",
   "id": "19755940-60e6-46d2-ac78-d97f38644741",
   "metadata": {},
   "source": [
    "## Implement optimization-based action scheduling\n",
    "\n",
    "`ws3` also includes functions to automate the process of formulating and solving linear programming (LP) optimization problems to schedule actions in your model. Using an optimization approach, you formulate your forest-level management problem in terms of an _objective function_ and _constraints_.\n",
    "\n",
    "`ws3` currently includes functions to formulate and solve Model I type optimization problems, as first documented in Johson and Scheurman (1977).\n",
    "\n",
    ">Johnson, K.N. and H.L. Scheurman (1977). “Techniques for prescribing optimal\n",
    "timber harvest and investment under different objectives—discussion and\n",
    "synthesis”. In: Forest Science Monograph 23.suppl_1.\n",
    "\n"
   ]
  },
  {
   "cell_type": "markdown",
   "id": "22273eb0-2152-4450-9b7d-587c95ec165f",
   "metadata": {},
   "source": [
    "The optimization problem can be formulated as follows\n",
    "\n",
    "\n",
    "\\begin{align}\n",
    "  \\text{max} \\quad &  \\sum_{i\\in I}\\sum_{j \\in J_{i}}c_{ij}x_{ij} & \\label{eq:z}\\\\\n",
    "  \\text{s.t.} \\quad & \\nonumber \\\\\n",
    "   &(1-\\varepsilon_{p})y_p \\leq \\sum_{i\\in I}\\sum_{j\\in J_{i}}\\mu_{ijpt}x_{ij}  \\leq  (1+\\varepsilon_{p})y_p, & \\forall p\\in O', t\\in T'_p \\label{eq:constr_evenflow}\\\\\n",
    "   &v^{-}_{ot}\\leq\\sum_{i\\in Z}\\sum_{j\\in J_{i}}\\mu_{ijot}x_{ij}  \\leq v^{+}_{ot}, &  \\forall o\\in O, t\\in T \\label{eq:constr_general} \\\\\n",
    "   &\\sum_{j\\in J_{i}}x_{ij}  = 1, \\forall i\\in Z \\label{eq:constr_coverage} \\\\\n",
    "   &0 \\leq x_{ij} \\leq 1, & \\forall i \\in Z, j \\in J_{i} \\label{eq:constr_bounds}\n",
    "\\end{align}\n",
    "\n",
    "where\n",
    "\n",
    "\\begin{align*}\n",
    "  I := & \\,\\, \\text{set of spatial zones}\\\\\n",
    "  J_{i} := & \\,\\, \\text{set of available prescriptions for zone $i \\in I$}\\\\\n",
    "  O := & \\,\\, \\text{set of forest outputs}\\\\\n",
    "  O' \\subseteq O := & \\,\\, \\text{set of targeted forest outputs}\\\\\n",
    "  T := & \\,\\, \\text{set of time periods in the planning horizon}\\\\\n",
    "  T'_p \\subseteq O := & \\,\\, \\text{subset of $T$ on which even-flow constraints for output $p \\in O^{\\prime}$ are applied}\\\\\n",
    "  \\varepsilon_{p} := & \\,\\, \\text{admissible level of variation on yield of targeted output $p \\in O^{\\prime}$} \\\\\n",
    "  \\mu_{ijot} := & \\,\\, \\text{quantity of output $o \\in O$ produced in period $t \\in T$ by prescription $j \\in J_{i}$}\\\\\n",
    "                     & \\,\\, \\text{in zone $i \\in I$}\\\\\n",
    "  \\mu_{ijpt} := & \\,\\, \\text{quantity of output $p \\in O'$ produced in period $t \\in T$ by prescription $j \\in J_{i}$}\\\\\n",
    "                     & \\,\\, \\text{in zone $i \\in I$}\\\\\n",
    "  v^{-}_{ot} := & \\,\\, \\text{lower bound on yield of output $o \\in O$ in period $t \\in T$} \\\\\n",
    "  v^{+}_{ot} := & \\,\\, \\text{upper bound on yield of output $o \\in O$ in period $t \\in T$} \\\\\n",
    "  c_{ij} := & \\,\\,  \\text{objective function contribution of prescription $j \\in J_{i}$ in zone $i \\in I$} \\\\\n",
    "  x_{ij} := & \\,\\, \\text{proportion of zone $i \\in Z$ on which prescription $j \\in J_{i}$ is applied} \\\\\n",
    "  y_p = &  \\sum_{i\\in I}\\sum_{j\\in J_i}\\mu_{ijpt^R_p}x_{ij}\\text{, i.e. total yield of targeted output $p \\in O'$ at reference period $t^R_p$} \n",
    "\\end{align*}\n",
    "\n",
    "The objective function maximizes the sum of $c_{ij}x_{ij}$ products, which represent yield of a user-defined output---the output can be anything, but common examples include maximizing harvest volume or minimizing harvest area. Other, more complex objectives functions can be defined (e.g., minimize a penalty-based weighted multi-objective goal programming objective function).\n",
    "\n",
    "The variables $x_{ij}$ are linear, with domain $\\{x_{ij} \\in \\mathbb{R}|0 \\leq x_{ij} \\leq 1\\}$. Coverage constraints require prescriptions to cover the entire zone---doing nothing for the entire planning horizon is considered a prescription that could generate some outputs. Variable bounds and coverage constraints are automatically set by the `ws3` optimization problem formulation functions.\n",
    "\n",
    "\n",
    "The set $O^{\\prime} \\subseteq O$ represents targeted outputs, for which we enforce even-flow constraints.\n",
    "Even-flow constraints are expressed in terms of $y_p$, which represents total yield of targeted output $p \\in O^{\\prime}$ in reference period $t^R_p$.\n",
    "Note that even-flow constraints are defined over time periods $T'_p$, which is any subset of $T$ (need not be contiguous)---$T'_p$ can be unique for each output  $p \\in O^{\\prime}$.\n",
    "\n",
    "General constraints set upper and lower bounds on periodic yield of any output $o \\in O$---we use these constraints to set minimum and maximum levels of any performance indicator defined in the model (or combinations thereof). "
   ]
  },
  {
   "cell_type": "markdown",
   "id": "5589a4b9-f1b6-4d16-a79e-6b0630b88f71",
   "metadata": {},
   "source": [
    "Below we show an example of using the optimization functins in `ws3` to formulate and solve a Model I probleml."
   ]
  },
  {
   "cell_type": "markdown",
   "id": "18f40bd9-1122-47bf-872c-91510e90fcd6",
   "metadata": {},
   "source": [
    "You will need to have `gurobipy` installed for this next step to work. At some point I will finish implementing bindings to the PuLP open-source solver library, but for now we are stuck with Gurobi as the only solver that works with ws3. \n",
    "\n",
    "You should be able to install `gurobipy` using the magic `%pip` command below, however this _only_ installs the Python module and minimal solver binaries. This _does not_ install the full Gurobi software stack, do the Gurobi licence managent tools (including the `grbgetkey` command) are _not_ installed automatically with the Python module. The `gurobipy` installation includes a limited software license that should allow you to solve _small_ problem instances, but will puke if you try to solve anything too large (which includes most `ws3` problems, unless you model is extremely small and simple). \n",
    "\n",
    "If you are eligible for an academic license, you should request and install a \"Named-User Acacdemic\" license from the Licenses tab in the [Gurobi User Portal](https://portal.gurobi.com/iam/licenses/request) (create a new Gurobi account if you do not have one yet, using your official academic institution email address). This license is per-user, per-machine, is valid for one year, should _only_ be used in an academic context (see [Gurobi Standard EULA](https://cdn.gurobi.com/wp-content/uploads/Gurobi_Standard_EULA_Nov2022.pdf) for details of license terms and restrictions).\n",
    "\n",
    "**Hint:** If you get a `grbgetkey: command not found` error, either the full Gurobi software stack is not installed at all on your system, or is installed but `grbgetkey` is not in your path. Depending on your situation, either [install the full Gurobi software stack](https://support.gurobi.com/hc/en-us/articles/4534161999889) or specify the full path to the `grbgetkey` command (Gurobi installation instructions recommend installing Gurobi into `/opt/gurobi` on linux platforms).   "
   ]
  },
  {
   "cell_type": "code",
   "execution_count": 61,
   "id": "8a4fc517-79ba-4582-a0f9-a68426175212",
   "metadata": {
    "tags": []
   },
   "outputs": [
    {
     "name": "stdout",
     "output_type": "stream",
     "text": [
      "Requirement already satisfied: gurobipy in /media/data/home/gparadis/.virtualenvs/foo/lib/python3.10/site-packages (10.0.1)\n",
      "Note: you may need to restart the kernel to use updated packages.\n"
     ]
    }
   ],
   "source": [
    "%pip install gurobipy"
   ]
  },
  {
   "cell_type": "code",
   "execution_count": 62,
   "id": "d1fe06ee-5911-4724-8804-4970cb0d40dc",
   "metadata": {
    "tags": []
   },
   "outputs": [],
   "source": [
    "import gurobipy as grb"
   ]
  },
  {
   "cell_type": "markdown",
   "id": "c8a7a326-f965-4405-9364-1fef220e3f64",
   "metadata": {},
   "source": [
    "First we need to define a few utility functions that we will use to build the problems (e.g., objective function coefficient function, even flow constraint coefficient function, general constraint coefficient function).\n",
    "\n",
    "Note that the `spades_ws3` project contains several useful chunks of code that you can use as a starting point (on GitHub, see link below).\n",
    "\n",
    "https://github.com/gparadis/spades_ws3/blob/master/python/spadesws3.py"
   ]
  },
  {
   "cell_type": "code",
   "execution_count": 63,
   "id": "86b121d7-0383-4ff2-aaae-6ed9aae0e9a0",
   "metadata": {
    "tags": []
   },
   "outputs": [],
   "source": [
    "def cmp_c_z(fm, path, expr):\n",
    "    \"\"\"\n",
    "    Compile objective function coefficient (given ForestModel instance, \n",
    "    leaf-to-root-node path, and expression to evaluate).\n",
    "    \"\"\"\n",
    "    result = 0.\n",
    "    for t, n in enumerate(path, start=1):\n",
    "        d = n.data()\n",
    "        if fm.is_harvest(d['acode']):\n",
    "            result += fm.compile_product(t, expr, d['acode'], [d['dtk']], d['age'], coeff=False)\n",
    "    return result\n",
    "\n",
    "def cmp_c_cflw(fm, path, expr, mask=None): # product, all harvest actions\n",
    "    \"\"\"\n",
    "    Compile flow constraint coefficient for product indicator (given ForestModel \n",
    "    instance, leaf-to-root-node path, expression to evaluate, and optional mask).\n",
    "    \"\"\"\n",
    "    result = {}\n",
    "    for t, n in enumerate(path, start=1):\n",
    "        d = n.data()\n",
    "        if mask and not fm.match_mask(mask, d['dtk']): continue\n",
    "        if fm.is_harvest(d['acode']):\n",
    "            result[t] = fm.compile_product(t, expr, d['acode'], [d['dtk']], d['age'], coeff=False)\n",
    "    return result\n",
    "\n",
    "\n",
    "def cmp_c_caa(fm, path, expr, acodes, mask=None): # product, named actions\n",
    "    \"\"\"\n",
    "    Compile constraint coefficient for product indicator (given ForestModel \n",
    "    instance, leaf-to-root-node path, expression to evaluate, list of action codes, \n",
    "    and optional mask).\n",
    "    \"\"\"\n",
    "    result = {}\n",
    "    for t, n in enumerate(path, start=1):\n",
    "        d = n.data()\n",
    "        if mask and not fm.match_mask(mask, d['dtk']): continue\n",
    "        if d['acode'] in acodes:\n",
    "            result[t] = fm.compile_product(t, expr, d['acode'], [d['dtk']], d['age'], coeff=False)\n",
    "    return result\n",
    "\n",
    "\n",
    "def cmp_c_ci(fm, path, yname, mask=None): # product, named actions\n",
    "    \"\"\"\n",
    "    Compile constraint coefficient for inventory indicator (given ForestModel instance, \n",
    "    leaf-to-root-node path, expression to evaluate, and optional mask).\n",
    "    \"\"\"\n",
    "    result = {}\n",
    "    for t, n in enumerate(path, start=1):\n",
    "        d = n.data()\n",
    "        if mask and not fm.match_mask(mask, d['_dtk']): continue\n",
    "        result[t] = fm.inventory(t, yname=yname, age=d['_age'], dtype_keys=[d['_dtk']]) \n",
    "        #result[t] = fm.inventory(t, yname=yname, age=d['age'], dtype_keys=[d['dtk']]) \n",
    "    return result"
   ]
  },
  {
   "cell_type": "markdown",
   "id": "2f90cba3-c1f5-4847-8177-a8f0e01c3239",
   "metadata": {},
   "source": [
    "Define a generic base scenario function, and link it to a dispatch function keyed on scenario name string (e.g., `base`). \n",
    "\n",
    "Note how we use `functools.partial` to specialize the more general functions defined above for use in the `coeff_funcs` arg of `ForestModel.add_problem`. Otherwise we would have to define an entirely new function each time we defined a slightly different objective or constraint in one of our scenarios, which would get tedious and messy. The tedium and mess would be more evident if we had a large number of alternative scenarios defined in the same notebook (which we do not here, but use your imagination). \n",
    "\n",
    "Note also that the expected data structures for the various args to `ForestModel.add_problem` must be matched exactly or `ws3` will likely crash somewhere in one of the series of complicated private optimization model-building methods that get called from `ForestModel.add_problem`. You _should not_ have to unpack the exact logic of this model-building code to figure out why your model is crashing... it really is quite complicated and hard to follow. If you model is crashing there, you probably fed invalid (or incorrectly structured) args to `ForestModel.add_problem`. Carefully review the structure and values of your args to find the problem."
   ]
  },
  {
   "cell_type": "markdown",
   "id": "4eb7864d-f55b-4362-8ab9-126ec41b0eae",
   "metadata": {},
   "source": [
    "`ForestModel.add_problem` arg specs are described below.\n",
    "\n",
    "`name`: String. Used as key to store `Problem` instances in a dict in the `ForestModel` instanace, so make sure it is unique within a given model or you will overwrite dict values (assuming you want to stuff multiple problems, and their solutions, into your model at the same time). \n",
    "    \n",
    "`coeff_funcs`: Dict of function references, keyed on _row name_ strings. These are the functions that generate the LP optimization problem matrix coefficients (for the objective function and constraint rows). This one gets complicated, and is a likely source of bugs. Make sure the row name key strings are all unique or you will make a mess. You can name the constraint rows anything you want, but the objective function row has to be named `z`. All coefficient functions must accept exactly two args, in this order: a `ws3.forest.ForestModel` instance and a `ws3.common.Path` instance. The `z` coefficient function is special in that it must return a single float value. All other (i.e., constraint) coefficient functions just return a dict of floats, keyed on period ints (can be sparse, i.e., not necessary to include key:value pairs in output dict if value is 0.0). It is useful (but not necessary) to use `functools.partial` to specialize a smaller number of more general function definitions (with more args, that get \"locked down\" and hidden by `partial`) as we have done in the example in this notebook.\n",
    "\n",
    "`cflw_e`: Dict of `(dict, int)` tuples, keyed on _row name_ strings (must match _row name_ key values used to define coefficient functions for flow constraints in `coeff_func` dict), where the int:float dict embedded in the tuple defines epsilon values keyed on periods (must include all periods, even if epsilon value is always the same). See example below. \n",
    "\n",
    "```\n",
    "{\n",
    "  'cflw_acut':({1:0.01, 2:0.01, ..., 10:0.01}, 1),\n",
    "  'cflw_vcut':({1:0.05, 2:0.05, ..., 10:0.05}, 1)\n",
    "}\n",
    "```\n",
    "\n",
    "`cgen_data`: Dict of dict of dicts. The outer-level dict is keyed on _row name_ strings (must match row names used in `coeff_funcs`. The middle second level of dicts always has keys `'lb'` and `'ub'`, and the inner level of dicts specifies lower- and upper-bound general constraint RHS (float) values, keyed on period (int).\n",
    "\n",
    "`acodes`: List of strings. Action codes to be included in optimization problem formulation (actions must defined in the `ForestModel` instance, but can be only a subset).\n",
    "\n",
    "`sense`: Must be one of `ws3.opt.SENSE_MAXIMIZE` or `ws3.opt.SENSE_MINIMIZE`.\n",
    "\n",
    "`mask`: Tuple of strings constituting a valid mask for your `ForestModel` instance. Can be `None` if you do not want to filter `DevelopmentType` instances."
   ]
  },
  {
   "cell_type": "code",
   "execution_count": 64,
   "id": "26e3d841-4a9c-40ee-998d-0d5e456d89f7",
   "metadata": {
    "tags": []
   },
   "outputs": [],
   "source": [
    "def gen_scenario(fm, name='base', util=0.85, harvest_acode='harvest',\n",
    "                 cflw_ha={}, cflw_hv={}, \n",
    "                 cgen_ha={}, cgen_hv={}, cgen_gs={}, \n",
    "                 tvy_name='totvol', obj_mode='max_hv', mask=None):\n",
    "    from functools import partial\n",
    "    import numpy as np\n",
    "    coeff_funcs = {}\n",
    "    cflw_e = {}\n",
    "    cgen_data = {}\n",
    "    acodes = ['null', harvest_acode] # define list of action codes\n",
    "    vexpr = '%s * %0.2f' % (tvy_name, util) # define volume expression\n",
    "    if obj_mode == 'max_hv': # maximize harvest volume\n",
    "        sense = ws3.opt.SENSE_MAXIMIZE \n",
    "        zexpr = vexpr\n",
    "    elif obj_mode == 'min_ha': # minimize harvest area\n",
    "        sense = ws3.opt.SENSE_MINIMIZE \n",
    "        zexpr = '1.'\n",
    "    else:\n",
    "        raise ValueError('Invalid obj_mode: %s' % obj_mode)        \n",
    "    coeff_funcs['z'] = partial(cmp_c_z, expr=zexpr) # define objective function coefficient function  \n",
    "    T = fm.periods\n",
    "    if cflw_ha: # define even flow constraint (on harvest area)\n",
    "        cname = 'cflw_ha'\n",
    "        coeff_funcs[cname] = partial(cmp_c_caa, expr='1.', acodes=[harvest_acode], mask=None) \n",
    "        cflw_e[cname] = cflw_ha\n",
    "    if cflw_hv: # define even flow constraint (on harvest volume)\n",
    "        cname = 'cflw_hv'\n",
    "        coeff_funcs[cname] = partial(cmp_c_caa, expr=vexpr, acodes=[harvest_acode], mask=None) \n",
    "        cflw_e[cname] = cflw_hv         \n",
    "    if cgen_ha: # define general constraint (harvest area)\n",
    "        cname = 'cgen_ha'\n",
    "        coeff_funcs[cname] = partial(cmp_c_caa, expr='1.', acodes=[harvest_acode], mask=None) \n",
    "        cgen_data[cname] = cgen_ha\n",
    "    if cgen_hv: # define general constraint (harvest volume)\n",
    "        cname = 'cgen_hv'\n",
    "        coeff_funcs[cname] = partial(cmp_c_caa, expr=vexpr, acodes=[harvest_acode], mask=None) \n",
    "        cgen_data[cname] = cgen_hv\n",
    "    if cgen_gs: # define general constraint (growing stock)\n",
    "        cname = 'cgen_gs'\n",
    "        coeff_funcs[cname] = partial(cmp_c_ci, yname=tvy_name, mask=None)\n",
    "        cgen_data[cname] = cgen_gs\n",
    "    return fm.add_problem(name, coeff_funcs, cflw_e, cgen_data=cgen_data, acodes=acodes, sense=sense, mask=mask)"
   ]
  },
  {
   "cell_type": "markdown",
   "id": "b3d74ea0-f88c-44b9-8195-f8ad6fc323b3",
   "metadata": {},
   "source": [
    "We need to add a \"null\" action to the model for the optimization functions to work correctly. This is basically a pass-through action that literally does nothing (i.e., just grow the forest for one time step, which `ws3` models as an explicit decision option in the dynamic programming state trees it builds when it generates the LP problem matrix)."
   ]
  },
  {
   "cell_type": "code",
   "execution_count": 65,
   "id": "80741c98-1b51-4bbb-9397-8cc7b426bf05",
   "metadata": {
    "tags": []
   },
   "outputs": [],
   "source": [
    "fm.add_null_action()"
   ]
  },
  {
   "cell_type": "markdown",
   "id": "f4ec1047-ed70-4aa9-b616-cfc738dddd46",
   "metadata": {},
   "source": [
    "We define some scenario options below. Specify which scenario by setting the `scenario_name` variable below."
   ]
  },
  {
   "cell_type": "code",
   "execution_count": 66,
   "id": "9acf3917-a6db-40bf-9052-7e14577c601e",
   "metadata": {
    "tags": []
   },
   "outputs": [],
   "source": [
    "def run_scenario(fm, scenario_name='base'):\n",
    "    cflw_ha = {}\n",
    "    cflw_hv = {}\n",
    "    cgen_ha = {}\n",
    "    cgen_hv = {}\n",
    "    cgen_gs = {}\n",
    "    \n",
    "    # define harvest area and harvest volume flow constraints\n",
    "    cflw_ha = ({p:0.05 for p in fm.periods}, 1)\n",
    "    cflw_hv = ({p:0.05 for p in fm.periods}, 1)\n",
    "\n",
    "    if scenario_name == 'base': \n",
    "        # Base scenario\n",
    "        print('running bsae scenario')\n",
    "    elif scenario_name == 'base-cgen_ha': \n",
    "        # Base scenario, plus harvest area general constraints\n",
    "        print('running base scenario plus harvest area constraints')\n",
    "        cgen_ha = {'lb':{1:100.}, 'ub':{1:101.}}    \n",
    "    elif scenario_name == 'base-cgen_hv': \n",
    "        # Base scenario, plus harvest volume general constraints\n",
    "        print('running base scenario plus harvest volume constraints')\n",
    "        cgen_hv = {'lb':{1:1000.}, 'ub':{1:1001.}}    \n",
    "    elif scenario_name == 'base-cgen_gs': \n",
    "        # Base scenario, plus growing stock general constraints\n",
    "        print('running base scenario plus growing stock constraints')\n",
    "        cgen_gs = {'lb':{10:100000.}, 'ub':{10:100001.}}\n",
    "    else:\n",
    "        assert False # bad scenario name\n",
    "\n",
    "    p = gen_scenario(fm=fm, \n",
    "                     name=scenario_name, \n",
    "                     cflw_ha=cflw_ha, \n",
    "                     cflw_hv=cflw_hv,\n",
    "                     cgen_ha=cgen_ha,\n",
    "                     cgen_hv=cgen_hv,\n",
    "                     cgen_gs=cgen_gs)\n",
    "\n",
    "    fm.reset()\n",
    "    m = p.solve()\n",
    "\n",
    "    if m.status != grb.GRB.OPTIMAL:\n",
    "        print('Model not optimal.')\n",
    "        sys.exit()\n",
    "    sch = fm.compile_schedule(p)\n",
    "    fm.apply_schedule(sch, \n",
    "                      force_integral_area=False, \n",
    "                      override_operability=False,\n",
    "                      fuzzy_age=False,\n",
    "                      recourse_enabled=False,\n",
    "                      verbose=False,\n",
    "                      compile_c_ycomps=True)\n",
    "    df = compile_scenario(fm)\n",
    "    fig, ax = plot_scenario(df)\n",
    "    return fig, df, p"
   ]
  },
  {
   "cell_type": "markdown",
   "id": "552c8c7b-8c31-4d90-96b7-dcab85187a34",
   "metadata": {},
   "source": [
    "Note that the `Problem.solve` method return a reference to the lower-level `gurobi.Model` object in case we need or want to poke around it (can yield insight into how the optimization problem is formulated on the solver side of things, or help debug).\n",
    "\n",
    "Be vigilant for \"infeasible or unbounded model\" messages and such below, in case these are unexpected. Depending on how the rest of the model was set up, `ws3` may automatically attempt to resolve infeasible models using \"feasibility relaxation\" mode in Gurobi (which might not be what you want, depending on the situation)."
   ]
  },
  {
   "cell_type": "code",
   "execution_count": 67,
   "id": "c5927ee2-4de5-4523-acee-40d1ea956f91",
   "metadata": {
    "tags": []
   },
   "outputs": [
    {
     "name": "stdout",
     "output_type": "stream",
     "text": [
      "running bsae scenario\n",
      "Set parameter Username\n",
      "Academic license - for non-commercial use only - expires 2024-02-16\n",
      "Gurobi Optimizer version 10.0.1 build v10.0.1rc0 (linux64)\n",
      "\n",
      "CPU model: Intel Xeon Processor (Skylake, IBRS), instruction set [SSE2|AVX|AVX2|AVX512]\n",
      "Thread count: 16 physical cores, 16 logical processors, using up to 16 threads\n",
      "\n",
      "Optimize a model with 72 rows, 289 columns and 2961 nonzeros\n",
      "Model fingerprint: 0x59aa13fd\n",
      "Coefficient statistics:\n",
      "  Matrix range     [3e-02, 4e+04]\n",
      "  Objective range  [2e+01, 4e+04]\n",
      "  Bounds range     [0e+00, 0e+00]\n",
      "  RHS range        [1e+00, 1e+00]\n",
      "Presolve removed 12 rows and 32 columns\n",
      "Presolve time: 0.01s\n",
      "Presolved: 60 rows, 257 columns, 2753 nonzeros\n",
      "\n",
      "Iteration    Objective       Primal Inf.    Dual Inf.      Time\n",
      "       0    2.1443755e+05   1.043429e+04   0.000000e+00      0s\n",
      "      80    1.8837161e+05   0.000000e+00   0.000000e+00      0s\n",
      "\n",
      "Solved in 80 iterations and 0.01 seconds (0.00 work units)\n",
      "Optimal objective  1.883716077e+05\n",
      "foo\n"
     ]
    },
    {
     "data": {
      "text/plain": [
       "(<Figure size 1200x400 with 3 Axes>,\n",
       "    period         oha           ohv            ogs\n",
       " 0       1  141.884536  18776.518275  129802.193269\n",
       " 1       2  134.790309  17837.692361  122458.829271\n",
       " 2       3  134.790309  17837.692361  113354.435725\n",
       " 3       4  134.790309  17837.692361  104521.374438\n",
       " 4       5  134.790309  18086.166885   96456.943325\n",
       " 5       6  134.790309  19715.344189   85374.110687\n",
       " 6       7  147.721253  19715.344189   72562.743824\n",
       " 7       8  135.688774  19715.344189   59660.980420\n",
       " 8       9  148.978762  19134.468737   49258.413311\n",
       " 9      10  148.978762  19715.344189   37323.465085,\n",
       " <ws3.opt.Problem at 0x7fa7ce7c0a90>)"
      ]
     },
     "execution_count": 67,
     "metadata": {},
     "output_type": "execute_result"
    },
    {
     "data": {
      "image/png": "[encoded data removed]",
      "text/plain": [
       "<Figure size 1200x400 with 3 Axes>"
      ]
     },
     "metadata": {},
     "output_type": "display_data"
    }
   ],
   "source": [
    "run_scenario(fm, 'base')"
   ]
  },
  {
   "cell_type": "code",
   "execution_count": 68,
   "id": "485e2eb9-529c-40f0-a4c1-47a4edb38fcd",
   "metadata": {
    "tags": []
   },
   "outputs": [
    {
     "name": "stdout",
     "output_type": "stream",
     "text": [
      "running base scenario plus harvest area constraints\n",
      "Gurobi Optimizer version 10.0.1 build v10.0.1rc0 (linux64)\n",
      "\n",
      "CPU model: Intel Xeon Processor (Skylake, IBRS), instruction set [SSE2|AVX|AVX2|AVX512]\n",
      "Thread count: 16 physical cores, 16 logical processors, using up to 16 threads\n",
      "\n",
      "Optimize a model with 74 rows, 289 columns and 3049 nonzeros\n",
      "Model fingerprint: 0x96d58187\n",
      "Coefficient statistics:\n",
      "  Matrix range     [3e-02, 4e+04]\n",
      "  Objective range  [2e+01, 4e+04]\n",
      "  Bounds range     [0e+00, 0e+00]\n",
      "  RHS range        [1e+00, 1e+02]\n",
      "Presolve removed 13 rows and 32 columns\n",
      "Presolve time: 0.01s\n",
      "Presolved: 61 rows, 258 columns, 2798 nonzeros\n",
      "\n",
      "Iteration    Objective       Primal Inf.    Dual Inf.      Time\n",
      "       0    2.1443755e+05   1.080947e+04   0.000000e+00      0s\n",
      "     160    1.5092628e+05   0.000000e+00   0.000000e+00      0s\n",
      "\n",
      "Solved in 160 iterations and 0.01 seconds (0.00 work units)\n",
      "Optimal objective  1.509262757e+05\n",
      "foo\n"
     ]
    },
    {
     "data": {
      "image/png": "[encoded data removed]",
      "text/plain": [
       "<Figure size 1200x400 with 3 Axes>"
      ]
     },
     "metadata": {},
     "output_type": "display_data"
    }
   ],
   "source": [
    "fig, df, problem = run_scenario(fm, 'base-cgen_ha')"
   ]
  },
  {
   "cell_type": "code",
   "execution_count": 69,
   "id": "82a9b0a4-9162-434f-93cc-110233624af6",
   "metadata": {
    "tags": []
   },
   "outputs": [
    {
     "name": "stdout",
     "output_type": "stream",
     "text": [
      "running base scenario plus harvest volume constraints\n",
      "Gurobi Optimizer version 10.0.1 build v10.0.1rc0 (linux64)\n",
      "\n",
      "CPU model: Intel Xeon Processor (Skylake, IBRS), instruction set [SSE2|AVX|AVX2|AVX512]\n",
      "Thread count: 16 physical cores, 16 logical processors, using up to 16 threads\n",
      "\n",
      "Optimize a model with 74 rows, 289 columns and 3049 nonzeros\n",
      "Model fingerprint: 0xd332e1de\n",
      "Coefficient statistics:\n",
      "  Matrix range     [3e-02, 4e+04]\n",
      "  Objective range  [2e+01, 4e+04]\n",
      "  Bounds range     [0e+00, 0e+00]\n",
      "  RHS range        [1e+00, 1e+03]\n",
      "Presolve removed 13 rows and 32 columns\n",
      "Presolve time: 0.01s\n",
      "Presolved: 61 rows, 258 columns, 2798 nonzeros\n",
      "\n",
      "Iteration    Objective       Primal Inf.    Dual Inf.      Time\n",
      "       0    2.1443755e+05   1.247387e+04   0.000000e+00      0s\n",
      "     186    1.0460450e+04   0.000000e+00   0.000000e+00      0s\n",
      "\n",
      "Solved in 186 iterations and 0.01 seconds (0.00 work units)\n",
      "Optimal objective  1.046045000e+04\n",
      "foo\n"
     ]
    },
    {
     "data": {
      "text/plain": [
       "(<Figure size 1200x400 with 3 Axes>,\n",
       "    period       oha      ohv            ogs\n",
       " 0       1  8.567822  1001.00  150714.567710\n",
       " 1       2  8.139430  1051.05  163609.637284\n",
       " 2       3  8.139430  1051.05  175243.425533\n",
       " 3       4  8.996213  1051.05  187669.286698\n",
       " 4       5  8.139430  1051.05  201607.662333\n",
       " 5       6  8.139430  1051.05  214454.748825\n",
       " 6       7  8.139430  1051.05  224467.572886\n",
       " 7       8  8.139430  1051.05  231509.940913\n",
       " 8       9  8.996213  1051.05  235988.640453\n",
       " 9      10  8.996213  1051.05  238140.632419,\n",
       " <ws3.opt.Problem at 0x7fa7ce7c1090>)"
      ]
     },
     "execution_count": 69,
     "metadata": {},
     "output_type": "execute_result"
    },
    {
     "data": {
      "image/png": "[encoded data removed]",
      "text/plain": [
       "<Figure size 1200x400 with 3 Axes>"
      ]
     },
     "metadata": {},
     "output_type": "display_data"
    }
   ],
   "source": [
    "run_scenario(fm, 'base-cgen_hv')"
   ]
  },
  {
   "cell_type": "code",
   "execution_count": 70,
   "id": "3fc85e87-6244-4c2e-9cfd-74e83f065fc2",
   "metadata": {
    "tags": []
   },
   "outputs": [
    {
     "name": "stdout",
     "output_type": "stream",
     "text": [
      "running base scenario plus growing stock constraints\n",
      "Gurobi Optimizer version 10.0.1 build v10.0.1rc0 (linux64)\n",
      "\n",
      "CPU model: Intel Xeon Processor (Skylake, IBRS), instruction set [SSE2|AVX|AVX2|AVX512]\n",
      "Thread count: 16 physical cores, 16 logical processors, using up to 16 threads\n",
      "\n",
      "Optimize a model with 74 rows, 289 columns and 3253 nonzeros\n",
      "Model fingerprint: 0xc3553ef4\n",
      "Coefficient statistics:\n",
      "  Matrix range     [3e-02, 5e+04]\n",
      "  Objective range  [2e+01, 4e+04]\n",
      "  Bounds range     [0e+00, 0e+00]\n",
      "  RHS range        [1e+00, 1e+05]\n",
      "Presolve removed 13 rows and 8 columns\n",
      "Presolve time: 0.01s\n",
      "Presolved: 61 rows, 282 columns, 2916 nonzeros\n",
      "\n",
      "Iteration    Objective       Primal Inf.    Dual Inf.      Time\n",
      "       0    2.1443755e+05   1.072442e+04   0.000000e+00      0s\n",
      "      73    1.4427678e+05   0.000000e+00   0.000000e+00      0s\n",
      "\n",
      "Solved in 73 iterations and 0.01 seconds (0.00 work units)\n",
      "Optimal objective  1.442767844e+05\n",
      "foo\n"
     ]
    },
    {
     "data": {
      "text/plain": [
       "(<Figure size 1200x400 with 3 Axes>,\n",
       "    period         oha           ohv            ogs\n",
       " 0       1  105.352680  14648.349362  134658.862578\n",
       " 1       2  110.620314  15380.766830  129609.168767\n",
       " 2       3  100.085046  15371.310058  122559.290901\n",
       " 3       4  102.384809  13915.931894  117915.227866\n",
       " 4       5  104.299024  13915.931894  115172.497894\n",
       " 5       6  105.872157  13915.931894  112583.986634\n",
       " 6       7  104.250342  13915.931894  109980.433670\n",
       " 7       8  102.953620  13915.931894  107572.604247\n",
       " 8       9  101.162818  13915.931894  104839.327090\n",
       " 9      10  110.620314  15380.766830  100000.000000,\n",
       " <ws3.opt.Problem at 0x7fa7ce7c1bd0>)"
      ]
     },
     "execution_count": 70,
     "metadata": {},
     "output_type": "execute_result"
    },
    {
     "data": {
      "image/png": "[encoded data removed]",
      "text/plain": [
       "<Figure size 1200x400 with 3 Axes>"
      ]
     },
     "metadata": {},
     "output_type": "display_data"
    }
   ],
   "source": [
    "run_scenario(fm, 'base-cgen_gs')"
   ]
  },
  {
   "cell_type": "markdown",
   "id": "e07c4bfa-fd62-49a3-b9c7-9c2b61d451c9",
   "metadata": {},
   "source": [
    "Ta da!"
   ]
  },
  {
   "cell_type": "markdown",
   "id": "4b531d3d-e908-4612-86cf-41abe92e553f",
   "metadata": {},
   "source": [
    "# Instantiate `ForestModel` from Woodstock-format model input text files"
   ]
  },
  {
   "cell_type": "markdown",
   "id": "709868de-4c7d-4e51-9f18-492fb8d13e51",
   "metadata": {},
   "source": [
    "Start by creating a new directory to hold the model definition files."
   ]
  },
  {
   "cell_type": "markdown",
   "id": "83095b12-fce0-4bd4-8b88-15d12d918661",
   "metadata": {},
   "source": [
    "Woodstock models are defined in terms of a number of _sections_. The sections can be defined in a single text file, or in separate text files. We will use separate text files for each section in this example.\n",
    "\n",
    "Our model will include the following sections:\n",
    "\n",
    "LANDSCAPE\n",
    "AREAS\n",
    "YIELD\n",
    "ACTIONS\n",
    "TRANSITIONS\n",
    "\n",
    "There are other possible sections that one can include in a Woodstock model, which will not include here. This is not intended to be a comprehensive overview of Woodstock-format model definition. Refer to the Woodstock technical documentation for the complete story."
   ]
  },
  {
   "cell_type": "markdown",
   "id": "c5eaed48-ed53-488e-a247-ace133a35591",
   "metadata": {},
   "source": [
    "> Note! Although we tried to make both the handed-coded model above and the Woodstock-format model below as similar as possible, a few differences have slipped in and the models are not totally equivalent (which explains why the same call to `schedule_harvest_areacontrol` produces somewhat different results. \n",
    "\n",
    "> This should not compromise the purpose of this notebook, but can be a bit distracting if you start comparing output from both parts of the example. We will try to fix this at some point to make output from both model match well enough that the differences will not be so evident to the naked eye."
   ]
  },
  {
   "cell_type": "code",
   "execution_count": 71,
   "id": "6c738d45-ce65-4c0c-8a39-4afa6bd84234",
   "metadata": {
    "tags": []
   },
   "outputs": [
    {
     "name": "stdout",
     "output_type": "stream",
     "text": [
      "mkdir: cannot create directory ‘data/_woodstock_model_files’: File exists\n"
     ]
    }
   ],
   "source": [
    "!mkdir data/_woodstock_model_files"
   ]
  },
  {
   "cell_type": "markdown",
   "id": "8395ca5d-2511-49e3-827a-115ae0dee0c7",
   "metadata": {},
   "source": [
    "## `LANDSCAPE` section"
   ]
  },
  {
   "cell_type": "markdown",
   "id": "cc93d3f1-3f03-4367-9312-66734a09357e",
   "metadata": {},
   "source": [
    "The `LANDSCAPE` section defines themes (i.e., state variables), theme basecodes (i.e., valid state variable values), and theme aggregates (i.e., groups of state variable values within a given theme, which can include aggregates with no [documented] limit on recursion depth)."
   ]
  },
  {
   "cell_type": "markdown",
   "id": "0cdfe484-2efa-4742-99f7-efdd2eef629f",
   "metadata": {},
   "source": [
    "We can start by printing `fm._theme_basecodes`, to provide a \"cheat sheet\" for the values we need to code into the `LANDSCAPE` section of our Woodstock model definition."
   ]
  },
  {
   "cell_type": "code",
   "execution_count": 72,
   "id": "c5a44754-e10a-4ddf-9f30-5925b71c3aab",
   "metadata": {
    "tags": []
   },
   "outputs": [
    {
     "data": {
      "text/plain": [
       "[['tsa24_clipped'],\n",
       " ['1', '0'],\n",
       " ['2403007',\n",
       "  '2401003',\n",
       "  '2401006',\n",
       "  '2403000',\n",
       "  '2401007',\n",
       "  '2402003',\n",
       "  '2403002',\n",
       "  '2402004',\n",
       "  '2401005',\n",
       "  '2402006',\n",
       "  '2401002',\n",
       "  '2403003',\n",
       "  '2401001',\n",
       "  '2403006',\n",
       "  '2402005',\n",
       "  '2403001',\n",
       "  '2402001',\n",
       "  '2403004',\n",
       "  '2401000',\n",
       "  '2402000',\n",
       "  '2402007',\n",
       "  '2403005',\n",
       "  '2401004',\n",
       "  '2402002'],\n",
       " ['104', '1201', '204', '100', '304'],\n",
       " ['2403007',\n",
       "  '2401003',\n",
       "  '2422000',\n",
       "  '2401006',\n",
       "  '2403000',\n",
       "  '2401007',\n",
       "  '2402003',\n",
       "  '2403002',\n",
       "  '2402004',\n",
       "  '2422004',\n",
       "  '2401005',\n",
       "  '2402006',\n",
       "  '2401002',\n",
       "  '2403003',\n",
       "  '2401001',\n",
       "  '2423007',\n",
       "  '2403006',\n",
       "  '2423000',\n",
       "  '2423002',\n",
       "  '2421007',\n",
       "  '2402005',\n",
       "  '2403001',\n",
       "  '2402001',\n",
       "  '2423001',\n",
       "  '2403004',\n",
       "  '2401000',\n",
       "  '2422007',\n",
       "  '2402000',\n",
       "  '2402007',\n",
       "  '2422003',\n",
       "  '2421002',\n",
       "  '2423004',\n",
       "  '2403005',\n",
       "  '2423003',\n",
       "  '2401004',\n",
       "  '2402002',\n",
       "  '2422002']]"
      ]
     },
     "execution_count": 72,
     "metadata": {},
     "output_type": "execute_result"
    }
   ],
   "source": [
    "fm._theme_basecodes"
   ]
  },
  {
   "cell_type": "markdown",
   "id": "418fb41b-986a-418e-bbde-2ac1705113c4",
   "metadata": {},
   "source": [
    "Print the THEME values to a format that we can easily copy and past into our text file to speed up coding this up."
   ]
  },
  {
   "cell_type": "code",
   "execution_count": 73,
   "id": "96ab4937-a238-46d3-a9ef-4137c1e88d78",
   "metadata": {
    "tags": []
   },
   "outputs": [
    {
     "name": "stdout",
     "output_type": "stream",
     "text": [
      "2403007\n",
      "2401003\n",
      "2401006\n",
      "2403000\n",
      "2401007\n",
      "2402003\n",
      "2403002\n",
      "2402004\n",
      "2401005\n",
      "2402006\n",
      "2401002\n",
      "2403003\n",
      "2401001\n",
      "2403006\n",
      "2402005\n",
      "2403001\n",
      "2402001\n",
      "2403004\n",
      "2401000\n",
      "2402000\n",
      "2402007\n",
      "2403005\n",
      "2401004\n",
      "2402002\n"
     ]
    }
   ],
   "source": [
    "for v in fm._theme_basecodes[2]: print(v)"
   ]
  },
  {
   "cell_type": "code",
   "execution_count": 74,
   "id": "b8a9c4a6-1dd2-406e-ae44-401c0e640d8e",
   "metadata": {
    "tags": []
   },
   "outputs": [
    {
     "name": "stdout",
     "output_type": "stream",
     "text": [
      "104\n",
      "1201\n",
      "204\n",
      "100\n",
      "304\n"
     ]
    }
   ],
   "source": [
    "for v in fm._theme_basecodes[3]: print(v)"
   ]
  },
  {
   "cell_type": "code",
   "execution_count": 75,
   "id": "82d92270-b21a-4799-915b-3b46a1b5d219",
   "metadata": {
    "tags": []
   },
   "outputs": [
    {
     "name": "stdout",
     "output_type": "stream",
     "text": [
      "2403007\n",
      "2401003\n",
      "2422000\n",
      "2401006\n",
      "2403000\n",
      "2401007\n",
      "2402003\n",
      "2403002\n",
      "2402004\n",
      "2422004\n",
      "2401005\n",
      "2402006\n",
      "2401002\n",
      "2403003\n",
      "2401001\n",
      "2423007\n",
      "2403006\n",
      "2423000\n",
      "2423002\n",
      "2421007\n",
      "2402005\n",
      "2403001\n",
      "2402001\n",
      "2423001\n",
      "2403004\n",
      "2401000\n",
      "2422007\n",
      "2402000\n",
      "2402007\n",
      "2422003\n",
      "2421002\n",
      "2423004\n",
      "2403005\n",
      "2423003\n",
      "2401004\n",
      "2402002\n",
      "2422002\n"
     ]
    }
   ],
   "source": [
    "for v in fm._theme_basecodes[4]: print(v)"
   ]
  },
  {
   "cell_type": "code",
   "execution_count": 76,
   "id": "b3bd2911-bad8-47ae-a27d-a0a1cd710239",
   "metadata": {
    "tags": []
   },
   "outputs": [],
   "source": [
    "landscape_section = \\\n",
    "\"\"\"\n",
    "*THEME Timber Supply Area (TSA)\n",
    "tsa24_clipped\n",
    "\n",
    "*THEME Timber Harvesting Land Base (THLB)\n",
    "0\n",
    "1\n",
    "\n",
    "*THEME Analysis Unit (AU)\n",
    "2402002\n",
    "2401007\n",
    "2402001\n",
    "2401005\n",
    "2402000\n",
    "2403004\n",
    "2403006\n",
    "2401004\n",
    "2401006\n",
    "2402004\n",
    "2402007\n",
    "2403005\n",
    "2401002\n",
    "2403007\n",
    "2403003\n",
    "2401000\n",
    "2402005\n",
    "2402006\n",
    "2401003\n",
    "2403002\n",
    "2402003\n",
    "2403000\n",
    "2401001\n",
    "2403001\n",
    "\n",
    "*THEME Leading tree species (CANFI species code)\n",
    "304\n",
    "100\n",
    "1201\n",
    "204\n",
    "104\n",
    "\n",
    "*THEME Yield curve ID\n",
    "2402002\n",
    "2401007\n",
    "2422007\n",
    "2402001\n",
    "2401005\n",
    "2422003\n",
    "2402000\n",
    "2403004\n",
    "2423004\n",
    "2403006\n",
    "2421007\n",
    "2423003\n",
    "2401004\n",
    "2401006\n",
    "2402004\n",
    "2421002\n",
    "2422004\n",
    "2423002\n",
    "2422002\n",
    "2402007\n",
    "2403005\n",
    "2401002\n",
    "2403007\n",
    "2423007\n",
    "2403003\n",
    "2401000\n",
    "2402005\n",
    "2402006\n",
    "2401003\n",
    "2423001\n",
    "2403002\n",
    "2402003\n",
    "2422000\n",
    "2403000\n",
    "2401001\n",
    "2423000\n",
    "2403001\n",
    "\"\"\""
   ]
  },
  {
   "cell_type": "code",
   "execution_count": 77,
   "id": "6cb3f630-a475-43a8-b933-15b9cfc4670a",
   "metadata": {
    "tags": []
   },
   "outputs": [],
   "source": [
    "with open('data/_woodstock_model_files/tsa24_clipped.lan', 'w') as f: f.write(landscape_section)"
   ]
  },
  {
   "cell_type": "markdown",
   "id": "45e2538c-62e6-4d63-aa04-ef33a923ba19",
   "metadata": {},
   "source": [
    "## `AREAS` section\n",
    "\n",
    "The `AREAS` section defines the initial inventory, as area by development type and age. "
   ]
  },
  {
   "cell_type": "markdown",
   "id": "087f1eb5-0e4a-45fc-8faa-5c81eac6b906",
   "metadata": {},
   "source": [
    "Rather can manually code this section (which would be long and also prone to user error), we can use a bit of code to print the required information in the correct format (which we can then copy and paste)."
   ]
  },
  {
   "cell_type": "code",
   "execution_count": 78,
   "id": "e2dc1ac7-cfd0-44c4-8ea8-db105506423d",
   "metadata": {
    "tags": []
   },
   "outputs": [
    {
     "name": "stdout",
     "output_type": "stream",
     "text": [
      "*A tsa24_clipped 0 2401000 100 2401000 85 15.182274886309896\n",
      "*A tsa24_clipped 0 2401000 100 2401000 95 20.653788842921458\n",
      "*A tsa24_clipped 0 2401000 100 2401000 105 1.109374490200082\n",
      "*A tsa24_clipped 0 2401000 100 2401000 125 25.73174833461312\n",
      "*A tsa24_clipped 0 2401000 100 2401000 135 62.02382759721078\n",
      "*A tsa24_clipped 0 2401000 100 2401000 145 45.32228954967691\n",
      "*A tsa24_clipped 0 2401000 100 2401000 155 3.052804424896181\n",
      "*A tsa24_clipped 0 2402005 1201 2402005 85 1.812979326195168\n",
      "*A tsa24_clipped 1 2401002 204 2401002 78 103.76740323520823\n",
      "*A tsa24_clipped 1 2401002 204 2401002 80 4.173147018452507\n",
      "*A tsa24_clipped 1 2401002 204 2401002 85 282.1296355046733\n",
      "*A tsa24_clipped 1 2401002 204 2401002 91 73.1021561503533\n",
      "*A tsa24_clipped 1 2401002 204 2401002 93 28.37956666951611\n",
      "*A tsa24_clipped 1 2401002 204 2401002 95 94.94675966211176\n",
      "*A tsa24_clipped 1 2401002 204 2401002 105 32.175418531537815\n",
      "*A tsa24_clipped 1 2401002 204 2401002 113 4.184826329641321\n",
      "*A tsa24_clipped 1 2401002 204 2401002 115 50.030816858894816\n",
      "*A tsa24_clipped 1 2401002 204 2401002 125 78.16612132001225\n",
      "*A tsa24_clipped 1 2401002 204 2401002 135 72.24421919373785\n",
      "*A tsa24_clipped 1 2401002 204 2401002 145 96.38442685503642\n",
      "*A tsa24_clipped 1 2401002 204 2401002 153 9.591469412607397\n",
      "*A tsa24_clipped 1 2401002 204 2401002 155 34.32629241113743\n",
      "*A tsa24_clipped 1 2401002 204 2421002 20 0.422054121206099\n",
      "*A tsa24_clipped 1 2402000 100 2402000 165 0.638005468748551\n",
      "*A tsa24_clipped 1 2402002 204 2402002 78 32.64168183055375\n",
      "*A tsa24_clipped 1 2402002 204 2402002 93 48.21816452980633\n",
      "*A tsa24_clipped 1 2402002 204 2402002 95 33.89498244313859\n",
      "*A tsa24_clipped 1 2402002 204 2402002 115 3.195378954654358\n",
      "*A tsa24_clipped 1 2403000 100 2403000 93 14.811643286926836\n",
      "*A tsa24_clipped 1 2403002 204 2403002 73 2.243990590272984\n",
      "*A tsa24_clipped 1 2403002 204 2423002 9 59.81429119367274\n",
      "*A tsa24_clipped 1 2403002 204 2423002 18 32.366198551219505\n"
     ]
    }
   ],
   "source": [
    "for name, group in gstands:\n",
    "    dtk, age, area = tuple(map(lambda x: str(x), name[:-1])), int(name[-1]), group['area'].sum()\n",
    "    print('*A', ' '.join(v for v in dtk), age, area)"
   ]
  },
  {
   "cell_type": "code",
   "execution_count": 79,
   "id": "362774d0-9988-432b-8a4e-ad69fd74cb62",
   "metadata": {},
   "outputs": [],
   "source": [
    "areas_section = \\\n",
    "\"\"\"\n",
    "*A tsa24_clipped 0 2401000 100 2401000 85 15.182274886309896\n",
    "*A tsa24_clipped 0 2401000 100 2401000 95 20.653788842921458\n",
    "*A tsa24_clipped 0 2401000 100 2401000 105 1.109374490200082\n",
    "*A tsa24_clipped 0 2401000 100 2401000 125 25.73174833461312\n",
    "*A tsa24_clipped 0 2401000 100 2401000 135 62.02382759721078\n",
    "*A tsa24_clipped 0 2401000 100 2401000 145 45.32228954967691\n",
    "*A tsa24_clipped 0 2401000 100 2401000 155 3.052804424896181\n",
    "*A tsa24_clipped 0 2402005 1201 2402005 85 1.812979326195168\n",
    "*A tsa24_clipped 1 2401002 204 2401002 78 103.76740323520823\n",
    "*A tsa24_clipped 1 2401002 204 2401002 80 4.173147018452507\n",
    "*A tsa24_clipped 1 2401002 204 2401002 85 282.1296355046733\n",
    "*A tsa24_clipped 1 2401002 204 2401002 91 73.1021561503533\n",
    "*A tsa24_clipped 1 2401002 204 2401002 93 28.37956666951611\n",
    "*A tsa24_clipped 1 2401002 204 2401002 95 94.94675966211176\n",
    "*A tsa24_clipped 1 2401002 204 2401002 105 32.175418531537815\n",
    "*A tsa24_clipped 1 2401002 204 2401002 113 4.184826329641321\n",
    "*A tsa24_clipped 1 2401002 204 2401002 115 50.030816858894816\n",
    "*A tsa24_clipped 1 2401002 204 2401002 125 78.16612132001225\n",
    "*A tsa24_clipped 1 2401002 204 2401002 135 72.24421919373785\n",
    "*A tsa24_clipped 1 2401002 204 2401002 145 96.38442685503642\n",
    "*A tsa24_clipped 1 2401002 204 2401002 153 9.591469412607397\n",
    "*A tsa24_clipped 1 2401002 204 2401002 155 34.32629241113743\n",
    "*A tsa24_clipped 1 2401002 204 2421002 20 0.422054121206099\n",
    "*A tsa24_clipped 1 2402000 100 2402000 165 0.638005468748551\n",
    "*A tsa24_clipped 1 2402002 204 2402002 78 32.64168183055375\n",
    "*A tsa24_clipped 1 2402002 204 2402002 93 48.21816452980633\n",
    "*A tsa24_clipped 1 2402002 204 2402002 95 33.89498244313859\n",
    "*A tsa24_clipped 1 2402002 204 2402002 115 3.195378954654358\n",
    "*A tsa24_clipped 1 2403000 100 2403000 93 14.811643286926836\n",
    "*A tsa24_clipped 1 2403002 204 2403002 73 2.243990590272984\n",
    "*A tsa24_clipped 1 2403002 204 2423002 9 59.81429119367274\n",
    "*A tsa24_clipped 1 2403002 204 2423002 18 32.366198551219505\n",
    "\"\"\""
   ]
  },
  {
   "cell_type": "code",
   "execution_count": 80,
   "id": "d63d445a-b720-4633-8ff9-421fb132308e",
   "metadata": {},
   "outputs": [],
   "source": [
    "with open('data/_woodstock_model_files/tsa24_clipped.are', 'w') as f: f.write(areas_section)"
   ]
  },
  {
   "cell_type": "markdown",
   "id": "473cefbc-cc18-4e4d-b8e2-5c4274a06e70",
   "metadata": {
    "tags": []
   },
   "source": [
    "## `YIELDS` section\n",
    "\n",
    "The `YIELDS` section defines yield curves and links these to development types.\n",
    "\n",
    "We can use a bit of code to output the required data in the correct format. It would be possible to manually code this (like any other section) but would be long and error prone."
   ]
  },
  {
   "cell_type": "code",
   "execution_count": 81,
   "id": "3c0c760f-0a15-46e9-ac6b-0d82a748f6d1",
   "metadata": {},
   "outputs": [
    {
     "data": {
      "text/plain": [
       "[(('?', '?', '2401000', '?', '2401000'),\n",
       "  'a',\n",
       "  [('s0100', <ws3.core.Curve at 0x7fa7d0ef3ac0>)]),\n",
       " (('?', '?', '2401000', '?', '2401000'),\n",
       "  'a',\n",
       "  [('s0100', <ws3.core.Curve at 0x7fa7d0ef3ac0>)]),\n",
       " (('?', '?', '2402000', '?', '2402000'),\n",
       "  'a',\n",
       "  [('s0100', <ws3.core.Curve at 0x7fa7d0b6a6e0>)]),\n",
       " (('?', '?', '2402000', '?', '2422000'),\n",
       "  'a',\n",
       "  [('s0100', <ws3.core.Curve at 0x7fa7d0b6bd60>)]),\n",
       " (('?', '?', '2403000', '?', '2403000'),\n",
       "  'a',\n",
       "  [('s0100', <ws3.core.Curve at 0x7fa7d0b6bc70>)]),\n",
       " (('?', '?', '2403000', '?', '2423000'),\n",
       "  'a',\n",
       "  [('s0100', <ws3.core.Curve at 0x7fa7d0c4a470>)]),\n",
       " (('?', '?', '2401001', '?', '2401001'),\n",
       "  'a',\n",
       "  [('s0304', <ws3.core.Curve at 0x7fa7d0c4a380>)]),\n",
       " (('?', '?', '2401001', '?', '2401001'),\n",
       "  'a',\n",
       "  [('s0304', <ws3.core.Curve at 0x7fa7d0c4a380>)]),\n",
       " (('?', '?', '2402001', '?', '2402001'),\n",
       "  'a',\n",
       "  [('s0304', <ws3.core.Curve at 0x7fa7d0c4a5c0>)]),\n",
       " (('?', '?', '2402001', '?', '2402001'),\n",
       "  'a',\n",
       "  [('s0304', <ws3.core.Curve at 0x7fa7d0c4a5c0>)]),\n",
       " (('?', '?', '2403001', '?', '2403001'),\n",
       "  'a',\n",
       "  [('s0304', <ws3.core.Curve at 0x7fa7d0c484f0>)]),\n",
       " (('?', '?', '2403001', '?', '2423001'),\n",
       "  'a',\n",
       "  [('s0304', <ws3.core.Curve at 0x7fa7d0c48430>)]),\n",
       " (('?', '?', '2401002', '?', '2401002'),\n",
       "  'a',\n",
       "  [('s0204', <ws3.core.Curve at 0x7fa7d0c4a320>)]),\n",
       " (('?', '?', '2401002', '?', '2421002'),\n",
       "  'a',\n",
       "  [('s0204', <ws3.core.Curve at 0x7fa7d0c4a500>)]),\n",
       " (('?', '?', '2402002', '?', '2402002'),\n",
       "  'a',\n",
       "  [('s0204', <ws3.core.Curve at 0x7fa7d0c494b0>)]),\n",
       " (('?', '?', '2402002', '?', '2422002'),\n",
       "  'a',\n",
       "  [('s0204', <ws3.core.Curve at 0x7fa7d0c4a5f0>)]),\n",
       " (('?', '?', '2403002', '?', '2403002'),\n",
       "  'a',\n",
       "  [('s0204', <ws3.core.Curve at 0x7fa7d0c49450>)]),\n",
       " (('?', '?', '2403002', '?', '2423002'),\n",
       "  'a',\n",
       "  [('s0204', <ws3.core.Curve at 0x7fa7d0c4a620>)]),\n",
       " (('?', '?', '2401003', '?', '2401003'),\n",
       "  'a',\n",
       "  [('s0304', <ws3.core.Curve at 0x7fa7d0c48280>)]),\n",
       " (('?', '?', '2401003', '?', '2401003'),\n",
       "  'a',\n",
       "  [('s0304', <ws3.core.Curve at 0x7fa7d0c48280>)]),\n",
       " (('?', '?', '2402003', '?', '2402003'),\n",
       "  'a',\n",
       "  [('s0304', <ws3.core.Curve at 0x7fa7d0c484c0>)]),\n",
       " (('?', '?', '2402003', '?', '2422003'),\n",
       "  'a',\n",
       "  [('s0304', <ws3.core.Curve at 0x7fa7d0c49840>)]),\n",
       " (('?', '?', '2403003', '?', '2403003'),\n",
       "  'a',\n",
       "  [('s0304', <ws3.core.Curve at 0x7fa7d0c4a3b0>)]),\n",
       " (('?', '?', '2403003', '?', '2423003'),\n",
       "  'a',\n",
       "  [('s0304', <ws3.core.Curve at 0x7fa7d0c49750>)]),\n",
       " (('?', '?', '2401004', '?', '2401004'),\n",
       "  'a',\n",
       "  [('s0104', <ws3.core.Curve at 0x7fa7d0c499f0>)]),\n",
       " (('?', '?', '2401004', '?', '2401004'),\n",
       "  'a',\n",
       "  [('s0104', <ws3.core.Curve at 0x7fa7d0c499f0>)]),\n",
       " (('?', '?', '2402004', '?', '2402004'),\n",
       "  'a',\n",
       "  [('s0104', <ws3.core.Curve at 0x7fa7d0c49a80>)]),\n",
       " (('?', '?', '2402004', '?', '2422004'),\n",
       "  'a',\n",
       "  [('s0104', <ws3.core.Curve at 0x7fa7d0c498d0>)]),\n",
       " (('?', '?', '2403004', '?', '2403004'),\n",
       "  'a',\n",
       "  [('s0104', <ws3.core.Curve at 0x7fa7d0c49a50>)]),\n",
       " (('?', '?', '2403004', '?', '2423004'),\n",
       "  'a',\n",
       "  [('s0104', <ws3.core.Curve at 0x7fa7d0c49cf0>)]),\n",
       " (('?', '?', '2401005', '?', '2401005'),\n",
       "  'a',\n",
       "  [('s1201', <ws3.core.Curve at 0x7fa7d0c495d0>)]),\n",
       " (('?', '?', '2401005', '?', '2401005'),\n",
       "  'a',\n",
       "  [('s1201', <ws3.core.Curve at 0x7fa7d0c495d0>)]),\n",
       " (('?', '?', '2402005', '?', '2402005'),\n",
       "  'a',\n",
       "  [('s1201', <ws3.core.Curve at 0x7fa7d0c49e40>)]),\n",
       " (('?', '?', '2402005', '?', '2402005'),\n",
       "  'a',\n",
       "  [('s1201', <ws3.core.Curve at 0x7fa7d0c49e40>)]),\n",
       " (('?', '?', '2403005', '?', '2403005'),\n",
       "  'a',\n",
       "  [('s1201', <ws3.core.Curve at 0x7fa7d0c49b70>)]),\n",
       " (('?', '?', '2403005', '?', '2403005'),\n",
       "  'a',\n",
       "  [('s1201', <ws3.core.Curve at 0x7fa7d0c49b70>)]),\n",
       " (('?', '?', '2401006', '?', '2401006'),\n",
       "  'a',\n",
       "  [('s1201', <ws3.core.Curve at 0x7fa7d0c49c00>)]),\n",
       " (('?', '?', '2401006', '?', '2401006'),\n",
       "  'a',\n",
       "  [('s1201', <ws3.core.Curve at 0x7fa7d0c49c00>)]),\n",
       " (('?', '?', '2402006', '?', '2402006'),\n",
       "  'a',\n",
       "  [('s1201', <ws3.core.Curve at 0x7fa7d0c4a530>)]),\n",
       " (('?', '?', '2402006', '?', '2402006'),\n",
       "  'a',\n",
       "  [('s1201', <ws3.core.Curve at 0x7fa7d0c4a530>)]),\n",
       " (('?', '?', '2403006', '?', '2403006'),\n",
       "  'a',\n",
       "  [('s1201', <ws3.core.Curve at 0x7fa7d0c4a110>)]),\n",
       " (('?', '?', '2403006', '?', '2403006'),\n",
       "  'a',\n",
       "  [('s1201', <ws3.core.Curve at 0x7fa7d0c4a110>)]),\n",
       " (('?', '?', '2401007', '?', '2401007'),\n",
       "  'a',\n",
       "  [('s0100', <ws3.core.Curve at 0x7fa7d0c4aa40>)]),\n",
       " (('?', '?', '2401007', '?', '2421007'),\n",
       "  'a',\n",
       "  [('s0100', <ws3.core.Curve at 0x7fa7d0c4ab30>)]),\n",
       " (('?', '?', '2402007', '?', '2402007'),\n",
       "  'a',\n",
       "  [('s0100', <ws3.core.Curve at 0x7fa7d0c4a9e0>)]),\n",
       " (('?', '?', '2402007', '?', '2422007'),\n",
       "  'a',\n",
       "  [('s0100', <ws3.core.Curve at 0x7fa7d0c4a260>)]),\n",
       " (('?', '?', '2403007', '?', '2403007'),\n",
       "  'a',\n",
       "  [('s0100', <ws3.core.Curve at 0x7fa7d0c4a1d0>)]),\n",
       " (('?', '?', '2403007', '?', '2423007'),\n",
       "  'a',\n",
       "  [('s0100', <ws3.core.Curve at 0x7fa7d0c4a920>)]),\n",
       " (('?', '?', '?', '?', '?'),\n",
       "  'c',\n",
       "  [('totvol', '_SUM(s0104, s0304, s0100, s0204, s1201)')])]"
      ]
     },
     "execution_count": 81,
     "metadata": {},
     "output_type": "execute_result"
    }
   ],
   "source": [
    "fm.yields"
   ]
  },
  {
   "cell_type": "code",
   "execution_count": 82,
   "id": "7fcb6ece-075d-4a9b-a3ba-0ec9ff0d4bb1",
   "metadata": {},
   "outputs": [
    {
     "name": "stdout",
     "output_type": "stream",
     "text": [
      "*Y ? ? 2401000 ? 2401000\n",
      "s0100 1 0 1 5 10 16 24 33 43 54 64 75 85 95 104 113 121 127 133 138 143 146 148 150 151 151 150 149 147 145 145\n",
      "*Y ? ? 2401000 ? 2401000\n",
      "s0100 1 0 1 5 10 16 24 33 43 54 64 75 85 95 104 113 121 127 133 138 143 146 148 150 151 151 150 149 147 145 145\n",
      "*Y ? ? 2402000 ? 2402000\n",
      "s0100 1 4 13 27 42 58 76 93 110 126 141 156 169 182 193 203 211 219 225 231 235 238 240 242 242 242 241 240 238 235 235\n",
      "*Y ? ? 2402000 ? 2422000\n",
      "s0100 1 0 0 0 0 3 18 46 79 112 144 171 195 215 234 248 261 272 282 290 298 305 311 316 320 325 328 330 333 335 336\n",
      "*Y ? ? 2403000 ? 2403000\n",
      "s0100 1 3 15 37 67 99 133 166 197 225 250 272 290 305 316 325 330 333 333 331 328 322 316 308 299 289 279 268 257 246 246\n",
      "*Y ? ? 2403000 ? 2423000\n",
      "s0100 1 0 0 0 5 38 88 142 190 231 265 293 315 334 350 365 377 388 396 403 410 416 420 424 427 429 431 433 433 433 433\n",
      "*Y ? ? 2401001 ? 2401001\n",
      "s0304 1 0 0 0 0 0 0 2 5 11 18 25 32 40 47 54 62 66 70 75 79 83 88 92 94 95 97 97 97 97 97\n",
      "*Y ? ? 2401001 ? 2401001\n",
      "s0304 1 0 0 0 0 0 0 2 5 11 18 25 32 40 47 54 62 66 70 75 79 83 88 92 94 95 97 97 97 97 97\n",
      "*Y ? ? 2402001 ? 2402001\n",
      "s0304 1 0 0 0 0 0 3 8 17 29 43 57 71 84 96 107 117 125 132 138 143 146 149 150 151 151 150 149 146 144 144\n",
      "*Y ? ? 2402001 ? 2402001\n",
      "s0304 1 0 0 0 0 0 3 8 17 29 43 57 71 84 96 107 117 125 132 138 143 146 149 150 151 151 150 149 146 144 144\n",
      "*Y ? ? 2403001 ? 2403001\n",
      "s0304 1 0 0 1 6 16 30 48 68 87 106 123 140 154 167 178 188 195 201 206 209 210 211 210 209 206 203 199 195 190 190\n",
      "*Y ? ? 2403001 ? 2423001\n",
      "s0304 1 0 0 0 0 0 0 6 21 43 70 97 126 152 176 199 218 236 252 265 277 288 297 306 314 321 326 331 336 339 340\n",
      "*Y ? ? 2401002 ? 2401002\n",
      "s0204 1 0 4 12 25 40 57 73 89 103 116 128 137 145 152 157 160 162 163 163 162 160 158 154 151 147 142 137 132 127 127\n",
      "*Y ? ? 2401002 ? 2421002\n",
      "s0204 1 0 0 0 0 1 7 23 47 71 94 114 132 146 157 166 173 179 183 187 190 191 192 193 194 195 195 195 196 196 196\n",
      "*Y ? ? 2402002 ? 2402002\n",
      "s0204 1 5 18 37 57 79 101 122 142 160 176 191 203 214 222 229 233 237 238 239 238 236 233 229 224 219 213 207 201 194 194\n",
      "*Y ? ? 2402002 ? 2422002\n",
      "s0204 1 0 0 0 1 16 55 100 143 180 208 231 247 261 271 278 282 286 288 289 290 291 292 292 293 293 293 293 293 293 293\n",
      "*Y ? ? 2403002 ? 2403002\n",
      "s0204 1 8 29 59 93 129 165 200 232 261 287 309 328 343 355 363 368 371 371 369 365 359 352 344 334 324 313 301 290 277 277\n",
      "*Y ? ? 2403002 ? 2423002\n",
      "s0204 1 0 0 0 24 98 184 257 312 353 380 400 413 422 428 433 435 436 437 436 434 433 431 430 429 428 428 428 428 428 428\n",
      "*Y ? ? 2401003 ? 2401003\n",
      "s0304 1 0 0 0 1 6 15 27 42 58 74 89 103 116 127 137 145 152 157 161 164 166 167 166 165 163 161 158 154 150 150\n",
      "*Y ? ? 2401003 ? 2401003\n",
      "s0304 1 0 0 0 1 6 15 27 42 58 74 89 103 116 127 137 145 152 157 161 164 166 167 166 165 163 161 158 154 150 150\n",
      "*Y ? ? 2402003 ? 2402003\n",
      "s0304 1 0 0 2 9 22 42 67 94 120 145 168 189 207 222 235 245 252 258 261 262 261 259 255 251 245 238 231 223 215 215\n",
      "*Y ? ? 2402003 ? 2422003\n",
      "s0304 1 0 0 0 0 0 6 25 52 84 117 150 180 206 228 247 263 277 290 301 311 319 327 333 338 342 347 350 353 357 358\n",
      "*Y ? ? 2403003 ? 2403003\n",
      "s0304 1 6 25 53 86 120 155 189 220 249 275 297 315 330 342 350 356 359 359 357 354 348 341 333 324 314 304 293 281 270 270\n",
      "*Y ? ? 2403003 ? 2423003\n",
      "s0304 1 0 0 0 1 17 60 114 170 221 264 299 327 352 372 390 404 416 426 435 443 450 456 461 466 469 471 473 474 475 476\n",
      "*Y ? ? 2401004 ? 2401004\n",
      "s0104 1 0 0 0 0 0 2 6 12 22 33 45 58 70 83 94 105 115 125 133 139 145 150 154 157 159 160 160 159 158 158\n",
      "*Y ? ? 2401004 ? 2401004\n",
      "s0104 1 0 0 0 0 0 2 6 12 22 33 45 58 70 83 94 105 115 125 133 139 145 150 154 157 159 160 160 159 158 158\n",
      "*Y ? ? 2402004 ? 2402004\n",
      "s0104 1 0 0 0 1 4 11 22 35 51 68 87 106 125 142 159 174 188 199 209 216 222 225 227 228 226 224 220 215 209 209\n",
      "*Y ? ? 2402004 ? 2422004\n",
      "s0104 1 0 0 0 0 0 0 5 18 37 60 85 111 134 156 176 194 210 224 236 247 257 265 273 280 286 291 296 300 303 304\n",
      "*Y ? ? 2403004 ? 2403004\n",
      "s0104 1 0 0 1 6 16 33 55 80 105 129 153 175 195 213 229 242 253 262 269 274 277 279 279 277 275 271 267 261 255 255\n",
      "*Y ? ? 2403004 ? 2423004\n",
      "s0104 1 0 0 0 0 1 10 33 63 98 133 165 195 222 245 266 284 301 316 329 341 351 360 368 374 380 384 387 390 393 394\n",
      "*Y ? ? 2401005 ? 2401005\n",
      "s1201 1 2 12 30 53 78 102 124 144 160 174 184 191 196 198 198 196 193 188 182 175 168 161 153 145 137 129 120 112 105 105\n",
      "*Y ? ? 2401005 ? 2401005\n",
      "s1201 1 2 12 30 53 78 102 124 144 160 174 184 191 196 198 198 196 193 188 182 175 168 161 153 145 137 129 120 112 105 105\n",
      "*Y ? ? 2402005 ? 2402005\n",
      "s1201 1 8 30 59 89 118 146 170 191 208 221 230 237 240 240 238 234 229 222 214 205 196 186 176 166 156 146 137 127 118 118\n",
      "*Y ? ? 2402005 ? 2402005\n",
      "s1201 1 8 30 59 89 118 146 170 191 208 221 230 237 240 240 238 234 229 222 214 205 196 186 176 166 156 146 137 127 118 118\n",
      "*Y ? ? 2403005 ? 2403005\n",
      "s1201 1 10 37 73 111 148 183 214 240 260 276 287 294 297 296 292 286 278 268 258 246 233 220 208 195 182 169 158 146 135 135\n",
      "*Y ? ? 2403005 ? 2403005\n",
      "s1201 1 10 37 73 111 148 183 214 240 260 276 287 294 297 296 292 286 278 268 258 246 233 220 208 195 182 169 158 146 135 135\n",
      "*Y ? ? 2401006 ? 2401006\n",
      "s1201 1 4 17 35 57 79 101 121 139 155 168 179 187 193 197 199 199 198 196 192 188 182 176 170 163 156 149 142 134 127 127\n",
      "*Y ? ? 2401006 ? 2401006\n",
      "s1201 1 4 17 35 57 79 101 121 139 155 168 179 187 193 197 199 199 198 196 192 188 182 176 170 163 156 149 142 134 127 127\n",
      "*Y ? ? 2402006 ? 2402006\n",
      "s1201 1 8 30 59 90 121 150 176 199 219 234 246 255 260 262 262 260 255 249 242 234 225 215 205 195 184 174 164 154 144 144\n",
      "*Y ? ? 2402006 ? 2402006\n",
      "s1201 1 8 30 59 90 121 150 176 199 219 234 246 255 260 262 262 260 255 249 242 234 225 215 205 195 184 174 164 154 144 144\n",
      "*Y ? ? 2403006 ? 2403006\n",
      "s1201 1 9 35 69 106 143 178 210 237 260 279 293 302 308 310 309 306 300 292 283 273 261 250 237 225 212 199 187 175 163 163\n",
      "*Y ? ? 2403006 ? 2403006\n",
      "s1201 1 9 35 69 106 143 178 210 237 260 279 293 302 308 310 309 306 300 292 283 273 261 250 237 225 212 199 187 175 163 163\n",
      "*Y ? ? 2401007 ? 2401007\n",
      "s0100 1 0 0 3 12 27 47 71 95 119 140 160 177 191 203 213 220 225 228 229 228 226 223 218 213 207 200 193 186 178 178\n",
      "*Y ? ? 2401007 ? 2421007\n",
      "s0100 1 0 0 0 0 3 19 49 83 118 151 180 205 226 245 261 275 286 296 305 313 320 327 332 337 341 344 347 350 352 353\n",
      "*Y ? ? 2402007 ? 2402007\n",
      "s0100 1 0 2 12 29 54 83 113 142 170 194 216 235 250 263 272 278 282 283 283 280 276 270 263 256 247 238 229 219 209 209\n",
      "*Y ? ? 2402007 ? 2422007\n",
      "s0100 1 0 0 0 2 24 65 114 161 201 235 264 288 307 323 338 351 362 371 379 385 391 396 401 405 407 410 412 413 414 415\n",
      "*Y ? ? 2403007 ? 2403007\n",
      "s0100 1 6 28 61 100 143 186 226 264 297 326 350 370 384 395 402 404 404 401 395 387 378 367 354 341 327 313 298 284 269 269\n",
      "*Y ? ? 2403007 ? 2423007\n",
      "s0100 1 0 0 0 30 99 177 244 300 343 378 407 432 452 468 483 495 505 513 519 523 526 529 531 534 535 535 535 535 536 535\n"
     ]
    }
   ],
   "source": [
    "for au_id, au_row in au_table.iterrows():\n",
    "    yname = 's%04d' % int(au_row.canfi_species)\n",
    "    for is_managed in (0, 1):\n",
    "        curve_id = au_row.unmanaged_curve_id if not is_managed else au_row.managed_curve_id\n",
    "        mask = ('?', '?', str(au_id), '?', str(curve_id))\n",
    "        points = [(r.x, r.y) for _, r in curve_points_table.loc[curve_id].iterrows() if not r.x % period_length and r.x <= max_age]\n",
    "        c = ws3.core.Curve(yname, points=points, type='a', is_volume=True, xmax=fm.max_age, period_length=period_length)\n",
    "        print('*Y', ' '.join(v for v in mask))\n",
    "        print(yname, '1', ' '.join(str(int(c[x])) for x in range(fm.period_length, 300+fm.period_length, fm.period_length)))"
   ]
  },
  {
   "cell_type": "code",
   "execution_count": 83,
   "id": "d7842c82-546e-47bf-be8f-c1cf546c24d0",
   "metadata": {},
   "outputs": [],
   "source": [
    "yields_section = \\\n",
    "\"\"\"\n",
    "*Y ? ? 2401000 ? 2401000\n",
    "s0100 1 0 1 5 10 16 24 33 43 54 64 75 85 95 104 113 121 127 133 138 143 146 148 150 151 151 150 149 147 145 145\n",
    "*Y ? ? 2401000 ? 2401000\n",
    "s0100 1 0 1 5 10 16 24 33 43 54 64 75 85 95 104 113 121 127 133 138 143 146 148 150 151 151 150 149 147 145 145\n",
    "*Y ? ? 2402000 ? 2402000\n",
    "s0100 1 4 13 27 42 58 76 93 110 126 141 156 169 182 193 203 211 219 225 231 235 238 240 242 242 242 241 240 238 235 235\n",
    "*Y ? ? 2402000 ? 2422000\n",
    "s0100 1 0 0 0 0 3 18 46 79 112 144 171 195 215 234 248 261 272 282 290 298 305 311 316 320 325 328 330 333 335 336\n",
    "*Y ? ? 2403000 ? 2403000\n",
    "s0100 1 3 15 37 67 99 133 166 197 225 250 272 290 305 316 325 330 333 333 331 328 322 316 308 299 289 279 268 257 246 246\n",
    "*Y ? ? 2403000 ? 2423000\n",
    "s0100 1 0 0 0 5 38 88 142 190 231 265 293 315 334 350 365 377 388 396 403 410 416 420 424 427 429 431 433 433 433 433\n",
    "*Y ? ? 2401001 ? 2401001\n",
    "s0304 1 0 0 0 0 0 0 2 5 11 18 25 32 40 47 54 62 66 70 75 79 83 88 92 94 95 97 97 97 97 97\n",
    "*Y ? ? 2401001 ? 2401001\n",
    "s0304 1 0 0 0 0 0 0 2 5 11 18 25 32 40 47 54 62 66 70 75 79 83 88 92 94 95 97 97 97 97 97\n",
    "*Y ? ? 2402001 ? 2402001\n",
    "s0304 1 0 0 0 0 0 3 8 17 29 43 57 71 84 96 107 117 125 132 138 143 146 149 150 151 151 150 149 146 144 144\n",
    "*Y ? ? 2402001 ? 2402001\n",
    "s0304 1 0 0 0 0 0 3 8 17 29 43 57 71 84 96 107 117 125 132 138 143 146 149 150 151 151 150 149 146 144 144\n",
    "*Y ? ? 2403001 ? 2403001\n",
    "s0304 1 0 0 1 6 16 30 48 68 87 106 123 140 154 167 178 188 195 201 206 209 210 211 210 209 206 203 199 195 190 190\n",
    "*Y ? ? 2403001 ? 2423001\n",
    "s0304 1 0 0 0 0 0 0 6 21 43 70 97 126 152 176 199 218 236 252 265 277 288 297 306 314 321 326 331 336 339 340\n",
    "*Y ? ? 2401002 ? 2401002\n",
    "s0204 1 0 4 12 25 40 57 73 89 103 116 128 137 145 152 157 160 162 163 163 162 160 158 154 151 147 142 137 132 127 127\n",
    "*Y ? ? 2401002 ? 2421002\n",
    "s0204 1 0 0 0 0 1 7 23 47 71 94 114 132 146 157 166 173 179 183 187 190 191 192 193 194 195 195 195 196 196 196\n",
    "*Y ? ? 2402002 ? 2402002\n",
    "s0204 1 5 18 37 57 79 101 122 142 160 176 191 203 214 222 229 233 237 238 239 238 236 233 229 224 219 213 207 201 194 194\n",
    "*Y ? ? 2402002 ? 2422002\n",
    "s0204 1 0 0 0 1 16 55 100 143 180 208 231 247 261 271 278 282 286 288 289 290 291 292 292 293 293 293 293 293 293 293\n",
    "*Y ? ? 2403002 ? 2403002\n",
    "s0204 1 8 29 59 93 129 165 200 232 261 287 309 328 343 355 363 368 371 371 369 365 359 352 344 334 324 313 301 290 277 277\n",
    "*Y ? ? 2403002 ? 2423002\n",
    "s0204 1 0 0 0 24 98 184 257 312 353 380 400 413 422 428 433 435 436 437 436 434 433 431 430 429 428 428 428 428 428 428\n",
    "*Y ? ? 2401003 ? 2401003\n",
    "s0304 1 0 0 0 1 6 15 27 42 58 74 89 103 116 127 137 145 152 157 161 164 166 167 166 165 163 161 158 154 150 150\n",
    "*Y ? ? 2401003 ? 2401003\n",
    "s0304 1 0 0 0 1 6 15 27 42 58 74 89 103 116 127 137 145 152 157 161 164 166 167 166 165 163 161 158 154 150 150\n",
    "*Y ? ? 2402003 ? 2402003\n",
    "s0304 1 0 0 2 9 22 42 67 94 120 145 168 189 207 222 235 245 252 258 261 262 261 259 255 251 245 238 231 223 215 215\n",
    "*Y ? ? 2402003 ? 2422003\n",
    "s0304 1 0 0 0 0 0 6 25 52 84 117 150 180 206 228 247 263 277 290 301 311 319 327 333 338 342 347 350 353 357 358\n",
    "*Y ? ? 2403003 ? 2403003\n",
    "s0304 1 6 25 53 86 120 155 189 220 249 275 297 315 330 342 350 356 359 359 357 354 348 341 333 324 314 304 293 281 270 270\n",
    "*Y ? ? 2403003 ? 2423003\n",
    "s0304 1 0 0 0 1 17 60 114 170 221 264 299 327 352 372 390 404 416 426 435 443 450 456 461 466 469 471 473 474 475 476\n",
    "*Y ? ? 2401004 ? 2401004\n",
    "s0104 1 0 0 0 0 0 2 6 12 22 33 45 58 70 83 94 105 115 125 133 139 145 150 154 157 159 160 160 159 158 158\n",
    "*Y ? ? 2401004 ? 2401004\n",
    "s0104 1 0 0 0 0 0 2 6 12 22 33 45 58 70 83 94 105 115 125 133 139 145 150 154 157 159 160 160 159 158 158\n",
    "*Y ? ? 2402004 ? 2402004\n",
    "s0104 1 0 0 0 1 4 11 22 35 51 68 87 106 125 142 159 174 188 199 209 216 222 225 227 228 226 224 220 215 209 209\n",
    "*Y ? ? 2402004 ? 2422004\n",
    "s0104 1 0 0 0 0 0 0 5 18 37 60 85 111 134 156 176 194 210 224 236 247 257 265 273 280 286 291 296 300 303 304\n",
    "*Y ? ? 2403004 ? 2403004\n",
    "s0104 1 0 0 1 6 16 33 55 80 105 129 153 175 195 213 229 242 253 262 269 274 277 279 279 277 275 271 267 261 255 255\n",
    "*Y ? ? 2403004 ? 2423004\n",
    "s0104 1 0 0 0 0 1 10 33 63 98 133 165 195 222 245 266 284 301 316 329 341 351 360 368 374 380 384 387 390 393 394\n",
    "*Y ? ? 2401005 ? 2401005\n",
    "s1201 1 2 12 30 53 78 102 124 144 160 174 184 191 196 198 198 196 193 188 182 175 168 161 153 145 137 129 120 112 105 105\n",
    "*Y ? ? 2401005 ? 2401005\n",
    "s1201 1 2 12 30 53 78 102 124 144 160 174 184 191 196 198 198 196 193 188 182 175 168 161 153 145 137 129 120 112 105 105\n",
    "*Y ? ? 2402005 ? 2402005\n",
    "s1201 1 8 30 59 89 118 146 170 191 208 221 230 237 240 240 238 234 229 222 214 205 196 186 176 166 156 146 137 127 118 118\n",
    "*Y ? ? 2402005 ? 2402005\n",
    "s1201 1 8 30 59 89 118 146 170 191 208 221 230 237 240 240 238 234 229 222 214 205 196 186 176 166 156 146 137 127 118 118\n",
    "*Y ? ? 2403005 ? 2403005\n",
    "s1201 1 10 37 73 111 148 183 214 240 260 276 287 294 297 296 292 286 278 268 258 246 233 220 208 195 182 169 158 146 135 135\n",
    "*Y ? ? 2403005 ? 2403005\n",
    "s1201 1 10 37 73 111 148 183 214 240 260 276 287 294 297 296 292 286 278 268 258 246 233 220 208 195 182 169 158 146 135 135\n",
    "*Y ? ? 2401006 ? 2401006\n",
    "s1201 1 4 17 35 57 79 101 121 139 155 168 179 187 193 197 199 199 198 196 192 188 182 176 170 163 156 149 142 134 127 127\n",
    "*Y ? ? 2401006 ? 2401006\n",
    "s1201 1 4 17 35 57 79 101 121 139 155 168 179 187 193 197 199 199 198 196 192 188 182 176 170 163 156 149 142 134 127 127\n",
    "*Y ? ? 2402006 ? 2402006\n",
    "s1201 1 8 30 59 90 121 150 176 199 219 234 246 255 260 262 262 260 255 249 242 234 225 215 205 195 184 174 164 154 144 144\n",
    "*Y ? ? 2402006 ? 2402006\n",
    "s1201 1 8 30 59 90 121 150 176 199 219 234 246 255 260 262 262 260 255 249 242 234 225 215 205 195 184 174 164 154 144 144\n",
    "*Y ? ? 2403006 ? 2403006\n",
    "s1201 1 9 35 69 106 143 178 210 237 260 279 293 302 308 310 309 306 300 292 283 273 261 250 237 225 212 199 187 175 163 163\n",
    "*Y ? ? 2403006 ? 2403006\n",
    "s1201 1 9 35 69 106 143 178 210 237 260 279 293 302 308 310 309 306 300 292 283 273 261 250 237 225 212 199 187 175 163 163\n",
    "*Y ? ? 2401007 ? 2401007\n",
    "s0100 1 0 0 3 12 27 47 71 95 119 140 160 177 191 203 213 220 225 228 229 228 226 223 218 213 207 200 193 186 178 178\n",
    "*Y ? ? 2401007 ? 2421007\n",
    "s0100 1 0 0 0 0 3 19 49 83 118 151 180 205 226 245 261 275 286 296 305 313 320 327 332 337 341 344 347 350 352 353\n",
    "*Y ? ? 2402007 ? 2402007\n",
    "s0100 1 0 2 12 29 54 83 113 142 170 194 216 235 250 263 272 278 282 283 283 280 276 270 263 256 247 238 229 219 209 209\n",
    "*Y ? ? 2402007 ? 2422007\n",
    "s0100 1 0 0 0 2 24 65 114 161 201 235 264 288 307 323 338 351 362 371 379 385 391 396 401 405 407 410 412 413 414 415\n",
    "*Y ? ? 2403007 ? 2403007\n",
    "s0100 1 6 28 61 100 143 186 226 264 297 326 350 370 384 395 402 404 404 401 395 387 378 367 354 341 327 313 298 284 269 269\n",
    "*Y ? ? 2403007 ? 2423007\n",
    "s0100 1 0 0 0 30 99 177 244 300 343 378 407 432 452 468 483 495 505 513 519 523 526 529 531 534 535 535 535 535 536 535\n",
    "*YC ? ? ? ? ?\n",
    "totvol _SUM(s0100, s0204, s0304, s1201, s0104)\n",
    "swdvol _SUM(s0100, s0204, s0304, s0104)\n",
    "hwdvol _SUM(s1201)\n",
    "\"\"\""
   ]
  },
  {
   "cell_type": "code",
   "execution_count": 83,
   "id": "9e27d054-cd3b-4ccb-be94-bca3311b46a2",
   "metadata": {},
   "outputs": [],
   "source": [
    "with open('data/_woodstock_model_files/tsa24_clipped.yld', 'w') as f: f.write(yields_section)"
   ]
  },
  {
   "cell_type": "markdown",
   "id": "37e5ef58-3ce3-4130-83e4-d3aae3501ee2",
   "metadata": {
    "tags": []
   },
   "source": [
    "## `ACTIONS` section\n",
    "\n",
    "The `ACTIONS` section defines actions (i.e., treatments). This part of our model is very simple, so it is easy to code this by hand."
   ]
  },
  {
   "cell_type": "code",
   "execution_count": 84,
   "id": "a554ec7b-8186-4d06-8703-a7556d111770",
   "metadata": {},
   "outputs": [],
   "source": [
    "actions_section = \\\n",
    "\"\"\"\n",
    "ACTIONS\n",
    "*ACTION harvest 0\n",
    "*OPERABLE harvest\n",
    "? 1 ? ? ? _AGE >= 80 AND _AGE <= 999\n",
    "\"\"\""
   ]
  },
  {
   "cell_type": "code",
   "execution_count": 85,
   "id": "ed4f7862-bcf0-45e6-8933-80f00670a2e5",
   "metadata": {},
   "outputs": [],
   "source": [
    "with open('data/_woodstock_model_files/tsa24_clipped.act', 'w') as f: f.write(actions_section)"
   ]
  },
  {
   "cell_type": "markdown",
   "id": "40ea8f87-6f5d-4970-b5e2-724a813c31c1",
   "metadata": {
    "tags": []
   },
   "source": [
    "## `TRANSITIONS` section\n",
    "\n",
    "The `TRANSITIONS` section defines transitions (i.e., change in theme-wise state variable values and age, induced by applying an action to an area of an age class within a development type).\n",
    "\n",
    "We have AU-wise transitions to specific TIPSY curves in this model, so easiest to use a bit of code to print out the correct data in the correcet format."
   ]
  },
  {
   "cell_type": "code",
   "execution_count": 86,
   "id": "53903274-5bc7-49ae-b564-994fb344757d",
   "metadata": {},
   "outputs": [
    {
     "name": "stdout",
     "output_type": "stream",
     "text": [
      "*CASE harvest\n",
      "*SOURCE ? ? 2402000 ? ?\n",
      "*TARGET ? ? ? ? 2422000 100\n",
      "*SOURCE ? ? 2403000 ? ?\n",
      "*TARGET ? ? ? ? 2423000 100\n",
      "*SOURCE ? ? 2403001 ? ?\n",
      "*TARGET ? ? ? ? 2423001 100\n",
      "*SOURCE ? ? 2401002 ? ?\n",
      "*TARGET ? ? ? ? 2421002 100\n",
      "*SOURCE ? ? 2402002 ? ?\n",
      "*TARGET ? ? ? ? 2422002 100\n",
      "*SOURCE ? ? 2403002 ? ?\n",
      "*TARGET ? ? ? ? 2423002 100\n",
      "*SOURCE ? ? 2402003 ? ?\n",
      "*TARGET ? ? ? ? 2422003 100\n",
      "*SOURCE ? ? 2403003 ? ?\n",
      "*TARGET ? ? ? ? 2423003 100\n",
      "*SOURCE ? ? 2402004 ? ?\n",
      "*TARGET ? ? ? ? 2422004 100\n",
      "*SOURCE ? ? 2403004 ? ?\n",
      "*TARGET ? ? ? ? 2423004 100\n",
      "*SOURCE ? ? 2401007 ? ?\n",
      "*TARGET ? ? ? ? 2421007 100\n",
      "*SOURCE ? ? 2402007 ? ?\n",
      "*TARGET ? ? ? ? 2422007 100\n",
      "*SOURCE ? ? 2403007 ? ?\n",
      "*TARGET ? ? ? ? 2423007 100\n"
     ]
    }
   ],
   "source": [
    "# harvesting\n",
    "acode = 'harvest'\n",
    "print('*CASE', acode)\n",
    "for au_id, au_row in au_table.iterrows():\n",
    "    if not au_row.thlb: continue\n",
    "    target_curve_id = au_row.managed_curve_id\n",
    "    smask = ' '.join(('?', '?', str(au_id), '?', '?'))\n",
    "    tmask = ' '.join(('?', '?', '?', '?', str(target_curve_id)))\n",
    "    print('*SOURCE', smask)\n",
    "    print('*TARGET', tmask, '100')"
   ]
  },
  {
   "cell_type": "code",
   "execution_count": 87,
   "id": "ed9af8b4-6fe3-49c1-86c0-58845ea6c187",
   "metadata": {},
   "outputs": [],
   "source": [
    "transitions_section = \\\n",
    "\"\"\"\n",
    "*CASE harvest\n",
    "*SOURCE ? ? 2402000 ? ?\n",
    "*TARGET ? ? ? ? 2422000 100\n",
    "*SOURCE ? ? 2403000 ? ?\n",
    "*TARGET ? ? ? ? 2423000 100\n",
    "*SOURCE ? ? 2403001 ? ?\n",
    "*TARGET ? ? ? ? 2423001 100\n",
    "*SOURCE ? ? 2401002 ? ?\n",
    "*TARGET ? ? ? ? 2421002 100\n",
    "*SOURCE ? ? 2402002 ? ?\n",
    "*TARGET ? ? ? ? 2422002 100\n",
    "*SOURCE ? ? 2403002 ? ?\n",
    "*TARGET ? ? ? ? 2423002 100\n",
    "*SOURCE ? ? 2402003 ? ?\n",
    "*TARGET ? ? ? ? 2422003 100\n",
    "*SOURCE ? ? 2403003 ? ?\n",
    "*TARGET ? ? ? ? 2423003 100\n",
    "*SOURCE ? ? 2402004 ? ?\n",
    "*TARGET ? ? ? ? 2422004 100\n",
    "*SOURCE ? ? 2403004 ? ?\n",
    "*TARGET ? ? ? ? 2423004 100\n",
    "*SOURCE ? ? 2401007 ? ?\n",
    "*TARGET ? ? ? ? 2421007 100\n",
    "*SOURCE ? ? 2402007 ? ?\n",
    "*TARGET ? ? ? ? 2422007 100\n",
    "*SOURCE ? ? 2403007 ? ?\n",
    "*TARGET ? ? ? ? 2423007 100\n",
    "\"\"\""
   ]
  },
  {
   "cell_type": "code",
   "execution_count": 88,
   "id": "83253f93-9edd-4b1a-be49-609981f3e0e4",
   "metadata": {},
   "outputs": [],
   "source": [
    "with open('data/_woodstock_model_files/tsa24_clipped.trn', 'w') as f: f.write(transitions_section)"
   ]
  },
  {
   "cell_type": "markdown",
   "id": "cd5e79bf-78ff-4e2d-be35-061270bde2c8",
   "metadata": {},
   "source": [
    "## Create and run `ForestModel` instance"
   ]
  },
  {
   "cell_type": "code",
   "execution_count": 89,
   "id": "63caeb20-8ea2-4a9e-9bca-623b8e08e1e1",
   "metadata": {},
   "outputs": [],
   "source": [
    "fm = ws3.forest.ForestModel(model_name='tsa24_clipped',\n",
    "                            model_path='data/_woodstock_model_files',\n",
    "                            base_year=base_year,\n",
    "                            horizon=horizon,\n",
    "                            period_length=period_length,\n",
    "                            max_age=max_age)"
   ]
  },
  {
   "cell_type": "code",
   "execution_count": 90,
   "id": "2b17687f-0e31-4fd7-b0ac-be84a05571ce",
   "metadata": {},
   "outputs": [],
   "source": [
    "fm.import_landscape_section()"
   ]
  },
  {
   "cell_type": "code",
   "execution_count": 91,
   "id": "9b98c164-1697-44c5-8eb6-75480fb96414",
   "metadata": {},
   "outputs": [
    {
     "data": {
      "text/plain": [
       "0"
      ]
     },
     "execution_count": 91,
     "metadata": {},
     "output_type": "execute_result"
    }
   ],
   "source": [
    "fm.import_areas_section()"
   ]
  },
  {
   "cell_type": "code",
   "execution_count": 92,
   "id": "98118df3-ca57-4511-9b66-1cb1dca7ff7d",
   "metadata": {},
   "outputs": [],
   "source": [
    "fm.import_yields_section()"
   ]
  },
  {
   "cell_type": "code",
   "execution_count": 93,
   "id": "7c578f04-2274-4cdb-bd10-17764b7309da",
   "metadata": {},
   "outputs": [],
   "source": [
    "fm.import_actions_section()"
   ]
  },
  {
   "cell_type": "code",
   "execution_count": 94,
   "id": "4d3e528f-1de4-49de-a9f8-f87279004b2a",
   "metadata": {},
   "outputs": [],
   "source": [
    "fm.import_transitions_section()"
   ]
  },
  {
   "cell_type": "code",
   "execution_count": 95,
   "id": "21328d8c-a905-420c-afaa-927131d4681b",
   "metadata": {},
   "outputs": [],
   "source": [
    "fm.reset()"
   ]
  },
  {
   "cell_type": "code",
   "execution_count": 96,
   "id": "fdc3bf93-e461-465c-be5d-6d13dac2269f",
   "metadata": {
    "tags": []
   },
   "outputs": [],
   "source": [
    "sch = schedule_harvest_areacontrol(fm)"
   ]
  },
  {
   "cell_type": "code",
   "execution_count": 97,
   "id": "21689e1a-e3c2-4f0b-82c0-3969d9936ea6",
   "metadata": {
    "tags": []
   },
   "outputs": [
    {
     "data": {
      "text/plain": [
       "(<Figure size 1200x400 with 3 Axes>,\n",
       " array([<Axes: title={'center': 'Harvested area (ha)'}>,\n",
       "        <Axes: title={'center': 'Harvested volume (m3)'}>,\n",
       "        <Axes: title={'center': 'Growing Stock (m3)'}>], dtype=object))"
      ]
     },
     "execution_count": 97,
     "metadata": {},
     "output_type": "execute_result"
    },
    {
     "data": {
      "image/png": "[encoded data removed]",
      "text/plain": [
       "<Figure size 1200x400 with 3 Axes>"
      ]
     },
     "metadata": {},
     "output_type": "display_data"
    }
   ],
   "source": [
    "plot_scenario(compile_scenario(fm))"
   ]
  },
  {
   "cell_type": "code",
   "execution_count": null,
   "id": "757df121-3ca8-474d-a376-14e66e647bae",
   "metadata": {},
   "outputs": [],
   "source": []
  }
 ],
 "metadata": {
  "kernelspec": {
   "display_name": "Python 3 (venv:foo)",
   "language": "python",
   "name": "foo"
  },
  "language_info": {
   "codemirror_mode": {
    "name": "ipython",
    "version": 3
   },
   "file_extension": ".py",
   "mimetype": "text/x-python",
   "name": "python",
   "nbconvert_exporter": "python",
   "pygments_lexer": "ipython3",
   "version": "3.10.6"
  }
 },
 "nbformat": 4,
 "nbformat_minor": 5
}
