{
 "cells": [
  {
   "cell_type": "markdown",
   "id": "3ec54aed-d110-49ea-8790-853e398637fc",
   "metadata": {
    "tags": []
   },
   "source": [
    "# Running `ws3` and `libcbm` as a two-stage sequential pipeline\n",
    "\n",
    "We run `ws3` and `libcbm` in a two-stage sequential software pipeline. This is the _de facto_ standard way to run CBM models (i.e., run a forest estate model and CBM in a two-stage sequential pipeline, where the output from the first stage becomes the input for the second stage). The pipeline stages can be _soft-linked_ (i.e., output from stage-1 model exported to disk in a specific format, then this same data is read and imported to stage-2 model), or _hard linked_ (i.e., output from stage-1 model directly piped into stage-2 model at runtime, with no intermediate disk-based data drop). Either way, the result from running the pipeline should be the same.\n",
    "\n",
    "Note that soft-linked version of this pipeline can be implemented using almost any combinination of forest estate model (e.g., ws3, Patchworks, Woodstock, FPS Atlas, Woodlot, etc.) and CBM (e.g., libcbm, CBM-CFS3, GCBM, spadesCBM, etc.), although an intermediary _data munging_ module might need to be included in the middle of the pipeline to link the two main stages if the forest estate model you are using does not include built-in soft-link data export functions that are compatible with the CBM implementation you are using. The data munging module could be a human manually reformatting raw stage-1 output data using a spreadsheet (simple, but yuck), a Jupyter or R markdown notebook that semi-automates (and documents) the data munging process, or a fully-automated software module.\n",
    "\n",
    "`ws3` does not currently include built-in functions to export data for soft-link to CBM, so we implement some custom data munging code in this notebook (with examples of both soft- and hard-link approaches). One obvious advantage of selecting `ws3` and `libcbm` as the software modules for this two-stage pipeline is that they are both Python packages, which makes it easy to hard-link them with a bit of custom data munging Python code. \n",
    "\n",
    "Note that we plan to extend `ws3` at some point to include built-in `libcbm` soft-link and hard-link functions (similar to those implemented in this notebook). "
   ]
  },
  {
   "cell_type": "markdown",
   "id": "e5dd812f-6199-4fcb-9147-747177faf7d8",
   "metadata": {},
   "source": [
    ":warning:"
   ]
  },
  {
   "cell_type": "markdown",
   "id": "608efce5-d83f-4e32-a476-3c6bbb7820e3",
   "metadata": {},
   "source": [
    "## Install `ws3` and `libcbm` packages\n",
    "\n",
    "First, make sure we have the correct versions of `ws3` and `libcbm` installed. Both of these packages are relatively new and under active development, it is best we stick to known-working versions of each package from their respective GitHub repos. \n",
    "\n",
    "\n",
    "> We _strongly recommend_ that you run this notebook in venv-sandboxed Python kernel (see `venv_python_kernel_setup` notebook for an example of how to do this). This will ensure that you are working from a fresh Python package environment, and not wasting time debugging random interactions between this notebook and whatever mishmash of packages you have installed on your system in various parts of your Python path. You have been warned. \n"
   ]
  },
  {
   "cell_type": "markdown",
   "id": "80813e6a-f7e5-4df8-b669-9187c7d396ac",
   "metadata": {},
   "source": [
    "Install `dev` branch of `ws3` package (from GitHub repo) into user space."
   ]
  },
  {
   "cell_type": "code",
   "execution_count": 2,
   "id": "d8d5764c-73d7-457e-8ad2-6d0ed97e58cd",
   "metadata": {
    "tags": []
   },
   "outputs": [
    {
     "name": "stdout",
     "output_type": "stream",
     "text": [
      "Collecting git+https://github.com/gparadis/ws3@dev\n",
      "  Cloning https://github.com/gparadis/ws3 (to revision dev) to /media/data/tmp/pip-req-build-rhgcwx97\n",
      "  Running command git clone --filter=blob:none --quiet https://github.com/gparadis/ws3 /media/data/tmp/pip-req-build-rhgcwx97\n",
      "  Resolved https://github.com/gparadis/ws3 to commit 95a94cc5bf3a97dca1bc1a4ccc21d75d897d6aa1\n",
      "  Preparing metadata (setup.py) ... \u001b[?25ldone\n",
      "\u001b[?25hCollecting fiona\n",
      "  Using cached Fiona-1.9.1-cp310-cp310-manylinux_2_17_x86_64.manylinux2014_x86_64.whl (16.0 MB)\n",
      "Collecting matplotlib\n",
      "  Downloading matplotlib-3.7.0-cp310-cp310-manylinux_2_17_x86_64.manylinux2014_x86_64.whl (11.6 MB)\n",
      "\u001b[2K     \u001b[90m━━━━━━━━━━━━━━━━━━━━━━━━━━━━━━━━━━━━━━━━\u001b[0m \u001b[32m11.6/11.6 MB\u001b[0m \u001b[31m25.2 MB/s\u001b[0m eta \u001b[36m0:00:00\u001b[0m00:01\u001b[0m00:01\u001b[0m\n",
      "\u001b[?25hCollecting numpy\n",
      "  Downloading numpy-1.24.2-cp310-cp310-manylinux_2_17_x86_64.manylinux2014_x86_64.whl (17.3 MB)\n",
      "\u001b[2K     \u001b[90m━━━━━━━━━━━━━━━━━━━━━━━━━━━━━━━━━━━━━━━━\u001b[0m \u001b[32m17.3/17.3 MB\u001b[0m \u001b[31m36.9 MB/s\u001b[0m eta \u001b[36m0:00:00\u001b[0m00:01\u001b[0m00:01\u001b[0m\n",
      "\u001b[?25hCollecting pandas\n",
      "  Using cached pandas-1.5.3-cp310-cp310-manylinux_2_17_x86_64.manylinux2014_x86_64.whl (12.1 MB)\n",
      "Collecting profilehooks\n",
      "  Using cached profilehooks-1.12.0-py2.py3-none-any.whl (12 kB)\n",
      "Collecting rasterio\n",
      "  Using cached rasterio-1.3.6-cp310-cp310-manylinux_2_17_x86_64.manylinux2014_x86_64.whl (20.0 MB)\n",
      "Collecting scipy\n",
      "  Downloading scipy-1.10.1-cp310-cp310-manylinux_2_17_x86_64.manylinux2014_x86_64.whl (34.4 MB)\n",
      "\u001b[2K     \u001b[90m━━━━━━━━━━━━━━━━━━━━━━━━━━━━━━━━━━━━━━━━\u001b[0m \u001b[32m34.4/34.4 MB\u001b[0m \u001b[31m18.3 MB/s\u001b[0m eta \u001b[36m0:00:00\u001b[0m00:01\u001b[0m00:01\u001b[0m\n",
      "\u001b[?25hCollecting click~=8.0\n",
      "  Using cached click-8.1.3-py3-none-any.whl (96 kB)\n",
      "Collecting certifi\n",
      "  Using cached certifi-2022.12.7-py3-none-any.whl (155 kB)\n",
      "Collecting munch>=2.3.2\n",
      "  Using cached munch-2.5.0-py2.py3-none-any.whl (10 kB)\n",
      "Collecting cligj>=0.5\n",
      "  Using cached cligj-0.7.2-py3-none-any.whl (7.1 kB)\n",
      "Collecting attrs>=19.2.0\n",
      "  Using cached attrs-22.2.0-py3-none-any.whl (60 kB)\n",
      "Requirement already satisfied: setuptools in /media/data/home/gparadis/.virtualenvs/foo/lib/python3.10/site-packages (from fiona->ws3==0.0.1.post3) (59.6.0)\n",
      "Collecting click-plugins>=1.0\n",
      "  Using cached click_plugins-1.1.1-py2.py3-none-any.whl (7.5 kB)\n",
      "Collecting kiwisolver>=1.0.1\n",
      "  Downloading kiwisolver-1.4.4-cp310-cp310-manylinux_2_12_x86_64.manylinux2010_x86_64.whl (1.6 MB)\n",
      "\u001b[2K     \u001b[90m━━━━━━━━━━━━━━━━━━━━━━━━━━━━━━━━━━━━━━━━\u001b[0m \u001b[32m1.6/1.6 MB\u001b[0m \u001b[31m8.7 MB/s\u001b[0m eta \u001b[36m0:00:00\u001b[0m0:00:01\u001b[0m\n",
      "\u001b[?25hCollecting pyparsing>=2.3.1\n",
      "  Using cached pyparsing-3.0.9-py3-none-any.whl (98 kB)\n",
      "Collecting pillow>=6.2.0\n",
      "  Downloading Pillow-9.4.0-cp310-cp310-manylinux_2_28_x86_64.whl (3.4 MB)\n",
      "\u001b[2K     \u001b[90m━━━━━━━━━━━━━━━━━━━━━━━━━━━━━━━━━━━━━━━━\u001b[0m \u001b[32m3.4/3.4 MB\u001b[0m \u001b[31m9.7 MB/s\u001b[0m eta \u001b[36m0:00:00\u001b[0m0:00:01\u001b[0m\n",
      "\u001b[?25hCollecting fonttools>=4.22.0\n",
      "  Using cached fonttools-4.38.0-py3-none-any.whl (965 kB)\n",
      "Requirement already satisfied: python-dateutil>=2.7 in /media/data/home/gparadis/.virtualenvs/foo/lib/python3.10/site-packages (from matplotlib->ws3==0.0.1.post3) (2.8.2)\n",
      "Requirement already satisfied: packaging>=20.0 in /media/data/home/gparadis/.virtualenvs/foo/lib/python3.10/site-packages (from matplotlib->ws3==0.0.1.post3) (23.0)\n",
      "Collecting contourpy>=1.0.1\n",
      "  Downloading contourpy-1.0.7-cp310-cp310-manylinux_2_17_x86_64.manylinux2014_x86_64.whl (300 kB)\n",
      "\u001b[2K     \u001b[90m━━━━━━━━━━━━━━━━━━━━━━━━━━━━━━━━━━━━━━━\u001b[0m \u001b[32m300.3/300.3 KB\u001b[0m \u001b[31m1.2 MB/s\u001b[0m eta \u001b[36m0:00:00\u001b[0m00:01\u001b[0m\n",
      "\u001b[?25hCollecting cycler>=0.10\n",
      "  Using cached cycler-0.11.0-py3-none-any.whl (6.4 kB)\n",
      "Collecting pytz>=2020.1\n",
      "  Using cached pytz-2022.7.1-py2.py3-none-any.whl (499 kB)\n",
      "Collecting affine\n",
      "  Using cached affine-2.4.0-py3-none-any.whl (15 kB)\n",
      "Collecting snuggs>=1.4.1\n",
      "  Using cached snuggs-1.4.7-py3-none-any.whl (5.4 kB)\n",
      "Requirement already satisfied: six in /media/data/home/gparadis/.virtualenvs/foo/lib/python3.10/site-packages (from munch>=2.3.2->fiona->ws3==0.0.1.post3) (1.16.0)\n",
      "Using legacy 'setup.py install' for ws3, since package 'wheel' is not installed.\n",
      "Installing collected packages: pytz, profilehooks, pyparsing, pillow, numpy, munch, kiwisolver, fonttools, cycler, click, certifi, attrs, affine, snuggs, scipy, pandas, contourpy, cligj, click-plugins, rasterio, matplotlib, fiona, ws3\n",
      "  Running setup.py install for ws3 ... \u001b[?25ldone\n",
      "\u001b[?25hSuccessfully installed affine-2.4.0 attrs-22.2.0 certifi-2022.12.7 click-8.1.3 click-plugins-1.1.1 cligj-0.7.2 contourpy-1.0.7 cycler-0.11.0 fiona-1.9.1 fonttools-4.38.0 kiwisolver-1.4.4 matplotlib-3.7.0 munch-2.5.0 numpy-1.24.2 pandas-1.5.3 pillow-9.4.0 profilehooks-1.12.0 pyparsing-3.0.9 pytz-2022.7.1 rasterio-1.3.6 scipy-1.10.1 snuggs-1.4.7 ws3-0.0.1.post3\n",
      "Note: you may need to restart the kernel to use updated packages.\n"
     ]
    }
   ],
   "source": [
    "%pip install -U git+https://github.com/gparadis/ws3@dev"
   ]
  },
  {
   "cell_type": "code",
   "execution_count": 5,
   "id": "958acbdc-3eb3-40e8-922a-f2bfa1587331",
   "metadata": {
    "tags": []
   },
   "outputs": [
    {
     "data": {
      "text/plain": [
       "['/media/data/home/gparadis/.virtualenvs/foo/lib/python3.10/site-packages/ws3']"
      ]
     },
     "execution_count": 5,
     "metadata": {},
     "output_type": "execute_result"
    }
   ],
   "source": [
    "import ws3\n",
    "ws3.__path__"
   ]
  },
  {
   "cell_type": "markdown",
   "id": "3678f5d8-5137-493c-aeff-24818d907f82",
   "metadata": {},
   "source": [
    "Install `main` branch of `libcbm_py` package (from GitHub repo) into user space."
   ]
  },
  {
   "cell_type": "code",
   "execution_count": 3,
   "id": "e2d3d8a2-9705-45bc-8389-e5876380bab8",
   "metadata": {
    "tags": []
   },
   "outputs": [
    {
     "name": "stdout",
     "output_type": "stream",
     "text": [
      "Collecting git+https://github.com/cat-cfs/libcbm_py.git@main\n",
      "  Cloning https://github.com/cat-cfs/libcbm_py.git (to revision main) to /media/data/tmp/pip-req-build-xu8t6rtv\n",
      "  Running command git clone --filter=blob:none --quiet https://github.com/cat-cfs/libcbm_py.git /media/data/tmp/pip-req-build-xu8t6rtv\n",
      "  Resolved https://github.com/cat-cfs/libcbm_py.git to commit f186f31e6986b917d898e4244fe42df99ecec97f\n",
      "  Preparing metadata (setup.py) ... \u001b[?25ldone\n",
      "\u001b[?25hCollecting mock\n",
      "  Using cached mock-5.0.1-py3-none-any.whl (30 kB)\n",
      "Collecting numba\n",
      "  Using cached numba-0.56.4-cp310-cp310-manylinux2014_x86_64.manylinux_2_17_x86_64.whl (3.5 MB)\n",
      "Collecting numexpr\n",
      "  Using cached numexpr-2.8.4-cp310-cp310-manylinux_2_17_x86_64.manylinux2014_x86_64.whl (381 kB)\n",
      "Requirement already satisfied: numpy in /media/data/home/gparadis/.virtualenvs/foo/lib/python3.10/site-packages (from libcbm==2.3.2) (1.24.2)\n",
      "Collecting openpyxl\n",
      "  Using cached openpyxl-3.1.1-py2.py3-none-any.whl (249 kB)\n",
      "Requirement already satisfied: pandas>=1.1.5 in /media/data/home/gparadis/.virtualenvs/foo/lib/python3.10/site-packages (from libcbm==2.3.2) (1.5.3)\n",
      "Collecting pyyaml\n",
      "  Downloading PyYAML-6.0-cp310-cp310-manylinux_2_5_x86_64.manylinux1_x86_64.manylinux_2_12_x86_64.manylinux2010_x86_64.whl (682 kB)\n",
      "\u001b[2K     \u001b[90m━━━━━━━━━━━━━━━━━━━━━━━━━━━━━━━━━━━━━━━\u001b[0m \u001b[32m682.2/682.2 KB\u001b[0m \u001b[31m5.5 MB/s\u001b[0m eta \u001b[36m0:00:00\u001b[0m00:01\u001b[0m00:01\u001b[0m\n",
      "\u001b[?25hRequirement already satisfied: scipy in /media/data/home/gparadis/.virtualenvs/foo/lib/python3.10/site-packages (from libcbm==2.3.2) (1.10.1)\n",
      "Requirement already satisfied: pytz>=2020.1 in /media/data/home/gparadis/.virtualenvs/foo/lib/python3.10/site-packages (from pandas>=1.1.5->libcbm==2.3.2) (2022.7.1)\n",
      "Requirement already satisfied: python-dateutil>=2.8.1 in /media/data/home/gparadis/.virtualenvs/foo/lib/python3.10/site-packages (from pandas>=1.1.5->libcbm==2.3.2) (2.8.2)\n",
      "Requirement already satisfied: setuptools in /media/data/home/gparadis/.virtualenvs/foo/lib/python3.10/site-packages (from numba->libcbm==2.3.2) (59.6.0)\n",
      "Collecting llvmlite<0.40,>=0.39.0dev0\n",
      "  Using cached llvmlite-0.39.1-cp310-cp310-manylinux_2_17_x86_64.manylinux2014_x86_64.whl (34.6 MB)\n",
      "Collecting numpy\n",
      "  Downloading numpy-1.23.5-cp310-cp310-manylinux_2_17_x86_64.manylinux2014_x86_64.whl (17.1 MB)\n",
      "\u001b[2K     \u001b[90m━━━━━━━━━━━━━━━━━━━━━━━━━━━━━━━━━━━━━━━━\u001b[0m \u001b[32m17.1/17.1 MB\u001b[0m \u001b[31m30.5 MB/s\u001b[0m eta \u001b[36m0:00:00\u001b[0m00:01\u001b[0m00:01\u001b[0m\n",
      "\u001b[?25hCollecting et-xmlfile\n",
      "  Using cached et_xmlfile-1.1.0-py3-none-any.whl (4.7 kB)\n",
      "Requirement already satisfied: six>=1.5 in /media/data/home/gparadis/.virtualenvs/foo/lib/python3.10/site-packages (from python-dateutil>=2.8.1->pandas>=1.1.5->libcbm==2.3.2) (1.16.0)\n",
      "Using legacy 'setup.py install' for libcbm, since package 'wheel' is not installed.\n",
      "Installing collected packages: pyyaml, numpy, mock, llvmlite, et-xmlfile, openpyxl, numexpr, numba, libcbm\n",
      "  Attempting uninstall: numpy\n",
      "    Found existing installation: numpy 1.24.2\n",
      "    Uninstalling numpy-1.24.2:\n",
      "      Successfully uninstalled numpy-1.24.2\n",
      "  Running setup.py install for libcbm ... \u001b[?25ldone\n",
      "\u001b[?25hSuccessfully installed et-xmlfile-1.1.0 libcbm-2.3.2 llvmlite-0.39.1 mock-5.0.1 numba-0.56.4 numexpr-2.8.4 numpy-1.23.5 openpyxl-3.1.1 pyyaml-6.0\n",
      "Note: you may need to restart the kernel to use updated packages.\n"
     ]
    }
   ],
   "source": [
    "%pip install -U git+https://github.com/cat-cfs/libcbm_py.git@main"
   ]
  },
  {
   "cell_type": "code",
   "execution_count": 6,
   "id": "958a9e67-32cc-41c1-94cb-07fb1418bb88",
   "metadata": {
    "tags": []
   },
   "outputs": [
    {
     "data": {
      "text/plain": [
       "['/media/data/home/gparadis/.virtualenvs/foo/lib/python3.10/site-packages/libcbm']"
      ]
     },
     "execution_count": 6,
     "metadata": {},
     "output_type": "execute_result"
    }
   ],
   "source": [
    "import libcbm\n",
    "libcbm.__path__"
   ]
  },
  {
   "cell_type": "code",
   "execution_count": null,
   "id": "aa20c84f-13cd-4fee-a9f8-ae274fad5fb7",
   "metadata": {},
   "outputs": [],
   "source": []
  }
 ],
 "metadata": {
  "kernelspec": {
   "display_name": "Python 3 (venv:foo)",
   "language": "python",
   "name": "foo"
  },
  "language_info": {
   "codemirror_mode": {
    "name": "ipython",
    "version": 3
   },
   "file_extension": ".py",
   "mimetype": "text/x-python",
   "name": "python",
   "nbconvert_exporter": "python",
   "pygments_lexer": "ipython3",
   "version": "3.10.6"
  }
 },
 "nbformat": 4,
 "nbformat_minor": 5
}
