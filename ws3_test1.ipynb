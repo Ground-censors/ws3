{
 "metadata": {
  "name": "",
  "signature": "sha256:69153ba44bde47845da55a2778c2abe964fb9fc8e556840226a59dca64925183"
 },
 "nbformat": 3,
 "nbformat_minor": 0,
 "worksheets": [
  {
   "cells": [
    {
     "cell_type": "heading",
     "level": 1,
     "metadata": {},
     "source": [
      "ws3: A Simple Demo"
     ]
    },
    {
     "cell_type": "markdown",
     "metadata": {},
     "source": [
      "Set up the iPython Notebook environment."
     ]
    },
    {
     "cell_type": "code",
     "collapsed": false,
     "input": [
      "%reload_ext autoreload\n",
      "%autoreload 2\n",
      "%aimport\n",
      "%matplotlib inline\n",
      "%reload_ext memory_profiler\n",
      "\n",
      "\n",
      "import numpy as np\n",
      "import pandas as pd\n",
      "import matplotlib.pyplot as plt\n",
      "import copy\n",
      "\n",
      "import seaborn as sns\n",
      "sns.set_context(\"notebook\")\n",
      "\n",
      "import os\n",
      "import cPickle\n",
      "\n",
      "try:\n",
      "    _path = os.path.abspath(os.path.join(os.path.dirname(__file__), '..'))\n",
      "except:\n",
      "    _path = os.path.abspath(os.path.join(os.path.dirname('__file__'), '..'))\n",
      "if not _path in os.sys.path:\n",
      "    os.sys.path.insert(1, _path)\n",
      "del _path\n",
      "\n",
      "from ws3.woodstock import WoodstockModel\n",
      "\n",
      "model_name = 'PC_4537_U03153_4FF_V05'\n",
      "model_path = '../../dat/woodstock/03153'"
     ],
     "language": "python",
     "metadata": {},
     "outputs": [
      {
       "output_type": "stream",
       "stream": "stdout",
       "text": [
        "Modules to reload:\n",
        "all-except-skipped\n",
        "\n",
        "Modules to skip:\n",
        "\n"
       ]
      }
     ],
     "prompt_number": 37
    },
    {
     "cell_type": "markdown",
     "metadata": {},
     "source": [
      "Define a simple utility function that creates a WoodstockModel object, sets the path where it should look for Woodstock input data files, and calls the Woodstock data import functions in the correct order. The import functions have hooks to the \"time\" module set up in the source code, so these will automatically print execution time when they are done running."
     ]
    },
    {
     "cell_type": "code",
     "collapsed": false,
     "input": [
      "def load_woodstockmodel(load_pickle='', dump_pickle='', verbose=True):\n",
      "    if load_pickle:\n",
      "        return cPickle.load(open(load_pickle))\n",
      "    wm = WoodstockModel(model_name, model_path)\n",
      "    if verbose: print 'importing CONSTANTS section'\n",
      "    wm.import_constants_section()\n",
      "    if verbose: print 'importing LANDSCAPE section'\n",
      "    wm.import_landscape_section()\n",
      "    if verbose: print 'importing AREAS section'\n",
      "    wm.import_areas_section()\n",
      "    if verbose: print 'importing YIELDS section'\n",
      "    wm.import_yields_section()\n",
      "    if verbose: print 'importing ACTIONS section'\n",
      "    wm.import_actions_section()\n",
      "    if verbose: print 'importing TRANSITIONS section'\n",
      "    wm.import_transitions_section()\n",
      "    if verbose: print 'importing OUTPUTS section'\n",
      "    wm.import_outputs_section()\n",
      "    if dump_pickle:\n",
      "        cPickle.dump(wm, open(dump_pickle, 'w'))\n",
      "    return wm"
     ],
     "language": "python",
     "metadata": {},
     "outputs": [],
     "prompt_number": 2
    },
    {
     "cell_type": "markdown",
     "metadata": {},
     "source": [
      "Create the WoodstoockModel object. This object contains all the data we imported, and has several functions defined to implement useful ways to operate on this data."
     ]
    },
    {
     "cell_type": "code",
     "collapsed": false,
     "input": [
      "wm = load_woodstockmodel()"
     ],
     "language": "python",
     "metadata": {},
     "outputs": [
      {
       "output_type": "stream",
       "stream": "stdout",
       "text": [
        "importing CONSTANTS section\n",
        "import_constants_section took 0.004 seconds.\n",
        "importing LANDSCAPE section\n",
        "import_landscape_section took 0.014 seconds.\n",
        "importing AREAS section\n",
        "import_areas_section took 1.424 seconds."
       ]
      },
      {
       "output_type": "stream",
       "stream": "stdout",
       "text": [
        "\n",
        "importing YIELDS section\n",
        "import_yields_section took 35.368 seconds."
       ]
      },
      {
       "output_type": "stream",
       "stream": "stdout",
       "text": [
        "\n",
        "importing ACTIONS section\n",
        "import_actions_section took 1.715 seconds."
       ]
      },
      {
       "output_type": "stream",
       "stream": "stdout",
       "text": [
        "\n",
        "importing TRANSITIONS section\n",
        "import_transitions_section took 4.410 seconds."
       ]
      },
      {
       "output_type": "stream",
       "stream": "stdout",
       "text": [
        "\n",
        "importing OUTPUTS section\n",
        "import_outputs_section took 6.921 seconds."
       ]
      },
      {
       "output_type": "stream",
       "stream": "stdout",
       "text": [
        "\n"
       ]
      }
     ],
     "prompt_number": 3
    },
    {
     "cell_type": "markdown",
     "metadata": {},
     "source": [
      "Initial inventory, imported from the AREAS section of the Woodstock source model, is stored in period 0 of the WoodstockModel object's internal inventory. Conceptually, period 0 is equivalent to a null-length period _immediately preceding_ the beginning of the simulation. \n",
      "\n",
      "We would normally not apply any actions in period 0, although there is nothing actually _preventing_ us from doing so. We do not need to simulate any growth between period 0 and period 1. We use the _initialize_areas()_ method to copy initial inventory (unmodified) from period 0 to period 1. We then call the _grow()_ method, which recursively grows period-1 inventory until the end of the planning horizon.\n",
      "\n",
      "We already have our first (no harvest) scenario simulated! "
     ]
    },
    {
     "cell_type": "code",
     "collapsed": false,
     "input": [
      "wm.initialize_areas() \n",
      "wm.grow()"
     ],
     "language": "python",
     "metadata": {},
     "outputs": [],
     "prompt_number": 48
    },
    {
     "cell_type": "markdown",
     "metadata": {},
     "source": [
      "We can use the _inventory()_ method to query the WoodstockModel object on its inventory at a specified period. There are many ways to call this method. \n",
      "\n",
      "There is an optional _mask_ argument that can be used to filter which development types are inventoried. The default is to inventory all development types.\n",
      "\n",
      "By default this function returns area. If we specify a yield curve name, the inventoried area will be multiplied by the specifed yield curve. There is also an optional age argument, which will limit result to the specied ageclass.\n",
      "\n",
      "More options will be added later, but we can already do a lot with this. We show a few examples below."
     ]
    },
    {
     "cell_type": "code",
     "collapsed": false,
     "input": [
      "# initial area, no mask (all development types)\n",
      "wm.inventory(0)"
     ],
     "language": "python",
     "metadata": {},
     "outputs": [
      {
       "metadata": {},
       "output_type": "pyout",
       "prompt_number": 49,
       "text": [
        "211769.70000000054"
       ]
      }
     ],
     "prompt_number": 49
    },
    {
     "cell_type": "code",
     "collapsed": false,
     "input": [
      "# initial area, but limited to only stands that are included in the wood supply\n",
      "mask_string = '? ? ? ? ? ? ? inc ? ? ? ? ? ? ? ? ? ? ? ?'\n",
      "mask = tuple(mask_string.split(' '))\n",
      "wm.inventory(0, mask=mask)"
     ],
     "language": "python",
     "metadata": {},
     "outputs": [
      {
       "metadata": {},
       "output_type": "pyout",
       "prompt_number": 50,
       "text": [
        "84403.09999999971"
       ]
      }
     ],
     "prompt_number": 50
    },
    {
     "cell_type": "markdown",
     "metadata": {},
     "source": [
      "We can already see that most of the area in this forest is excluded from the wood supply analysis.\n",
      "\n",
      "Next, we calculate total growing stock and total basal area on the subset of the forest that is included in the wood supply, for periods 1 to 30, and feed the results into a pandas DataFrame.\n",
      "\n",
      "We can use the DataFrame to interact with the data in powerful ways. "
     ]
    },
    {
     "cell_type": "code",
     "collapsed": false,
     "input": [
      "df = pd.DataFrame([(wm.inventory(p, yname='yv_s', mask=mask),\n",
      "                    wm.inventory(p, yname='yg_s', mask=mask)) for p in wm.periods], \n",
      "                  columns=['growing_stock', 'basal_area'])"
     ],
     "language": "python",
     "metadata": {},
     "outputs": [],
     "prompt_number": 51
    },
    {
     "cell_type": "markdown",
     "metadata": {},
     "source": [
      "Calling raw DataFrame in an iPython Notebook dumps its contents to the page in tabular format."
     ]
    },
    {
     "cell_type": "code",
     "collapsed": false,
     "input": [
      "df"
     ],
     "language": "python",
     "metadata": {},
     "outputs": [
      {
       "html": [
        "<div style=\"max-height:1000px;max-width:1500px;overflow:auto;\">\n",
        "<table border=\"1\" class=\"dataframe\">\n",
        "  <thead>\n",
        "    <tr style=\"text-align: right;\">\n",
        "      <th></th>\n",
        "      <th>growing_stock</th>\n",
        "      <th>basal_area</th>\n",
        "    </tr>\n",
        "  </thead>\n",
        "  <tbody>\n",
        "    <tr>\n",
        "      <th>0 </th>\n",
        "      <td>  5562339.418677</td>\n",
        "      <td> 1248690.950537</td>\n",
        "    </tr>\n",
        "    <tr>\n",
        "      <th>1 </th>\n",
        "      <td>  6449350.248913</td>\n",
        "      <td> 1408654.743974</td>\n",
        "    </tr>\n",
        "    <tr>\n",
        "      <th>2 </th>\n",
        "      <td>  7343981.751790</td>\n",
        "      <td> 1572089.262551</td>\n",
        "    </tr>\n",
        "    <tr>\n",
        "      <th>3 </th>\n",
        "      <td>  8172246.984667</td>\n",
        "      <td> 1714611.287760</td>\n",
        "    </tr>\n",
        "    <tr>\n",
        "      <th>4 </th>\n",
        "      <td>  8948639.925602</td>\n",
        "      <td> 1849531.705558</td>\n",
        "    </tr>\n",
        "    <tr>\n",
        "      <th>5 </th>\n",
        "      <td>  9628613.124337</td>\n",
        "      <td> 1970812.010914</td>\n",
        "    </tr>\n",
        "    <tr>\n",
        "      <th>6 </th>\n",
        "      <td> 10251971.931193</td>\n",
        "      <td> 2073430.573411</td>\n",
        "    </tr>\n",
        "    <tr>\n",
        "      <th>7 </th>\n",
        "      <td> 10761298.290470</td>\n",
        "      <td> 2156687.586444</td>\n",
        "    </tr>\n",
        "    <tr>\n",
        "      <th>8 </th>\n",
        "      <td> 11222297.214774</td>\n",
        "      <td> 2225926.820624</td>\n",
        "    </tr>\n",
        "    <tr>\n",
        "      <th>9 </th>\n",
        "      <td> 11618192.025094</td>\n",
        "      <td> 2273659.896378</td>\n",
        "    </tr>\n",
        "    <tr>\n",
        "      <th>10</th>\n",
        "      <td> 11952000.195476</td>\n",
        "      <td> 2312372.443823</td>\n",
        "    </tr>\n",
        "    <tr>\n",
        "      <th>11</th>\n",
        "      <td> 12226417.510680</td>\n",
        "      <td> 2343019.140190</td>\n",
        "    </tr>\n",
        "    <tr>\n",
        "      <th>12</th>\n",
        "      <td> 12433727.348377</td>\n",
        "      <td> 2360069.404561</td>\n",
        "    </tr>\n",
        "    <tr>\n",
        "      <th>13</th>\n",
        "      <td> 12540498.035141</td>\n",
        "      <td> 2370914.662630</td>\n",
        "    </tr>\n",
        "    <tr>\n",
        "      <th>14</th>\n",
        "      <td> 12607497.473743</td>\n",
        "      <td> 2375974.800417</td>\n",
        "    </tr>\n",
        "    <tr>\n",
        "      <th>15</th>\n",
        "      <td> 12648957.726395</td>\n",
        "      <td> 2372806.940716</td>\n",
        "    </tr>\n",
        "    <tr>\n",
        "      <th>16</th>\n",
        "      <td> 12654243.383047</td>\n",
        "      <td> 2363887.939521</td>\n",
        "    </tr>\n",
        "    <tr>\n",
        "      <th>17</th>\n",
        "      <td> 12635912.416845</td>\n",
        "      <td> 2346292.782325</td>\n",
        "    </tr>\n",
        "    <tr>\n",
        "      <th>18</th>\n",
        "      <td> 12549506.219606</td>\n",
        "      <td> 2322127.243630</td>\n",
        "    </tr>\n",
        "    <tr>\n",
        "      <th>19</th>\n",
        "      <td> 12420461.334369</td>\n",
        "      <td> 2293896.227397</td>\n",
        "    </tr>\n",
        "    <tr>\n",
        "      <th>20</th>\n",
        "      <td> 12285650.350905</td>\n",
        "      <td> 2265169.961165</td>\n",
        "    </tr>\n",
        "    <tr>\n",
        "      <th>21</th>\n",
        "      <td> 12145519.934108</td>\n",
        "      <td> 2234576.058266</td>\n",
        "    </tr>\n",
        "    <tr>\n",
        "      <th>22</th>\n",
        "      <td> 11976866.084241</td>\n",
        "      <td> 2201896.414145</td>\n",
        "    </tr>\n",
        "    <tr>\n",
        "      <th>23</th>\n",
        "      <td> 11787488.740330</td>\n",
        "      <td> 2167099.746942</td>\n",
        "    </tr>\n",
        "    <tr>\n",
        "      <th>24</th>\n",
        "      <td> 11592008.128419</td>\n",
        "      <td> 2129031.627268</td>\n",
        "    </tr>\n",
        "    <tr>\n",
        "      <th>25</th>\n",
        "      <td> 11396527.516508</td>\n",
        "      <td> 2091563.256286</td>\n",
        "    </tr>\n",
        "    <tr>\n",
        "      <th>26</th>\n",
        "      <td> 11204026.240156</td>\n",
        "      <td> 2054169.820305</td>\n",
        "    </tr>\n",
        "    <tr>\n",
        "      <th>27</th>\n",
        "      <td> 11009296.046923</td>\n",
        "      <td> 2016268.207573</td>\n",
        "    </tr>\n",
        "    <tr>\n",
        "      <th>28</th>\n",
        "      <td> 10799565.471526</td>\n",
        "      <td> 1978851.400030</td>\n",
        "    </tr>\n",
        "    <tr>\n",
        "      <th>29</th>\n",
        "      <td> 10594500.377108</td>\n",
        "      <td> 1943720.129691</td>\n",
        "    </tr>\n",
        "  </tbody>\n",
        "</table>\n",
        "</div>"
       ],
       "metadata": {},
       "output_type": "pyout",
       "prompt_number": 52,
       "text": [
        "      growing_stock      basal_area\n",
        "0    5562339.418677  1248690.950537\n",
        "1    6449350.248913  1408654.743974\n",
        "2    7343981.751790  1572089.262551\n",
        "3    8172246.984667  1714611.287760\n",
        "4    8948639.925602  1849531.705558\n",
        "5    9628613.124337  1970812.010914\n",
        "6   10251971.931193  2073430.573411\n",
        "7   10761298.290470  2156687.586444\n",
        "8   11222297.214774  2225926.820624\n",
        "9   11618192.025094  2273659.896378\n",
        "10  11952000.195476  2312372.443823\n",
        "11  12226417.510680  2343019.140190\n",
        "12  12433727.348377  2360069.404561\n",
        "13  12540498.035141  2370914.662630\n",
        "14  12607497.473743  2375974.800417\n",
        "15  12648957.726395  2372806.940716\n",
        "16  12654243.383047  2363887.939521\n",
        "17  12635912.416845  2346292.782325\n",
        "18  12549506.219606  2322127.243630\n",
        "19  12420461.334369  2293896.227397\n",
        "20  12285650.350905  2265169.961165\n",
        "21  12145519.934108  2234576.058266\n",
        "22  11976866.084241  2201896.414145\n",
        "23  11787488.740330  2167099.746942\n",
        "24  11592008.128419  2129031.627268\n",
        "25  11396527.516508  2091563.256286\n",
        "26  11204026.240156  2054169.820305\n",
        "27  11009296.046923  2016268.207573\n",
        "28  10799565.471526  1978851.400030\n",
        "29  10594500.377108  1943720.129691"
       ]
      }
     ],
     "prompt_number": 52
    },
    {
     "cell_type": "markdown",
     "metadata": {},
     "source": [
      "We can easily add columns to the DataFrame by combining existing column. Here we divide growing stock by basal area, and name result 'form_factor'. Note that we can easily refer to data columns by name, which help make the code readable (although we can also refer to the columne by index). "
     ]
    },
    {
     "cell_type": "code",
     "collapsed": false,
     "input": [
      "df['form_factor'] = df.growing_stock / df.basal_area\n",
      "df"
     ],
     "language": "python",
     "metadata": {},
     "outputs": [
      {
       "html": [
        "<div style=\"max-height:1000px;max-width:1500px;overflow:auto;\">\n",
        "<table border=\"1\" class=\"dataframe\">\n",
        "  <thead>\n",
        "    <tr style=\"text-align: right;\">\n",
        "      <th></th>\n",
        "      <th>growing_stock</th>\n",
        "      <th>basal_area</th>\n",
        "      <th>form_factor</th>\n",
        "    </tr>\n",
        "  </thead>\n",
        "  <tbody>\n",
        "    <tr>\n",
        "      <th>0 </th>\n",
        "      <td>  5562339.418677</td>\n",
        "      <td> 1248690.950537</td>\n",
        "      <td> 4.454537</td>\n",
        "    </tr>\n",
        "    <tr>\n",
        "      <th>1 </th>\n",
        "      <td>  6449350.248913</td>\n",
        "      <td> 1408654.743974</td>\n",
        "      <td> 4.578375</td>\n",
        "    </tr>\n",
        "    <tr>\n",
        "      <th>2 </th>\n",
        "      <td>  7343981.751790</td>\n",
        "      <td> 1572089.262551</td>\n",
        "      <td> 4.671479</td>\n",
        "    </tr>\n",
        "    <tr>\n",
        "      <th>3 </th>\n",
        "      <td>  8172246.984667</td>\n",
        "      <td> 1714611.287760</td>\n",
        "      <td> 4.766239</td>\n",
        "    </tr>\n",
        "    <tr>\n",
        "      <th>4 </th>\n",
        "      <td>  8948639.925602</td>\n",
        "      <td> 1849531.705558</td>\n",
        "      <td> 4.838327</td>\n",
        "    </tr>\n",
        "    <tr>\n",
        "      <th>5 </th>\n",
        "      <td>  9628613.124337</td>\n",
        "      <td> 1970812.010914</td>\n",
        "      <td> 4.885607</td>\n",
        "    </tr>\n",
        "    <tr>\n",
        "      <th>6 </th>\n",
        "      <td> 10251971.931193</td>\n",
        "      <td> 2073430.573411</td>\n",
        "      <td> 4.944449</td>\n",
        "    </tr>\n",
        "    <tr>\n",
        "      <th>7 </th>\n",
        "      <td> 10761298.290470</td>\n",
        "      <td> 2156687.586444</td>\n",
        "      <td> 4.989734</td>\n",
        "    </tr>\n",
        "    <tr>\n",
        "      <th>8 </th>\n",
        "      <td> 11222297.214774</td>\n",
        "      <td> 2225926.820624</td>\n",
        "      <td> 5.041629</td>\n",
        "    </tr>\n",
        "    <tr>\n",
        "      <th>9 </th>\n",
        "      <td> 11618192.025094</td>\n",
        "      <td> 2273659.896378</td>\n",
        "      <td> 5.109908</td>\n",
        "    </tr>\n",
        "    <tr>\n",
        "      <th>10</th>\n",
        "      <td> 11952000.195476</td>\n",
        "      <td> 2312372.443823</td>\n",
        "      <td> 5.168718</td>\n",
        "    </tr>\n",
        "    <tr>\n",
        "      <th>11</th>\n",
        "      <td> 12226417.510680</td>\n",
        "      <td> 2343019.140190</td>\n",
        "      <td> 5.218232</td>\n",
        "    </tr>\n",
        "    <tr>\n",
        "      <th>12</th>\n",
        "      <td> 12433727.348377</td>\n",
        "      <td> 2360069.404561</td>\n",
        "      <td> 5.268374</td>\n",
        "    </tr>\n",
        "    <tr>\n",
        "      <th>13</th>\n",
        "      <td> 12540498.035141</td>\n",
        "      <td> 2370914.662630</td>\n",
        "      <td> 5.289308</td>\n",
        "    </tr>\n",
        "    <tr>\n",
        "      <th>14</th>\n",
        "      <td> 12607497.473743</td>\n",
        "      <td> 2375974.800417</td>\n",
        "      <td> 5.306242</td>\n",
        "    </tr>\n",
        "    <tr>\n",
        "      <th>15</th>\n",
        "      <td> 12648957.726395</td>\n",
        "      <td> 2372806.940716</td>\n",
        "      <td> 5.330799</td>\n",
        "    </tr>\n",
        "    <tr>\n",
        "      <th>16</th>\n",
        "      <td> 12654243.383047</td>\n",
        "      <td> 2363887.939521</td>\n",
        "      <td> 5.353149</td>\n",
        "    </tr>\n",
        "    <tr>\n",
        "      <th>17</th>\n",
        "      <td> 12635912.416845</td>\n",
        "      <td> 2346292.782325</td>\n",
        "      <td> 5.385480</td>\n",
        "    </tr>\n",
        "    <tr>\n",
        "      <th>18</th>\n",
        "      <td> 12549506.219606</td>\n",
        "      <td> 2322127.243630</td>\n",
        "      <td> 5.404315</td>\n",
        "    </tr>\n",
        "    <tr>\n",
        "      <th>19</th>\n",
        "      <td> 12420461.334369</td>\n",
        "      <td> 2293896.227397</td>\n",
        "      <td> 5.414570</td>\n",
        "    </tr>\n",
        "    <tr>\n",
        "      <th>20</th>\n",
        "      <td> 12285650.350905</td>\n",
        "      <td> 2265169.961165</td>\n",
        "      <td> 5.423721</td>\n",
        "    </tr>\n",
        "    <tr>\n",
        "      <th>21</th>\n",
        "      <td> 12145519.934108</td>\n",
        "      <td> 2234576.058266</td>\n",
        "      <td> 5.435268</td>\n",
        "    </tr>\n",
        "    <tr>\n",
        "      <th>22</th>\n",
        "      <td> 11976866.084241</td>\n",
        "      <td> 2201896.414145</td>\n",
        "      <td> 5.439341</td>\n",
        "    </tr>\n",
        "    <tr>\n",
        "      <th>23</th>\n",
        "      <td> 11787488.740330</td>\n",
        "      <td> 2167099.746942</td>\n",
        "      <td> 5.439292</td>\n",
        "    </tr>\n",
        "    <tr>\n",
        "      <th>24</th>\n",
        "      <td> 11592008.128419</td>\n",
        "      <td> 2129031.627268</td>\n",
        "      <td> 5.444733</td>\n",
        "    </tr>\n",
        "    <tr>\n",
        "      <th>25</th>\n",
        "      <td> 11396527.516508</td>\n",
        "      <td> 2091563.256286</td>\n",
        "      <td> 5.448808</td>\n",
        "    </tr>\n",
        "    <tr>\n",
        "      <th>26</th>\n",
        "      <td> 11204026.240156</td>\n",
        "      <td> 2054169.820305</td>\n",
        "      <td> 5.454284</td>\n",
        "    </tr>\n",
        "    <tr>\n",
        "      <th>27</th>\n",
        "      <td> 11009296.046923</td>\n",
        "      <td> 2016268.207573</td>\n",
        "      <td> 5.460234</td>\n",
        "    </tr>\n",
        "    <tr>\n",
        "      <th>28</th>\n",
        "      <td> 10799565.471526</td>\n",
        "      <td> 1978851.400030</td>\n",
        "      <td> 5.457492</td>\n",
        "    </tr>\n",
        "    <tr>\n",
        "      <th>29</th>\n",
        "      <td> 10594500.377108</td>\n",
        "      <td> 1943720.129691</td>\n",
        "      <td> 5.450631</td>\n",
        "    </tr>\n",
        "  </tbody>\n",
        "</table>\n",
        "</div>"
       ],
       "metadata": {},
       "output_type": "pyout",
       "prompt_number": 53,
       "text": [
        "      growing_stock      basal_area  form_factor\n",
        "0    5562339.418677  1248690.950537     4.454537\n",
        "1    6449350.248913  1408654.743974     4.578375\n",
        "2    7343981.751790  1572089.262551     4.671479\n",
        "3    8172246.984667  1714611.287760     4.766239\n",
        "4    8948639.925602  1849531.705558     4.838327\n",
        "5    9628613.124337  1970812.010914     4.885607\n",
        "6   10251971.931193  2073430.573411     4.944449\n",
        "7   10761298.290470  2156687.586444     4.989734\n",
        "8   11222297.214774  2225926.820624     5.041629\n",
        "9   11618192.025094  2273659.896378     5.109908\n",
        "10  11952000.195476  2312372.443823     5.168718\n",
        "11  12226417.510680  2343019.140190     5.218232\n",
        "12  12433727.348377  2360069.404561     5.268374\n",
        "13  12540498.035141  2370914.662630     5.289308\n",
        "14  12607497.473743  2375974.800417     5.306242\n",
        "15  12648957.726395  2372806.940716     5.330799\n",
        "16  12654243.383047  2363887.939521     5.353149\n",
        "17  12635912.416845  2346292.782325     5.385480\n",
        "18  12549506.219606  2322127.243630     5.404315\n",
        "19  12420461.334369  2293896.227397     5.414570\n",
        "20  12285650.350905  2265169.961165     5.423721\n",
        "21  12145519.934108  2234576.058266     5.435268\n",
        "22  11976866.084241  2201896.414145     5.439341\n",
        "23  11787488.740330  2167099.746942     5.439292\n",
        "24  11592008.128419  2129031.627268     5.444733\n",
        "25  11396527.516508  2091563.256286     5.448808\n",
        "26  11204026.240156  2054169.820305     5.454284\n",
        "27  11009296.046923  2016268.207573     5.460234\n",
        "28  10799565.471526  1978851.400030     5.457492\n",
        "29  10594500.377108  1943720.129691     5.450631"
       ]
      }
     ],
     "prompt_number": 53
    },
    {
     "cell_type": "markdown",
     "metadata": {},
     "source": [
      "Now we plot the first two columns against the left y-axis, and the new column against the right y-axis. The data in the first two columns is enough in scale that we can plot both on the same axis, but the data in the third column needs to be plotted on its own axis or it will just look like a flat line hugging the x-axis. Matplotlib takes care of autoscaling the axes so that everything shows up.  \n",
      "\n",
      "Plotting can get _way_ fancier than this, but we are just getting warmed up... the point here is that it is easy to graph data when it is inside a DataFrame."
     ]
    },
    {
     "cell_type": "code",
     "collapsed": false,
     "input": [
      "df.growing_stock.plot()\n",
      "df.basal_area.plot()\n",
      "df.form_factor.plot(secondary_y=True)"
     ],
     "language": "python",
     "metadata": {},
     "outputs": [
      {
       "metadata": {},
       "output_type": "pyout",
       "prompt_number": 54,
       "text": [
        "<matplotlib.axes.AxesSubplot at 0x142739d0>"
       ]
      },
      {
       "metadata": {},
       "output_type": "display_data",
       "png": "[encoded data removed]",
       "text": [
        "<matplotlib.figure.Figure at 0x125c3510>"
       ]
      }
     ],
     "prompt_number": 54
    },
    {
     "cell_type": "markdown",
     "metadata": {},
     "source": [
      "We can also create a series of nicely lined up subplots with a shared x-axis. "
     ]
    },
    {
     "cell_type": "code",
     "collapsed": false,
     "input": [
      "fig, ax = plt.subplots(3, sharex=True, figsize=(15, 8))\n",
      "df.growing_stock.plot(ax=ax[0], title='Growing Stock')\n",
      "df.basal_area.plot(ax=ax[1], title='Basal Area')\n",
      "df.form_factor.plot(ax=ax[2], title='Form Factor')"
     ],
     "language": "python",
     "metadata": {},
     "outputs": [
      {
       "metadata": {},
       "output_type": "pyout",
       "prompt_number": 55,
       "text": [
        "<matplotlib.axes.AxesSubplot at 0x143da210>"
       ]
      },
      {
       "metadata": {},
       "output_type": "display_data",
       "png": "[encoded data removed]",
       "text": [
        "<matplotlib.figure.Figure at 0x142bbf70>"
       ]
      }
     ],
     "prompt_number": 55
    },
    {
     "cell_type": "markdown",
     "metadata": {},
     "source": [
      "The WoodstockModel object contains an _areaselector_ subobject, that implements a simple greedy heuristic to find operable area in a specified period. \n",
      "\n",
      "Here, we use the areaselector to simulate clearcut harvesting 10000 hectares in periods 10 to 14 and 1000 hectares in period 25. Note that the areaselector was unable to find the 1000 hectares of operable area we requested in period 25, so it harvests all the operable area and reports the shortage. \n",
      "\n",
      "We could easily code up an anternate area selector object (right inside the iPython notebook, if we wanted to) if we wanted implement different area selelction behaviour."
     ]
    },
    {
     "cell_type": "code",
     "collapsed": false,
     "input": [
      "acode = 'act1'\n",
      "for p in range(10, 15):\n",
      "    wm.areaselector.operate(period=p, acode=acode, target_area=10000)\n",
      "wm.areaselector.operate(period=27, acode=acode, target_area=1000)"
     ],
     "language": "python",
     "metadata": {},
     "outputs": [
      {
       "output_type": "stream",
       "stream": "stdout",
       "text": [
        " entering selector.operate() 2204 operable dtypes\n",
        " exiting selector.operate. remaining target_area:"
       ]
      },
      {
       "output_type": "stream",
       "stream": "stdout",
       "text": [
        " 0.0\n",
        " entering selector.operate()"
       ]
      },
      {
       "output_type": "stream",
       "stream": "stdout",
       "text": [
        " 3073 operable dtypes\n",
        " exiting selector.operate. remaining target_area:"
       ]
      },
      {
       "output_type": "stream",
       "stream": "stdout",
       "text": [
        " 0.0\n",
        " entering selector.operate()"
       ]
      },
      {
       "output_type": "stream",
       "stream": "stdout",
       "text": [
        " 3053 operable dtypes\n",
        " exiting selector.operate. remaining target_area:"
       ]
      },
      {
       "output_type": "stream",
       "stream": "stdout",
       "text": [
        " 0.0\n",
        " entering selector.operate()"
       ]
      },
      {
       "output_type": "stream",
       "stream": "stdout",
       "text": [
        " 3439 operable dtypes\n",
        " exiting selector.operate. remaining target_area:"
       ]
      },
      {
       "output_type": "stream",
       "stream": "stdout",
       "text": [
        " 0.0\n",
        " entering selector.operate()"
       ]
      },
      {
       "output_type": "stream",
       "stream": "stdout",
       "text": [
        " 3488 operable dtypes\n",
        " exiting selector.operate. remaining target_area:"
       ]
      },
      {
       "output_type": "stream",
       "stream": "stdout",
       "text": [
        " 0.0\n",
        " entering selector.operate()"
       ]
      },
      {
       "output_type": "stream",
       "stream": "stdout",
       "text": [
        " 492 operable dtypes\n",
        " exiting selector.operate. remaining target_area:"
       ]
      },
      {
       "output_type": "stream",
       "stream": "stdout",
       "text": [
        " 538.7\n"
       ]
      }
     ],
     "prompt_number": 65
    },
    {
     "cell_type": "markdown",
     "metadata": {},
     "source": [
      "Next, we build a new pandas DataFrame summarizing growing stock, operable area, and operated area. We plot the first two colums as lines charts, and the third column as a bar chart. The last two colums are plotted against the right y-axis.\n",
      "\n",
      "This is powerful kung-fu."
     ]
    },
    {
     "cell_type": "code",
     "collapsed": false,
     "input": [
      "df = pd.DataFrame([(wm.inventory(p, yname='yv_s', mask=mask),\n",
      "                    wm.operable_area(acode, p),\n",
      "                    wm.operated_area(acode, p)) for p in wm.periods], \n",
      "                  columns=['growing_stock', 'operable_area', 'operated_area'])\n",
      "df.growing_stock.plot()\n",
      "df.operable_area.plot(secondary_y=True)\n",
      "df.operated_area.plot(kind='bar', secondary_y=True)"
     ],
     "language": "python",
     "metadata": {},
     "outputs": [
      {
       "metadata": {},
       "output_type": "pyout",
       "prompt_number": 70,
       "text": [
        "<matplotlib.axes.AxesSubplot at 0x1519b3d0>"
       ]
      },
      {
       "metadata": {},
       "output_type": "display_data",
       "png": "[encoded data removed]",
       "text": [
        "<matplotlib.figure.Figure at 0x150898d0>"
       ]
      }
     ],
     "prompt_number": 70
    }
   ],
   "metadata": {}
  }
 ]
}