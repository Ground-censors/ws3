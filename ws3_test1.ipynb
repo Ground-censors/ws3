{
 "metadata": {
  "name": "",
  "signature": "sha256:d0b5a26dbceb00314c101bb648059233b72687d0526a8f9373c0103fb31d34b8"
 },
 "nbformat": 3,
 "nbformat_minor": 0,
 "worksheets": [
  {
   "cells": [
    {
     "cell_type": "code",
     "collapsed": false,
     "input": [
      "%reload_ext autoreload\n",
      "%autoreload 2\n",
      "%aimport\n",
      "%matplotlib inline\n",
      "%reload_ext memory_profiler\n",
      "\n",
      "\n",
      "import numpy as np\n",
      "import pandas as pd\n",
      "import matplotlib.pyplot as plt\n",
      "import copy\n",
      "\n",
      "import seaborn\n",
      "\n",
      "import os\n",
      "import cPickle\n",
      "\n",
      "try:\n",
      "    _path = os.path.abspath(os.path.join(os.path.dirname(__file__), '..'))\n",
      "except:\n",
      "    _path = os.path.abspath(os.path.join(os.path.dirname('__file__'), '..'))\n",
      "if not _path in os.sys.path:\n",
      "    os.sys.path.insert(1, _path)\n",
      "del _path\n",
      "\n",
      "from ws3.woodstock import WoodstockModel\n",
      "\n",
      "model_name = 'PC_4537_U03153_4FF_V05'\n",
      "model_path = '../../dat/woodstock/03153'"
     ],
     "language": "python",
     "metadata": {},
     "outputs": [
      {
       "output_type": "stream",
       "stream": "stdout",
       "text": [
        "Modules to reload:\n",
        "all-except-skipped\n",
        "\n",
        "Modules to skip:\n",
        "\n"
       ]
      }
     ],
     "prompt_number": 1
    },
    {
     "cell_type": "code",
     "collapsed": false,
     "input": [
      "def load_woodstockmodel(load_pickle='', dump_pickle='', verbose=True):\n",
      "    if load_pickle:\n",
      "        return cPickle.load(open(load_pickle))\n",
      "    wm = WoodstockModel(model_name, model_path)\n",
      "    if verbose: print 'importing CONSTANTS section'\n",
      "    wm.import_constants_section()\n",
      "    if verbose: print 'importing LANDSCAPE section'\n",
      "    wm.import_landscape_section()\n",
      "    if verbose: print 'importing AREAS section'\n",
      "    wm.import_areas_section()\n",
      "    if verbose: print 'importing YIELDS section'\n",
      "    wm.import_yields_section()\n",
      "    if verbose: print 'importing ACTIONS section'\n",
      "    wm.import_actions_section()\n",
      "    if verbose: print 'importing TRANSITIONS section'\n",
      "    wm.import_transitions_section()\n",
      "    if verbose: print 'importing OUTPUTS section'\n",
      "    wm.import_outputs_section()\n",
      "    if dump_pickle:\n",
      "        cPickle.dump(wm, open(dump_pickle, 'w'))\n",
      "    return wm"
     ],
     "language": "python",
     "metadata": {},
     "outputs": [],
     "prompt_number": 2
    },
    {
     "cell_type": "code",
     "collapsed": false,
     "input": [
      "wm = load_woodstockmodel()"
     ],
     "language": "python",
     "metadata": {},
     "outputs": [
      {
       "output_type": "stream",
       "stream": "stdout",
       "text": [
        "importing CONSTANTS section\n",
        "import_constants_section took 0.004 seconds.\n",
        "importing LANDSCAPE section\n",
        "import_landscape_section took 0.014 seconds.\n",
        "importing AREAS section\n",
        "import_areas_section took 1.424 seconds."
       ]
      },
      {
       "output_type": "stream",
       "stream": "stdout",
       "text": [
        "\n",
        "importing YIELDS section\n",
        "import_yields_section took 35.368 seconds."
       ]
      },
      {
       "output_type": "stream",
       "stream": "stdout",
       "text": [
        "\n",
        "importing ACTIONS section\n",
        "import_actions_section took 1.715 seconds."
       ]
      },
      {
       "output_type": "stream",
       "stream": "stdout",
       "text": [
        "\n",
        "importing TRANSITIONS section\n",
        "import_transitions_section took 4.410 seconds."
       ]
      },
      {
       "output_type": "stream",
       "stream": "stdout",
       "text": [
        "\n",
        "importing OUTPUTS section\n",
        "import_outputs_section took 6.921 seconds."
       ]
      },
      {
       "output_type": "stream",
       "stream": "stdout",
       "text": [
        "\n"
       ]
      }
     ],
     "prompt_number": 3
    },
    {
     "cell_type": "code",
     "collapsed": false,
     "input": [
      "wm.initialize_areas() \n",
      "wm.grow()"
     ],
     "language": "python",
     "metadata": {},
     "outputs": [],
     "prompt_number": 4
    },
    {
     "cell_type": "code",
     "collapsed": false,
     "input": [
      "wm.reset_actions()\n",
      "wm.initialize_areas()\n",
      "wm.grow()"
     ],
     "language": "python",
     "metadata": {},
     "outputs": [],
     "prompt_number": 8
    },
    {
     "cell_type": "code",
     "collapsed": false,
     "input": [
      "period = 10\n",
      "acode = 'act1'\n",
      "target_area = 10000.\n",
      "wm.areaselector.operate(period, acode, target_area)"
     ],
     "language": "python",
     "metadata": {},
     "outputs": [
      {
       "output_type": "stream",
       "stream": "stdout",
       "text": [
        " entering selector.operate() 2204 operable dtypes\n",
        " exiting selector.operate. remaining target_area:"
       ]
      },
      {
       "output_type": "stream",
       "stream": "stdout",
       "text": [
        " 0.0\n"
       ]
      }
     ],
     "prompt_number": 5
    },
    {
     "cell_type": "code",
     "collapsed": false,
     "input": [
      "period = 27\n",
      "acode = 'act1'\n",
      "target_area = 3000.\n",
      "wm.areaselector.operate(period, acode, target_area)"
     ],
     "language": "python",
     "metadata": {},
     "outputs": [
      {
       "output_type": "stream",
       "stream": "stdout",
       "text": [
        " entering selector.operate() 492 operable dtypes\n",
        " exiting selector.operate. remaining target_area:"
       ]
      },
      {
       "output_type": "stream",
       "stream": "stdout",
       "text": [
        " 2538.7\n"
       ]
      }
     ],
     "prompt_number": 6
    },
    {
     "cell_type": "code",
     "collapsed": false,
     "input": [
      "mask_string = '? ? ? ? ? ? ? inc ? ? ? ? ? ? ? ? ? ? ? ?'\n",
      "mask = tuple(mask_string.split(' '))\n",
      "data = []\n",
      "for p in range(1, 31):\n",
      "    data.append((p,\n",
      "                 wm.inventory(period=p, yname='yv_s', mask=mask),\n",
      "                 wm.operable_area(acode, p), \n",
      "                 wm.operated_area(acode, p)))"
     ],
     "language": "python",
     "metadata": {},
     "outputs": [],
     "prompt_number": 7
    },
    {
     "cell_type": "code",
     "collapsed": false,
     "input": [
      "names = 'period', 'growing_stock', 'act1_operable_area', 'act1_operated_area'\n",
      "df = pd.DataFrame(data, columns=names)\n"
     ],
     "language": "python",
     "metadata": {},
     "outputs": [],
     "prompt_number": 8
    },
    {
     "cell_type": "code",
     "collapsed": false,
     "input": [
      "df"
     ],
     "language": "python",
     "metadata": {},
     "outputs": [
      {
       "html": [
        "<div style=\"max-height:1000px;max-width:1500px;overflow:auto;\">\n",
        "<table border=\"1\" class=\"dataframe\">\n",
        "  <thead>\n",
        "    <tr style=\"text-align: right;\">\n",
        "      <th></th>\n",
        "      <th>period</th>\n",
        "      <th>growing_stock</th>\n",
        "      <th>act1_operable_area</th>\n",
        "      <th>act1_operated_area</th>\n",
        "    </tr>\n",
        "  </thead>\n",
        "  <tbody>\n",
        "    <tr>\n",
        "      <th>0 </th>\n",
        "      <td>  1</td>\n",
        "      <td>  5562339.418677</td>\n",
        "      <td>  9432.1</td>\n",
        "      <td>     0.0</td>\n",
        "    </tr>\n",
        "    <tr>\n",
        "      <th>1 </th>\n",
        "      <td>  2</td>\n",
        "      <td>  6449350.248913</td>\n",
        "      <td> 13584.4</td>\n",
        "      <td>     0.0</td>\n",
        "    </tr>\n",
        "    <tr>\n",
        "      <th>2 </th>\n",
        "      <td>  3</td>\n",
        "      <td>  7343981.751790</td>\n",
        "      <td> 21723.4</td>\n",
        "      <td>     0.0</td>\n",
        "    </tr>\n",
        "    <tr>\n",
        "      <th>3 </th>\n",
        "      <td>  4</td>\n",
        "      <td>  8172246.984667</td>\n",
        "      <td> 29453.8</td>\n",
        "      <td>     0.0</td>\n",
        "    </tr>\n",
        "    <tr>\n",
        "      <th>4 </th>\n",
        "      <td>  5</td>\n",
        "      <td>  8948639.925602</td>\n",
        "      <td> 35496.2</td>\n",
        "      <td>     0.0</td>\n",
        "    </tr>\n",
        "    <tr>\n",
        "      <th>5 </th>\n",
        "      <td>  6</td>\n",
        "      <td>  9628613.124337</td>\n",
        "      <td> 42920.1</td>\n",
        "      <td>     0.0</td>\n",
        "    </tr>\n",
        "    <tr>\n",
        "      <th>6 </th>\n",
        "      <td>  7</td>\n",
        "      <td> 10251971.931193</td>\n",
        "      <td> 52084.9</td>\n",
        "      <td>     0.0</td>\n",
        "    </tr>\n",
        "    <tr>\n",
        "      <th>7 </th>\n",
        "      <td>  8</td>\n",
        "      <td> 10761298.290470</td>\n",
        "      <td> 51897.6</td>\n",
        "      <td>     0.0</td>\n",
        "    </tr>\n",
        "    <tr>\n",
        "      <th>8 </th>\n",
        "      <td>  9</td>\n",
        "      <td> 11222297.214774</td>\n",
        "      <td> 53344.5</td>\n",
        "      <td>     0.0</td>\n",
        "    </tr>\n",
        "    <tr>\n",
        "      <th>9 </th>\n",
        "      <td> 10</td>\n",
        "      <td> 10095291.124593</td>\n",
        "      <td> 43953.2</td>\n",
        "      <td> 10000.0</td>\n",
        "    </tr>\n",
        "    <tr>\n",
        "      <th>10</th>\n",
        "      <td> 11</td>\n",
        "      <td> 11952000.195476</td>\n",
        "      <td> 52161.4</td>\n",
        "      <td>     0.0</td>\n",
        "    </tr>\n",
        "    <tr>\n",
        "      <th>11</th>\n",
        "      <td> 12</td>\n",
        "      <td> 12226417.510680</td>\n",
        "      <td> 54035.4</td>\n",
        "      <td>     0.0</td>\n",
        "    </tr>\n",
        "    <tr>\n",
        "      <th>12</th>\n",
        "      <td> 13</td>\n",
        "      <td> 12433727.348377</td>\n",
        "      <td> 50745.3</td>\n",
        "      <td>     0.0</td>\n",
        "    </tr>\n",
        "    <tr>\n",
        "      <th>13</th>\n",
        "      <td> 14</td>\n",
        "      <td> 12540498.035141</td>\n",
        "      <td> 48199.5</td>\n",
        "      <td>     0.0</td>\n",
        "    </tr>\n",
        "    <tr>\n",
        "      <th>14</th>\n",
        "      <td> 15</td>\n",
        "      <td> 12607497.473743</td>\n",
        "      <td> 44914.0</td>\n",
        "      <td>     0.0</td>\n",
        "    </tr>\n",
        "    <tr>\n",
        "      <th>15</th>\n",
        "      <td> 16</td>\n",
        "      <td> 12648957.726395</td>\n",
        "      <td> 41820.5</td>\n",
        "      <td>     0.0</td>\n",
        "    </tr>\n",
        "    <tr>\n",
        "      <th>16</th>\n",
        "      <td> 17</td>\n",
        "      <td> 12654243.383047</td>\n",
        "      <td> 34857.9</td>\n",
        "      <td>     0.0</td>\n",
        "    </tr>\n",
        "    <tr>\n",
        "      <th>17</th>\n",
        "      <td> 18</td>\n",
        "      <td> 12635912.416845</td>\n",
        "      <td> 25272.9</td>\n",
        "      <td>     0.0</td>\n",
        "    </tr>\n",
        "    <tr>\n",
        "      <th>18</th>\n",
        "      <td> 19</td>\n",
        "      <td> 12549506.219606</td>\n",
        "      <td> 24455.9</td>\n",
        "      <td>     0.0</td>\n",
        "    </tr>\n",
        "    <tr>\n",
        "      <th>19</th>\n",
        "      <td> 20</td>\n",
        "      <td> 12420461.334369</td>\n",
        "      <td> 20813.7</td>\n",
        "      <td>     0.0</td>\n",
        "    </tr>\n",
        "    <tr>\n",
        "      <th>20</th>\n",
        "      <td> 21</td>\n",
        "      <td> 12285650.350905</td>\n",
        "      <td> 19244.2</td>\n",
        "      <td>     0.0</td>\n",
        "    </tr>\n",
        "    <tr>\n",
        "      <th>21</th>\n",
        "      <td> 22</td>\n",
        "      <td> 12145519.934108</td>\n",
        "      <td> 18495.5</td>\n",
        "      <td>     0.0</td>\n",
        "    </tr>\n",
        "    <tr>\n",
        "      <th>22</th>\n",
        "      <td> 23</td>\n",
        "      <td> 11976866.084241</td>\n",
        "      <td> 14310.5</td>\n",
        "      <td>     0.0</td>\n",
        "    </tr>\n",
        "    <tr>\n",
        "      <th>23</th>\n",
        "      <td> 24</td>\n",
        "      <td> 11787488.740330</td>\n",
        "      <td> 13448.3</td>\n",
        "      <td>     0.0</td>\n",
        "    </tr>\n",
        "    <tr>\n",
        "      <th>24</th>\n",
        "      <td> 25</td>\n",
        "      <td> 11592008.128419</td>\n",
        "      <td>  7855.1</td>\n",
        "      <td>     0.0</td>\n",
        "    </tr>\n",
        "    <tr>\n",
        "      <th>25</th>\n",
        "      <td> 26</td>\n",
        "      <td> 11396527.516508</td>\n",
        "      <td>  3410.2</td>\n",
        "      <td>     0.0</td>\n",
        "    </tr>\n",
        "    <tr>\n",
        "      <th>26</th>\n",
        "      <td> 27</td>\n",
        "      <td> 11116428.083685</td>\n",
        "      <td>     0.0</td>\n",
        "      <td>   461.3</td>\n",
        "    </tr>\n",
        "    <tr>\n",
        "      <th>27</th>\n",
        "      <td> 28</td>\n",
        "      <td> 11009296.046923</td>\n",
        "      <td>     0.0</td>\n",
        "      <td>     0.0</td>\n",
        "    </tr>\n",
        "    <tr>\n",
        "      <th>28</th>\n",
        "      <td> 29</td>\n",
        "      <td> 10799565.471526</td>\n",
        "      <td>     0.0</td>\n",
        "      <td>     0.0</td>\n",
        "    </tr>\n",
        "    <tr>\n",
        "      <th>29</th>\n",
        "      <td> 30</td>\n",
        "      <td> 10594500.377108</td>\n",
        "      <td>     0.0</td>\n",
        "      <td>     0.0</td>\n",
        "    </tr>\n",
        "  </tbody>\n",
        "</table>\n",
        "</div>"
       ],
       "metadata": {},
       "output_type": "pyout",
       "prompt_number": 9,
       "text": [
        "    period    growing_stock  act1_operable_area  act1_operated_area\n",
        "0        1   5562339.418677              9432.1                 0.0\n",
        "1        2   6449350.248913             13584.4                 0.0\n",
        "2        3   7343981.751790             21723.4                 0.0\n",
        "3        4   8172246.984667             29453.8                 0.0\n",
        "4        5   8948639.925602             35496.2                 0.0\n",
        "5        6   9628613.124337             42920.1                 0.0\n",
        "6        7  10251971.931193             52084.9                 0.0\n",
        "7        8  10761298.290470             51897.6                 0.0\n",
        "8        9  11222297.214774             53344.5                 0.0\n",
        "9       10  10095291.124593             43953.2             10000.0\n",
        "10      11  11952000.195476             52161.4                 0.0\n",
        "11      12  12226417.510680             54035.4                 0.0\n",
        "12      13  12433727.348377             50745.3                 0.0\n",
        "13      14  12540498.035141             48199.5                 0.0\n",
        "14      15  12607497.473743             44914.0                 0.0\n",
        "15      16  12648957.726395             41820.5                 0.0\n",
        "16      17  12654243.383047             34857.9                 0.0\n",
        "17      18  12635912.416845             25272.9                 0.0\n",
        "18      19  12549506.219606             24455.9                 0.0\n",
        "19      20  12420461.334369             20813.7                 0.0\n",
        "20      21  12285650.350905             19244.2                 0.0\n",
        "21      22  12145519.934108             18495.5                 0.0\n",
        "22      23  11976866.084241             14310.5                 0.0\n",
        "23      24  11787488.740330             13448.3                 0.0\n",
        "24      25  11592008.128419              7855.1                 0.0\n",
        "25      26  11396527.516508              3410.2                 0.0\n",
        "26      27  11116428.083685                 0.0               461.3\n",
        "27      28  11009296.046923                 0.0                 0.0\n",
        "28      29  10799565.471526                 0.0                 0.0\n",
        "29      30  10594500.377108                 0.0                 0.0"
       ]
      }
     ],
     "prompt_number": 9
    },
    {
     "cell_type": "code",
     "collapsed": false,
     "input": [
      "df.growing_stock.plot(color='Blue')\n",
      "df.act1_operable_area.plot(color='Green', secondary_y=True)"
     ],
     "language": "python",
     "metadata": {},
     "outputs": [
      {
       "metadata": {},
       "output_type": "pyout",
       "prompt_number": 13,
       "text": [
        "<matplotlib.axes.AxesSubplot at 0x118e4f50>"
       ]
      },
      {
       "metadata": {},
       "output_type": "display_data",
       "png": "[encoded data removed]",
       "text": [
        "<matplotlib.figure.Figure at 0x118e4bb0>"
       ]
      }
     ],
     "prompt_number": 13
    },
    {
     "cell_type": "code",
     "collapsed": false,
     "input": [],
     "language": "python",
     "metadata": {},
     "outputs": []
    }
   ],
   "metadata": {}
  }
 ]
}