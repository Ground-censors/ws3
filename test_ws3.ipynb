{
 "cells": [
  {
   "cell_type": "code",
   "execution_count": 1,
   "metadata": {
    "collapsed": false
   },
   "outputs": [
    {
     "name": "stdout",
     "output_type": "stream",
     "text": [
      "Modules to reload:\n",
      "all-except-skipped\n",
      "\n",
      "Modules to skip:\n",
      "\n"
     ]
    },
    {
     "ename": "OSError",
     "evalue": "Cannot load library /Users/greg/.virtualenvs/wm3-pypy/site-packages/numpy/linalg/libumath_linalg_cffi.so: dlopen(/Users/greg/.virtualenvs/wm3-pypy/site-packages/numpy/linalg/libumath_linalg_cffi.so, 2): image not found",
     "output_type": "error",
     "traceback": [
      "\u001b[0;31m---------------------------------------------------------------------------\u001b[0m",
      "\u001b[0;31mOSError\u001b[0m                                   Traceback (most recent call last)",
      "\u001b[0;32m<ipython-input-1-6fdbb0224111>\u001b[0m in \u001b[0;36m<module>\u001b[0;34m()\u001b[0m\n\u001b[1;32m      5\u001b[0m \u001b[0;31m#%reload_ext memory_profiler\u001b[0m\u001b[0;34m\u001b[0m\u001b[0;34m\u001b[0m\u001b[0m\n\u001b[1;32m      6\u001b[0m \u001b[0;34m\u001b[0m\u001b[0m\n\u001b[0;32m----> 7\u001b[0;31m \u001b[0;32mimport\u001b[0m \u001b[0mnumpy\u001b[0m \u001b[0;32mas\u001b[0m \u001b[0mnp\u001b[0m\u001b[0;34m\u001b[0m\u001b[0m\n\u001b[0m\u001b[1;32m      8\u001b[0m \u001b[0;32mimport\u001b[0m \u001b[0mpandas\u001b[0m \u001b[0;32mas\u001b[0m \u001b[0mpd\u001b[0m\u001b[0;34m\u001b[0m\u001b[0m\n\u001b[1;32m      9\u001b[0m \u001b[0;32mimport\u001b[0m \u001b[0mmatplotlib\u001b[0m\u001b[0;34m.\u001b[0m\u001b[0mpyplot\u001b[0m \u001b[0;32mas\u001b[0m \u001b[0mplt\u001b[0m\u001b[0;34m\u001b[0m\u001b[0m\n",
      "\u001b[0;32m/Users/greg/.virtualenvs/wm3-pypy/site-packages/numpy/__init__.pyc\u001b[0m in \u001b[0;36m<module>\u001b[0;34m()\u001b[0m\n\u001b[1;32m    168\u001b[0m         \u001b[0;32mreturn\u001b[0m \u001b[0mloader\u001b[0m\u001b[0;34m(\u001b[0m\u001b[0;34m*\u001b[0m\u001b[0mpackages\u001b[0m\u001b[0;34m,\u001b[0m \u001b[0;34m**\u001b[0m\u001b[0moptions\u001b[0m\u001b[0;34m)\u001b[0m\u001b[0;34m\u001b[0m\u001b[0m\n\u001b[1;32m    169\u001b[0m \u001b[0;34m\u001b[0m\u001b[0m\n\u001b[0;32m--> 170\u001b[0;31m     \u001b[0;32mfrom\u001b[0m \u001b[0;34m.\u001b[0m \u001b[0;32mimport\u001b[0m \u001b[0madd_newdocs\u001b[0m\u001b[0;34m\u001b[0m\u001b[0m\n\u001b[0m\u001b[1;32m    171\u001b[0m     __all__ = ['add_newdocs',\n\u001b[1;32m    172\u001b[0m                \u001b[0;34m'ModuleDeprecationWarning'\u001b[0m\u001b[0;34m,\u001b[0m\u001b[0;34m\u001b[0m\u001b[0m\n",
      "\u001b[0;32m/Users/greg/.virtualenvs/wm3-pypy/site-packages/numpy/add_newdocs.pyc\u001b[0m in \u001b[0;36m<module>\u001b[0;34m()\u001b[0m\n\u001b[1;32m     11\u001b[0m \u001b[0;32mfrom\u001b[0m \u001b[0m__future__\u001b[0m \u001b[0;32mimport\u001b[0m \u001b[0mdivision\u001b[0m\u001b[0;34m,\u001b[0m \u001b[0mabsolute_import\u001b[0m\u001b[0;34m,\u001b[0m \u001b[0mprint_function\u001b[0m\u001b[0;34m\u001b[0m\u001b[0m\n\u001b[1;32m     12\u001b[0m \u001b[0;34m\u001b[0m\u001b[0m\n\u001b[0;32m---> 13\u001b[0;31m \u001b[0;32mfrom\u001b[0m \u001b[0mnumpy\u001b[0m\u001b[0;34m.\u001b[0m\u001b[0mlib\u001b[0m \u001b[0;32mimport\u001b[0m \u001b[0madd_newdoc\u001b[0m\u001b[0;34m\u001b[0m\u001b[0m\n\u001b[0m\u001b[1;32m     14\u001b[0m \u001b[0;34m\u001b[0m\u001b[0m\n\u001b[1;32m     15\u001b[0m \u001b[0;31m###############################################################################\u001b[0m\u001b[0;34m\u001b[0m\u001b[0;34m\u001b[0m\u001b[0m\n",
      "\u001b[0;32m/Users/greg/.virtualenvs/wm3-pypy/site-packages/numpy/lib/__init__.pyc\u001b[0m in \u001b[0;36m<module>\u001b[0;34m()\u001b[0m\n\u001b[1;32m     16\u001b[0m \u001b[0;34m\u001b[0m\u001b[0m\n\u001b[1;32m     17\u001b[0m \u001b[0;32mfrom\u001b[0m \u001b[0;34m.\u001b[0m \u001b[0;32mimport\u001b[0m \u001b[0mscimath\u001b[0m \u001b[0;32mas\u001b[0m \u001b[0memath\u001b[0m\u001b[0;34m\u001b[0m\u001b[0m\n\u001b[0;32m---> 18\u001b[0;31m \u001b[0;32mfrom\u001b[0m \u001b[0;34m.\u001b[0m\u001b[0mpolynomial\u001b[0m \u001b[0;32mimport\u001b[0m \u001b[0;34m*\u001b[0m\u001b[0;34m\u001b[0m\u001b[0m\n\u001b[0m\u001b[1;32m     19\u001b[0m \u001b[0;31m#import convertcode\u001b[0m\u001b[0;34m\u001b[0m\u001b[0;34m\u001b[0m\u001b[0m\n\u001b[1;32m     20\u001b[0m \u001b[0;32mfrom\u001b[0m \u001b[0;34m.\u001b[0m\u001b[0mutils\u001b[0m \u001b[0;32mimport\u001b[0m \u001b[0;34m*\u001b[0m\u001b[0;34m\u001b[0m\u001b[0m\n",
      "\u001b[0;32m/Users/greg/.virtualenvs/wm3-pypy/site-packages/numpy/lib/polynomial.pyc\u001b[0m in \u001b[0;36m<module>\u001b[0;34m()\u001b[0m\n\u001b[1;32m     17\u001b[0m \u001b[0;32mfrom\u001b[0m \u001b[0mnumpy\u001b[0m\u001b[0;34m.\u001b[0m\u001b[0mlib\u001b[0m\u001b[0;34m.\u001b[0m\u001b[0mfunction_base\u001b[0m \u001b[0;32mimport\u001b[0m \u001b[0mtrim_zeros\u001b[0m\u001b[0;34m,\u001b[0m \u001b[0msort_complex\u001b[0m\u001b[0;34m\u001b[0m\u001b[0m\n\u001b[1;32m     18\u001b[0m \u001b[0;32mfrom\u001b[0m \u001b[0mnumpy\u001b[0m\u001b[0;34m.\u001b[0m\u001b[0mlib\u001b[0m\u001b[0;34m.\u001b[0m\u001b[0mtype_check\u001b[0m \u001b[0;32mimport\u001b[0m \u001b[0miscomplex\u001b[0m\u001b[0;34m,\u001b[0m \u001b[0mreal\u001b[0m\u001b[0;34m,\u001b[0m \u001b[0mimag\u001b[0m\u001b[0;34m\u001b[0m\u001b[0m\n\u001b[0;32m---> 19\u001b[0;31m \u001b[0;32mfrom\u001b[0m \u001b[0mnumpy\u001b[0m\u001b[0;34m.\u001b[0m\u001b[0mlinalg\u001b[0m \u001b[0;32mimport\u001b[0m \u001b[0meigvals\u001b[0m\u001b[0;34m,\u001b[0m \u001b[0mlstsq\u001b[0m\u001b[0;34m,\u001b[0m \u001b[0minv\u001b[0m\u001b[0;34m\u001b[0m\u001b[0m\n\u001b[0m\u001b[1;32m     20\u001b[0m \u001b[0;34m\u001b[0m\u001b[0m\n\u001b[1;32m     21\u001b[0m \u001b[0;32mclass\u001b[0m \u001b[0mRankWarning\u001b[0m\u001b[0;34m(\u001b[0m\u001b[0mUserWarning\u001b[0m\u001b[0;34m)\u001b[0m\u001b[0;34m:\u001b[0m\u001b[0;34m\u001b[0m\u001b[0m\n",
      "\u001b[0;32m/Users/greg/.virtualenvs/wm3-pypy/site-packages/numpy/linalg/__init__.pyc\u001b[0m in \u001b[0;36m<module>\u001b[0;34m()\u001b[0m\n\u001b[1;32m     49\u001b[0m \u001b[0;32mfrom\u001b[0m \u001b[0;34m.\u001b[0m\u001b[0minfo\u001b[0m \u001b[0;32mimport\u001b[0m \u001b[0m__doc__\u001b[0m\u001b[0;34m\u001b[0m\u001b[0m\n\u001b[1;32m     50\u001b[0m \u001b[0;34m\u001b[0m\u001b[0m\n\u001b[0;32m---> 51\u001b[0;31m \u001b[0;32mfrom\u001b[0m \u001b[0;34m.\u001b[0m\u001b[0mlinalg\u001b[0m \u001b[0;32mimport\u001b[0m \u001b[0;34m*\u001b[0m\u001b[0;34m\u001b[0m\u001b[0m\n\u001b[0m\u001b[1;32m     52\u001b[0m \u001b[0;34m\u001b[0m\u001b[0m\n\u001b[1;32m     53\u001b[0m \u001b[0;32mfrom\u001b[0m \u001b[0mnumpy\u001b[0m\u001b[0;34m.\u001b[0m\u001b[0mtesting\u001b[0m \u001b[0;32mimport\u001b[0m \u001b[0mTester\u001b[0m\u001b[0;34m\u001b[0m\u001b[0m\n",
      "\u001b[0;32m/Users/greg/.virtualenvs/wm3-pypy/site-packages/numpy/linalg/linalg.pyc\u001b[0m in \u001b[0;36m<module>\u001b[0;34m()\u001b[0m\n\u001b[1;32m     27\u001b[0m     )\n\u001b[1;32m     28\u001b[0m \u001b[0;32mfrom\u001b[0m \u001b[0mnumpy\u001b[0m\u001b[0;34m.\u001b[0m\u001b[0mlib\u001b[0m \u001b[0;32mimport\u001b[0m \u001b[0mtriu\u001b[0m\u001b[0;34m,\u001b[0m \u001b[0masfarray\u001b[0m\u001b[0;34m\u001b[0m\u001b[0m\n\u001b[0;32m---> 29\u001b[0;31m \u001b[0;32mfrom\u001b[0m \u001b[0mnumpy\u001b[0m\u001b[0;34m.\u001b[0m\u001b[0mlinalg\u001b[0m \u001b[0;32mimport\u001b[0m \u001b[0m_umath_linalg\u001b[0m\u001b[0;34m\u001b[0m\u001b[0m\n\u001b[0m\u001b[1;32m     30\u001b[0m \u001b[0;32mtry\u001b[0m\u001b[0;34m:\u001b[0m\u001b[0;34m\u001b[0m\u001b[0m\n\u001b[1;32m     31\u001b[0m     \u001b[0;32mfrom\u001b[0m \u001b[0mnumpy\u001b[0m\u001b[0;34m.\u001b[0m\u001b[0mlinalg\u001b[0m \u001b[0;32mimport\u001b[0m \u001b[0mlapack_lite\u001b[0m\u001b[0;34m\u001b[0m\u001b[0m\n",
      "\u001b[0;32m/Users/greg/.virtualenvs/wm3-pypy/site-packages/numpy/linalg/_umath_linalg.pyc\u001b[0m in \u001b[0;36m<module>\u001b[0;34m()\u001b[0m\n\u001b[1;32m     57\u001b[0m     \u001b[0;32melse\u001b[0m\u001b[0;34m:\u001b[0m\u001b[0;34m\u001b[0m\u001b[0m\n\u001b[1;32m     58\u001b[0m         \u001b[0mso_name\u001b[0m \u001b[0;34m=\u001b[0m \u001b[0;34m'/libumath_linalg_cffi.so'\u001b[0m\u001b[0;34m\u001b[0m\u001b[0m\n\u001b[0;32m---> 59\u001b[0;31m     \u001b[0mumath_linalg_capi\u001b[0m \u001b[0;34m=\u001b[0m \u001b[0mumath_ffi\u001b[0m\u001b[0;34m.\u001b[0m\u001b[0mdlopen\u001b[0m\u001b[0;34m(\u001b[0m\u001b[0mos\u001b[0m\u001b[0;34m.\u001b[0m\u001b[0mpath\u001b[0m\u001b[0;34m.\u001b[0m\u001b[0mdirname\u001b[0m\u001b[0;34m(\u001b[0m\u001b[0m__file__\u001b[0m\u001b[0;34m)\u001b[0m \u001b[0;34m+\u001b[0m \u001b[0mso_name\u001b[0m\u001b[0;34m)\u001b[0m\u001b[0;34m\u001b[0m\u001b[0m\n\u001b[0m\u001b[1;32m     60\u001b[0m     \u001b[0mumath_linalg_capi\u001b[0m\u001b[0;34m.\u001b[0m\u001b[0minit_constants\u001b[0m\u001b[0;34m(\u001b[0m\u001b[0;34m)\u001b[0m\u001b[0;34m\u001b[0m\u001b[0m\n\u001b[1;32m     61\u001b[0m \u001b[0;34m\u001b[0m\u001b[0m\n",
      "\u001b[0;32m/opt/local/lib/pypy/lib_pypy/cffi/api.pyc\u001b[0m in \u001b[0;36mdlopen\u001b[0;34m(self, name, flags)\u001b[0m\n\u001b[1;32m    118\u001b[0m         \u001b[0;32massert\u001b[0m \u001b[0misinstance\u001b[0m\u001b[0;34m(\u001b[0m\u001b[0mname\u001b[0m\u001b[0;34m,\u001b[0m \u001b[0mbasestring\u001b[0m\u001b[0;34m)\u001b[0m \u001b[0;32mor\u001b[0m \u001b[0mname\u001b[0m \u001b[0;32mis\u001b[0m \u001b[0mNone\u001b[0m\u001b[0;34m\u001b[0m\u001b[0m\n\u001b[1;32m    119\u001b[0m         \u001b[0;32mwith\u001b[0m \u001b[0mself\u001b[0m\u001b[0;34m.\u001b[0m\u001b[0m_lock\u001b[0m\u001b[0;34m:\u001b[0m\u001b[0;34m\u001b[0m\u001b[0m\n\u001b[0;32m--> 120\u001b[0;31m             \u001b[0mlib\u001b[0m\u001b[0;34m,\u001b[0m \u001b[0mfunction_cache\u001b[0m \u001b[0;34m=\u001b[0m \u001b[0m_make_ffi_library\u001b[0m\u001b[0;34m(\u001b[0m\u001b[0mself\u001b[0m\u001b[0;34m,\u001b[0m \u001b[0mname\u001b[0m\u001b[0;34m,\u001b[0m \u001b[0mflags\u001b[0m\u001b[0;34m)\u001b[0m\u001b[0;34m\u001b[0m\u001b[0m\n\u001b[0m\u001b[1;32m    121\u001b[0m             \u001b[0mself\u001b[0m\u001b[0;34m.\u001b[0m\u001b[0m_function_caches\u001b[0m\u001b[0;34m.\u001b[0m\u001b[0mappend\u001b[0m\u001b[0;34m(\u001b[0m\u001b[0mfunction_cache\u001b[0m\u001b[0;34m)\u001b[0m\u001b[0;34m\u001b[0m\u001b[0m\n\u001b[1;32m    122\u001b[0m             \u001b[0mself\u001b[0m\u001b[0;34m.\u001b[0m\u001b[0m_libraries\u001b[0m\u001b[0;34m.\u001b[0m\u001b[0mappend\u001b[0m\u001b[0;34m(\u001b[0m\u001b[0mlib\u001b[0m\u001b[0;34m)\u001b[0m\u001b[0;34m\u001b[0m\u001b[0m\n",
      "\u001b[0;32m/opt/local/lib/pypy/lib_pypy/cffi/api.pyc\u001b[0m in \u001b[0;36m_make_ffi_library\u001b[0;34m(ffi, libname, flags)\u001b[0m\n\u001b[1;32m    490\u001b[0m     \u001b[0;32mimport\u001b[0m \u001b[0mos\u001b[0m\u001b[0;34m\u001b[0m\u001b[0m\n\u001b[1;32m    491\u001b[0m     \u001b[0mbackend\u001b[0m \u001b[0;34m=\u001b[0m \u001b[0mffi\u001b[0m\u001b[0;34m.\u001b[0m\u001b[0m_backend\u001b[0m\u001b[0;34m\u001b[0m\u001b[0m\n\u001b[0;32m--> 492\u001b[0;31m     \u001b[0mbackendlib\u001b[0m \u001b[0;34m=\u001b[0m \u001b[0m_load_backend_lib\u001b[0m\u001b[0;34m(\u001b[0m\u001b[0mbackend\u001b[0m\u001b[0;34m,\u001b[0m \u001b[0mlibname\u001b[0m\u001b[0;34m,\u001b[0m \u001b[0mflags\u001b[0m\u001b[0;34m)\u001b[0m\u001b[0;34m\u001b[0m\u001b[0m\n\u001b[0m\u001b[1;32m    493\u001b[0m     \u001b[0mcopied_enums\u001b[0m \u001b[0;34m=\u001b[0m \u001b[0;34m[\u001b[0m\u001b[0;34m]\u001b[0m\u001b[0;34m\u001b[0m\u001b[0m\n\u001b[1;32m    494\u001b[0m     \u001b[0;31m#\u001b[0m\u001b[0;34m\u001b[0m\u001b[0;34m\u001b[0m\u001b[0m\n",
      "\u001b[0;32m/opt/local/lib/pypy/lib_pypy/cffi/api.pyc\u001b[0m in \u001b[0;36m_load_backend_lib\u001b[0;34m(backend, name, flags)\u001b[0m\n\u001b[1;32m    479\u001b[0m         \u001b[0;32mif\u001b[0m \u001b[0;34m'.'\u001b[0m \u001b[0;32mnot\u001b[0m \u001b[0;32min\u001b[0m \u001b[0mname\u001b[0m \u001b[0;32mand\u001b[0m \u001b[0;34m'/'\u001b[0m \u001b[0;32mnot\u001b[0m \u001b[0;32min\u001b[0m \u001b[0mname\u001b[0m\u001b[0;34m:\u001b[0m\u001b[0;34m\u001b[0m\u001b[0m\n\u001b[1;32m    480\u001b[0m             \u001b[0;32mraise\u001b[0m \u001b[0mOSError\u001b[0m\u001b[0;34m(\u001b[0m\u001b[0;34m\"library not found: %r\"\u001b[0m \u001b[0;34m%\u001b[0m \u001b[0;34m(\u001b[0m\u001b[0mname\u001b[0m\u001b[0;34m,\u001b[0m\u001b[0;34m)\u001b[0m\u001b[0;34m)\u001b[0m\u001b[0;34m\u001b[0m\u001b[0m\n\u001b[0;32m--> 481\u001b[0;31m         \u001b[0;32mreturn\u001b[0m \u001b[0mbackend\u001b[0m\u001b[0;34m.\u001b[0m\u001b[0mload_library\u001b[0m\u001b[0;34m(\u001b[0m\u001b[0mname\u001b[0m\u001b[0;34m,\u001b[0m \u001b[0mflags\u001b[0m\u001b[0;34m)\u001b[0m\u001b[0;34m\u001b[0m\u001b[0m\n\u001b[0m\u001b[1;32m    482\u001b[0m     \u001b[0;32mexcept\u001b[0m \u001b[0mOSError\u001b[0m\u001b[0;34m:\u001b[0m\u001b[0;34m\u001b[0m\u001b[0m\n\u001b[1;32m    483\u001b[0m         \u001b[0;32mimport\u001b[0m \u001b[0mctypes\u001b[0m\u001b[0;34m.\u001b[0m\u001b[0mutil\u001b[0m\u001b[0;34m\u001b[0m\u001b[0m\n",
      "\u001b[0;31mOSError\u001b[0m: Cannot load library /Users/greg/.virtualenvs/wm3-pypy/site-packages/numpy/linalg/libumath_linalg_cffi.so: dlopen(/Users/greg/.virtualenvs/wm3-pypy/site-packages/numpy/linalg/libumath_linalg_cffi.so, 2): image not found"
     ]
    }
   ],
   "source": [
    "%reload_ext autoreload\n",
    "%autoreload 2\n",
    "%aimport\n",
    "#%matplotlib inline\n",
    "#%reload_ext memory_profiler\n",
    "\n",
    "import numpy as np\n",
    "import pandas as pd\n",
    "import matplotlib.pyplot as plt\n",
    "import copy\n",
    "\n",
    "import seaborn\n",
    "\n",
    "import os\n",
    "import cPickle\n",
    "\n",
    "try:\n",
    "    _path = os.path.abspath(os.path.join(os.path.dirname(__file__), '..'))\n",
    "except:\n",
    "    _path = os.path.abspath(os.path.join(os.path.dirname('__file__'), '..'))\n",
    "if not _path in os.sys.path:\n",
    "    os.sys.path.insert(1, _path)\n",
    "del _path\n",
    "\n",
    "from ws3.woodstock import WoodstockModel\n",
    "\n",
    "model_name = 'PC_4537_U03153_4FF_V05'\n",
    "model_path = '../../dat/woodstock/03153'"
   ]
  },
  {
   "cell_type": "code",
   "execution_count": 2,
   "metadata": {
    "collapsed": false
   },
   "outputs": [],
   "source": [
    "def load_woodstockmodel(load_pickle='', dump_pickle='', verbose=True):\n",
    "    if load_pickle:\n",
    "        return cPickle.load(open(load_pickle))\n",
    "    wm = WoodstockModel(model_name, model_path)\n",
    "    if verbose: print 'importing CONSTANTS section'\n",
    "    wm.import_constants_section()\n",
    "    if verbose: print 'importing LANDSCAPE section'\n",
    "    wm.import_landscape_section()\n",
    "    if verbose: print 'importing AREAS section'\n",
    "    wm.import_areas_section()\n",
    "    if verbose: print 'importing YIELDS section'\n",
    "    wm.import_yields_section()\n",
    "    if verbose: print 'importing ACTIONS section'\n",
    "    wm.import_actions_section()\n",
    "    if verbose: print 'importing TRANSITIONS section'\n",
    "    wm.import_transitions_section()\n",
    "    if verbose: print 'importing OUTPUTS section'\n",
    "    wm.import_outputs_section()\n",
    "    if dump_pickle:\n",
    "        cPickle.dump(wm, open(dump_pickle, 'w'))\n",
    "    return wm"
   ]
  },
  {
   "cell_type": "code",
   "execution_count": 3,
   "metadata": {
    "collapsed": false
   },
   "outputs": [
    {
     "name": "stdout",
     "output_type": "stream",
     "text": [
      "importing CONSTANTS section\n",
      "import_constants_section took 0.004 seconds.\n",
      "importing LANDSCAPE section\n",
      "import_landscape_section took 0.015 seconds.\n",
      "importing AREAS section\n",
      "import_areas_section took 1.514 seconds.\n",
      "importing YIELDS section\n",
      "import_yields_section took 17.798 seconds.\n",
      "importing ACTIONS section\n",
      "import_actions_section took 1.529 seconds.\n",
      "importing TRANSITIONS section\n",
      "import_transitions_section took 4.074 seconds.\n",
      "importing OUTPUTS section\n",
      "import_outputs_section took 6.395 seconds.\n"
     ]
    }
   ],
   "source": [
    "wm = load_woodstockmodel()"
   ]
  },
  {
   "cell_type": "code",
   "execution_count": 4,
   "metadata": {
    "collapsed": false
   },
   "outputs": [],
   "source": [
    "wm.initialize_areas() \n",
    "wm.grow()"
   ]
  },
  {
   "cell_type": "code",
   "execution_count": 5,
   "metadata": {
    "collapsed": false
   },
   "outputs": [],
   "source": [
    "def calc_outputs(wm, ocodes, period):\n",
    "    return {ocode:wm.outputs[ocode](period) for ocode in ocodes}"
   ]
  },
  {
   "cell_type": "code",
   "execution_count": 9,
   "metadata": {
    "collapsed": false
   },
   "outputs": [],
   "source": [
    "periods = range(1, 30)\n",
    "orslts = {p:{} for p in periods}\n",
    "#ocodes = ['osupinc',\n",
    "#          'osupexin',\n",
    "#          'osuptot',\n",
    "#          'osupexti',\n",
    "#          'ovoltotpiedinc']\n",
    "ocodes = ['ovoltotpiedinc', 'ovoltotrecct']"
   ]
  },
  {
   "cell_type": "code",
   "execution_count": 10,
   "metadata": {
    "collapsed": false
   },
   "outputs": [],
   "source": [
    "skip_existing = 0\n",
    "_ocodes = [c for c in ocodes if c not in orslts] if skip_existing else ocodes\n",
    "for p in periods:\n",
    "    orslts[p].update(calc_outputs(wm, _ocodes, p))"
   ]
  },
  {
   "cell_type": "code",
   "execution_count": 8,
   "metadata": {
    "collapsed": false
   },
   "outputs": [
    {
     "name": "stdout",
     "output_type": "stream",
     "text": [
      "volume total surpied inclusactions\n",
      "1 5560490.47201\n",
      "volume total recolte coupes totales\n",
      "1 0.0\n"
     ]
    }
   ],
   "source": [
    "for ocode in ocodes:\n",
    "    print wm.outputs[ocode].description\n",
    "    for p in periods:\n",
    "        print p, orslts[p][ocode]"
   ]
  },
  {
   "cell_type": "code",
   "execution_count": 9,
   "metadata": {
    "collapsed": false
   },
   "outputs": [],
   "source": [
    "filename = 'ovoltotpiedinc_validate_bfec.dat' \n",
    "with open(filename) as f: \n",
    "    validate = [float(line) for line in f.readlines()]"
   ]
  },
  {
   "cell_type": "code",
   "execution_count": 12,
   "metadata": {
    "collapsed": false
   },
   "outputs": [
    {
     "ename": "NameError",
     "evalue": "name 'periods' is not defined",
     "output_type": "error",
     "traceback": [
      "\u001b[0;31m---------------------------------------------------------------------------\u001b[0m\n\u001b[0;31mNameError\u001b[0m                                 Traceback (most recent call last)",
      "\u001b[0;32m<ipython-input-12-6b07b9efc77a>\u001b[0m in \u001b[0;36m<module>\u001b[0;34m()\u001b[0m\n\u001b[1;32m      1\u001b[0m \u001b[0;31m#df = pd.DataFrame(zip([[orslts[p][ocode] for ocode in ocodes] for p in periods], validate), columns=ocodes+['validate'])\u001b[0m\u001b[0;34m\u001b[0m\u001b[0;34m\u001b[0m\u001b[0m\n\u001b[0;32m----> 2\u001b[0;31m \u001b[0mdf\u001b[0m \u001b[0;34m=\u001b[0m \u001b[0mpd\u001b[0m\u001b[0;34m.\u001b[0m\u001b[0mDataFrame\u001b[0m\u001b[0;34m(\u001b[0m\u001b[0;34m[\u001b[0m\u001b[0;34m[\u001b[0m\u001b[0morslts\u001b[0m\u001b[0;34m[\u001b[0m\u001b[0mp\u001b[0m\u001b[0;34m]\u001b[0m\u001b[0;34m[\u001b[0m\u001b[0mocode\u001b[0m\u001b[0;34m]\u001b[0m \u001b[0;32mfor\u001b[0m \u001b[0mocode\u001b[0m \u001b[0;32min\u001b[0m \u001b[0mocodes\u001b[0m\u001b[0;34m]\u001b[0m \u001b[0;32mfor\u001b[0m \u001b[0mp\u001b[0m \u001b[0;32min\u001b[0m \u001b[0mperiods\u001b[0m\u001b[0;34m]\u001b[0m\u001b[0;34m,\u001b[0m \u001b[0mcolumns\u001b[0m\u001b[0;34m=\u001b[0m\u001b[0mocodes\u001b[0m\u001b[0;34m)\u001b[0m\u001b[0;34m\u001b[0m\u001b[0m\n\u001b[0m",
      "\u001b[0;31mNameError\u001b[0m: name 'periods' is not defined"
     ]
    }
   ],
   "source": [
    "#df = pd.DataFrame(zip([[orslts[p][ocode] for ocode in ocodes] for p in periods], validate), columns=ocodes+['validate'])\n",
    "df = pd.DataFrame([[orslts[p][ocode] for ocode in ocodes] for p in periods], columns=ocodes)"
   ]
  },
  {
   "cell_type": "code",
   "execution_count": 25,
   "metadata": {
    "collapsed": false
   },
   "outputs": [
    {
     "data": {
      "image/png": "[encoded data removed]",
      "text/plain": [
       "<matplotlib.figure.Figure at 0x10fe2150>"
      ]
     },
     "metadata": {},
     "output_type": "display_data"
    }
   ],
   "source": [
    "ax = df.plot(kind='bar')\n",
    "ax.get_figure().savefig('ovoltotpiedinc', format='png')"
   ]
  },
  {
   "cell_type": "code",
   "execution_count": 22,
   "metadata": {
    "collapsed": false
   },
   "outputs": [
    {
     "data": {
      "text/plain": [
       "<matplotlib.axes.AxesSubplot at 0xe0ab6f50>"
      ]
     },
     "execution_count": 22,
     "metadata": {},
     "output_type": "execute_result"
    },
    {
     "data": {
      "image/png": "[encoded data removed]",
      "text/plain": [
       "<matplotlib.figure.Figure at 0xe0e4f210>"
      ]
     },
     "metadata": {},
     "output_type": "display_data"
    }
   ],
   "source": [
    "df2 = pd.DataFrame(validate)\n",
    "df2.plot()"
   ]
  },
  {
   "cell_type": "code",
   "execution_count": 43,
   "metadata": {
    "collapsed": false
   },
   "outputs": [
    {
     "name": "stdout",
     "output_type": "stream",
     "text": [
      "1.2 115.6 138.72\n"
     ]
    }
   ],
   "source": [
    "mask = tuple('GS0002 FORESTIER 1 SR0084 FC0022 NAT O EXHU ZT0001 NA M2 AU12 NA NA ORPH EV8 NA NA ECO4 NA'.lower().split())\n",
    "dt = wm.dtypes[mask]\n",
    "area = dt.area(0, 16)\n",
    "tv = dt.ycomp('yv_s')[16]\n",
    "tgs = area * tv\n",
    "print area, tv, tgs"
   ]
  },
  {
   "cell_type": "code",
   "execution_count": 82,
   "metadata": {
    "collapsed": false
   },
   "outputs": [
    {
     "data": {
      "text/plain": [
       "[(4728352.4400000097, 4728352.44),\n",
       " (5604724.7400000086, 5132943.2),\n",
       " (6500843.470000023, 5706093.66),\n",
       " (7396004.2800000217, 6269185.51),\n",
       " (8218657.0700000087, 6782413.78),\n",
       " (8993922.1600000132, 7258115.76),\n",
       " (9702526.200000003, 7711335.94),\n",
       " (10344597.189999992, 7993193.04),\n",
       " (10880173.269999996, 8199113.76),\n",
       " (11326993.849999987, 8358659.48),\n",
       " (11736878.279999968, 8498650.96),\n",
       " (12096821.019999994, 8605660.3),\n",
       " (12383812.959999973, 8702856.49),\n",
       " (12593658.529999949, 8702856.49),\n",
       " (12737040.269999959, 8702856.49),\n",
       " (12826381.520000031, 8702856.49),\n",
       " (12888107.609999964, 8749861.53),\n",
       " (12886544.579999994, 8782926.41),\n",
       " (12834162.109999955, 8832201.88),\n",
       " (12735500.42999999, 8845505.18),\n",
       " (12602551.959999973, 8845505.18),\n",
       " (12445064.939999986, 8845505.18),\n",
       " (12266123.599999957, 8845505.18),\n",
       " (12067495.700000037, 8845505.18),\n",
       " (11859133.919999976, 8845505.18),\n",
       " (11640527.780000014, 8845505.18),\n",
       " (11416306.010000005, 8845505.18),\n",
       " (11190821.82, 8845505.18),\n",
       " (10966437.320000011, 8845505.18),\n",
       " (10746352.520000005, 8845505.18)]"
      ]
     },
     "execution_count": 82,
     "metadata": {},
     "output_type": "execute_result"
    }
   ],
   "source": [
    "zip(df['ovoltotpiedinc'], validate)"
   ]
  },
  {
   "cell_type": "code",
   "execution_count": 76,
   "metadata": {
    "collapsed": false
   },
   "outputs": [
    {
     "name": "stdout",
     "output_type": "stream",
     "text": [
      "[4728352.44, 5132943.2, 5706093.66, 6269185.51, 6782413.78, 7258115.76, 7711335.94, 7993193.04, 8199113.76, 8358659.48, 8498650.96, 8605660.3, 8702856.49, 8702856.49, 8702856.49, 8702856.49, 8749861.53, 8782926.41, 8832201.88, 8845505.18, 8845505.18, 8845505.18, 8845505.18, 8845505.18, 8845505.18, 8845505.18, 8845505.18, 8845505.18, 8845505.18, 8845505.18, 8845505.18]\n"
     ]
    }
   ],
   "source": [
    "print validate"
   ]
  },
  {
   "cell_type": "code",
   "execution_count": 14,
   "metadata": {
    "collapsed": false
   },
   "outputs": [
    {
     "name": "stdout",
     "output_type": "stream",
     "text": [
      "Calculating operable area for clearcut treatment 'act1'\n",
      "[period][ageclass][area]\n",
      "scanning period 1\n",
      "1 13 789.8\n",
      "1 14 1073.5\n",
      "1 15 306.6\n",
      "1 16 3004.3\n",
      "1 17 853.9\n",
      "1 18 523.0\n",
      "1 19 360.7\n",
      "1 21 1004.3\n",
      "1 22 378.3\n",
      "1 23 717.5\n",
      "1 25 420.2\n",
      "scanning period 2\n",
      "2 12 1083.7\n",
      "2 13 575.7\n",
      "2 14 789.8\n",
      "2 15 1617.3\n",
      "2 16 862.6\n",
      "2 17 3004.3\n",
      "2 18 2247.0\n",
      "2 19 523.0\n",
      "2 20 360.7\n",
      "2 22 1004.3\n",
      "2 23 378.3\n",
      "2 24 717.5\n",
      "2 26 420.2\n",
      "scanning period 3\n",
      "3 13 1083.7\n",
      "3 14 575.7\n",
      "3 15 6994.9\n",
      "3 16 1617.3\n",
      "3 17 862.6\n",
      "3 18 3004.3\n",
      "3 19 2247.0\n",
      "3 20 2456.9\n",
      "3 21 360.7\n",
      "3 23 1004.3\n",
      "3 24 378.3\n",
      "3 25 717.5\n",
      "3 27 420.2\n",
      "scanning period 1\n",
      "1 13 789.8\n",
      "1 14 1073.5\n",
      "1 15 306.6\n",
      "1 16 3004.3\n",
      "1 17 853.9\n",
      "1 18 523.0\n",
      "1 19 360.7\n",
      "1 21 1004.3\n",
      "1 22 378.3\n",
      "1 23 717.5\n",
      "1 25 420.2\n",
      "scanning period 2\n",
      "2 12 1083.7\n",
      "2 13 575.7\n",
      "2 14 789.8\n",
      "2 15 1617.3\n",
      "2 16 862.6\n",
      "2 17 3004.3\n",
      "2 18 2247.0\n",
      "2 19 523.0\n",
      "2 20 360.7\n",
      "2 22 1004.3\n",
      "2 23 378.3\n",
      "2 24 717.5\n",
      "2 26 420.2\n",
      "scanning period 3\n",
      "3 13 1083.7\n",
      "3 14 575.7\n",
      "3 15 6994.9\n",
      "3 16 1617.3\n",
      "3 17 862.6\n",
      "3 18 3004.3\n",
      "3 19 2247.0\n",
      "3 20 2456.9\n",
      "3 21 360.7\n",
      "3 23 1004.3\n",
      "3 24 378.3\n",
      "3 25 717.5\n",
      "3 27 420.2\n",
      "scanning period 1\n",
      "1 13 789.8\n",
      "1 14 1073.5\n",
      "1 15 306.6\n",
      "1 16 3004.3\n",
      "1 17 853.9\n",
      "1 18 523.0\n",
      "1 19 360.7\n",
      "1 21 1004.3\n",
      "1 22 378.3\n",
      "1 23 717.5\n",
      "1 25 420.2\n",
      "scanning period 2\n",
      "2 12 1083.7\n",
      "2 13 575.7\n",
      "2 14 789.8\n",
      "2 15 1617.3\n",
      "2 16 862.6\n",
      "2 17 3004.3\n",
      "2 18 2247.0\n",
      "2 19 523.0\n",
      "2 20 360.7\n",
      "2 22 1004.3\n",
      "2 23 378.3\n",
      "2 24 717.5\n",
      "2 26 420.2\n",
      "scanning period 3\n",
      "3 13 1083.7\n",
      "3 14 575.7\n",
      "3 15 6994.9\n",
      "3 16 1617.3\n",
      "3 17 862.6\n",
      "3 18 3004.3\n",
      "3 19 2247.0\n",
      "3 20 2456.9\n",
      "3 21 360.7\n",
      "3 23 1004.3\n",
      "3 24 378.3\n",
      "3 25 717.5\n",
      "3 27 420.2\n",
      "scanning period 1\n",
      "1 13 789.8\n",
      "1 14 1073.5\n",
      "1 15 306.6\n",
      "1 16 3004.3\n",
      "1 17 853.9\n",
      "1 18 523.0\n",
      "1 19 360.7\n",
      "1 21 1004.3\n",
      "1 22 378.3\n",
      "1 23 717.5\n",
      "1 25 420.2\n",
      "scanning period 2\n",
      "2 12 1083.7\n",
      "2 13 575.7\n",
      "2 14 789.8\n",
      "2 15 1617.3\n",
      "2 16 862.6\n",
      "2 17 3004.3\n",
      "2 18 2247.0\n",
      "2 19 523.0\n",
      "2 20 360.7\n",
      "2 22 1004.3\n",
      "2 23 378.3\n",
      "2 24 717.5\n",
      "2 26 420.2\n",
      "scanning period 3\n",
      "3 13 1083.7\n",
      "3 14 575.7\n",
      "3 15 6994.9\n",
      "3 16 1617.3\n",
      "3 17 862.6\n",
      "3 18 3004.3\n",
      "3 19 2247.0\n",
      "3 20 2456.9\n",
      "3 21 360.7\n",
      "3 23 1004.3\n",
      "3 24 378.3\n",
      "3 25 717.5\n",
      "3 27 420.2\n",
      "1 loops, best of 3: 7.43 s per loop\n"
     ]
    }
   ],
   "source": [
    "print \"Calculating operable area for clearcut treatment 'act1'\"\n",
    "print \"[period][ageclass][area]\"\n",
    "def foo():\n",
    "    for p in wm.periods[:3]:\n",
    "        print 'scanning period', p\n",
    "        for age in sorted(wm.ages):\n",
    "            oa = wm.operable_area('act1', p, age)\n",
    "            if oa > 0: \n",
    "                print p, age, oa\n",
    "%timeit foo()"
   ]
  },
  {
   "cell_type": "code",
   "execution_count": 51,
   "metadata": {
    "collapsed": false
   },
   "outputs": [
    {
     "data": {
      "text/plain": [
       "29.8"
      ]
     },
     "execution_count": 51,
     "metadata": {},
     "output_type": "execute_result"
    }
   ],
   "source": [
    "wm.operable_area('act1', 10, 22)"
   ]
  },
  {
   "cell_type": "code",
   "execution_count": 56,
   "metadata": {
    "collapsed": false
   },
   "outputs": [
    {
     "data": {
      "text/plain": [
       "[1,\n",
       " 2,\n",
       " 3,\n",
       " 4,\n",
       " 5,\n",
       " 6,\n",
       " 7,\n",
       " 8,\n",
       " 9,\n",
       " 10,\n",
       " 11,\n",
       " 12,\n",
       " 13,\n",
       " 14,\n",
       " 15,\n",
       " 16,\n",
       " 17,\n",
       " 18,\n",
       " 19,\n",
       " 20,\n",
       " 21,\n",
       " 22,\n",
       " 23,\n",
       " 24,\n",
       " 25,\n",
       " 26,\n",
       " 27,\n",
       " 28,\n",
       " 29,\n",
       " 30]"
      ]
     },
     "execution_count": 56,
     "metadata": {},
     "output_type": "execute_result"
    }
   ],
   "source": [
    "wm.periods"
   ]
  },
  {
   "cell_type": "code",
   "execution_count": 11,
   "metadata": {
    "collapsed": false
   },
   "outputs": [
    {
     "data": {
      "text/plain": [
       "221"
      ]
     },
     "execution_count": 11,
     "metadata": {},
     "output_type": "execute_result"
    }
   ],
   "source": [
    "mask = tuple('GS0002 Forestier Toutes SR0084 ? NAT ? INC ? ? ? ? ? ? ? ? ? ? ? ?'.lower().split(' '))\n",
    "dtks = wm.unmask(mask)\n",
    "len(dtks)"
   ]
  },
  {
   "cell_type": "code",
   "execution_count": 48,
   "metadata": {
    "collapsed": false
   },
   "outputs": [
    {
     "name": "stdout",
     "output_type": "stream",
     "text": [
      "gs0002 forestier 1 sr0084 fc0022 nat o inc zt0001 na m1 au18 b1 na refa na na tf1 eco2 na 15.0 [26, 22]\n",
      "gs0002 forestier 1 sr0084 fc0022 nat o inc zt0001 na na na na na refa na na tf1 eco5 na 25.8 [26, 22]\n",
      "gs0002 forestier 1 sr0084 fc0022 nat o inc zt0001 na na au21 na na peec na na tf1 zaf3 na 12.1 [21, 22, 23]\n",
      "gs0002 forestier 1 sr0084 fc0022 nat o inc zt0001 na m1 na na na orph ev17 na tf1 na na 0.5 [26]\n",
      "gs0002 forestier 1 sr0084 fc0022 nat o inc zt0001 na na au20 na na hae2 ev6 he2 tf1 zaf6 na 0.7 [23]\n",
      "gs0002 forestier 1 sr0084 fc0022 nat o inc zt0001 na m1 au10 na na peec na na tf1 zaf2 na 0.3 [26]\n",
      "gs0002 forestier 1 sr0084 fc0022 nat o inc zt0001 na m1 au1 na na peec ev17 na tf1 eco6 na 0.8 [26]\n",
      "gs0002 forestier 1 sr0084 fc0022 nat o inc zt0001 na m3 au17 na na orph na na tf1 zaf2 na 16.2 [22]\n",
      "gs0002 forestier 1 sr0084 fc0022 nat o inc zt0001 na na au20 na na peec na na tf1 eco2 na 0.6 [22, 23]\n",
      "gs0002 forestier 1 sr0084 fc0022 nat o inc zt0001 na m1 au19 b1 na refa na na tf1 zaf6 na 0.4 [22]\n",
      "gs0002 forestier 1 sr0084 fc0022 nat o inc zt0001 na na au20 na na peec na he1 tf1 zaf6 na 0.4 [23]\n",
      "gs0002 forestier 1 sr0084 fc0022 nat o inc zt0001 na m1 au11 b1 na refa na na tf1 eco2 na 3.0 [26, 22]\n",
      "gs0002 forestier 1 sr0084 fc0022 nat o inc zt0001 na na au20 na na hae1 na he1 tf1 zaf6 na 0.8 [23]\n",
      "gs0002 forestier 1 sr0084 fc0022 nat o inc zt0001 na na au20 na na refa na na tf1 zaf3 na 48.2 [22, 23]\n",
      "gs0002 forestier 1 sr0084 fc0022 nat o inc zt0001 na na au2 na na peec na na tf1 zaf5 na 4.1 [26, 22]\n",
      "gs0002 forestier 1 sr0084 fc0022 nat o inc zt0001 na na na na na orph na na tf1 zaf5 na 1.6 [26]\n",
      "gs0002 forestier 1 sr0084 fc0022 nat o inc zt0001 na na au21 na na refa na na tf1 zaf3 na 197.0 [21, 22, 23]\n",
      "gs0002 forestier 1 sr0084 fc0022 nat o inc zt0001 na m1 au11 b1 na orph na na tf1 eco2 na 22.1 [26, 22]\n",
      "gs0002 forestier 1 sr0084 fc0022 nat o inc zt0001 na na au9 na na peec na na tf1 zaf3 na 11.6 [26, 23]\n",
      "gs0002 forestier 1 sr0084 fc0022 nat o inc zt0001 na na na b1 na orph na na tf1 zaf3 na 7.4 [22]\n",
      "gs0002 forestier 1 sr0084 fc0022 nat o inc zt0001 na m1 au23 na na peec na he2 tf1 zaf2 na 1.5 [26]\n",
      "gs0002 forestier 1 sr0084 fc0022 nat o inc zt0001 na na au8 na na orph na na tf1 zaf4 na 26.5 [22]\n",
      "gs0002 forestier 1 sr0084 fc0022 nat o inc zt0001 na m1 au18 b1 na hae1 ev15 he1 tf1 eco2 na 0.6 [26]\n",
      "gs0002 forestier 1 sr0084 fc0022 nat o inc zt0001 na m1 au18 b1 na orph na na tf1 eco6 na 6.0 [26, 22]\n",
      "gs0002 forestier 1 sr0084 fc0022 nat o inc zt0001 na na na na na refa na na tf1 eco2 na 0.6 [26]\n",
      "gs0002 forestier 1 sr0084 fc0022 nat o inc zt0001 na na na na na peec na na tf1 eco5 na 0.2 [26]\n",
      "gs0002 forestier 1 sr0084 fc0022 nat o inc zt0001 na m1 au19 b1 na peec ev9 na tf1 zaf6 na 2.6 [22, 23]\n",
      "gs0002 forestier 1 sr0084 fc0022 nat o inc zt0001 na m1 au1 na na refa na na tf1 zaf2 na 6.6 [26, 22, 23]\n",
      "gs0002 forestier 1 sr0084 fc0022 nat o inc zt0001 na na au4 na na refa na na tf1 zaf5 na 366.7 [26, 21, 22, 23]\n",
      "gs0002 forestier 1 sr0084 fc0022 nat o inc zt0001 na na au23 b1 na peec na na tf1 zaf2 na 0.7 [23]\n",
      "gs0002 forestier 1 sr0084 fc0022 nat o inc zt0001 na na au6 na na peec na na tf1 zaf4 na 1.1 [26]\n",
      "gs0002 forestier 1 sr0084 fc0022 nat o inc zt0001 na m1 au18 b1 na peec na na tf1 zaf6 na 1.5 [26]\n",
      "gs0002 forestier 1 sr0084 fc0022 nat o inc zt0001 na na au4 na na refa na na tf1 zaf4 na 0.4 [26]\n",
      "gs0002 forestier 1 sr0084 fc0022 nat o inc zt0001 na na au3 na na peec na he1 tf1 zaf4 na 1.5 [26]\n",
      "gs0002 forestier 1 sr0084 fc0022 nat o inc zt0001 na m1 au20 b1 na refa na na tf1 eco2 na 0.7 [26]\n",
      "gs0002 forestier 1 sr0084 fc0022 nat o inc zt0001 na m1 au19 b1 na orph na na tf1 zaf6 na 0.2 [23]\n",
      "gs0002 forestier 1 sr0084 fc0022 nat o inc zt0001 na na au19 na na orph na na tf1 eco6 na 26.0 [22, 23]\n",
      "gs0002 forestier 1 sr0084 fc0022 nat o inc zt0001 na na au6 na na peec na na tf1 zaf5 na 10.6 [26, 21, 23]\n",
      "gs0002 forestier 1 sr0084 fc0022 nat o inc zt0001 na m1 au10 b1 na peec na na tf1 zaf2 na 9.6 [26, 22]\n",
      "gs0002 forestier 1 sr0084 fc0022 nat o inc zt0001 na m1 au11 b1 na hae2 na he2 tf1 zaf2 na 7.1 [22]\n",
      "gs0002 forestier 1 sr0084 fc0022 nat o inc zt0001 na na au6 na na refa na na tf1 zaf4 na 19.0 [26, 22]\n",
      "gs0002 forestier 1 sr0084 fc0022 nat o inc zt0001 na m1 au10 b1 na hae2 na he2 tf1 zaf2 na 4.2 [26, 22]\n",
      "gs0002 forestier 1 sr0084 fc0022 nat o inc zt0001 na na au3 na na peec na na tf1 zaf4 na 2.2 [26, 22]\n",
      "gs0002 forestier 1 sr0084 fc0022 nat o inc zt0001 na na na b1 na peec na na tf1 zaf3 na 2.2 [26, 22]\n",
      "gs0002 forestier 1 sr0084 fc0022 nat o inc zt0001 na m1 au18 b1 na orph ev15 na tf1 eco2 na 5.4 [22]\n",
      "gs0002 forestier 1 sr0084 fc0022 nat o inc zt0001 na na au19 na na peec na na tf1 eco6 na 2.4 [23]\n",
      "gs0002 forestier 1 sr0084 fc0022 nat o inc zt0001 na m1 au23 b1 na peec na he2 tf1 zaf2 na 0.3 [26]\n",
      "gs0002 forestier 1 sr0084 fc0022 nat o inc zt0001 na m1 au20 b1 na refa na na tf1 zaf6 na 17.0 [26, 22]\n",
      "gs0002 forestier 1 sr0084 fc0022 nat o inc zt0001 na m1 au1 na na orph ev17 na tf1 eco6 na 3.7 [26]\n",
      "gs0002 forestier 1 sr0084 fc0022 nat o inc zt0001 na m1 au23 b1 na peec na na tf1 zaf2 na 2.1 [26, 23]\n",
      "gs0002 forestier 1 sr0084 fc0022 nat o inc zt0001 na m1 au18 b1 na orph ev16 na tf1 eco6 na 36.8 [26, 22]\n",
      "gs0002 forestier 1 sr0084 fc0022 nat o inc zt0001 na na au20 na na orph na na tf1 zaf6 na 27.9 [22, 23]\n",
      "gs0002 forestier 1 sr0084 fc0022 nat o inc zt0001 na na au5 na na peec ev4 na tf1 zaf5 na 0.3 [26]\n",
      "gs0002 forestier 1 sr0084 fc0022 nat o inc zt0001 na m2 au11 na na refa na na tf1 zaf2 na 0.5 [26]\n",
      "gs0002 forestier 1 sr0084 fc0022 nat o inc zt0001 na na au8 na na peec na na tf1 zaf4 na 1.3 [23]\n",
      "gs0002 forestier 1 sr0084 fc0022 nat o inc zt0001 na m1 au18 b1 na orph na na tf1 zaf2 na 51.6 [26, 21, 22]\n",
      "gs0002 forestier 1 sr0084 fc0022 nat o inc zt0001 na na au6 na na peec na na tf1 zaf6 na 1.7 [23]\n",
      "gs0002 forestier 1 sr0084 fc0022 nat o inc zt0001 na na au5 na na peec na na tf1 zaf5 na 7.8 [26, 21, 23]\n",
      "gs0002 forestier 1 sr0084 fc0022 nat o inc zt0001 na m2 au11 na na hae2 na he2 tf1 zaf2 na 2.0 [26]\n",
      "gs0002 forestier 1 sr0084 fc0022 nat o inc zt0001 na m2 au16 na na peec na na tf1 zaf2 na 0.2 [26]\n",
      "gs0002 forestier 1 sr0084 fc0022 nat o inc zt0001 na na au2 na na refa na na tf1 eco5 na 497.4 [26, 21, 22]\n",
      "gs0002 forestier 1 sr0084 fc0022 nat o inc zt0001 na na au7 na na peec na na tf1 zaf4 na 31.0 [26, 22, 23]\n",
      "gs0002 forestier 1 sr0084 fc0022 nat o inc zt0001 na na au20 na na env ev6 na tf1 zaf6 na 4.6 [23]\n",
      "gs0002 forestier 1 sr0084 fc0022 nat o inc zt0001 na m1 au1 na na orph na na tf1 eco6 na 0.2 [26]\n",
      "gs0002 forestier 1 sr0084 fc0022 nat o inc zt0001 na m1 au11 b1 na hae2 na he2 tf1 eco2 na 1.0 [26]\n",
      "gs0002 forestier 1 sr0084 fc0022 nat o inc zt0001 na na au21 na na refa na na tf1 zaf6 na 43.6 [21, 22, 23]\n",
      "gs0002 forestier 1 sr0084 fc0022 nat o inc zt0001 na m1 au19 b1 na peec na he1 tf1 zaf6 na 0.9 [22]\n",
      "gs0002 forestier 1 sr0084 fc0022 nat o inc zt0001 na na au7 na na refa na na tf1 zaf3 na 3.9 [26, 22, 23]\n",
      "gs0002 forestier 1 sr0084 fc0022 nat o inc zt0001 na na au19 na na peec na na tf1 zaf6 na 5.0 [26, 21, 22, 23]\n",
      "gs0002 forestier 1 sr0084 fc0022 nat o inc zt0001 na m2 au12 na na refa na na tf1 na na 0.5 [26]\n",
      "gs0002 forestier 1 sr0084 fc0022 nat o inc zt0001 na na au21 na na refa na na tf1 zaf4 na 100.7 [26, 22, 23]\n",
      "gs0002 forestier 1 sr0084 fc0022 nat o inc zt0001 na m1 au18 b1 na env ev15 na tf1 eco2 na 1.6 [26]\n",
      "gs0002 forestier 1 sr0084 fc0022 nat o inc zt0001 na na au7 na na env ev3 na tf1 zaf4 na 3.5 [26, 22]\n",
      "gs0002 forestier 1 sr0084 fc0022 nat o inc zt0001 na na au19 na na orph na na tf1 zaf6 na 40.8 [26, 22, 23]\n",
      "gs0002 forestier 1 sr0084 fc0022 nat o inc zt0001 na m1 au11 na na refa na na tf1 zaf2 na 22.5 [26, 21, 23]\n",
      "gs0002 forestier 1 sr0084 fc0022 nat o inc zt0001 na m1 au11 na na orph na na tf1 zaf2 na 47.2 [26, 21, 22]\n",
      "gs0002 forestier 1 sr0084 fc0022 nat o inc zt0001 na na au23 na na hae2 na he2 tf1 zaf2 na 0.6 [26]\n",
      "gs0002 forestier 1 sr0084 fc0022 nat o inc zt0001 na m1 au10 b1 na refa na na tf1 zaf2 na 4.0 [26, 22]\n",
      "gs0002 forestier 1 sr0084 fc0022 nat o inc zt0001 na na na b1 na peec na na tf1 eco2 na 0.9 [22]\n",
      "gs0002 forestier 1 sr0084 fc0022 nat o inc zt0001 na m2 au13 na na refa na na tf1 na na 0.6 [26]\n",
      "gs0002 forestier 1 sr0084 fc0022 nat o inc zt0001 na m2 au16 na na refa na na tf1 eco3 na 24.4 [26, 23]\n",
      "gs0002 forestier 1 sr0084 fc0022 nat o inc zt0001 na na au19 na na env ev6 na tf1 zaf6 na 2.8 [23]\n",
      "gs0002 forestier 1 sr0084 fc0022 nat o inc zt0001 na m1 au19 na na orph na na tf1 eco6 na 0.3 [23]\n",
      "gs0002 forestier 1 sr0084 fc0022 nat o inc zt0001 na m1 au11 b1 na peec na na tf1 eco2 na 4.1 [26]\n",
      "gs0002 forestier 1 sr0084 fc0022 nat o inc zt0001 na m1 au18 b1 na peec ev16 na tf1 eco6 na 2.7 [26]\n",
      "gs0002 forestier 1 sr0084 fc0022 nat o inc zt0001 na na au2 na na hae1 na he1 tf1 eco5 na 0.3 [22]\n",
      "gs0002 forestier 1 sr0084 fc0022 nat o inc zt0001 na m1 au1 b1 na refa na na tf1 zaf2 na 5.1 [23]\n",
      "gs0002 forestier 1 sr0084 fc0022 nat o inc zt0001 na na au5 na na env ev5 na tf1 eco5 na 0.9 [21]\n",
      "gs0002 forestier 1 sr0084 fc0022 nat o inc zt0001 na m1 au19 b1 na peec ev17 na tf1 eco6 na 0.4 [22]\n",
      "gs0002 forestier 1 sr0084 fc0022 nat o inc zt0001 na na au8 na na refa na na tf1 zaf4 na 90.9 [26, 21, 22, 23]\n",
      "gs0002 forestier 1 sr0084 fc0022 nat o inc zt0001 na na au22 na na refa na na tf1 zaf3 na 153.0 [26, 21, 22, 23]\n",
      "gs0002 forestier 1 sr0084 fc0022 nat o inc zt0001 na na au19 na na peec ev5 na tf1 zaf6 na 0.1 [26]\n",
      "gs0002 forestier 1 sr0084 fc0022 nat o inc zt0001 na m1 au19 b1 na peec na na tf1 eco6 na 0.4 [22]\n",
      "gs0002 forestier 1 sr0084 fc0022 nat o inc zt0001 na na au7 na na peec na na tf1 zaf5 na 1.1 [26, 21, 22]\n",
      "gs0002 forestier 1 sr0084 fc0022 nat o inc zt0001 na m1 au19 b1 na orph na na tf1 eco6 na 7.5 [22, 23]\n",
      "gs0002 forestier 1 sr0084 fc0022 nat o inc zt0001 na m1 au23 b1 na orph na na tf1 zaf2 na 37.7 [26, 22]\n",
      "gs0002 forestier 1 sr0084 fc0022 nat o inc zt0001 na na au5 na na orph na na tf1 zaf6 na 1.4 [22]\n",
      "gs0002 forestier 1 sr0084 fc0022 nat o inc zt0001 na na au2 na na refa na na tf1 zaf5 na 142.7 [26, 22, 23]\n",
      "gs0002 forestier 1 sr0084 fc0022 nat o inc zt0001 na na au20 na na hae2 na he2 tf1 zaf6 na 4.7 [23]\n",
      "gs0002 forestier 1 sr0084 fc0022 nat o inc zt0001 na m1 au11 na na peec na na tf1 zaf2 na 2.9 [26, 22]\n",
      "gs0002 forestier 1 sr0084 fc0022 nat o inc zt0001 na na au23 b1 na hae2 na he2 tf1 zaf2 na 3.4 [26]\n",
      "gs0002 forestier 1 sr0084 fc0022 nat o inc zt0001 na na au19 na na env ev5 na tf1 eco5 na 0.9 [26]\n",
      "gs0002 forestier 1 sr0084 fc0022 nat o inc zt0001 na m1 au19 b1 na env ev9 na tf1 zaf6 na 0.7 [22]\n",
      "gs0002 forestier 1 sr0084 fc0022 nat o inc zt0001 na na au7 na na refa na na tf1 zaf5 na 43.8 [26, 21, 22]\n",
      "gs0002 forestier 1 sr0084 fc0022 nat o inc zt0001 na na au19 na na refa na na tf1 eco5 na 8.1 [26, 22]\n",
      "gs0002 forestier 1 sr0084 fc0022 nat o inc zt0001 na na au5 na na refa na na tf1 zaf5 na 181.9 [26, 21, 22, 23]\n",
      "gs0002 forestier 1 sr0084 fc0022 nat o inc zt0001 na m1 au1 b1 na orph ev17 na tf1 eco6 na 0.3 [22]\n",
      "gs0002 forestier 1 sr0084 fc0022 nat o inc zt0001 na na na na na refa na na tf1 zaf5 na 14.9 [26, 22]\n",
      "gs0002 forestier 1 sr0084 fc0022 nat o inc zt0001 na na au5 na na refa na na tf1 zaf6 na 33.4 [21, 23]\n",
      "gs0002 forestier 1 sr0084 fc0022 nat o inc zt0001 na na au19 na na peec ev5 na tf1 eco5 na 0.6 [26]\n",
      "gs0002 forestier 1 sr0084 fc0022 nat o inc zt0001 na na au7 na na peec ev3 na tf1 zaf4 na 1.7 [22]\n",
      "gs0002 forestier 1 sr0084 fc0022 nat o inc zt0001 na na au9 na na refa na na tf1 zaf3 na 53.7 [26, 23]\n",
      "gs0002 forestier 1 sr0084 fc0022 nat o inc zt0001 na na au2 na na peec na he1 tf1 eco5 na 1.6 [26, 22]\n",
      "gs0002 forestier 1 sr0084 fc0022 nat o inc zt0001 na m1 au18 b1 na orph na na tf1 eco2 na 133.8 [26, 22]\n",
      "gs0002 forestier 1 sr0084 fc0022 nat o inc zt0001 na na au2 na na orph na na tf1 zaf5 na 15.1 [26, 22, 23]\n",
      "gs0002 forestier 1 sr0084 fc0022 nat o inc zt0001 na na au2 na na hae2 na he2 tf1 eco5 na 4.8 [22]\n",
      "gs0002 forestier 1 sr0084 fc0022 nat o inc zt0001 na na au22 b1 na orph na na tf1 eco2 na 42.8 [22]\n",
      "gs0002 forestier 1 sr0084 fc0022 nat o inc zt0001 na na au5 na na orph na na tf1 zaf5 na 27.8 [26, 22, 23]\n",
      "gs0002 forestier 1 sr0084 fc0022 nat o inc zt0001 na na au20 na na hae2 na he2 tf1 zaf3 na 1.1 [23]\n",
      "gs0002 forestier 1 sr0084 fc0022 nat o inc zt0001 na na au22 na na peec na na tf1 zaf3 na 19.7 [26, 21, 22, 23]\n",
      "gs0002 forestier 1 sr0084 fc0022 nat o inc zt0001 na na au6 na na refa na na tf1 zaf5 na 56.4 [26, 21, 22, 23]\n",
      "gs0002 forestier 1 sr0084 fc0022 nat o inc zt0001 na m1 au1 b1 na peec na na tf1 zaf2 na 2.8 [23]\n",
      "gs0002 forestier 1 sr0084 fc0022 nat o inc zt0001 na na au19 na na refa na na tf1 eco6 na 66.9 [26, 21, 22, 23]\n",
      "gs0002 forestier 1 sr0084 fc0022 nat o inc zt0001 na na au23 b1 na orph na na tf1 zaf2 na 4.6 [26]\n",
      "gs0002 forestier 1 sr0084 fc0022 nat o inc zt0001 na m1 au11 b1 na peec na na tf1 zaf2 na 8.2 [26, 22]\n",
      "gs0002 forestier 1 sr0084 fc0022 nat o inc zt0001 na m1 au23 b1 na refa na na tf1 zaf2 na 9.3 [26, 21, 22]\n",
      "gs0002 forestier 1 sr0084 fc0022 nat o inc zt0001 na m1 au18 b1 na refa na na tf1 eco6 na 3.8 [26, 22]\n",
      "gs0002 forestier 1 sr0084 fc0022 nat o inc zt0001 na m1 au20 b1 na env ev16 na tf1 eco6 na 0.5 [22]\n",
      "gs0002 forestier 1 sr0084 fc0022 nat o inc zt0001 na na au21 na na peec na na tf1 zaf4 na 2.8 [26, 23]\n",
      "gs0002 forestier 1 sr0084 fc0022 nat o inc zt0001 na m1 au20 b1 na refa na na tf1 eco6 na 6.8 [22]\n",
      "gs0002 forestier 1 sr0084 fc0022 nat o inc zt0001 na na au5 na na refa na na tf1 eco5 na 40.7 [26, 21, 22]\n",
      "gs0002 forestier 1 sr0084 fc0022 nat o inc zt0001 na na au2 na na peec na na tf1 eco5 na 15.1 [26, 21, 22]\n",
      "gs0002 forestier 1 sr0084 fc0022 nat o inc zt0001 na m3 au1 na na refa na na tf1 zaf2 na 7.8 [22]\n",
      "gs0002 forestier 1 sr0084 fc0022 nat o inc zt0001 na na au4 na na env ev4 na tf1 zaf5 na 4.5 [22]\n",
      "gs0002 forestier 1 sr0084 fc0022 nat o inc zt0001 na na au7 na na orph na na tf1 zaf4 na 46.3 [26, 22, 23]\n",
      "gs0002 forestier 1 sr0084 fc0022 nat o inc zt0001 na na au7 na na env ev1 na tf1 zaf4 na 5.3 [26]\n",
      "gs0002 forestier 1 sr0084 fc0022 nat o inc zt0001 na na au6 na na orph na na tf1 zaf5 na 16.1 [26, 22, 23]\n",
      "gs0002 forestier 1 sr0084 fc0022 nat o inc zt0001 na na au2 na na orph na na tf1 eco5 na 71.6 [26, 21, 22]\n",
      "gs0002 forestier 1 sr0084 fc0022 nat o inc zt0001 na na au19 b1 na orph na na tf1 eco6 na 3.1 [23]\n",
      "gs0002 forestier 1 sr0084 fc0022 nat o inc zt0001 na na au9 na na peec na na tf1 zaf4 na 16.6 [26, 21, 22, 23]\n",
      "gs0002 forestier 1 sr0084 fc0022 nat o inc zt0001 na m1 au10 na na orph na na tf1 zaf2 na 2.7 [26]\n",
      "gs0002 forestier 1 sr0084 fc0022 nat o inc zt0001 na m1 au18 b1 na orph ev16 na tf1 eco2 na 15.0 [26, 22]\n",
      "gs0002 forestier 1 sr0084 fc0022 nat o inc zt0001 na na au7 na na peec na he1 tf1 zaf5 na 1.0 [21]\n",
      "gs0002 forestier 1 sr0084 fc0022 nat o inc zt0001 na na au9 na na refa na na tf1 zaf4 na 165.4 [26, 21, 22, 23]\n",
      "gs0002 forestier 1 sr0084 fc0022 nat o inc zt0001 na m1 au19 b1 na refa na na tf1 eco6 na 42.4 [22]\n",
      "gs0002 forestier 1 sr0084 fc0022 nat o inc zt0001 na na au5 na na orph na na tf1 eco5 na 18.0 [26, 21, 22, 23]\n",
      "gs0002 forestier 1 sr0084 fc0022 nat o inc zt0001 na m1 au19 na na peec na na tf1 zaf6 na 0.3 [26]\n",
      "gs0002 forestier 1 sr0084 fc0022 nat o inc zt0001 na na au9 na na peec ev1 na tf1 zaf4 na 2.4 [26]\n",
      "gs0002 forestier 1 sr0084 fc0022 nat o inc zt0001 na na au4 na na peec na na tf1 zaf5 na 16.1 [26, 21, 22]\n",
      "gs0002 forestier 1 sr0084 fc0022 nat o inc zt0001 na na au19 na na env ev5 na tf1 zaf6 na 0.3 [26]\n",
      "gs0002 forestier 1 sr0084 fc0022 nat o inc zt0001 na na au4 na na orph ev4 na tf1 zaf5 na 1.4 [26]\n",
      "gs0002 forestier 1 sr0084 fc0022 nat o inc zt0001 na m1 au19 b1 na orph ev17 na tf1 eco6 na 2.6 [22]\n",
      "gs0002 forestier 1 sr0084 fc0022 nat o inc zt0001 na m1 au18 b1 na env ev16 na tf1 eco2 na 2.7 [22]\n",
      "gs0002 forestier 1 sr0084 fc0022 nat o inc zt0001 na na au4 na na peec na he1 tf1 zaf5 na 0.7 [26]\n",
      "gs0002 forestier 1 sr0084 fc0022 nat o inc zt0001 na m1 au19 b1 na env ev9 na tf1 eco6 na 0.3 [22]\n",
      "gs0002 forestier 1 sr0084 fc0022 nat o inc zt0001 na m1 au11 na na hae2 na he2 tf1 zaf2 na 0.2 [26]\n",
      "gs0002 forestier 1 sr0084 fc0022 nat o inc zt0001 na na au7 na na hae2 na he2 tf1 zaf4 na 0.4 [22]\n",
      "gs0002 forestier 1 sr0084 fc0022 nat o inc zt0001 na na au19 na na refa na na tf1 zaf6 na 193.7 [26, 21, 22, 23]\n",
      "gs0002 forestier 1 sr0084 fc0022 nat o inc zt0001 na m1 au19 b1 na env ev16 na tf1 eco6 na 8.0 [22]\n",
      "gs0002 forestier 1 sr0084 fc0022 nat o inc zt0001 na m1 au11 b1 na orph na na tf1 zaf2 na 216.1 [26, 22]\n",
      "gs0002 forestier 1 sr0084 fc0022 nat o inc zt0001 na na na b1 na refa na na tf1 zaf3 na 15.8 [26, 22]\n",
      "gs0002 forestier 1 sr0084 fc0022 nat o inc zt0001 na na au7 na na peec ev1 na tf1 zaf4 na 0.5 [26]\n",
      "gs0002 forestier 1 sr0084 fc0022 nat o inc zt0001 na m2 au16 na na refa na na tf1 zaf2 na 2.6 [26]\n",
      "gs0002 forestier 1 sr0084 fc0022 nat o inc zt0001 na na au19 na na hae2 na he2 tf1 zaf6 na 10.7 [23]\n",
      "gs0002 forestier 1 sr0084 fc0022 nat o inc zt0001 na m1 au11 b1 na refa na na tf1 zaf2 na 18.1 [26, 22]\n",
      "gs0002 forestier 1 sr0084 fc0022 nat o inc zt0001 na na au5 na na peec ev5 na tf1 eco5 na 1.0 [21]\n",
      "gs0002 forestier 1 sr0084 fc0022 nat o inc zt0001 na na au3 na na refa na na tf1 zaf4 na 41.1 [26, 22]\n",
      "gs0002 forestier 1 sr0084 fc0022 nat o inc zt0001 na m1 au1 na na orph na na tf1 zaf2 na 16.5 [22]\n",
      "gs0002 forestier 1 sr0084 fc0022 nat o inc zt0001 na na au7 na na refa na na tf1 zaf4 na 360.4 [26, 21, 22, 23]\n",
      "gs0002 forestier 1 sr0084 fc0022 nat o inc zt0001 na na au10 b1 na hae2 na he2 tf1 zaf2 na 1.5 [26]\n",
      "gs0002 forestier 1 sr0084 fc0022 nat o inc zt0001 na m1 au18 b1 na env ev16 na tf1 eco6 na 18.4 [26, 22]\n",
      "gs0002 forestier 1 sr0084 fc0022 nat o inc zt0001 na m1 au18 b1 na peec na na tf1 zaf2 na 3.2 [22]\n",
      "gs0002 forestier 1 sr0084 fc0022 nat o inc zt0001 na na au23 b1 na refa na na tf1 zaf2 na 10.1 [21, 23]\n",
      "gs0002 forestier 1 sr0084 fc0022 nat o inc zt0001 na na au9 na na env ev1 na tf1 zaf4 na 4.4 [26]\n",
      "gs0002 forestier 1 sr0084 fc0022 nat o inc zt0001 na na au21 na na env ev3 na tf1 zaf4 na 0.7 [23]\n",
      "gs0002 forestier 1 sr0084 fc0022 nat o inc zt0001 na na au19 b1 na refa na na tf1 zaf6 na 21.6 [26, 21, 23]\n",
      "gs0002 forestier 2 sr0084 fc0065 nat n inc zt0001 na m1 na na na orph ev17 na tf1 na na 0.0 [11]\n",
      "gs0002 forestier 1 sr0084 fc0022 nat o inc zt0001 na na na na na refa na na tf1 zaf4 na 2.5 [26]\n",
      "gs0002 forestier 1 sr0084 fc0022 nat o inc zt0001 na na au20 na na refa na na tf1 zaf6 na 214.0 [26, 21, 22, 23]\n",
      "gs0002 forestier 1 sr0084 fc0022 nat o inc zt0001 na na au19 b1 na refa na na tf1 eco6 na 4.0 [26, 22]\n",
      "gs0002 forestier 1 sr0084 fc0022 nat o inc zt0001 na m1 au11 b1 na env ev14 na tf1 eco2 na 1.5 [26]\n",
      "gs0002 forestier 1 sr0084 fc0022 nat o inc zt0001 na m1 au18 b1 na orph na na tf1 zaf6 na 1.3 [26]\n",
      "gs0002 forestier 1 sr0084 fc0022 nat o inc zt0001 na m3 au16 na na peec na na tf1 zaf2 na 0.4 [22]\n",
      "gs0002 forestier 1 sr0084 fc0022 nat o inc zt0001 na m1 au20 b1 na orph na na tf1 eco6 na 8.7 [22]\n",
      "gs0002 forestier 1 sr0084 fc0022 nat o inc zt0001 na na au5 na na peec na na tf1 eco5 na 3.0 [26, 21, 23]\n",
      "gs0002 forestier 1 sr0084 fc0022 nat o inc zt0001 na na au23 b1 na peec na he2 tf1 zaf2 na 0.5 [26]\n",
      "gs0002 forestier 1 sr0084 fc0022 nat o inc zt0001 na m2 au16 na na orph na na tf1 eco3 na 1.8 [26]\n",
      "gs0002 forestier 1 sr0084 fc0022 nat o inc zt0001 na m1 au10 b1 na orph na na tf1 zaf2 na 57.2 [26, 22]\n",
      "gs0002 forestier 1 sr0084 fc0022 nat o inc zt0001 na na au6 na na refa na na tf1 zaf6 na 52.2 [26, 22, 23]\n",
      "gs0002 forestier 1 sr0084 fc0022 nat o inc zt0001 na na au4 na na orph na na tf1 zaf5 na 33.7 [26, 22, 23]\n",
      "gs0002 forestier 1 sr0084 fc0022 nat o inc zt0001 na na au21 na na peec ev3 na tf1 zaf4 na 0.2 [23]\n",
      "gs0002 forestier 1 sr0084 fc0022 nat o inc zt0001 na na au21 na na peec na na tf1 zaf6 na 8.9 [21, 22]\n",
      "gs0002 forestier 1 sr0084 fc0022 nat o inc zt0001 na m1 au18 b1 na peec na na tf1 eco6 na 0.4 [26]\n",
      "gs0002 forestier 1 sr0084 fc0022 nat o inc zt0001 na m1 au18 b1 na peec ev16 na tf1 eco2 na 1.0 [26, 22]\n",
      "gs0002 forestier 1 sr0084 fc0022 nat o inc zt0001 na na au19 b1 na peec na na tf1 zaf6 na 1.2 [26]\n",
      "gs0002 forestier 1 sr0084 fc0022 nat o inc zt0001 na na au6 na na orph na na tf1 zaf6 na 8.6 [26]\n",
      "gs0002 forestier 1 sr0084 fc0022 nat o inc zt0001 na m1 au18 b1 na refa na na tf1 zaf2 na 3.3 [26]\n",
      "gs0002 forestier 1 sr0084 fc0022 nat o inc zt0001 na m1 au18 b1 na peec na he2 tf1 zaf6 na 0.6 [26]\n",
      "gs0002 forestier 1 sr0084 fc0022 nat o inc zt0001 na na au20 na na refa na na tf1 eco2 na 29.1 [26, 22, 23]\n",
      "gs0002 forestier 1 sr0084 fc0022 nat o inc zt0001 na m1 au20 na na peec na na tf1 zaf6 na 0.4 [26]\n",
      "gs0002 forestier 1 sr0084 fc0022 nat o inc zt0001 na m1 au18 b1 na refa na na tf1 zaf6 na 12.4 [26]\n",
      "gs0002 forestier 1 sr0084 fc0022 nat o inc zt0001 na na na na na refa na na tf1 zaf3 na 26.5 [26, 22]\n",
      "gs0002 forestier 1 sr0084 fc0022 nat o inc zt0001 na na au7 na na hae1 na he1 tf1 zaf5 na 1.0 [21]\n",
      "gs0002 forestier 1 sr0084 fc0022 nat o inc zt0001 na na au19 na na peec na he2 tf1 zaf6 na 1.6 [23]\n",
      "gs0002 forestier 1 sr0084 fc0022 nat o inc zt0001 na na au9 na na env ev2 na tf1 zaf3 na 1.2 [26, 23]\n",
      "gs0002 forestier 1 sr0084 fc0022 nat o inc zt0001 na na au20 na na peec na na tf1 zaf6 na 8.1 [26, 21, 23]\n",
      "gs0002 forestier 1 sr0084 fc0022 nat o inc zt0001 na m1 au18 b1 na peec na na tf1 eco2 na 6.0 [26, 22]\n",
      "gs0002 forestier 1 sr0084 fc0022 nat o inc zt0001 na m1 au18 b1 na orph ev16 na tf1 zaf2 na 0.3 [26]\n",
      "gs0002 forestier 1 sr0084 fc0022 nat o inc zt0001 na m1 au23 b1 na hae2 na he2 tf1 zaf2 na 4.0 [26]\n",
      "gs0002 forestier 1 sr0084 fc0022 nat o inc zt0001 na m1 au18 b1 na peec ev15 na tf1 eco2 na 1.0 [26]\n",
      "gs0002 forestier 1 sr0084 fc0022 nat o inc zt0001 na m1 au19 na na orph na na tf1 zaf6 na 4.6 [26, 23]\n",
      "gs0002 forestier 1 sr0084 fc0022 nat o inc zt0001 na na au7 na na orph ev3 na tf1 zaf4 na 5.4 [22]\n",
      "gs0002 forestier 1 sr0084 fc0022 nat o inc zt0001 na m1 au18 b1 na hae2 na he2 tf1 zaf6 na 0.8 [26]\n",
      "gs0002 forestier 1 sr0084 fc0022 nat o inc zt0001 na na au5 na na env ev4 na tf1 zaf5 na 1.4 [26]\n",
      "gs0002 forestier 1 sr0084 fc0022 nat o inc zt0001 na m1 au19 b1 na orph ev9 na tf1 zaf6 na 11.4 [23]\n",
      "gs0002 forestier 1 sr0084 fc0022 nat o inc zt0001 na na au20 na na orph na na tf1 eco2 na 0.1 [22]\n",
      "gs0002 forestier 1 sr0084 fc0022 nat o inc zt0001 na m1 au20 na na refa na na tf1 zaf6 na 25.5 [26, 21, 23]\n",
      "gs0002 forestier 1 sr0084 fc0022 nat o inc zt0001 na m1 au20 b1 na orph na na tf1 zaf6 na 21.5 [22]\n",
      "gs0002 forestier 1 sr0084 fc0022 nat o inc zt0001 na na au3 na na orph na na tf1 zaf4 na 2.5 [26]\n",
      "gs0002 forestier 1 sr0084 fc0022 nat o inc zt0001 na m1 au10 b1 na peec na he2 tf1 zaf2 na 2.2 [26]\n",
      "gs0002 forestier 1 sr0084 fc0022 nat o inc zt0001 na m1 au1 b1 na orph na na tf1 zaf2 na 3.1 [22]\n",
      "set([26, 11, 21, 22, 23])\n"
     ]
    }
   ],
   "source": [
    "period = 10\n",
    "ages = set()\n",
    "for dtk in dtks[:]:\n",
    "    dt = wm.dtypes[dtk]\n",
    "    _ages = map(int, dt._areas[period].keys())\n",
    "    print ' '.join(dtk), dt.area(period), _ages\n",
    "    map(ages.add, _ages)\n",
    "\n",
    "print ages\n"
   ]
  },
  {
   "cell_type": "code",
   "execution_count": 18,
   "metadata": {
    "collapsed": false
   },
   "outputs": [
    {
     "ename": "NameError",
     "evalue": "name 'getsize' is not defined",
     "output_type": "error",
     "traceback": [
      "\u001b[0;31m---------------------------------------------------------------------------\u001b[0m\n\u001b[0;31mNameError\u001b[0m                                 Traceback (most recent call last)",
      "\u001b[0;32m<ipython-input-18-73f7a9324343>\u001b[0m in \u001b[0;36m<module>\u001b[0;34m()\u001b[0m\n\u001b[1;32m      1\u001b[0m \u001b[0mdt\u001b[0m \u001b[0;34m=\u001b[0m \u001b[0mwm\u001b[0m\u001b[0;34m.\u001b[0m\u001b[0mdtypes\u001b[0m\u001b[0;34m[\u001b[0m\u001b[0mdtks\u001b[0m\u001b[0;34m[\u001b[0m\u001b[0;36m0\u001b[0m\u001b[0;34m]\u001b[0m\u001b[0;34m]\u001b[0m\u001b[0;34m\u001b[0m\u001b[0m\n\u001b[1;32m      2\u001b[0m \u001b[0mdt\u001b[0m\u001b[0;34m.\u001b[0m\u001b[0moperability\u001b[0m\u001b[0;34m[\u001b[0m\u001b[0;34m'act1'\u001b[0m\u001b[0;34m]\u001b[0m\u001b[0;34m\u001b[0m\u001b[0m\n\u001b[0;32m----> 3\u001b[0;31m \u001b[0mgetsize\u001b[0m\u001b[0;34m.\u001b[0m\u001b[0masizeof\u001b[0m\u001b[0;34m(\u001b[0m\u001b[0mdt\u001b[0m\u001b[0;34m.\u001b[0m\u001b[0moperability\u001b[0m\u001b[0;34m[\u001b[0m\u001b[0;34m'act'\u001b[0m\u001b[0;34m]\u001b[0m\u001b[0;34m)\u001b[0m\u001b[0;34m\u001b[0m\u001b[0m\n\u001b[0m",
      "\u001b[0;31mNameError\u001b[0m: name 'getsize' is not defined"
     ]
    }
   ],
   "source": [
    "dt = wm.dtypes[dtks[0]]\n",
    "dt.operability['act1']\n",
    "getsize.asizeof(dt.operability['act'])"
   ]
  },
  {
   "cell_type": "code",
   "execution_count": 28,
   "metadata": {
    "collapsed": false
   },
   "outputs": [
    {
     "name": "stdout",
     "output_type": "stream",
     "text": [
      "expr yagemat >= 0 and yagemat <= 10\n",
      "expr _cp = 1 and yg_s <= 33\n",
      "expr yagemat >= 0 and yagemat <= 10\n"
     ]
    }
   ],
   "source": [
    "dt.compile_actions()"
   ]
  },
  {
   "cell_type": "code",
   "execution_count": 12,
   "metadata": {
    "collapsed": false
   },
   "outputs": [
    {
     "data": {
      "text/plain": [
       "15071"
      ]
     },
     "execution_count": 12,
     "metadata": {},
     "output_type": "execute_result"
    }
   ],
   "source": [
    "len(wm.dtypes.keys())"
   ]
  },
  {
   "cell_type": "code",
   "execution_count": 47,
   "metadata": {
    "collapsed": false
   },
   "outputs": [
    {
     "data": {
      "text/plain": [
       "{1: (18.0, 28.0),\n",
       " 2: (18.0, 28.0),\n",
       " 3: (18.0, 28.0),\n",
       " 4: (18.0, 28.0),\n",
       " 5: (18.0, 28.0),\n",
       " 6: (18.0, 28.0),\n",
       " 7: (18.0, 28.0),\n",
       " 8: (18.0, 28.0),\n",
       " 9: (18.0, 28.0),\n",
       " 10: (18.0, 28.0),\n",
       " 11: (18.0, 28.0),\n",
       " 12: (18.0, 28.0),\n",
       " 13: (18.0, 28.0),\n",
       " 14: (18.0, 28.0),\n",
       " 15: (18.0, 28.0),\n",
       " 16: (18.0, 28.0),\n",
       " 17: (18.0, 28.0),\n",
       " 18: (18.0, 28.0),\n",
       " 19: (18.0, 28.0),\n",
       " 20: (18.0, 28.0),\n",
       " 21: (18.0, 28.0),\n",
       " 22: (18.0, 28.0),\n",
       " 23: (18.0, 28.0),\n",
       " 24: (18.0, 28.0),\n",
       " 25: (18.0, 28.0),\n",
       " 26: (18.0, 28.0),\n",
       " 27: (18.0, 28.0),\n",
       " 28: (18.0, 28.0),\n",
       " 29: (18.0, 28.0),\n",
       " 30: (18.0, 28.0)}"
      ]
     },
     "execution_count": 47,
     "metadata": {},
     "output_type": "execute_result"
    }
   ],
   "source": [
    "dt.operability['act2']"
   ]
  },
  {
   "cell_type": "code",
   "execution_count": 30,
   "metadata": {
    "collapsed": false
   },
   "outputs": [
    {
     "data": {
      "text/plain": [
       "[17, 13]"
      ]
     },
     "execution_count": 30,
     "metadata": {},
     "output_type": "execute_result"
    }
   ],
   "source": [
    "dt._areas[1].keys()"
   ]
  },
  {
   "cell_type": "code",
   "execution_count": 21,
   "metadata": {
    "collapsed": false
   },
   "outputs": [
    {
     "data": {
      "text/plain": [
       "3392"
      ]
     },
     "execution_count": 21,
     "metadata": {},
     "output_type": "execute_result"
    }
   ],
   "source": [
    "import getsize\n",
    "getsize.asizeof(dt.operability['act1'])"
   ]
  },
  {
   "cell_type": "code",
   "execution_count": 27,
   "metadata": {
    "collapsed": false
   },
   "outputs": [],
   "source": [
    "x = 10.\n",
    "l = [x for i in range(10)]"
   ]
  },
  {
   "cell_type": "code",
   "execution_count": 28,
   "metadata": {
    "collapsed": false
   },
   "outputs": [
    {
     "data": {
      "text/plain": [
       "120"
      ]
     },
     "execution_count": 28,
     "metadata": {},
     "output_type": "execute_result"
    }
   ],
   "source": [
    "getsize.asizeof(l)"
   ]
  },
  {
   "cell_type": "code",
   "execution_count": 26,
   "metadata": {
    "collapsed": false
   },
   "outputs": [
    {
     "data": {
      "text/plain": [
       "120"
      ]
     },
     "execution_count": 26,
     "metadata": {},
     "output_type": "execute_result"
    }
   ],
   "source": [
    "getsize.asizeof([1. for i in range(10)])"
   ]
  },
  {
   "cell_type": "code",
   "execution_count": 31,
   "metadata": {
    "collapsed": false
   },
   "outputs": [
    {
     "data": {
      "text/plain": [
       "1944"
      ]
     },
     "execution_count": 31,
     "metadata": {},
     "output_type": "execute_result"
    }
   ],
   "source": [
    "class Foo():\n",
    "    data = 1\n",
    "    \n",
    "foo = Foo()\n",
    "getsize.asizeof([Foo() for i in range(10)])"
   ]
  },
  {
   "cell_type": "code",
   "execution_count": 34,
   "metadata": {
    "collapsed": false
   },
   "outputs": [
    {
     "data": {
      "text/plain": [
       "523799304"
      ]
     },
     "execution_count": 34,
     "metadata": {},
     "output_type": "execute_result"
    }
   ],
   "source": [
    "getsize.asizeof(wm)"
   ]
  },
  {
   "cell_type": "code",
   "execution_count": 33,
   "metadata": {
    "collapsed": false
   },
   "outputs": [
    {
     "data": {
      "text/plain": [
       "<ws3.woodstock.DevelopmentType instance at 0x3a670d0>"
      ]
     },
     "execution_count": 33,
     "metadata": {},
     "output_type": "execute_result"
    }
   ],
   "source": [
    "dt"
   ]
  },
  {
   "cell_type": "code",
   "execution_count": 5,
   "metadata": {
    "collapsed": false
   },
   "outputs": [],
   "source": [
    "operable = wm.operable_dtypes('act1', 10)"
   ]
  },
  {
   "cell_type": "code",
   "execution_count": 6,
   "metadata": {
    "collapsed": false
   },
   "outputs": [],
   "source": [
    "dtk, ages = operable.items()[0]\n",
    "dt = wm.dtypes[dtk]"
   ]
  },
  {
   "cell_type": "code",
   "execution_count": 7,
   "metadata": {
    "collapsed": false
   },
   "outputs": [
    {
     "data": {
      "text/plain": [
       "0.2"
      ]
     },
     "execution_count": 7,
     "metadata": {},
     "output_type": "execute_result"
    }
   ],
   "source": [
    "operable_area = dt.operable_area('act1', 10, ages[0])\n",
    "operable_area"
   ]
  },
  {
   "cell_type": "code",
   "execution_count": 8,
   "metadata": {
    "collapsed": false
   },
   "outputs": [],
   "source": [
    "wm.apply_action(dtk, 'act1', 10, ages[0], operable_area)"
   ]
  },
  {
   "cell_type": "code",
   "execution_count": 10,
   "metadata": {
    "collapsed": false
   },
   "outputs": [],
   "source": [
    "dt.area(10, ages[0], 10.) # add some area, for testing"
   ]
  },
  {
   "cell_type": "code",
   "execution_count": 11,
   "metadata": {
    "collapsed": false
   },
   "outputs": [],
   "source": [
    "wm.applied_actions"
   ]
  },
  {
   "cell_type": "code",
   "execution_count": 16,
   "metadata": {
    "collapsed": false
   },
   "outputs": [
    {
     "data": {
      "text/plain": [
       "False"
      ]
     },
     "execution_count": 16,
     "metadata": {},
     "output_type": "execute_result"
    }
   ],
   "source": [
    "bool(wm.applied_actions[10]['act1'][dtk][ages[0]])"
   ]
  },
  {
   "cell_type": "code",
   "execution_count": 17,
   "metadata": {
    "collapsed": false
   },
   "outputs": [
    {
     "name": "stderr",
     "output_type": "stream",
     "text": [
      "[autoreload of ws3.woodstock failed: Traceback (most recent call last):\n",
      "  File \"/Library/Python/2.7/site-packages/IPython/extensions/autoreload.py\", line 247, in check\n",
      "    superreload(m, reload, self.old_objects)\n",
      "  File \"/Users/greg/Developer/postdoc/src/ws3/woodstock.py\", line 707\n",
      "    if period = None:\n",
      "              ^\n",
      "SyntaxError: invalid syntax\n",
      "]\n"
     ]
    },
    {
     "ename": "AttributeError",
     "evalue": "WoodstockModel instance has no attribute 'reset_actions'",
     "output_type": "error",
     "traceback": [
      "\u001b[0;31m---------------------------------------------------------------------------\u001b[0m\n\u001b[0;31mAttributeError\u001b[0m                            Traceback (most recent call last)",
      "\u001b[0;32m<ipython-input-17-55828901e553>\u001b[0m in \u001b[0;36m<module>\u001b[0;34m()\u001b[0m\n\u001b[0;32m----> 1\u001b[0;31m \u001b[0mwm\u001b[0m\u001b[0;34m.\u001b[0m\u001b[0mreset_actions\u001b[0m\u001b[0;34m(\u001b[0m\u001b[0;34m)\u001b[0m\u001b[0;34m\u001b[0m\u001b[0m\n\u001b[0m",
      "\u001b[0;31mAttributeError\u001b[0m: WoodstockModel instance has no attribute 'reset_actions'"
     ]
    }
   ],
   "source": [
    "wm.reset_actions()"
   ]
  },
  {
   "cell_type": "code",
   "execution_count": 13,
   "metadata": {
    "collapsed": false
   },
   "outputs": [
    {
     "data": {
      "text/plain": [
       "0.2"
      ]
     },
     "execution_count": 13,
     "metadata": {},
     "output_type": "execute_result"
    }
   ],
   "source": [
    "wm.operated_area(10, 'act1')"
   ]
  },
  {
   "cell_type": "code",
   "execution_count": 20,
   "metadata": {
    "collapsed": false
   },
   "outputs": [],
   "source": [
    "def cutcutcut(wm, acode, target_area, period=None, commit=True):\n",
    "    if period is None:\n",
    "        for period in wm.periods:\n",
    "            # MUST commit at each iteration, else nonsense\n",
    "            cutcutcut(wm, acode, target_area, period, commit=True)\n",
    "    else:\n",
    "        odt = wm.operable_dtypes(acode, period)\n",
    "        operated_area = 0.\n",
    "        while operated_area < target_area and odt:\n",
    "            dtk, ages = odt.popitem()\n",
    "            ages.sort()\n",
    "            while operated_area < target_area and ages:\n",
    "                age = ages.pop()\n",
    "                operable_area = wm.dtypes[dtk].operable_area(acode, period, age)\n",
    "                area = min(operable_area, target_area - operated_area)\n",
    "                wm.apply_action(dtk, acode, period, age, area)\n",
    "                operated_area += area\n",
    "        if commit: wm.commit_actions(period)"
   ]
  },
  {
   "cell_type": "code",
   "execution_count": 53,
   "metadata": {
    "collapsed": false
   },
   "outputs": [
    {
     "name": "stdout",
     "output_type": "stream",
     "text": [
      "growing period 1\n",
      "repairing actions in period 2\n",
      "growing period 2\n",
      "repairing actions in period 3\n",
      "growing period 3\n",
      "repairing actions in period 4\n",
      "growing period 4\n",
      "repairing actions in period 5\n",
      "growing period 5\n",
      "repairing actions in period 6\n",
      "growing period 6\n",
      "repairing actions in period 7\n",
      "growing period 7\n",
      "repairing actions in period 8\n",
      "growing period 8\n",
      "repairing actions in period 9\n",
      "growing period 9\n",
      "repairing actions in period 10\n",
      "growing period 10\n",
      "repairing actions in period 11\n",
      "growing period 11\n",
      "repairing actions in period 12\n",
      "growing period 12\n",
      "repairing actions in period 13\n",
      "growing period 13\n",
      "repairing actions in period 14\n",
      "growing period 14\n",
      "repairing actions in period 15\n",
      "growing period 15\n",
      "repairing actions in period 16\n",
      "growing period 16\n",
      "repairing actions in period 17\n",
      "growing period 17\n",
      "repairing actions in period 18\n",
      "growing period 18\n",
      "repairing actions in period 19\n",
      "growing period 19\n",
      "repairing actions in period 20\n",
      "growing period 20\n",
      "repairing actions in period 21\n",
      "growing period 21\n",
      "repairing actions in period 22\n",
      "growing period 22\n",
      "repairing actions in period 23\n",
      "growing period 23\n",
      "repairing actions in period 24\n",
      "growing period 24\n",
      "repairing actions in period 25\n",
      "growing period 25\n",
      "repairing actions in period 26\n",
      "growing period 26\n",
      "repairing actions in period 27\n",
      "growing period 27\n",
      "repairing actions in period 28\n",
      "growing period 28\n",
      "repairing actions in period 29\n",
      "growing period 29\n",
      "repairing actions in period 30\n"
     ]
    }
   ],
   "source": [
    "period = 1\n",
    "wm.reset_actions(period)\n",
    "wm.initialize_areas()\n",
    "wm.grow()\n",
    "cutcutcut(wm, 'act1', 100., period)"
   ]
  },
  {
   "cell_type": "code",
   "execution_count": 29,
   "metadata": {
    "collapsed": false
   },
   "outputs": [
    {
     "data": {
      "text/plain": [
       "defaultdict(<bound method WoodstockModel._rdd of <ws3.woodstock.WoodstockModel instance at 0x36560f8>>, {})"
      ]
     },
     "execution_count": 29,
     "metadata": {},
     "output_type": "execute_result"
    }
   ],
   "source": [
    "import copy\n",
    "wm.applied_actions\n",
    "aa = copy.copy(wm.applied_actions)\n",
    "wm.reset_actions()\n",
    "aa[1]\n",
    "wm.applied_actions[1]"
   ]
  },
  {
   "cell_type": "code",
   "execution_count": 8,
   "metadata": {
    "collapsed": false
   },
   "outputs": [],
   "source": [
    "wm.commit_actions()"
   ]
  },
  {
   "cell_type": "code",
   "execution_count": 64,
   "metadata": {
    "collapsed": false
   },
   "outputs": [
    {
     "name": "stdout",
     "output_type": "stream",
     "text": [
      "source na na na na fc_che na na na zt0001 na na au5 na na hae3 na he3 tf1 eco5 na\n",
      "target ? ? ? sr0013 fc0060 ? n ? ? ? ? ? ? ? ? ? ? ? ? ? 0.956 0 None (2, '_TH3 + 1') None\n",
      "dtk na na na sr0013 fc0060 na n na zt0001 na na au5 na na hae3 na he3 tf1 eco5 na\n"
     ]
    },
    {
     "ename": "NameError",
     "evalue": "name 'na' is not defined",
     "output_type": "error",
     "traceback": [
      "\u001b[0;31m---------------------------------------------------------------------------\u001b[0m\n\u001b[0;31mNameError\u001b[0m                                 Traceback (most recent call last)",
      "\u001b[0;32m<ipython-input-64-56c1b36754f7>\u001b[0m in \u001b[0;36m<module>\u001b[0;34m()\u001b[0m\n\u001b[0;32m----> 1\u001b[0;31m \u001b[0mcutcutcut\u001b[0m\u001b[0;34m(\u001b[0m\u001b[0mwm\u001b[0m\u001b[0;34m,\u001b[0m \u001b[0;34m'act1'\u001b[0m\u001b[0;34m,\u001b[0m \u001b[0;36m100.\u001b[0m\u001b[0;34m,\u001b[0m \u001b[0;36m1\u001b[0m\u001b[0;34m)\u001b[0m\u001b[0;34m\u001b[0m\u001b[0m\n\u001b[0m\u001b[1;32m      2\u001b[0m \u001b[0mwm\u001b[0m\u001b[0;34m.\u001b[0m\u001b[0moperated_area\u001b[0m\u001b[0;34m(\u001b[0m\u001b[0;34m'act1'\u001b[0m\u001b[0;34m,\u001b[0m \u001b[0;36m1\u001b[0m\u001b[0;34m)\u001b[0m\u001b[0;34m\u001b[0m\u001b[0m\n",
      "\u001b[0;32m<ipython-input-20-7d5ad99b18ab>\u001b[0m in \u001b[0;36mcutcutcut\u001b[0;34m(wm, acode, target_area, period, commit)\u001b[0m\n\u001b[1;32m     14\u001b[0m                 \u001b[0moperable_area\u001b[0m \u001b[0;34m=\u001b[0m \u001b[0mwm\u001b[0m\u001b[0;34m.\u001b[0m\u001b[0mdtypes\u001b[0m\u001b[0;34m[\u001b[0m\u001b[0mdtk\u001b[0m\u001b[0;34m]\u001b[0m\u001b[0;34m.\u001b[0m\u001b[0moperable_area\u001b[0m\u001b[0;34m(\u001b[0m\u001b[0macode\u001b[0m\u001b[0;34m,\u001b[0m \u001b[0mperiod\u001b[0m\u001b[0;34m,\u001b[0m \u001b[0mage\u001b[0m\u001b[0;34m)\u001b[0m\u001b[0;34m\u001b[0m\u001b[0m\n\u001b[1;32m     15\u001b[0m                 \u001b[0marea\u001b[0m \u001b[0;34m=\u001b[0m \u001b[0mmin\u001b[0m\u001b[0;34m(\u001b[0m\u001b[0moperable_area\u001b[0m\u001b[0;34m,\u001b[0m \u001b[0mtarget_area\u001b[0m \u001b[0;34m-\u001b[0m \u001b[0moperated_area\u001b[0m\u001b[0;34m)\u001b[0m\u001b[0;34m\u001b[0m\u001b[0m\n\u001b[0;32m---> 16\u001b[0;31m                 \u001b[0mwm\u001b[0m\u001b[0;34m.\u001b[0m\u001b[0mapply_action\u001b[0m\u001b[0;34m(\u001b[0m\u001b[0mdtk\u001b[0m\u001b[0;34m,\u001b[0m \u001b[0macode\u001b[0m\u001b[0;34m,\u001b[0m \u001b[0mperiod\u001b[0m\u001b[0;34m,\u001b[0m \u001b[0mage\u001b[0m\u001b[0;34m,\u001b[0m \u001b[0marea\u001b[0m\u001b[0;34m)\u001b[0m\u001b[0;34m\u001b[0m\u001b[0m\n\u001b[0m\u001b[1;32m     17\u001b[0m                 \u001b[0moperated_area\u001b[0m \u001b[0;34m+=\u001b[0m \u001b[0marea\u001b[0m\u001b[0;34m\u001b[0m\u001b[0m\n\u001b[1;32m     18\u001b[0m         \u001b[0;32mif\u001b[0m \u001b[0mcommit\u001b[0m\u001b[0;34m:\u001b[0m \u001b[0mwm\u001b[0m\u001b[0;34m.\u001b[0m\u001b[0mcommit_actions\u001b[0m\u001b[0;34m(\u001b[0m\u001b[0mperiod\u001b[0m\u001b[0;34m)\u001b[0m\u001b[0;34m\u001b[0m\u001b[0m\n",
      "\u001b[0;32m/Users/greg/Developer/postdoc/src/ws3/woodstock.py\u001b[0m in \u001b[0;36mapply_action\u001b[0;34m(self, dtype_key, acode, period, age, area)\u001b[0m\n\u001b[1;32m    818\u001b[0m             \u001b[0;31m# DO TO: Confirm correct order for evaluating mask, _APPEND and _REPLACE...\u001b[0m\u001b[0;34m\u001b[0m\u001b[0;34m\u001b[0m\u001b[0m\n\u001b[1;32m    819\u001b[0m             \u001b[0mdtk\u001b[0m \u001b[0;34m=\u001b[0m \u001b[0;34m[\u001b[0m\u001b[0mt\u001b[0m \u001b[0;32mif\u001b[0m \u001b[0mtmask\u001b[0m\u001b[0;34m[\u001b[0m\u001b[0mi\u001b[0m\u001b[0;34m]\u001b[0m \u001b[0;34m==\u001b[0m \u001b[0;34m'?'\u001b[0m \u001b[0;32melse\u001b[0m \u001b[0mtmask\u001b[0m\u001b[0;34m[\u001b[0m\u001b[0mi\u001b[0m\u001b[0;34m]\u001b[0m \u001b[0;32mfor\u001b[0m \u001b[0mi\u001b[0m\u001b[0;34m,\u001b[0m \u001b[0mt\u001b[0m \u001b[0;32min\u001b[0m \u001b[0menumerate\u001b[0m\u001b[0;34m(\u001b[0m\u001b[0mdtk\u001b[0m\u001b[0;34m)\u001b[0m\u001b[0;34m]\u001b[0m\u001b[0;34m\u001b[0m\u001b[0m\n\u001b[0;32m--> 820\u001b[0;31m             \u001b[0;32mif\u001b[0m \u001b[0mtreplace\u001b[0m\u001b[0;34m:\u001b[0m \u001b[0mdtk\u001b[0m\u001b[0;34m[\u001b[0m\u001b[0mtreplace\u001b[0m\u001b[0;34m[\u001b[0m\u001b[0;36m0\u001b[0m\u001b[0;34m]\u001b[0m\u001b[0;34m]\u001b[0m \u001b[0;34m=\u001b[0m \u001b[0mresolve_replace\u001b[0m\u001b[0;34m(\u001b[0m\u001b[0mdtk\u001b[0m\u001b[0;34m,\u001b[0m \u001b[0mtreplace\u001b[0m\u001b[0;34m[\u001b[0m\u001b[0;36m1\u001b[0m\u001b[0;34m]\u001b[0m\u001b[0;34m)\u001b[0m\u001b[0;34m\u001b[0m\u001b[0m\n\u001b[0m\u001b[1;32m    821\u001b[0m             \u001b[0;32mif\u001b[0m \u001b[0mtappend\u001b[0m\u001b[0;34m:\u001b[0m \u001b[0mdtk\u001b[0m\u001b[0;34m[\u001b[0m\u001b[0mtappend\u001b[0m\u001b[0;34m[\u001b[0m\u001b[0;36m0\u001b[0m\u001b[0;34m]\u001b[0m\u001b[0;34m]\u001b[0m \u001b[0;34m=\u001b[0m \u001b[0mresolve_append\u001b[0m\u001b[0;34m(\u001b[0m\u001b[0mdtk\u001b[0m\u001b[0;34m,\u001b[0m \u001b[0mtappend\u001b[0m\u001b[0;34m[\u001b[0m\u001b[0;36m1\u001b[0m\u001b[0;34m]\u001b[0m\u001b[0;34m)\u001b[0m\u001b[0;34m\u001b[0m\u001b[0m\n\u001b[1;32m    822\u001b[0m             \u001b[0mdtk\u001b[0m \u001b[0;34m=\u001b[0m \u001b[0mtuple\u001b[0m\u001b[0;34m(\u001b[0m\u001b[0mdtk\u001b[0m\u001b[0;34m)\u001b[0m\u001b[0;34m\u001b[0m\u001b[0m\n",
      "\u001b[0;32m/Users/greg/Developer/postdoc/src/ws3/woodstock.py\u001b[0m in \u001b[0;36mresolve_replace\u001b[0;34m(dtk, expr)\u001b[0m\n\u001b[1;32m    798\u001b[0m             \u001b[0mi\u001b[0m \u001b[0;34m=\u001b[0m \u001b[0mint\u001b[0m\u001b[0;34m(\u001b[0m\u001b[0mtokens\u001b[0m\u001b[0;34m[\u001b[0m\u001b[0;36m0\u001b[0m\u001b[0;34m]\u001b[0m\u001b[0;34m[\u001b[0m\u001b[0;36m3\u001b[0m\u001b[0;34m]\u001b[0m\u001b[0;34m)\u001b[0m \u001b[0;34m-\u001b[0m \u001b[0;36m1\u001b[0m\u001b[0;34m\u001b[0m\u001b[0m\n\u001b[1;32m    799\u001b[0m             \u001b[0;32mtry\u001b[0m\u001b[0;34m:\u001b[0m\u001b[0;34m\u001b[0m\u001b[0m\n\u001b[0;32m--> 800\u001b[0;31m                 \u001b[0;32mreturn\u001b[0m \u001b[0mstr\u001b[0m\u001b[0;34m(\u001b[0m\u001b[0meval\u001b[0m\u001b[0;34m(\u001b[0m\u001b[0mexpr\u001b[0m\u001b[0;34m.\u001b[0m\u001b[0mreplace\u001b[0m\u001b[0;34m(\u001b[0m\u001b[0mtokens\u001b[0m\u001b[0;34m[\u001b[0m\u001b[0;36m0\u001b[0m\u001b[0;34m]\u001b[0m\u001b[0;34m,\u001b[0m \u001b[0mdtk\u001b[0m\u001b[0;34m[\u001b[0m\u001b[0mi\u001b[0m\u001b[0;34m]\u001b[0m\u001b[0;34m)\u001b[0m\u001b[0;34m)\u001b[0m\u001b[0;34m)\u001b[0m\u001b[0;34m\u001b[0m\u001b[0m\n\u001b[0m\u001b[1;32m    801\u001b[0m             \u001b[0;32mexcept\u001b[0m\u001b[0;34m:\u001b[0m\u001b[0;34m\u001b[0m\u001b[0m\n\u001b[1;32m    802\u001b[0m                 \u001b[0;32mprint\u001b[0m \u001b[0;34m'source'\u001b[0m\u001b[0;34m,\u001b[0m \u001b[0;34m' '\u001b[0m\u001b[0;34m.\u001b[0m\u001b[0mjoin\u001b[0m\u001b[0;34m(\u001b[0m\u001b[0mdtype_key\u001b[0m\u001b[0;34m)\u001b[0m\u001b[0;34m\u001b[0m\u001b[0m\n",
      "\u001b[0;32m/Users/greg/Developer/postdoc/src/ws3/woodstock.py\u001b[0m in \u001b[0;36m<module>\u001b[0;34m()\u001b[0m\n",
      "\u001b[0;31mNameError\u001b[0m: name 'na' is not defined"
     ]
    }
   ],
   "source": [
    "cutcutcut(wm, 'act1', 100., 1)\n",
    "wm.operated_area('act1', 1)"
   ]
  },
  {
   "cell_type": "code",
   "execution_count": 41,
   "metadata": {
    "collapsed": false
   },
   "outputs": [
    {
     "name": "stdout",
     "output_type": "stream",
     "text": [
      "4914.0376\n"
     ]
    }
   ],
   "source": [
    "for p in range(1, 2): print wm.operable_area('act1', 1)"
   ]
  },
  {
   "cell_type": "code",
   "execution_count": 18,
   "metadata": {
    "collapsed": false
   },
   "outputs": [],
   "source": [
    "mask = tuple('GS0002 Forestier Toutes SR0084 ? NAT ? INC ? ? ? ? ? ? ? ? ? ? ? ?'.lower().split(' '))\n",
    "dtks = wm.unmask(mask)\n",
    "dt = wm.dtypes[dtks[0]]\n",
    "yv_s = copy.deepcopy(dt.ycomp('yv_s'))\n",
    "yv_s.is_locked = False"
   ]
  },
  {
   "cell_type": "code",
   "execution_count": 19,
   "metadata": {
    "collapsed": false
   },
   "outputs": [
    {
     "name": "stdout",
     "output_type": "stream",
     "text": [
      "sum of y-values and point count 10721.6 47\n",
      "sum of y-values and point count 10710.95 11\n"
     ]
    },
    {
     "data": {
      "image/png": "[encoded data removed]",
      "text/plain": [
       "<matplotlib.figure.Figure at 0x109b8c10>"
      ]
     },
     "metadata": {},
     "output_type": "display_data"
    }
   ],
   "source": [
    "plt.close('all')\n",
    "fig, ax = plt.subplots()\n",
    "\n",
    "x, y = zip(*yv_s.points())\n",
    "ax.plot(x, y)\n",
    "print 'sum of y-values and point count',  sum(yv_s), len(yv_s.points())\n",
    "\n",
    "yv_s.simplify()\n",
    "\n",
    "x, y = zip(*yv_s.points())\n",
    "ax.plot(x, y)\n",
    "print 'sum of y-values and point count', sum(yv_s), len(yv_s.points())"
   ]
  },
  {
   "cell_type": "code",
   "execution_count": 16,
   "metadata": {
    "collapsed": false
   },
   "outputs": [
    {
     "name": "stdout",
     "output_type": "stream",
     "text": [
      "no compression: %i points 47\n",
      "compressed at epsilon  0.1 2.33174153111e-05 35 10721.85 10721.6\n",
      "compressed at epsilon  0.2 0.000447694373974 27 10716.8 10721.6\n",
      "compressed at epsilon  0.3 0.000139904491867 23 10720.1 10721.6\n",
      "compressed at epsilon  0.4 0.000153894941054 22 10719.95 10721.6\n",
      "compressed at epsilon  0.5 0.000172548873303 21 10719.75 10721.6\n",
      "compressed at epsilon  0.6 0.000172548873303 21 10719.75 10721.6\n",
      "compressed at epsilon  0.7 0.000172548873303 21 10719.75 10721.6\n",
      "compressed at epsilon  0.8 0.000769474705268 15 10713.35 10721.6\n",
      "error threshold exceeded 0.000769474705268\n"
     ]
    },
    {
     "data": {
      "image/png": "[encoded data removed]",
      "text/plain": [
       "<matplotlib.figure.Figure at 0x10aa77b0>"
      ]
     },
     "metadata": {},
     "output_type": "display_data"
    }
   ],
   "source": [
    "plt.close('all')\n",
    "fig, ax = plt.subplots()\n",
    "print 'no compression: %i points', len(yv_s.points())\n",
    "e = 0.\n",
    "for epsilon in np.arange(0.1, 10.0, 0.1):\n",
    "    if e > max_e:\n",
    "        print 'error threshold exceeded', e\n",
    "        break\n",
    "    yv_s.epsilon = epsilon\n",
    "    yv_s.simplify()\n",
    "    x, y = zip(*yv_s.points())\n",
    "    ax.plot(x, y)\n",
    "    e = abs(sum(yv_s) - ref_val) / ref_val\n",
    "    print 'compressed at epsilon ', epsilon, e, len(yv_s.points()), sum(yv_s), ref_val\n"
   ]
  },
  {
   "cell_type": "code",
   "execution_count": 116,
   "metadata": {
    "collapsed": false
   },
   "outputs": [
    {
     "data": {
      "text/plain": [
       "[<matplotlib.lines.Line2D at 0x12436130>]"
      ]
     },
     "execution_count": 116,
     "metadata": {},
     "output_type": "execute_result"
    },
    {
     "data": {
      "image/png": "[encoded data removed]",
      "text/plain": [
       "<matplotlib.figure.Figure at 0x12447a70>"
      ]
     },
     "metadata": {},
     "output_type": "display_data"
    }
   ],
   "source": [
    "plt.close('all')\n",
    "fig, ax = plt.subplots()\n",
    "#axes.plot(zip(*yv_s.points))\n",
    "x, y = zip(*yv_s.points)\n",
    "#df = pd.DataFrame(yv_s.points)\n",
    "#df.plot()\n",
    "ax.plot(x, y)\n"
   ]
  },
  {
   "cell_type": "code",
   "execution_count": null,
   "metadata": {
    "collapsed": false
   },
   "outputs": [],
   "source": []
  },
  {
   "cell_type": "code",
   "execution_count": 68,
   "metadata": {
    "collapsed": false
   },
   "outputs": [],
   "source": [
    "df = pd.DataFrame(yv_s.points)"
   ]
  },
  {
   "cell_type": "code",
   "execution_count": 69,
   "metadata": {
    "collapsed": false
   },
   "outputs": [
    {
     "data": {
      "text/plain": [
       "<matplotlib.axes.AxesSubplot at 0x10737f90>"
      ]
     },
     "execution_count": 69,
     "metadata": {},
     "output_type": "execute_result"
    },
    {
     "data": {
      "image/png": "[encoded data removed]",
      "text/plain": [
       "<matplotlib.figure.Figure at 0x10737ad0>"
      ]
     },
     "metadata": {},
     "output_type": "display_data"
    }
   ],
   "source": [
    "df.plot()"
   ]
  },
  {
   "cell_type": "code",
   "execution_count": 74,
   "metadata": {
    "collapsed": false
   },
   "outputs": [
    {
     "data": {
      "text/plain": [
       "[(0, 0.0),\n",
       " (1, 0.0),\n",
       " (2, 0.0),\n",
       " (3, 0.0),\n",
       " (4, 7.3),\n",
       " (5, 14.8),\n",
       " (6, 22.2),\n",
       " (7, 29.6),\n",
       " (8, 37.0),\n",
       " (9, 44.4),\n",
       " (10, 51.9),\n",
       " (11, 59.2),\n",
       " (12, 66.6),\n",
       " (13, 79.7),\n",
       " (14, 92.4),\n",
       " (15, 104.6),\n",
       " (16, 115.6),\n",
       " (17, 125.6),\n",
       " (18, 134.3),\n",
       " (19, 141.5),\n",
       " (20, 147.2),\n",
       " (21, 151.8),\n",
       " (22, 155.1),\n",
       " (23, 157.2),\n",
       " (24, 158.2),\n",
       " (25, 158.4),\n",
       " (26, 157.9),\n",
       " (27, 156.7),\n",
       " (28, 154.9),\n",
       " (29, 152.8),\n",
       " (30, 150.3),\n",
       " (31, 147.7),\n",
       " (32, 144.9),\n",
       " (33, 142.1),\n",
       " (34, 139.3),\n",
       " (35, 136.3),\n",
       " (36, 133.4),\n",
       " (37, 130.5),\n",
       " (38, 127.6),\n",
       " (39, 124.7),\n",
       " (40, 121.7),\n",
       " (41, 118.9),\n",
       " (42, 116.0),\n",
       " (43, 113.3),\n",
       " (44, 110.8),\n",
       " (45, 108.7),\n",
       " (100, 108.7)]"
      ]
     },
     "execution_count": 74,
     "metadata": {},
     "output_type": "execute_result"
    }
   ],
   "source": [
    "yv_s.is_locked = False\n",
    "yv_s.points"
   ]
  },
  {
   "cell_type": "code",
   "execution_count": null,
   "metadata": {
    "collapsed": false
   },
   "outputs": [],
   "source": [
    "i"
   ]
  }
 ],
 "metadata": {
  "kernelspec": {
   "display_name": "Python 2",
   "language": "python",
   "name": "python2"
  },
  "language_info": {
   "codemirror_mode": {
    "name": "ipython",
    "version": 2
   },
   "file_extension": ".py",
   "mimetype": "text/x-python",
   "name": "python",
   "nbconvert_exporter": "python",
   "pygments_lexer": "ipython2",
   "version": "2.7.8"
  }
 },
 "nbformat": 4,
 "nbformat_minor": 0
}
