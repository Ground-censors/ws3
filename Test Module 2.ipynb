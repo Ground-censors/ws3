{
 "metadata": {
  "name": "",
  "signature": "sha256:9339e83c0895bf474dd6324347571020ce6ff3c4fa795e6c69d02a1f2308d74b"
 },
 "nbformat": 3,
 "nbformat_minor": 0,
 "worksheets": [
  {
   "cells": [
    {
     "cell_type": "code",
     "collapsed": false,
     "input": [
      "%reload_ext autoreload\n",
      "%autoreload 2\n",
      "%aimport\n",
      "%matplotlib inline\n",
      "%reload_ext memory_profiler\n",
      "\n",
      "\n",
      "import numpy as np\n",
      "import pandas as pd\n",
      "import matplotlib.pyplot as plt\n",
      "import copy\n",
      "\n",
      "import seaborn\n",
      "\n",
      "import os\n",
      "import cPickle\n",
      "\n",
      "try:\n",
      "    _path = os.path.abspath(os.path.join(os.path.dirname(__file__), '..'))\n",
      "except:\n",
      "    _path = os.path.abspath(os.path.join(os.path.dirname('__file__'), '..'))\n",
      "if not _path in os.sys.path:\n",
      "    os.sys.path.insert(1, _path)\n",
      "del _path\n",
      "\n",
      "from ws3.woodstock import WoodstockModel\n",
      "\n",
      "model_name = 'PC_4537_U03153_4FF_V05'\n",
      "model_path = '../../dat/woodstock/03153'"
     ],
     "language": "python",
     "metadata": {},
     "outputs": []
    },
    {
     "cell_type": "code",
     "collapsed": false,
     "input": [
      "def load_woodstockmodel(load_pickle='', dump_pickle='', verbose=True):\n",
      "    if load_pickle:\n",
      "        return cPickle.load(open(load_pickle))\n",
      "    wm = WoodstockModel(model_name, model_path)\n",
      "    if verbose: print 'importing CONSTANTS section'\n",
      "    wm.import_constants_section()\n",
      "    if verbose: print 'importing LANDSCAPE section'\n",
      "    wm.import_landscape_section()\n",
      "    if verbose: print 'importing AREAS section'\n",
      "    wm.import_areas_section()\n",
      "    if verbose: print 'importing YIELDS section'\n",
      "    wm.import_yields_section()\n",
      "    if verbose: print 'importing ACTIONS section'\n",
      "    wm.import_actions_section()\n",
      "    if verbose: print 'importing TRANSITIONS section'\n",
      "    wm.import_transitions_section()\n",
      "    if verbose: print 'importing OUTPUTS section'\n",
      "    wm.import_outputs_section()\n",
      "    if dump_pickle:\n",
      "        cPickle.dump(wm, open(dump_pickle, 'w'))\n",
      "    return wm"
     ],
     "language": "python",
     "metadata": {},
     "outputs": []
    },
    {
     "cell_type": "code",
     "collapsed": false,
     "input": [
      "wm = load_woodstockmodel()"
     ],
     "language": "python",
     "metadata": {},
     "outputs": []
    },
    {
     "cell_type": "code",
     "collapsed": false,
     "input": [
      "wm.initialize_areas() \n",
      "wm.grow()"
     ],
     "language": "python",
     "metadata": {},
     "outputs": []
    },
    {
     "cell_type": "code",
     "collapsed": false,
     "input": [
      "def calc_outputs(wm, ocodes, period):\n",
      "    return {ocode:wm.outputs[ocode](period) for ocode in ocodes}"
     ],
     "language": "python",
     "metadata": {},
     "outputs": []
    },
    {
     "cell_type": "code",
     "collapsed": false,
     "input": [
      "periods = range(1, 30)\n",
      "orslts = {p:{} for p in periods}\n",
      "#ocodes = ['osupinc',\n",
      "#          'osupexin',\n",
      "#          'osuptot',\n",
      "#          'osupexti',\n",
      "#          'ovoltotpiedinc']\n",
      "ocodes = ['ovoltotpiedinc', 'ovoltotrecct']"
     ],
     "language": "python",
     "metadata": {},
     "outputs": []
    },
    {
     "cell_type": "code",
     "collapsed": false,
     "input": [
      "skip_existing = 0\n",
      "_ocodes = [c for c in ocodes if c not in orslts] if skip_existing else ocodes\n",
      "for p in periods:\n",
      "    orslts[p].update(calc_outputs(wm, _ocodes, p))"
     ],
     "language": "python",
     "metadata": {},
     "outputs": []
    },
    {
     "cell_type": "code",
     "collapsed": false,
     "input": [],
     "language": "python",
     "metadata": {},
     "outputs": []
    },
    {
     "cell_type": "code",
     "collapsed": false,
     "input": [],
     "language": "python",
     "metadata": {},
     "outputs": []
    },
    {
     "cell_type": "code",
     "collapsed": false,
     "input": [
      "for ocode in ocodes:\n",
      "    print wm.outputs[ocode].description\n",
      "    for p in periods:\n",
      "        print p, orslts[p][ocode]"
     ],
     "language": "python",
     "metadata": {},
     "outputs": []
    },
    {
     "cell_type": "code",
     "collapsed": false,
     "input": [
      "filename = 'ovoltotpiedinc_validate_bfec.dat' \n",
      "with open(filename) as f: \n",
      "    validate = [float(line) for line in f.readlines()]"
     ],
     "language": "python",
     "metadata": {},
     "outputs": []
    },
    {
     "cell_type": "code",
     "collapsed": false,
     "input": [
      "#df = pd.DataFrame(zip([[orslts[p][ocode] for ocode in ocodes] for p in periods], validate), columns=ocodes+['validate'])\n",
      "df = pd.DataFrame([[orslts[p][ocode] for ocode in ocodes] for p in periods], columns=ocodes)"
     ],
     "language": "python",
     "metadata": {},
     "outputs": []
    },
    {
     "cell_type": "code",
     "collapsed": false,
     "input": [
      "ax = df.plot(kind='bar')\n",
      "ax.get_figure().savefig('ovoltotpiedinc', format='png')"
     ],
     "language": "python",
     "metadata": {},
     "outputs": []
    },
    {
     "cell_type": "code",
     "collapsed": false,
     "input": [
      "df2 = pd.DataFrame(validate)\n",
      "df2.plot()"
     ],
     "language": "python",
     "metadata": {},
     "outputs": []
    },
    {
     "cell_type": "code",
     "collapsed": false,
     "input": [
      "mask = tuple('GS0002 FORESTIER 1 SR0084 FC0022 NAT O EXHU ZT0001 NA M2 AU12 NA NA ORPH EV8 NA NA ECO4 NA'.lower().split())\n",
      "dt = wm.dtypes[mask]\n",
      "area = dt.area(0, 16)\n",
      "tv = dt.ycomp('yv_s')[16]\n",
      "tgs = area * tv\n",
      "print area, tv, tgs"
     ],
     "language": "python",
     "metadata": {},
     "outputs": []
    },
    {
     "cell_type": "code",
     "collapsed": false,
     "input": [
      "zip(df['ovoltotpiedinc'], validate)"
     ],
     "language": "python",
     "metadata": {},
     "outputs": []
    },
    {
     "cell_type": "code",
     "collapsed": false,
     "input": [
      "print validate"
     ],
     "language": "python",
     "metadata": {},
     "outputs": []
    },
    {
     "cell_type": "code",
     "collapsed": false,
     "input": [
      "print \"Calculating operable area for clearcut treatment 'act1'\"\n",
      "print \"[period][ageclass][area]\"\n",
      "def foo():\n",
      "    for p in wm.periods[:30]:\n",
      "        print 'scanning period', p\n",
      "        for age in sorted(wm.ages):\n",
      "            oa = wm.operable_area('act1', p, age)\n",
      "            if oa > 0: \n",
      "                print p, age, oa\n",
      "#%timeit foo()\n",
      "foo()"
     ],
     "language": "python",
     "metadata": {},
     "outputs": []
    },
    {
     "cell_type": "code",
     "collapsed": false,
     "input": [
      "wm.operable_area('act1', 10, 22)"
     ],
     "language": "python",
     "metadata": {},
     "outputs": []
    },
    {
     "cell_type": "code",
     "collapsed": false,
     "input": [
      "wm.periods"
     ],
     "language": "python",
     "metadata": {},
     "outputs": []
    },
    {
     "cell_type": "code",
     "collapsed": false,
     "input": [
      "#mask_string = 'GS0002 Forestier Toutes SR0084 ? NAT ? INC ? ? ? ? ? ? ? ? ? ? ? ?'.lower()\n",
      "mask_string = 'gs0002 forestier 1 sr0084 fc0022 nat o inc zt0001 na m1 au1 b1 na orph ev17 na tf1 eco6 na'\n",
      "mask = tuple(mask_string.split(' '))\n",
      "dtks = wm.unmask(mask)\n",
      "len(dtks)"
     ],
     "language": "python",
     "metadata": {},
     "outputs": []
    },
    {
     "cell_type": "code",
     "collapsed": false,
     "input": [
      "period = 10\n",
      "ages = set()\n",
      "for dtk in dtks[:]:\n",
      "    dt = wm.dtypes[dtk]\n",
      "    _ages = map(int, dt._areas[period].keys())\n",
      "    print ' '.join(dtk), dt.area(period), _ages\n",
      "    map(ages.add, _ages)\n",
      "\n",
      "print ages\n"
     ],
     "language": "python",
     "metadata": {},
     "outputs": []
    },
    {
     "cell_type": "code",
     "collapsed": false,
     "input": [
      "#dt = wm.dtypes[dtks[0]]\n",
      "#dt.operability['act1']\n",
      "#getsize.asizeof(dt.operability['act'])\n",
      "\n",
      "acode = 'act1'\n",
      "oper_ages = set()\n",
      "for dtk in dtks:\n",
      "    dt = wm.dtypes[dtk]\n",
      "    for age in dt.operability[acode]:\n",
      "        lo, hi = dt.operability[acode][age]\n",
      "        #print range(lo, hi+1)\n",
      "        oper_ages.update(range(lo, hi+1))\n",
      "#oper_ages.extend([1, 2])\n",
      "oper_ages\n",
      "#s = set()\n",
      "#s.union(range(10))\n"
     ],
     "language": "python",
     "metadata": {},
     "outputs": []
    },
    {
     "cell_type": "code",
     "collapsed": false,
     "input": [
      "ynames = 'yagemat', 'yagebris'\n",
      "#yname = 'yagebris'\n",
      "for yname in ynames:\n",
      "    x, y = zip(*dt.ycomp(yname).points())\n",
      "    plt.plot(x, y)\n",
      "    dt.ycomp(yname).points()"
     ],
     "language": "python",
     "metadata": {},
     "outputs": []
    },
    {
     "cell_type": "code",
     "collapsed": false,
     "input": [
      "dt.compile_actions()"
     ],
     "language": "python",
     "metadata": {},
     "outputs": []
    },
    {
     "cell_type": "code",
     "collapsed": false,
     "input": [
      "len(wm.dtypes.keys())"
     ],
     "language": "python",
     "metadata": {},
     "outputs": []
    },
    {
     "cell_type": "code",
     "collapsed": false,
     "input": [
      "dt.operability['act2']"
     ],
     "language": "python",
     "metadata": {},
     "outputs": []
    },
    {
     "cell_type": "code",
     "collapsed": false,
     "input": [
      "dt._areas[1].keys()"
     ],
     "language": "python",
     "metadata": {},
     "outputs": []
    },
    {
     "cell_type": "code",
     "collapsed": false,
     "input": [
      "import getsize\n",
      "getsize.asizeof(dt.operability['act1'])"
     ],
     "language": "python",
     "metadata": {},
     "outputs": []
    },
    {
     "cell_type": "code",
     "collapsed": false,
     "input": [
      "x = 10.\n",
      "l = [x for i in range(10)]"
     ],
     "language": "python",
     "metadata": {},
     "outputs": []
    },
    {
     "cell_type": "code",
     "collapsed": false,
     "input": [
      "getsize.asizeof(l)"
     ],
     "language": "python",
     "metadata": {},
     "outputs": []
    },
    {
     "cell_type": "code",
     "collapsed": false,
     "input": [
      "getsize.asizeof([1. for i in range(10)])"
     ],
     "language": "python",
     "metadata": {},
     "outputs": []
    },
    {
     "cell_type": "code",
     "collapsed": false,
     "input": [
      "class Foo():\n",
      "    data = 1\n",
      "    \n",
      "foo = Foo()\n",
      "getsize.asizeof([Foo() for i in range(10)])"
     ],
     "language": "python",
     "metadata": {},
     "outputs": []
    },
    {
     "cell_type": "code",
     "collapsed": false,
     "input": [
      "getsize.asizeof(wm)"
     ],
     "language": "python",
     "metadata": {},
     "outputs": []
    },
    {
     "cell_type": "code",
     "collapsed": false,
     "input": [
      "dt"
     ],
     "language": "python",
     "metadata": {},
     "outputs": []
    },
    {
     "cell_type": "code",
     "collapsed": false,
     "input": [
      "operable = wm.operable_dtypes('act1', 10)"
     ],
     "language": "python",
     "metadata": {},
     "outputs": []
    },
    {
     "cell_type": "code",
     "collapsed": false,
     "input": [
      "dtk, ages = operable.items()[0]\n",
      "dt = wm.dtypes[dtk]"
     ],
     "language": "python",
     "metadata": {},
     "outputs": []
    },
    {
     "cell_type": "code",
     "collapsed": false,
     "input": [
      "operable_area = dt.operable_area('act1', 10, ages[0])\n",
      "operable_area"
     ],
     "language": "python",
     "metadata": {},
     "outputs": []
    },
    {
     "cell_type": "code",
     "collapsed": false,
     "input": [
      "wm.apply_action(dtk, 'act1', 10, ages[0], operable_area)"
     ],
     "language": "python",
     "metadata": {},
     "outputs": []
    },
    {
     "cell_type": "code",
     "collapsed": false,
     "input": [
      "dt.area(10, ages[0], 10.) # add some area, for testing"
     ],
     "language": "python",
     "metadata": {},
     "outputs": []
    },
    {
     "cell_type": "code",
     "collapsed": false,
     "input": [
      "wm.applied_actions"
     ],
     "language": "python",
     "metadata": {},
     "outputs": []
    },
    {
     "cell_type": "code",
     "collapsed": false,
     "input": [
      "bool(wm.applied_actions[10]['act1'][dtk][ages[0]])"
     ],
     "language": "python",
     "metadata": {},
     "outputs": []
    },
    {
     "cell_type": "code",
     "collapsed": false,
     "input": [
      "wm.reset_actions()"
     ],
     "language": "python",
     "metadata": {},
     "outputs": []
    },
    {
     "cell_type": "code",
     "collapsed": false,
     "input": [
      "wm.operated_area('act1', 10)"
     ],
     "language": "python",
     "metadata": {},
     "outputs": []
    },
    {
     "cell_type": "code",
     "collapsed": false,
     "input": [
      "def cutcutcut(wm, acode, target_area, period=None, commit=True):\n",
      "    if period is None:\n",
      "        for period in wm.periods:\n",
      "            # MUST commit at each iteration, else nonsense\n",
      "            cutcutcut(wm, acode, target_area, period, commit=True)\n",
      "    else:\n",
      "        odt = wm.operable_dtypes(acode, period)\n",
      "        operated_area = 0.\n",
      "        while operated_area < target_area and odt:\n",
      "            dtk, ages = odt.popitem()\n",
      "            ages.sort()\n",
      "            while operated_area < target_area and ages:\n",
      "                age = ages.pop()\n",
      "                operable_area = wm.dtypes[dtk].operable_area(acode, period, age)\n",
      "                if not operable_area: continue\n",
      "                area = min(operable_area, target_area - operated_area)\n",
      "                wm.apply_action(dtk, acode, period, age, area)\n",
      "                operated_area += area\n",
      "        #if commit: \n",
      "        wm.commit_actions(period, repair_future_actions=True)\n",
      "        #wm.grow(period)\n",
      "        #wm.repair_actions(period+)"
     ],
     "language": "python",
     "metadata": {},
     "outputs": []
    },
    {
     "cell_type": "code",
     "collapsed": false,
     "input": [
      "wm.reset_actions()\n",
      "wm.initialize_areas()\n",
      "wm.grow()"
     ],
     "language": "python",
     "metadata": {},
     "outputs": []
    },
    {
     "cell_type": "code",
     "collapsed": false,
     "input": [
      "period = 10\n",
      "acode = 'act1'\n",
      "target_area = 10000.\n",
      "wm.areaselector.operate(period, acode, target_area)\n",
      "\n",
      "#cutcutcut(wm, acode, area, period)"
     ],
     "language": "python",
     "metadata": {},
     "outputs": []
    },
    {
     "cell_type": "code",
     "collapsed": false,
     "input": [
      "period = 27\n",
      "acode = 'act1'\n",
      "area = 3000.\n",
      "wm.areaselector.operate(period, acode, target_area)"
     ],
     "language": "python",
     "metadata": {},
     "outputs": []
    },
    {
     "cell_type": "code",
     "collapsed": false,
     "input": [
      "for p in range(1, 31): \n",
      "    print p, wm.operated_area(acode, p), wm.operable_area(acode, p)"
     ],
     "language": "python",
     "metadata": {},
     "outputs": []
    },
    {
     "cell_type": "code",
     "collapsed": false,
     "input": [],
     "language": "python",
     "metadata": {},
     "outputs": []
    },
    {
     "cell_type": "code",
     "collapsed": false,
     "input": [
      "import copy\n",
      "wm.applied_actions\n",
      "aa = copy.copy(wm.applied_actions)\n",
      "wm.reset_actions()\n",
      "aa[1]\n",
      "wm.applied_actions[1]"
     ],
     "language": "python",
     "metadata": {},
     "outputs": []
    },
    {
     "cell_type": "code",
     "collapsed": false,
     "input": [
      "wm.commit_actions()"
     ],
     "language": "python",
     "metadata": {},
     "outputs": []
    },
    {
     "cell_type": "code",
     "collapsed": false,
     "input": [
      "cutcutcut(wm, 'act1', 100., 1)\n",
      "wm.operated_area('act1', 1)"
     ],
     "language": "python",
     "metadata": {},
     "outputs": []
    },
    {
     "cell_type": "code",
     "collapsed": false,
     "input": [
      "for p in range(1, 2): print wm.operable_area('act1', 1)"
     ],
     "language": "python",
     "metadata": {},
     "outputs": []
    },
    {
     "cell_type": "code",
     "collapsed": false,
     "input": [
      "mask = tuple('GS0002 Forestier Toutes SR0084 ? NAT ? INC ? ? ? ? ? ? ? ? ? ? ? ?'.lower().split(' '))\n",
      "dtks = wm.unmask(mask)\n",
      "dt = wm.dtypes[dtks[0]]\n",
      "yv_s = copy.deepcopy(dt.ycomp('yv_s'))\n",
      "yv_s.is_locked = False"
     ],
     "language": "python",
     "metadata": {},
     "outputs": []
    },
    {
     "cell_type": "code",
     "collapsed": false,
     "input": [
      "plt.close('all')\n",
      "fig, ax = plt.subplots()\n",
      "\n",
      "x, y = zip(*yv_s.points())\n",
      "ax.plot(x, y)\n",
      "print 'sum of y-values and point count',  sum(yv_s), len(yv_s.points())\n",
      "\n",
      "yv_s.simplify()\n",
      "\n",
      "x, y = zip(*yv_s.points())\n",
      "ax.plot(x, y)\n",
      "print 'sum of y-values and point count', sum(yv_s), len(yv_s.points())"
     ],
     "language": "python",
     "metadata": {},
     "outputs": []
    },
    {
     "cell_type": "code",
     "collapsed": false,
     "input": [
      "plt.close('all')\n",
      "fig, ax = plt.subplots()\n",
      "print 'no compression: %i points', len(yv_s.points())\n",
      "e = 0.\n",
      "for epsilon in np.arange(0.1, 10.0, 0.1):\n",
      "    if e > max_e:\n",
      "        print 'error threshold exceeded', e\n",
      "        break\n",
      "    yv_s.epsilon = epsilon\n",
      "    yv_s.simplify()\n",
      "    x, y = zip(*yv_s.points())\n",
      "    ax.plot(x, y)\n",
      "    e = abs(sum(yv_s) - ref_val) / ref_val\n",
      "    print 'compressed at epsilon ', epsilon, e, len(yv_s.points()), sum(yv_s), ref_val\n"
     ],
     "language": "python",
     "metadata": {},
     "outputs": []
    },
    {
     "cell_type": "code",
     "collapsed": false,
     "input": [
      "plt.close('all')\n",
      "fig, ax = plt.subplots()\n",
      "#axes.plot(zip(*yv_s.points))\n",
      "x, y = zip(*yv_s.points)\n",
      "#df = pd.DataFrame(yv_s.points)\n",
      "#df.plot()\n",
      "ax.plot(x, y)\n"
     ],
     "language": "python",
     "metadata": {},
     "outputs": []
    },
    {
     "cell_type": "code",
     "collapsed": false,
     "input": [],
     "language": "python",
     "metadata": {},
     "outputs": []
    },
    {
     "cell_type": "code",
     "collapsed": false,
     "input": [
      "df = pd.DataFrame(yv_s.points)"
     ],
     "language": "python",
     "metadata": {},
     "outputs": []
    },
    {
     "cell_type": "code",
     "collapsed": false,
     "input": [
      "df.plot()"
     ],
     "language": "python",
     "metadata": {},
     "outputs": []
    },
    {
     "cell_type": "code",
     "collapsed": false,
     "input": [
      "yv_s.is_locked = False\n",
      "yv_s.points"
     ],
     "language": "python",
     "metadata": {},
     "outputs": []
    },
    {
     "cell_type": "code",
     "collapsed": false,
     "input": [
      "names = 'uncompressed_points', 'compressed_points', 'compression_ratio', 'rel_error', 'ysum'\n",
      "df = pd.read_csv('../../dat/bar.dat', \n",
      "                 header=None, \n",
      "                 delim_whitespace=True,\n",
      "                 usecols=[3, 4, 5, 6, 7],\n",
      "                 names = names)\n",
      "# filter 2-point curves (cannot be compressed)\n",
      "#df = df[df.uncompressed_points > 2]\n",
      "\n",
      "fig, axes = plt.subplots(1, 4, figsize=(20, 8))\n",
      "for ax, name in zip(axes, names): \n",
      "    ax.set_title(name)\n",
      "    df[name].hist(ax=ax)\n",
      "up = df.uncompressed_points\n",
      "cp = df.compressed_points\n",
      "print (float(up.sum()) - float(cp.sum())) / float(up.sum())\n",
      "cp.sum()"
     ],
     "language": "python",
     "metadata": {},
     "outputs": []
    },
    {
     "cell_type": "code",
     "collapsed": false,
     "input": [
      "names = 'uncompressed_points', 'compressed_points', 'compression_ratio', 'rel_error', 'ysum'\n",
      "df = pd.read_csv('../../dat/foo.dat', \n",
      "                 header=None, \n",
      "                 delim_whitespace=True,\n",
      "                 usecols=[3, 4, 5, 6, 7],\n",
      "                 names = names)\n",
      "# filter 2-point curves (cannot be compressed)\n",
      "#df = df[df.uncompressed_points > 2]\n",
      "\n",
      "fig, axes = plt.subplots(1, 4, figsize=(20, 8))\n",
      "for ax, name in zip(axes, names): \n",
      "    ax.set_title(name)\n",
      "    df[name].hist(ax=ax)\n",
      "up = df.uncompressed_points\n",
      "cp = df.compressed_points\n",
      "print (float(up.sum()) - float(cp.sum())) / float(up.sum())\n",
      "cp.sum()"
     ],
     "language": "python",
     "metadata": {},
     "outputs": []
    },
    {
     "cell_type": "code",
     "collapsed": false,
     "input": [
      "names = 'uncompressed_points', 'compressed_points', 'compression_ratio', 'rel_error', 'ysum'\n",
      "df = pd.read_csv('../../dat/qux.dat', \n",
      "                 header=None, \n",
      "                 delim_whitespace=True,\n",
      "                 usecols=[3, 4, 5, 6, 7],\n",
      "                 names = names)\n",
      "# filter 2-point curves (cannot be compressed)\n",
      "#df = df[df.uncompressed_points > 2]\n",
      "\n",
      "fig, axes = plt.subplots(1, 4, figsize=(20, 8))\n",
      "for ax, name in zip(axes, names): \n",
      "    ax.set_title(name)\n",
      "    df[name].hist(ax=ax)\n",
      "up = df.uncompressed_points\n",
      "cp = df.compressed_points\n",
      "print (float(up.sum()) - float(cp.sum())) / float(up.sum())\n",
      "cp.sum()"
     ],
     "language": "python",
     "metadata": {},
     "outputs": []
    },
    {
     "cell_type": "code",
     "collapsed": false,
     "input": [],
     "language": "python",
     "metadata": {},
     "outputs": []
    }
   ],
   "metadata": {}
  }
 ]
}