{
 "metadata": {
  "name": "",
  "signature": "sha256:d7338eaf45e64bcb1228b4ab2e3894b4690c255babffdc56e98f0eb599f8cbb7"
 },
 "nbformat": 3,
 "nbformat_minor": 0,
 "worksheets": [
  {
   "cells": [
    {
     "cell_type": "raw",
     "metadata": {},
     "source": [
      "from numpy import array, logical_and\n",
      "y1 = array([0., 1., 2., 3., 4., 5.])\n",
      "y2 = logical_and(2<=y1, y1<=4).astype(float)\n",
      "y3 = y1 / y1\n",
      "y3"
     ]
    },
    {
     "cell_type": "code",
     "collapsed": false,
     "input": [
      "def chunks(l, n):\n",
      "    for i in xrange(0, len(l), n):\n",
      "        yield l[i:i+n]"
     ],
     "language": "python",
     "metadata": {},
     "outputs": [],
     "prompt_number": 5
    },
    {
     "cell_type": "code",
     "collapsed": false,
     "input": [
      "for chunk in chunks(y1, 3): print chunk"
     ],
     "language": "python",
     "metadata": {},
     "outputs": [
      {
       "output_type": "stream",
       "stream": "stdout",
       "text": [
        "[ 0.  1.  2.]\n",
        "[ 3.  4.  5.]\n"
       ]
      }
     ],
     "prompt_number": 10
    },
    {
     "cell_type": "code",
     "collapsed": false,
     "input": [
      "l = ['foo', 1., 2., 'bar', 3., 4.]\n",
      "triplets = [l[x:x+3] for x in xrange(0, len(l), 3)]"
     ],
     "language": "python",
     "metadata": {},
     "outputs": [],
     "prompt_number": 4
    },
    {
     "cell_type": "code",
     "collapsed": false,
     "input": [
      "def r(name, lo, hi): return (name, lo+hi)"
     ],
     "language": "python",
     "metadata": {},
     "outputs": [],
     "prompt_number": 8
    },
    {
     "cell_type": "code",
     "collapsed": false,
     "input": [
      "len([2])"
     ],
     "language": "python",
     "metadata": {},
     "outputs": [
      {
       "metadata": {},
       "output_type": "pyout",
       "prompt_number": 11,
       "text": [
        "1"
       ]
      }
     ],
     "prompt_number": 11
    },
    {
     "cell_type": "code",
     "collapsed": false,
     "input": [
      "(y1[1:]-y1[:-1])/5"
     ],
     "language": "python",
     "metadata": {},
     "outputs": [
      {
       "metadata": {},
       "output_type": "pyout",
       "prompt_number": 5,
       "text": [
        "array([ 0.2,  0.2,  0.2,  0.2,  0.2])"
       ]
      }
     ],
     "prompt_number": 5
    },
    {
     "cell_type": "code",
     "collapsed": false,
     "input": [
      "True * False"
     ],
     "language": "python",
     "metadata": {},
     "outputs": [
      {
       "metadata": {},
       "output_type": "pyout",
       "prompt_number": 6,
       "text": [
        "0"
       ]
      }
     ],
     "prompt_number": 6
    },
    {
     "cell_type": "code",
     "collapsed": false,
     "input": [
      "True * True"
     ],
     "language": "python",
     "metadata": {},
     "outputs": [
      {
       "metadata": {},
       "output_type": "pyout",
       "prompt_number": 7,
       "text": [
        "1"
       ]
      }
     ],
     "prompt_number": 7
    },
    {
     "cell_type": "code",
     "collapsed": false,
     "input": [
      "list = [1, 2]\n",
      "x, y = list\n"
     ],
     "language": "python",
     "metadata": {},
     "outputs": [],
     "prompt_number": 9
    },
    {
     "cell_type": "code",
     "collapsed": false,
     "input": [
      "import re\n",
      "def expand(code, aggs, result):\n",
      "    if aggs[code][0] == code:\n",
      "        result.append(code)\n",
      "        return \n",
      "    for code in aggs[code]: expand(code, aggs, result)\n",
      "    return result\n",
      "keys = ['a 1 xx', 'a 2 xx', 'b 1 yy', 'b 1 yy', 'c 1 xx']\n",
      "aggs = {'ab':['a', 'b'], 'a':['a'], 'b':['d', 'e'], 'c':['c'], 1:[1], 2:[2], 'xx':['xx'], 'yy':['yy']}\n",
      "mask = 'ab ? ?'\n",
      "for code in re.split('\\s', mask):\n",
      "    if code == '?': \n",
      "        print 'wildcard'\n",
      "        continue\n",
      "    result = expand(code, aggs, [])\n",
      "    print code, result\n",
      "pattern = ''"
     ],
     "language": "python",
     "metadata": {},
     "outputs": [
      {
       "ename": "KeyError",
       "evalue": "'d'",
       "output_type": "pyerr",
       "traceback": [
        "\u001b[0;31m---------------------------------------------------------------------------\u001b[0m\n\u001b[0;31mKeyError\u001b[0m                                  Traceback (most recent call last)",
        "\u001b[0;32m<ipython-input-23-17c3a65c3340>\u001b[0m in \u001b[0;36m<module>\u001b[0;34m()\u001b[0m\n\u001b[1;32m     13\u001b[0m         \u001b[0;32mprint\u001b[0m \u001b[0;34m'wildcard'\u001b[0m\u001b[0;34m\u001b[0m\u001b[0m\n\u001b[1;32m     14\u001b[0m         \u001b[0;32mcontinue\u001b[0m\u001b[0;34m\u001b[0m\u001b[0m\n\u001b[0;32m---> 15\u001b[0;31m     \u001b[0mresult\u001b[0m \u001b[0;34m=\u001b[0m \u001b[0mexpand\u001b[0m\u001b[0;34m(\u001b[0m\u001b[0mcode\u001b[0m\u001b[0;34m,\u001b[0m \u001b[0maggs\u001b[0m\u001b[0;34m,\u001b[0m \u001b[0;34m[\u001b[0m\u001b[0;34m]\u001b[0m\u001b[0;34m)\u001b[0m\u001b[0;34m\u001b[0m\u001b[0m\n\u001b[0m\u001b[1;32m     16\u001b[0m     \u001b[0;32mprint\u001b[0m \u001b[0mcode\u001b[0m\u001b[0;34m,\u001b[0m \u001b[0mresult\u001b[0m\u001b[0;34m\u001b[0m\u001b[0m\n\u001b[1;32m     17\u001b[0m \u001b[0mpattern\u001b[0m \u001b[0;34m=\u001b[0m \u001b[0;34m''\u001b[0m\u001b[0;34m\u001b[0m\u001b[0m\n",
        "\u001b[0;32m<ipython-input-23-17c3a65c3340>\u001b[0m in \u001b[0;36mexpand\u001b[0;34m(code, aggs, result)\u001b[0m\n\u001b[1;32m      4\u001b[0m         \u001b[0mresult\u001b[0m\u001b[0;34m.\u001b[0m\u001b[0mappend\u001b[0m\u001b[0;34m(\u001b[0m\u001b[0mcode\u001b[0m\u001b[0;34m)\u001b[0m\u001b[0;34m\u001b[0m\u001b[0m\n\u001b[1;32m      5\u001b[0m         \u001b[0;32mreturn\u001b[0m\u001b[0;34m\u001b[0m\u001b[0m\n\u001b[0;32m----> 6\u001b[0;31m     \u001b[0;32mfor\u001b[0m \u001b[0mcode\u001b[0m \u001b[0;32min\u001b[0m \u001b[0maggs\u001b[0m\u001b[0;34m[\u001b[0m\u001b[0mcode\u001b[0m\u001b[0;34m]\u001b[0m\u001b[0;34m:\u001b[0m \u001b[0mexpand\u001b[0m\u001b[0;34m(\u001b[0m\u001b[0mcode\u001b[0m\u001b[0;34m,\u001b[0m \u001b[0maggs\u001b[0m\u001b[0;34m,\u001b[0m \u001b[0mresult\u001b[0m\u001b[0;34m)\u001b[0m\u001b[0;34m\u001b[0m\u001b[0m\n\u001b[0m\u001b[1;32m      7\u001b[0m     \u001b[0;32mreturn\u001b[0m \u001b[0mresult\u001b[0m\u001b[0;34m\u001b[0m\u001b[0m\n\u001b[1;32m      8\u001b[0m \u001b[0mkeys\u001b[0m \u001b[0;34m=\u001b[0m \u001b[0;34m[\u001b[0m\u001b[0;34m'a 1 xx'\u001b[0m\u001b[0;34m,\u001b[0m \u001b[0;34m'a 2 xx'\u001b[0m\u001b[0;34m,\u001b[0m \u001b[0;34m'b 1 yy'\u001b[0m\u001b[0;34m,\u001b[0m \u001b[0;34m'b 1 yy'\u001b[0m\u001b[0;34m,\u001b[0m \u001b[0;34m'c 1 xx'\u001b[0m\u001b[0;34m]\u001b[0m\u001b[0;34m\u001b[0m\u001b[0m\n",
        "\u001b[0;32m<ipython-input-23-17c3a65c3340>\u001b[0m in \u001b[0;36mexpand\u001b[0;34m(code, aggs, result)\u001b[0m\n\u001b[1;32m      4\u001b[0m         \u001b[0mresult\u001b[0m\u001b[0;34m.\u001b[0m\u001b[0mappend\u001b[0m\u001b[0;34m(\u001b[0m\u001b[0mcode\u001b[0m\u001b[0;34m)\u001b[0m\u001b[0;34m\u001b[0m\u001b[0m\n\u001b[1;32m      5\u001b[0m         \u001b[0;32mreturn\u001b[0m\u001b[0;34m\u001b[0m\u001b[0m\n\u001b[0;32m----> 6\u001b[0;31m     \u001b[0;32mfor\u001b[0m \u001b[0mcode\u001b[0m \u001b[0;32min\u001b[0m \u001b[0maggs\u001b[0m\u001b[0;34m[\u001b[0m\u001b[0mcode\u001b[0m\u001b[0;34m]\u001b[0m\u001b[0;34m:\u001b[0m \u001b[0mexpand\u001b[0m\u001b[0;34m(\u001b[0m\u001b[0mcode\u001b[0m\u001b[0;34m,\u001b[0m \u001b[0maggs\u001b[0m\u001b[0;34m,\u001b[0m \u001b[0mresult\u001b[0m\u001b[0;34m)\u001b[0m\u001b[0;34m\u001b[0m\u001b[0m\n\u001b[0m\u001b[1;32m      7\u001b[0m     \u001b[0;32mreturn\u001b[0m \u001b[0mresult\u001b[0m\u001b[0;34m\u001b[0m\u001b[0m\n\u001b[1;32m      8\u001b[0m \u001b[0mkeys\u001b[0m \u001b[0;34m=\u001b[0m \u001b[0;34m[\u001b[0m\u001b[0;34m'a 1 xx'\u001b[0m\u001b[0;34m,\u001b[0m \u001b[0;34m'a 2 xx'\u001b[0m\u001b[0;34m,\u001b[0m \u001b[0;34m'b 1 yy'\u001b[0m\u001b[0;34m,\u001b[0m \u001b[0;34m'b 1 yy'\u001b[0m\u001b[0;34m,\u001b[0m \u001b[0;34m'c 1 xx'\u001b[0m\u001b[0;34m]\u001b[0m\u001b[0;34m\u001b[0m\u001b[0m\n",
        "\u001b[0;32m<ipython-input-23-17c3a65c3340>\u001b[0m in \u001b[0;36mexpand\u001b[0;34m(code, aggs, result)\u001b[0m\n\u001b[1;32m      1\u001b[0m \u001b[0;32mimport\u001b[0m \u001b[0mre\u001b[0m\u001b[0;34m\u001b[0m\u001b[0m\n\u001b[1;32m      2\u001b[0m \u001b[0;32mdef\u001b[0m \u001b[0mexpand\u001b[0m\u001b[0;34m(\u001b[0m\u001b[0mcode\u001b[0m\u001b[0;34m,\u001b[0m \u001b[0maggs\u001b[0m\u001b[0;34m,\u001b[0m \u001b[0mresult\u001b[0m\u001b[0;34m)\u001b[0m\u001b[0;34m:\u001b[0m\u001b[0;34m\u001b[0m\u001b[0m\n\u001b[0;32m----> 3\u001b[0;31m     \u001b[0;32mif\u001b[0m \u001b[0maggs\u001b[0m\u001b[0;34m[\u001b[0m\u001b[0mcode\u001b[0m\u001b[0;34m]\u001b[0m\u001b[0;34m[\u001b[0m\u001b[0;36m0\u001b[0m\u001b[0;34m]\u001b[0m \u001b[0;34m==\u001b[0m \u001b[0mcode\u001b[0m\u001b[0;34m:\u001b[0m\u001b[0;34m\u001b[0m\u001b[0m\n\u001b[0m\u001b[1;32m      4\u001b[0m         \u001b[0mresult\u001b[0m\u001b[0;34m.\u001b[0m\u001b[0mappend\u001b[0m\u001b[0;34m(\u001b[0m\u001b[0mcode\u001b[0m\u001b[0;34m)\u001b[0m\u001b[0;34m\u001b[0m\u001b[0m\n\u001b[1;32m      5\u001b[0m         \u001b[0;32mreturn\u001b[0m\u001b[0;34m\u001b[0m\u001b[0m\n",
        "\u001b[0;31mKeyError\u001b[0m: 'd'"
       ]
      }
     ],
     "prompt_number": 23
    },
    {
     "cell_type": "code",
     "collapsed": false,
     "input": [
      "import re\n",
      "oper_expr = 'ycomp1 >= 11.1 AND ycomp2 <= 22 OR ycomp3 = 33.33 | ycomp4 >= 44 & ycomp5 >= 66.666'\n",
      "cond_comps = re.split(r'\\s+&\\s+|\\s+\\|\\s+|\\s+AND\\s+|\\s+OR\\s+', oper_expr)\n",
      "lopers = re.findall(r'&|\\||AND|OR', oper_expr)\n",
      "ycomps, ropers, values = zip(*[re.split('\\s+', cc) for cc in cond_comps])\n",
      "ycomps, operators, values, lopers"
     ],
     "language": "python",
     "metadata": {},
     "outputs": [
      {
       "metadata": {},
       "output_type": "pyout",
       "prompt_number": 27,
       "text": [
        "(('ycomp1', 'ycomp2', 'ycomp3', 'ycomp4', 'ycomp5'),\n",
        " ('>=', '<=', '=', '>=', '>='),\n",
        " ('11.1', '22', '33.33', '44', '66.666'),\n",
        " ['AND', 'OR', '|', '&'])"
       ]
      }
     ],
     "prompt_number": 27
    },
    {
     "cell_type": "code",
     "collapsed": false,
     "input": [
      "set('a').pop()"
     ],
     "language": "python",
     "metadata": {},
     "outputs": [
      {
       "metadata": {},
       "output_type": "pyout",
       "prompt_number": 32,
       "text": [
        "'a'"
       ]
      }
     ],
     "prompt_number": 32
    },
    {
     "cell_type": "code",
     "collapsed": false,
     "input": [
      "l = ['Aa', 'BbB', 'cC']\n",
      "ll = map(lambda yname: yname.lower(), l)\n",
      "ll"
     ],
     "language": "python",
     "metadata": {},
     "outputs": [
      {
       "metadata": {},
       "output_type": "pyout",
       "prompt_number": 37,
       "text": [
        "['aa', 'bbb', 'cc']"
       ]
      }
     ],
     "prompt_number": 37
    },
    {
     "cell_type": "code",
     "collapsed": false,
     "input": [
      "def foo(arg1, arg2):\n",
      "    #print arg1, arg2\n",
      "    return arg1 + arg2\n",
      "\n",
      "for i in range(10): print foo(2.+i, 3)"
     ],
     "language": "python",
     "metadata": {},
     "outputs": [
      {
       "output_type": "stream",
       "stream": "stdout",
       "text": [
        "5.0\n",
        "6.0\n",
        "7.0\n",
        "8.0\n",
        "9.0\n",
        "10.0\n",
        "11.0\n",
        "12.0\n",
        "13.0\n",
        "14.0\n"
       ]
      }
     ],
     "prompt_number": 40
    },
    {
     "cell_type": "code",
     "collapsed": false,
     "input": [
      "import operator\n",
      "a = [0, 1]\n",
      "b = [1, 1]\n",
      "for i in range(2):\n",
      "    print operator.and_(a[i], b[i])"
     ],
     "language": "python",
     "metadata": {},
     "outputs": [
      {
       "output_type": "stream",
       "stream": "stdout",
       "text": [
        "0\n",
        "1\n"
       ]
      }
     ],
     "prompt_number": 54
    },
    {
     "cell_type": "code",
     "collapsed": false,
     "input": [
      "x = [1, 2, 3]\n",
      "y = x.insert(0, 0)"
     ],
     "language": "python",
     "metadata": {},
     "outputs": [],
     "prompt_number": 55
    },
    {
     "cell_type": "code",
     "collapsed": false,
     "input": [
      "x = [0, 0, 0, 1, 1, 1, 1, 0, 0]\n",
      "s = ''.join(str(x) for x in x)\n",
      "print s.index('1'), s.rindex('1')\n"
     ],
     "language": "python",
     "metadata": {},
     "outputs": [
      {
       "output_type": "stream",
       "stream": "stdout",
       "text": [
        "3 6\n"
       ]
      }
     ],
     "prompt_number": 60
    },
    {
     "cell_type": "code",
     "collapsed": false,
     "input": [
      "lo = -10\n",
      "hi = None\n",
      "for item in [(y, 0) if ((lo is not None and float(y) < lo) or (hi is not None and float(y) > hi)) else (y, 1) for y in range(-20, 20)]:\n",
      "    print item"
     ],
     "language": "python",
     "metadata": {},
     "outputs": [
      {
       "output_type": "stream",
       "stream": "stdout",
       "text": [
        "(-20, 0)\n",
        "(-19, 0)\n",
        "(-18, 0)\n",
        "(-17, 0)\n",
        "(-16, 0)\n",
        "(-15, 0)\n",
        "(-14, 0)\n",
        "(-13, 0)\n",
        "(-12, 0)\n",
        "(-11, 0)\n",
        "(-10, 1)\n",
        "(-9, 1)\n",
        "(-8, 1)\n",
        "(-7, 1)\n",
        "(-6, 1)\n",
        "(-5, 1)\n",
        "(-4, 1)\n",
        "(-3, 1)\n",
        "(-2, 1)\n",
        "(-1, 1)\n",
        "(0, 1)\n",
        "(1, 1)\n",
        "(2, 1)\n",
        "(3, 1)\n",
        "(4, 1)\n",
        "(5, 1)\n",
        "(6, 1)\n",
        "(7, 1)\n",
        "(8, 1)\n",
        "(9, 1)\n",
        "(10, 1)\n",
        "(11, 1)\n",
        "(12, 1)\n",
        "(13, 1)\n",
        "(14, 1)\n",
        "(15, 1)\n",
        "(16, 1)\n",
        "(17, 1)\n",
        "(18, 1)\n",
        "(19, 1)\n"
       ]
      }
     ],
     "prompt_number": 81
    },
    {
     "cell_type": "code",
     "collapsed": false,
     "input": [
      "-100 > None"
     ],
     "language": "python",
     "metadata": {},
     "outputs": [
      {
       "metadata": {},
       "output_type": "pyout",
       "prompt_number": 75,
       "text": [
        "True"
       ]
      }
     ],
     "prompt_number": 75
    },
    {
     "cell_type": "code",
     "collapsed": false,
     "input": [
      "import re\n",
      "n = 8\n",
      "#l = '*SOURCE ? ? Foo ? Bar ? ? ? @YLD(yVolume, 11.111, 22.222)'\n",
      "l = '*SOURCE ? ? Foo ? Bar ? ? ? @YLD(yVolume, 11.111, 22.222) {a comment block}'\n",
      "l = re.sub('', '' l)\n",
      "tokens = re.split('\\s+', l)s\n",
      "mask = tuple(t.lower() for t in tokens[1:n+1])\n",
      "cond = l.split('@')[1] if l.find('@') >= 0 else ''\n",
      "cond\n"
     ],
     "language": "python",
     "metadata": {},
     "outputs": [
      {
       "metadata": {},
       "output_type": "pyout",
       "prompt_number": 90,
       "text": [
        "'YLD(yVolume, 11.111, 22.222)'"
       ]
      }
     ],
     "prompt_number": 90
    },
    {
     "cell_type": "code",
     "collapsed": false,
     "input": [
      "d = {}\n",
      "d[1] = 'a', 22, 1.1\n",
      "d[1]"
     ],
     "language": "python",
     "metadata": {},
     "outputs": [
      {
       "metadata": {},
       "output_type": "pyout",
       "prompt_number": 91,
       "text": [
        "('a', 22, 1.1)"
       ]
      }
     ],
     "prompt_number": 91
    },
    {
     "cell_type": "code",
     "collapsed": false,
     "input": [
      "import re\n",
      "n = 8\n",
      "#l = '*SOURCE ? ? Foo ? Bar ? ? ? @YLD(yVolume, 11.111, 22.222)'\n",
      "l = '*SOURCE ? 2 Foo ? Bar ? ? ? _AGE 33 _REPLACE(_TH2, _TH2 + 1)'\n",
      "tokens = re.split('\\s+', l)\n",
      "mask = tuple(t.lower() for t in tokens[1:n+1])\n",
      "try:\n",
      "    tage = tokens[tokens.index('_AGE')+1]\n",
      "except:\n",
      "    tage = None\n",
      "    \n",
      "tage"
     ],
     "language": "python",
     "metadata": {},
     "outputs": [],
     "prompt_number": 12
    },
    {
     "cell_type": "code",
     "collapsed": false,
     "input": [
      "class Foo:\n",
      "    _default_val = 111\n",
      "    class_var = _default_val\n",
      "    def __init__(self, val=_default_val):\n",
      "        if val != self._default_val:\n",
      "            self.class_var = val\n",
      "        \n",
      "foo1 = Foo()\n",
      "foo2 = Foo(222)\n",
      "\n",
      "print foo1.class_var, foo2.class_var "
     ],
     "language": "python",
     "metadata": {},
     "outputs": [
      {
       "output_type": "stream",
       "stream": "stdout",
       "text": [
        "111 222\n"
       ]
      }
     ],
     "prompt_number": 17
    },
    {
     "cell_type": "code",
     "collapsed": false,
     "input": [
      "def switch(x, ub_list):\n",
      "    return { \n",
      "            0<=x<ub1: 'several',\n",
      "            ub1<=x<ub2: 'lots'\n",
      "           }[True]\n",
      "print switch(5, 5, 99)\n"
     ],
     "language": "python",
     "metadata": {},
     "outputs": [
      {
       "output_type": "stream",
       "stream": "stdout",
       "text": [
        "lots\n"
       ]
      }
     ],
     "prompt_number": 13
    },
    {
     "cell_type": "code",
     "collapsed": false,
     "input": [
      "d = {}\n",
      "r1 = (3., 7.)\n",
      "r2 = (13., 42.)\n",
      "d[]"
     ],
     "language": "python",
     "metadata": {},
     "outputs": [
      {
       "ename": "SyntaxError",
       "evalue": "invalid syntax (<ipython-input-14-6a96785dcbd2>, line 4)",
       "output_type": "pyerr",
       "traceback": [
        "\u001b[0;36m  File \u001b[0;32m\"<ipython-input-14-6a96785dcbd2>\"\u001b[0;36m, line \u001b[0;32m4\u001b[0m\n\u001b[0;31m    d[]\u001b[0m\n\u001b[0m      ^\u001b[0m\n\u001b[0;31mSyntaxError\u001b[0m\u001b[0;31m:\u001b[0m invalid syntax\n"
       ]
      }
     ],
     "prompt_number": 14
    },
    {
     "cell_type": "code",
     "collapsed": false,
     "input": [
      "s = 'AGE(11..222)'\n",
      "min_age, max_age = [int(a) for a in s[4:-1].split('..')]"
     ],
     "language": "python",
     "metadata": {},
     "outputs": [],
     "prompt_number": 21
    },
    {
     "cell_type": "code",
     "collapsed": false,
     "input": [
      "min_age, max_age"
     ],
     "language": "python",
     "metadata": {},
     "outputs": [
      {
       "metadata": {},
       "output_type": "pyout",
       "prompt_number": 22,
       "text": [
        "(11, 222)"
       ]
      }
     ],
     "prompt_number": 22
    },
    {
     "cell_type": "code",
     "collapsed": false,
     "input": [
      "s = '11110000001111111111'\n",
      "[i for i, j in enumerate(s) if int(j)]"
     ],
     "language": "python",
     "metadata": {},
     "outputs": [
      {
       "metadata": {},
       "output_type": "pyout",
       "prompt_number": 30,
       "text": [
        "[0, 1, 2, 3, 10, 11, 12, 13, 14, 15, 16, 17, 18, 19]"
       ]
      }
     ],
     "prompt_number": 30
    },
    {
     "cell_type": "code",
     "collapsed": false,
     "input": [
      "ages"
     ],
     "language": "python",
     "metadata": {},
     "outputs": [
      {
       "metadata": {},
       "output_type": "pyout",
       "prompt_number": 24,
       "text": [
        "[0, 1, 2, 3, 4, 5, 6, 7, 8, 9, 10, 11, 12, 13, 14, 15, 16, 17, 18, 19]"
       ]
      }
     ],
     "prompt_number": 24
    },
    {
     "cell_type": "code",
     "collapsed": false,
     "input": [
      "x = -1\n",
      "y = -1 if x is None else 0\n",
      "y"
     ],
     "language": "python",
     "metadata": {},
     "outputs": [
      {
       "metadata": {},
       "output_type": "pyout",
       "prompt_number": 34,
       "text": [
        "0"
       ]
      }
     ],
     "prompt_number": 34
    },
    {
     "cell_type": "code",
     "collapsed": false,
     "input": [
      "import re\n",
      "key = ('a', 'b', 'c', 5, 'd')\n",
      "s = '_TH4 + 1'\n",
      "def foo(s):\n",
      "    i = int(re.search('(?<=_TH)\\w+', s).group(0))\n",
      "    #s = re.sub('_TH%i'%i, str(key[i-1]), s)\n",
      "    #x = eval(s)\n",
      "    return eval(re.sub('_TH%i'%i, str(key[i-1]), s))\n",
      "\n",
      "'foo', foo(s)"
     ],
     "language": "python",
     "metadata": {},
     "outputs": [
      {
       "metadata": {},
       "output_type": "pyout",
       "prompt_number": 74,
       "text": [
        "('foo', 6)"
       ]
      }
     ],
     "prompt_number": 74
    },
    {
     "cell_type": "code",
     "collapsed": false,
     "input": [
      "s1 = '*SOURCE a b / ccc 1.1..45 - ycomp @YLD(yfoo,   1.11..222.222)  +'\n",
      "s2 = 'yfoo * #BAR'\n",
      "s3 = 'yfoo * 3.22'\n",
      "#cond_comps = re.split(r'\\s+&\\s+|\\s+\\|\\s+|\\s+AND\\s+|\\s+OR\\s+', oper_expr)\n",
      "ss = ' '.join(s1.split(' ')[1:]) + ' ' + ' '.join(s2.split(' '))"
     ],
     "language": "python",
     "metadata": {},
     "outputs": [],
     "prompt_number": 334
    },
    {
     "cell_type": "code",
     "collapsed": false,
     "input": [
      "p = r'(?<=@).+\\)'\n",
      "p = r'@.+\\)'\n",
      "m = re.search(p, s1)\n",
      "m.group(0)"
     ],
     "language": "python",
     "metadata": {},
     "outputs": [
      {
       "metadata": {},
       "output_type": "pyout",
       "prompt_number": 337,
       "text": [
        "'@YLD(yfoo,   1.11..222.222)'"
       ]
      }
     ],
     "prompt_number": 337
    },
    {
     "cell_type": "code",
     "collapsed": false,
     "input": [
      "loperand, operator, roperand = re.split(r'\\s+(\\+|-|\\*|/)\\s+', s3)"
     ],
     "language": "python",
     "metadata": {},
     "outputs": [],
     "prompt_number": 307
    },
    {
     "cell_type": "code",
     "collapsed": false,
     "input": [
      "chunks = re.split(r'(\\+|-)', ss)\n",
      "operators = chunks[1::2]\n",
      "chunks, operators"
     ],
     "language": "python",
     "metadata": {},
     "outputs": [
      {
       "metadata": {},
       "output_type": "pyout",
       "prompt_number": 111,
       "text": [
        "(['a b ccc 1.1..45 ',\n",
        "  '-',\n",
        "  ' ycomp @YLD(yfoo, 1.11..222.222) ',\n",
        "  '+',\n",
        "  ' yfoo * #BAR'],\n",
        " ['-', '+'])"
       ]
      }
     ],
     "prompt_number": 111
    },
    {
     "cell_type": "code",
     "collapsed": false,
     "input": [
      "chunks = re.split(r'\\s+\\+\\s+|\\s+-\\s+', ss)\n",
      "#chunks = []\n",
      "#expr = ss\n",
      "#while expr:\n",
      "    chunk, operator, expr = expr.partition(+)"
     ],
     "language": "python",
     "metadata": {},
     "outputs": [
      {
       "metadata": {},
       "output_type": "pyout",
       "prompt_number": 104,
       "text": [
        "['a b ccc 1.1..45', 'ycomp @YLD(yfoo, 1.11..222.222)', 'yfoo * #BAR']"
       ]
      }
     ],
     "prompt_number": 104
    },
    {
     "cell_type": "code",
     "collapsed": false,
     "input": [
      "d = [0, 1, 2]\n",
      "try:\n",
      "    xx = d[3]\n",
      "except:\n",
      "    pass\n",
      "print xx\n",
      "    "
     ],
     "language": "python",
     "metadata": {},
     "outputs": [
      {
       "ename": "NameError",
       "evalue": "name 'xx' is not defined",
       "output_type": "pyerr",
       "traceback": [
        "\u001b[0;31m---------------------------------------------------------------------------\u001b[0m\n\u001b[0;31mNameError\u001b[0m                                 Traceback (most recent call last)",
        "\u001b[0;32m<ipython-input-85-d8c63c10cfe7>\u001b[0m in \u001b[0;36m<module>\u001b[0;34m()\u001b[0m\n\u001b[1;32m      4\u001b[0m \u001b[0;32mexcept\u001b[0m\u001b[0;34m:\u001b[0m\u001b[0;34m\u001b[0m\u001b[0m\n\u001b[1;32m      5\u001b[0m     \u001b[0;32mpass\u001b[0m\u001b[0;34m\u001b[0m\u001b[0m\n\u001b[0;32m----> 6\u001b[0;31m \u001b[0;32mprint\u001b[0m \u001b[0mxx\u001b[0m\u001b[0;34m\u001b[0m\u001b[0m\n\u001b[0m\u001b[1;32m      7\u001b[0m \u001b[0;34m\u001b[0m\u001b[0m\n",
        "\u001b[0;31mNameError\u001b[0m: name 'xx' is not defined"
       ]
      }
     ],
     "prompt_number": 85
    },
    {
     "cell_type": "code",
     "collapsed": false,
     "input": [
      "def resolve_operand(operand):\n",
      "    return str(float(operand))\n",
      "\n",
      "s = '11. - 2 * 0.5 + 10'\n",
      "chunks1 = re.split(r'(\\+|-)', s)\n",
      "operands1 = chunks1[::2]\n",
      "operators1 = chunks1[1::2]\n",
      "operands2 = [None for o in operands1]\n",
      "operators2 = [None for o in operands1]\n",
      "\n",
      "for i, operand in enumerate(operands1):\n",
      "    chunks2 = re.split(r'(\\*|\\\\)', operand)\n",
      "    print i, operand, chunks2\n",
      "    operands2[i] = chunks2[::2]\n",
      "    operators2[i] = chunks2[1::2]\n",
      "\n",
      "operators1.append('')\n",
      "#operands1, operators1, operands2, operators2\n",
      "print operators1\n",
      "eval_string = ''\n",
      "for i, o1 in enumerate(operands2):\n",
      "    print '__', i, o1, operators1[i]\n",
      "    if not operators2[i]:\n",
      "        eval_string += resolve_operand(o1.pop()) + operators1[i]\n",
      "        print 'foo', eval_string\n",
      "    else:\n",
      "        operators2[i].append('')\n",
      "        for j, o2 in enumerate(o1):\n",
      "            eval_string += resolve_operand(o2) + operators2[i][j]\n",
      "        eval_string += operators1[i]\n",
      "        print 'bar', eval_string\n",
      "print eval_string\n",
      "eval(eval_string)"
     ],
     "language": "python",
     "metadata": {},
     "outputs": [
      {
       "output_type": "stream",
       "stream": "stdout",
       "text": [
        "0 11.  ['11. ']\n",
        "1  2 * 0.5  [' 2 ', '*', ' 0.5 ']\n",
        "2  10 [' 10']\n",
        "['-', '+', '']\n",
        "__ 0 ['11. '] -\n",
        "foo 11.0-\n",
        "__ 1 [' 2 ', ' 0.5 '] +\n",
        "bar 11.0-2.0*0.5+\n",
        "__ 2 [' 10'] \n",
        "foo 11.0-2.0*0.5+10.0\n",
        "11.0-2.0*0.5+10.0\n"
       ]
      },
      {
       "metadata": {},
       "output_type": "pyout",
       "prompt_number": 148,
       "text": [
        "20.0"
       ]
      }
     ],
     "prompt_number": 148
    },
    {
     "cell_type": "code",
     "collapsed": false,
     "input": [],
     "language": "python",
     "metadata": {},
     "outputs": [
      {
       "output_type": "stream",
       "stream": "stdout",
       "text": [
        "0 []\n"
       ]
      },
      {
       "ename": "IndexError",
       "evalue": "pop from empty list",
       "output_type": "pyerr",
       "traceback": [
        "\u001b[0;31m---------------------------------------------------------------------------\u001b[0m\n\u001b[0;31mIndexError\u001b[0m                                Traceback (most recent call last)",
        "\u001b[0;32m<ipython-input-131-abe8de854a63>\u001b[0m in \u001b[0;36m<module>\u001b[0;34m()\u001b[0m\n\u001b[1;32m      3\u001b[0m     \u001b[0;32mprint\u001b[0m \u001b[0mi\u001b[0m\u001b[0;34m,\u001b[0m \u001b[0mo1\u001b[0m\u001b[0;34m\u001b[0m\u001b[0m\n\u001b[1;32m      4\u001b[0m     \u001b[0;32mif\u001b[0m \u001b[0;32mnot\u001b[0m \u001b[0moperators2\u001b[0m\u001b[0;34m[\u001b[0m\u001b[0mi\u001b[0m\u001b[0;34m]\u001b[0m\u001b[0;34m:\u001b[0m\u001b[0;34m\u001b[0m\u001b[0m\n\u001b[0;32m----> 5\u001b[0;31m         \u001b[0meval_string\u001b[0m \u001b[0;34m+=\u001b[0m \u001b[0mfloat\u001b[0m\u001b[0;34m(\u001b[0m\u001b[0mo1\u001b[0m\u001b[0;34m.\u001b[0m\u001b[0mpop\u001b[0m\u001b[0;34m(\u001b[0m\u001b[0;34m)\u001b[0m\u001b[0;34m)\u001b[0m \u001b[0;34m+\u001b[0m \u001b[0moperators1\u001b[0m\u001b[0;34m[\u001b[0m\u001b[0mi\u001b[0m\u001b[0;34m]\u001b[0m\u001b[0;34m\u001b[0m\u001b[0m\n\u001b[0m\u001b[1;32m      6\u001b[0m     \u001b[0;32melse\u001b[0m\u001b[0;34m:\u001b[0m\u001b[0;34m\u001b[0m\u001b[0m\n\u001b[1;32m      7\u001b[0m         \u001b[0meval_string\u001b[0m \u001b[0;34m+=\u001b[0m \u001b[0;34m' '\u001b[0m\u001b[0;34m.\u001b[0m\u001b[0mjoin\u001b[0m\u001b[0;34m(\u001b[0m\u001b[0mx\u001b[0m \u001b[0;32mfor\u001b[0m \u001b[0mt\u001b[0m \u001b[0;32min\u001b[0m \u001b[0mzip\u001b[0m\u001b[0;34m(\u001b[0m\u001b[0;34m*\u001b[0m\u001b[0;34m(\u001b[0m\u001b[0moper1\u001b[0m\u001b[0;34m,\u001b[0m \u001b[0moperators2\u001b[0m\u001b[0;34m[\u001b[0m\u001b[0mi\u001b[0m\u001b[0;34m]\u001b[0m\u001b[0;34m)\u001b[0m\u001b[0;34m)\u001b[0m \u001b[0;32mfor\u001b[0m \u001b[0mx\u001b[0m \u001b[0;32min\u001b[0m \u001b[0mt\u001b[0m\u001b[0;34m)\u001b[0m\u001b[0;34m\u001b[0m\u001b[0m\n",
        "\u001b[0;31mIndexError\u001b[0m: pop from empty list"
       ]
      }
     ],
     "prompt_number": 131
    },
    {
     "cell_type": "code",
     "collapsed": false,
     "input": [
      "l = ['lkajslkjasdf']\n",
      "l[::2]"
     ],
     "language": "python",
     "metadata": {},
     "outputs": [
      {
       "metadata": {},
       "output_type": "pyout",
       "prompt_number": 304,
       "text": [
        "['lkajslkjasdf']"
       ]
      }
     ],
     "prompt_number": 304
    },
    {
     "cell_type": "code",
     "collapsed": false,
     "input": [
      "(i for i in 'abcdef')"
     ],
     "language": "python",
     "metadata": {},
     "outputs": [
      {
       "ename": "TypeError",
       "evalue": "unsupported operand type(s) for +: 'int' and 'str'",
       "output_type": "pyerr",
       "traceback": [
        "\u001b[0;31m---------------------------------------------------------------------------\u001b[0m\n\u001b[0;31mTypeError\u001b[0m                                 Traceback (most recent call last)",
        "\u001b[0;32m<ipython-input-161-e1abe77a168a>\u001b[0m in \u001b[0;36m<module>\u001b[0;34m()\u001b[0m\n\u001b[0;32m----> 1\u001b[0;31m \u001b[0msum\u001b[0m\u001b[0;34m(\u001b[0m\u001b[0mi\u001b[0m \u001b[0;32mfor\u001b[0m \u001b[0mi\u001b[0m \u001b[0;32min\u001b[0m \u001b[0;34m'abcdef'\u001b[0m\u001b[0;34m)\u001b[0m\u001b[0;34m\u001b[0m\u001b[0m\n\u001b[0m",
        "\u001b[0;32m/Library/Python/2.7/site-packages/numpy-1.8.2-py2.7-macosx-10.9-intel.egg/numpy/core/fromnumeric.pyc\u001b[0m in \u001b[0;36msum\u001b[0;34m(a, axis, dtype, out, keepdims)\u001b[0m\n\u001b[1;32m   1697\u001b[0m     \"\"\"\n\u001b[1;32m   1698\u001b[0m     \u001b[0;32mif\u001b[0m \u001b[0misinstance\u001b[0m\u001b[0;34m(\u001b[0m\u001b[0ma\u001b[0m\u001b[0;34m,\u001b[0m \u001b[0m_gentype\u001b[0m\u001b[0;34m)\u001b[0m\u001b[0;34m:\u001b[0m\u001b[0;34m\u001b[0m\u001b[0m\n\u001b[0;32m-> 1699\u001b[0;31m         \u001b[0mres\u001b[0m \u001b[0;34m=\u001b[0m \u001b[0m_sum_\u001b[0m\u001b[0;34m(\u001b[0m\u001b[0ma\u001b[0m\u001b[0;34m)\u001b[0m\u001b[0;34m\u001b[0m\u001b[0m\n\u001b[0m\u001b[1;32m   1700\u001b[0m         \u001b[0;32mif\u001b[0m \u001b[0mout\u001b[0m \u001b[0;32mis\u001b[0m \u001b[0;32mnot\u001b[0m \u001b[0mNone\u001b[0m\u001b[0;34m:\u001b[0m\u001b[0;34m\u001b[0m\u001b[0m\n\u001b[1;32m   1701\u001b[0m             \u001b[0mout\u001b[0m\u001b[0;34m[\u001b[0m\u001b[0;34m.\u001b[0m\u001b[0;34m.\u001b[0m\u001b[0;34m.\u001b[0m\u001b[0;34m]\u001b[0m \u001b[0;34m=\u001b[0m \u001b[0mres\u001b[0m\u001b[0;34m\u001b[0m\u001b[0m\n",
        "\u001b[0;31mTypeError\u001b[0m: unsupported operand type(s) for +: 'int' and 'str'"
       ]
      }
     ],
     "prompt_number": 161
    },
    {
     "cell_type": "code",
     "collapsed": false,
     "input": [
      "argdict = dict(zip(('b', 'c'), (1, 2)))\n",
      "\n",
      "def bar(a=None, b=None, c=None):\n",
      "    print a, b, c\n",
      "    \n",
      "bar(**argdict)\n",
      "bar(0, **dict(zip(('b', 'c'), (1, 2))))"
     ],
     "language": "python",
     "metadata": {},
     "outputs": [
      {
       "output_type": "stream",
       "stream": "stdout",
       "text": [
        "None 1 2\n",
        "0 1 2\n"
       ]
      }
     ],
     "prompt_number": 169
    },
    {
     "cell_type": "code",
     "collapsed": false,
     "input": [
      "import re\n",
      "s = '_INVENT(acode1     , acode2,  acode3,   acode4)'\n",
      "re.split('\\s+,\\s+', s[8:-1])"
     ],
     "language": "python",
     "metadata": {},
     "outputs": [
      {
       "metadata": {},
       "output_type": "pyout",
       "prompt_number": 177,
       "text": [
        "['acode1', 'acode2,  acode3,   acode4']"
       ]
      }
     ],
     "prompt_number": 177
    },
    {
     "cell_type": "code",
     "collapsed": false,
     "input": [
      "x = [0, 1, 2, 3]\n",
      "x[:0]"
     ],
     "language": "python",
     "metadata": {},
     "outputs": [
      {
       "metadata": {},
       "output_type": "pyout",
       "prompt_number": 178,
       "text": [
        "[]"
       ]
      }
     ],
     "prompt_number": 178
    },
    {
     "cell_type": "code",
     "collapsed": false,
     "input": [
      "import re\n",
      "s1 = '*OUTPUT oSupTotRecCTAF2 (_TH11)         Superficie.TOTALE.R\u00e9colte.CT.AF2.INC'\n",
      "s2 = '*OUTPUT oSupTotRecCTAF2         Superficie.TOTALE.R\u00e9colte.CT.AF2.INC'\n",
      "\n",
      "p = r'(?<=\\(_TH)[0-9]+'\n",
      "m = re.search(p, s2) # theme number\n",
      "if m: \n",
      "    print int(m.group(0))\n",
      "else:\n",
      "    print 'no theme'"
     ],
     "language": "python",
     "metadata": {},
     "outputs": [
      {
       "output_type": "stream",
       "stream": "stdout",
       "text": [
        "no theme\n"
       ]
      }
     ],
     "prompt_number": 278
    },
    {
     "cell_type": "code",
     "collapsed": false,
     "input": [
      "p = r'(?<=\\*OUTPUT\\s)(?=\\(?\\s+)'\n",
      "p = r'(?<=\\*OUTPUT)\\s+.+(?=\\()|(?=\\s)'\n",
      "p = r'(?<=\\*OUTPUT)\\s+\\w+((?=\\s)|(?=\\())'\n",
      "#p = r'(?<=\\*OUTPUT)(?:(?!Super).)*'\n",
      "m = re.search(p, s1)\n",
      "if m:\n",
      "    print [m.group(0).strip()]\n",
      "else:\n",
      "    print 'no match'"
     ],
     "language": "python",
     "metadata": {},
     "outputs": [
      {
       "output_type": "stream",
       "stream": "stdout",
       "text": [
        "['oSupTotRecCTAF2']\n"
       ]
      }
     ],
     "prompt_number": 276
    },
    {
     "cell_type": "heading",
     "level": 2,
     "metadata": {},
     "source": [
      "'*' in '*/'"
     ]
    },
    {
     "cell_type": "code",
     "collapsed": false,
     "input": [
      "'\\/' in '*\\/'"
     ],
     "language": "python",
     "metadata": {},
     "outputs": [
      {
       "metadata": {},
       "output_type": "pyout",
       "prompt_number": 280,
       "text": [
        "True"
       ]
      }
     ],
     "prompt_number": 280
    },
    {
     "cell_type": "code",
     "collapsed": false,
     "input": [
      "s = '/'\n",
      "p = r'*/'\n",
      "s in p\n"
     ],
     "language": "python",
     "metadata": {},
     "outputs": [
      {
       "metadata": {},
       "output_type": "pyout",
       "prompt_number": 283,
       "text": [
        "True"
       ]
      }
     ],
     "prompt_number": 283
    },
    {
     "cell_type": "code",
     "collapsed": false,
     "input": [
      "y = 1.\n",
      "1 + (y*2 if isinstance(y, float) else y)"
     ],
     "language": "python",
     "metadata": {},
     "outputs": [
      {
       "metadata": {},
       "output_type": "pyout",
       "prompt_number": 288,
       "text": [
        "3.0"
       ]
      }
     ],
     "prompt_number": 288
    },
    {
     "cell_type": "code",
     "collapsed": false,
     "input": [
      "x = [1, 2, 3]\n",
      "y = [11, 22, 33]\n",
      "z = [i*j for i, j in zip(x, y)]\n",
      "z"
     ],
     "language": "python",
     "metadata": {},
     "outputs": [
      {
       "metadata": {},
       "output_type": "pyout",
       "prompt_number": 290,
       "text": [
        "[11, 44, 99]"
       ]
      }
     ],
     "prompt_number": 290
    },
    {
     "cell_type": "code",
     "collapsed": false,
     "input": [
      "l = []\n",
      "l.append(1, 2)"
     ],
     "language": "python",
     "metadata": {},
     "outputs": [
      {
       "ename": "TypeError",
       "evalue": "append() takes exactly one argument (2 given)",
       "output_type": "pyerr",
       "traceback": [
        "\u001b[0;31m---------------------------------------------------------------------------\u001b[0m\n\u001b[0;31mTypeError\u001b[0m                                 Traceback (most recent call last)",
        "\u001b[0;32m<ipython-input-291-7284ac4cf696>\u001b[0m in \u001b[0;36m<module>\u001b[0;34m()\u001b[0m\n\u001b[1;32m      1\u001b[0m \u001b[0ml\u001b[0m \u001b[0;34m=\u001b[0m \u001b[0;34m[\u001b[0m\u001b[0;34m]\u001b[0m\u001b[0;34m\u001b[0m\u001b[0m\n\u001b[0;32m----> 2\u001b[0;31m \u001b[0ml\u001b[0m\u001b[0;34m.\u001b[0m\u001b[0mappend\u001b[0m\u001b[0;34m(\u001b[0m\u001b[0;36m1\u001b[0m\u001b[0;34m,\u001b[0m \u001b[0;36m2\u001b[0m\u001b[0;34m)\u001b[0m\u001b[0;34m\u001b[0m\u001b[0m\n\u001b[0m",
        "\u001b[0;31mTypeError\u001b[0m: append() takes exactly one argument (2 given)"
       ]
      }
     ],
     "prompt_number": 291
    },
    {
     "cell_type": "code",
     "collapsed": false,
     "input": [
      "x = [1].extend(i for i in range(10))"
     ],
     "language": "python",
     "metadata": {},
     "outputs": [],
     "prompt_number": 310
    },
    {
     "cell_type": "code",
     "collapsed": false,
     "input": [
      "foo = [1, 2, 3]\n",
      "for i, x in enumerate(foo):\n",
      "    foo[i] = str(foo[i]) + '_'\n",
      "    print i, foo[i], foo"
     ],
     "language": "python",
     "metadata": {},
     "outputs": [
      {
       "output_type": "stream",
       "stream": "stdout",
       "text": [
        "0 1_ ['1_', 2, 3]\n",
        "1 2_ ['1_', '2_', 3]\n",
        "2 3_ ['1_', '2_', '3_']\n"
       ]
      }
     ],
     "prompt_number": 319
    },
    {
     "cell_type": "code",
     "collapsed": false,
     "input": [
      "def foo(f):\n",
      "    print f\n",
      "\n",
      "f = [1, 2, 3]\n",
      "foo(f)"
     ],
     "language": "python",
     "metadata": {},
     "outputs": [
      {
       "output_type": "stream",
       "stream": "stdout",
       "text": [
        "[1, 2, 3]\n"
       ]
      }
     ],
     "prompt_number": 323
    },
    {
     "cell_type": "code",
     "collapsed": false,
     "input": [
      "x = [(1, 11), (2, 22)]\n",
      "[(3, 33)] + x"
     ],
     "language": "python",
     "metadata": {},
     "outputs": [
      {
       "metadata": {},
       "output_type": "pyout",
       "prompt_number": 325,
       "text": [
        "[(3, 33), (1, 11), (2, 22)]"
       ]
      }
     ],
     "prompt_number": 325
    },
    {
     "cell_type": "code",
     "collapsed": false,
     "input": [
      "s = 'FOR XX    := 1 to 12'\n",
      "p = r'(?<=FOR\\s).+(?=:=)'\n",
      "re.search(p, s).group(0).strip()\n",
      "#p = r'(?<=:=).+(?=to)'\n",
      "#int(re.search(p, s).group(0))\n",
      "p = r'(?<=to).+'\n",
      "int(re.search(p, s).group(0))"
     ],
     "language": "python",
     "metadata": {},
     "outputs": [
      {
       "metadata": {},
       "output_type": "pyout",
       "prompt_number": 349,
       "text": [
        "12"
       ]
      }
     ],
     "prompt_number": 349
    },
    {
     "cell_type": "code",
     "collapsed": false,
     "input": [
      "s = \"\"\"\n",
      "*OUTPUT OSUPJEUNEREGECO_UTAXX Superficie  Regeneration  ResultatsEcologiques   UTAXX\n",
      "  *SOURCE ? ? ? ? ? ? ? regECO ? ? ? ? ? ? ? ? ? ? UTAXX ? _INVENT yRege\n",
      "*OUTPUT OSUPVIEUXREGECO_FCAGE_IDTSSANSCP_UTAXX Superficie  Vieux  ResultatsEcologiques   CourbesAGE_IDTSSansCP_UTAXX\n",
      "  *SOURCE ? ? ? ? FCAGE IDTSSANSCP ? regECO ? ? ? ? ? ? ? ? ? ? UTAXX ? _INVENT yVieux\n",
      "*OUTPUT OSUPVIEUXREGECO_FCAGE_IDTSAVECCP_UTAXX Superficie  Vieux  ResultatsEcologiques   CourbesAGE_IDTSAvecCP_UTAXX\n",
      "  *SOURCE ? ? ? ? FCAGE IDTSAVECCP ? regECO ? ? ? ? ? ? ? ? ? ? UTAXX ? _INVENT yVieux\n",
      "*OUTPUT OSUPVIEUXIRRREGECO_FCAGE_UTAXX Superficie  VieuxIrreguliers  ResultatsEcologiques   CourbesAGE_UTAXX\n",
      "  *SOURCE ? ? ? ? FCAGE ? ? regECO ? ? ? ? ? ? ? ? ? ? UTAXX ? _INVENT yVieuxIRR\n",
      "*OUTPUT OSUPVIEUXSTREGECO_FCST_UTAXX Superficie  Vieux  ResultatsEcologiques   CourbesST_UTAXX\n",
      "  *SOURCE ? ? ? ? FCST ? ? regECO ? ? ? ? ? ? ? ? ? ? UTAXX ? _INVENT yVieux\n",
      "*OUTPUT OSUPVIEUXTOTREGECO_UTAXX Superficie  VieuxTotal  ResultatsEcologiques   UTAXX\n",
      "  *SOURCE ? ? ? ? ? ? ? regECO ? ? ? ? ? ? ? ? ? ? UTAXX ? _INVENT yVieux\n",
      "\n",
      "*OUTPUT OSUPVIEUXALERTEREGECO_UTAXX Superficie  SeuilVieuxAlerte  ResultatsEcologiques   UTAXX\n",
      "   *SOURCE ? ? ? ? ? ? ? regECO ? ? ? ? ? ? ? ? ? ? UTAXX ? _INVENT yVieuxAlerte\n",
      "*OUTPUT OSUPVIEUXACCEPTREGECO_UTAXX Superficie  SeuilVieuxAccepte  ResultatsEcologiques   UTAXX\n",
      "   *SOURCE ? ? ? ? ? ? ? regECO ? ? ? ? ? ? ? ? ? ? UTAXX ?  _INVENT yVieuxAccepte\n",
      "*OUTPUT OSUPJEUNEALERTEREGECO_UTAXX Superficie  SeuilJeuneAlerte  ResultatsEcologiques   UTAXX\n",
      "   *SOURCE ? ? ? ? ? ? ? regECO ? ? ? ? ? ? ? ? ? ? UTAXX ?   _INVENT yJeuneAlerte\n",
      "*OUTPUT OSUPJEUNEACCEPTREGECO_UTAXX Superficie  SeuilJeuneAccepte  ResultatsEcologiques   UTAXX\n",
      "   *SOURCE ? ? ? ? ? ? ? regECO ? ? ? ? ? ? ? ? ? ? UTAXX ?   _INVENT yJeuneAccepte\n",
      "*OUTPUT OSUPREGECO_UTAXX Superficie    ResultatsEcologique   UTAXX\n",
      "   *SOURCE ? ? ? ? ? ? ? regECO ? ? ? ? ? ? ? ? ? ? UTAXX ?   _INVENT _AREA\n",
      "\"\"\"\n",
      "ss = s.replace('XX', str(99))\n",
      "for line in ss.split('\\n'): print line"
     ],
     "language": "python",
     "metadata": {},
     "outputs": [
      {
       "output_type": "stream",
       "stream": "stdout",
       "text": [
        "\n",
        "*OUTPUT OSUPJEUNEREGECO_UTA99 Superficie  Regeneration  ResultatsEcologiques   UTA99\n",
        "  *SOURCE ? ? ? ? ? ? ? regECO ? ? ? ? ? ? ? ? ? ? UTA99 ? _INVENT yRege\n",
        "*OUTPUT OSUPVIEUXREGECO_FCAGE_IDTSSANSCP_UTA99 Superficie  Vieux  ResultatsEcologiques   CourbesAGE_IDTSSansCP_UTA99\n",
        "  *SOURCE ? ? ? ? FCAGE IDTSSANSCP ? regECO ? ? ? ? ? ? ? ? ? ? UTA99 ? _INVENT yVieux\n",
        "*OUTPUT OSUPVIEUXREGECO_FCAGE_IDTSAVECCP_UTA99 Superficie  Vieux  ResultatsEcologiques   CourbesAGE_IDTSAvecCP_UTA99\n",
        "  *SOURCE ? ? ? ? FCAGE IDTSAVECCP ? regECO ? ? ? ? ? ? ? ? ? ? UTA99 ? _INVENT yVieux\n",
        "*OUTPUT OSUPVIEUXIRRREGECO_FCAGE_UTA99 Superficie  VieuxIrreguliers  ResultatsEcologiques   CourbesAGE_UTA99\n",
        "  *SOURCE ? ? ? ? FCAGE ? ? regECO ? ? ? ? ? ? ? ? ? ? UTA99 ? _INVENT yVieuxIRR\n",
        "*OUTPUT OSUPVIEUXSTREGECO_FCST_UTA99 Superficie  Vieux  ResultatsEcologiques   CourbesST_UTA99\n",
        "  *SOURCE ? ? ? ? FCST ? ? regECO ? ? ? ? ? ? ? ? ? ? UTA99 ? _INVENT yVieux\n",
        "*OUTPUT OSUPVIEUXTOTREGECO_UTA99 Superficie  VieuxTotal  ResultatsEcologiques   UTA99\n",
        "  *SOURCE ? ? ? ? ? ? ? regECO ? ? ? ? ? ? ? ? ? ? UTA99 ? _INVENT yVieux\n",
        "\n",
        "*OUTPUT OSUPVIEUXALERTEREGECO_UTA99 Superficie  SeuilVieuxAlerte  ResultatsEcologiques   UTA99\n",
        "   *SOURCE ? ? ? ? ? ? ? regECO ? ? ? ? ? ? ? ? ? ? UTA99 ? _INVENT yVieuxAlerte\n",
        "*OUTPUT OSUPVIEUXACCEPTREGECO_UTA99 Superficie  SeuilVieuxAccepte  ResultatsEcologiques   UTA99\n",
        "   *SOURCE ? ? ? ? ? ? ? regECO ? ? ? ? ? ? ? ? ? ? UTA99 ?  _INVENT yVieuxAccepte\n",
        "*OUTPUT OSUPJEUNEALERTEREGECO_UTA99 Superficie  SeuilJeuneAlerte  ResultatsEcologiques   UTA99\n",
        "   *SOURCE ? ? ? ? ? ? ? regECO ? ? ? ? ? ? ? ? ? ? UTA99 ?   _INVENT yJeuneAlerte\n",
        "*OUTPUT OSUPJEUNEACCEPTREGECO_UTA99 Superficie  SeuilJeuneAccepte  ResultatsEcologiques   UTA99\n",
        "   *SOURCE ? ? ? ? ? ? ? regECO ? ? ? ? ? ? ? ? ? ? UTA99 ?   _INVENT yJeuneAccepte\n",
        "*OUTPUT OSUPREGECO_UTA99 Superficie    ResultatsEcologique   UTA99\n",
        "   *SOURCE ? ? ? ? ? ? ? regECO ? ? ? ? ? ? ? ? ? ? UTA99 ?   _INVENT _AREA\n",
        "\n"
       ]
      }
     ],
     "prompt_number": 348
    },
    {
     "cell_type": "code",
     "collapsed": false,
     "input": [
      "#s = r'? ? ? ? FCFN ? ? INC ? ? ? ? ? ? ? ? ? ? ? ? @YLD(yFoo, 1.11..99.999) @AGE(7..42) _INVENT (aEc) yV_G_EsFN * 0.3'\n",
      "#s = r'? ? ? ? FCFN ? ? INC ? ? ? ? ? ? ? ? ? ? ? ? @YLD(yFoo, 1.11..99.999) @AGE(7..42) aFoo _AREA * 0.3'\n",
      "#s = r'? ? ? ? FCFN ? ? INC ? ? ? ? ? ? ? ? ? ? ? ? @YLD(yFoo, 1.11..99.999) _INVENT (aEc, aFoo, aBar) yV_G_EsFN * #foo'\n",
      "s = r'? ? ? ? FCFN ? ? INC ? ? ? ? ? ? ? ? ? ? ? ? @YLD(yFoo   ,  1.11..99.999) _INVENT yV_G_EsFN * #foo'\n",
      "s = re.sub('\\s+', ' ', s)\n",
      "s = s.replace(' (', '(')\n",
      "s = re.sub('\\s?,\\s?', ',', s)\n",
      "\n",
      "print 'clean up whitespace', s\n",
      "\n",
      "n = 20\n",
      "tokens = s.split(' ')\n",
      "mask = tokens[:n]\n",
      "print len(mask), mask\n",
      "\n",
      "p = r'(?<=@AGE\\().+?(?=\\))'\n",
      "m = re.search(p, s)\n",
      "if m:\n",
      "    print '@AGE', [int(i) for i in m.group().split('..')]\n",
      "    s = s[m.span()[1]+2:]\n",
      "    print 'remaining...', s\n",
      "    \n",
      "p = r'(?<=@YLD\\().+?(?=\\))'\n",
      "m = re.search(p, s)\n",
      "if m:\n",
      "    ycomp, rs = m.group().split(',')\n",
      "    #if '..' in rs:\n",
      "    r = tuple(float(i) for i in rs.split('..'))\n",
      "    print '@YLD', y, r\n",
      "    s = s[m.span()[1]+2:]\n",
      "    print 'remaining...', s\n",
      "if s.startswith('_INVENT('):\n",
      "    acodes = s[8:]\n",
      "    print '_INVENT()', \n",
      "    \n",
      "    \n",
      "p = r'(?<=_INVENT)(?:\\s?\\()(.*)(?=\\))'\n",
      "m = re.search(p, s)\n",
      "if m:\n",
      "    print '_INVENT', [m.group(1)]\n",
      "    s = s[m.span()[1]+1:].strip()\n",
      "else: # first token must be an action code\n",
      "    i = s.index(' ')\n",
      "    acode = s[:i]\n",
      "    print 'acode', acode\n",
      "    s = s[i:].strip()\n",
      "    print 'remaining...', s\n",
      "if s.startswith('_AREA'):\n",
      "    print '_AREA'\n",
      "    s = s[6:]\n",
      "    print 'remaining...', s\n",
      "else:\n",
      "    tokens = s.split(' ')\n",
      "    print 'ycomp', tokens[0]\n",
      "    s = s[len(tokens[0]):].strip()\n",
      "    print 'remaining...', s\n",
      "if s:\n",
      "    tokens = s.split(' ')\n",
      "    print 'operator', tokens[0]\n",
      "    print 'roper (resolve)', tokens[1]\n",
      "    "
     ],
     "language": "python",
     "metadata": {},
     "outputs": [
      {
       "output_type": "stream",
       "stream": "stdout",
       "text": [
        "clean up whitespace ? ? ? ? FCFN ? ? INC ? ? ? ? ? ? ? ? ? ? ? ? @YLD(yFoo,1.11..99.999) _INVENT yV_G_EsFN * #foo\n",
        "20 ['?', '?', '?', '?', 'FCFN', '?', '?', 'INC', '?', '?', '?', '?', '?', '?', '?', '?', '?', '?', '?', '?']\n",
        "@YLD yFoo (1.11, 99.999)\n",
        "remaining... _INVENT yV_G_EsFN * #foo\n",
        "acode _INVENT\n",
        "remaining... yV_G_EsFN * #foo\n",
        "ycomp yV_G_EsFN\n",
        "remaining... * #foo\n",
        "operator *\n",
        "roper (resolve) #foo\n"
       ]
      }
     ],
     "prompt_number": 510
    },
    {
     "cell_type": "code",
     "collapsed": false,
     "input": [
      "s = '1.11..999.9999'\n",
      "'..' in s"
     ],
     "language": "python",
     "metadata": {},
     "outputs": [
      {
       "metadata": {},
       "output_type": "pyout",
       "prompt_number": 432,
       "text": [
        "True"
       ]
      }
     ],
     "prompt_number": 432
    },
    {
     "cell_type": "code",
     "collapsed": false,
     "input": [
      "s = r'? ? ? ? FCFN ? ? INC ? ? ? ? ? ? ? ? ? ? ? ? @YLD(yFoo   ,  1.11..99.999) _INVENT yV_G_EsFN * #foo'\n",
      "s = re.sub('\\s+', ' ', s)\n",
      "s = s.replace(' (', '(')\n",
      "s = re.sub('\\s?,\\s?', ',', s)\n",
      "\n",
      "print 'clean up whitespace', s\n",
      "\n",
      "n = 20\n",
      "tokens = s.split(' ')\n",
      "mask = tokens[:n]\n",
      "print len(mask), mask\n",
      "\n",
      "\n",
      "\n",
      "p = r'(?<=@AGE\\().+?(?=\\))'\n",
      "m = re.search(p, s)\n",
      "if m:\n",
      "    print '@AGE', [int(i) for i in m.group().split('..')]\n",
      "    s = s[m.span()[1]+2:]\n",
      "    print 'remaining...', s\n",
      "    \n",
      "p = r'(?<=@YLD\\().+?(?=\\))'\n",
      "m = re.search(p, s)\n",
      "if m:\n",
      "    ycomp, rs = m.group().split(',')\n",
      "    #if '..' in rs:\n",
      "    r = tuple(float(i) for i in rs.split('..'))\n",
      "    print '@YLD', y, r\n",
      "    s = s[m.span()[1]+2:]\n",
      "    print 'remaining...', s\n",
      "if s.startswith('_INVENT('):\n",
      "    acodes = s[8:]\n",
      "    print '_INVENT()', \n",
      "    \n",
      "    \n",
      "p = r'(?<=_INVENT)(?:\\s?\\()(.*)(?=\\))'\n",
      "m = re.search(p, s)\n",
      "if m:\n",
      "    print '_INVENT', [m.group(1)]\n",
      "    s = s[m.span()[1]+1:].strip()\n",
      "else: # first token must be an action code\n",
      "    i = s.index(' ')\n",
      "    acode = s[:i]\n",
      "    print 'acode', acode\n",
      "    s = s[i:].strip()\n",
      "    print 'remaining...', s\n",
      "if s.startswith('_AREA'):\n",
      "    print '_AREA'\n",
      "    s = s[6:]\n",
      "    print 'remaining...', s\n",
      "else:\n",
      "    tokens = s.split(' ')\n",
      "    print 'ycomp', tokens[0]\n",
      "    s = s[len(tokens[0]):].strip()\n",
      "    print 'remaining...', s\n",
      "if s:\n",
      "    tokens = s.split(' ')\n",
      "    print 'operator', tokens[0]\n",
      "    print 'roper (resolve)', tokens[1]\n"
     ],
     "language": "python",
     "metadata": {},
     "outputs": []
    },
    {
     "cell_type": "code",
     "collapsed": false,
     "input": [
      "range(*[int(a)+i for i, a in enumerate('_INVENT(1..20)'[8:-1].split('..'))])"
     ],
     "language": "python",
     "metadata": {},
     "outputs": [
      {
       "metadata": {},
       "output_type": "pyout",
       "prompt_number": 524,
       "text": [
        "[1, 2, 3, 4, 5, 6, 7, 8, 9, 10, 11, 12, 13, 14, 15, 16, 17, 18, 19, 20]"
       ]
      }
     ],
     "prompt_number": 524
    },
    {
     "cell_type": "code",
     "collapsed": false,
     "input": [
      "min(11, 22)"
     ],
     "language": "python",
     "metadata": {},
     "outputs": [
      {
       "metadata": {},
       "output_type": "pyout",
       "prompt_number": 526,
       "text": [
        "11"
       ]
      }
     ],
     "prompt_number": 526
    },
    {
     "cell_type": "code",
     "collapsed": false,
     "input": [
      "x = 'bar'\n",
      "y = 'foo'\n",
      "z = x or y\n",
      "z"
     ],
     "language": "python",
     "metadata": {},
     "outputs": [
      {
       "metadata": {},
       "output_type": "pyout",
       "prompt_number": 5,
       "text": [
        "'bar'"
       ]
      }
     ],
     "prompt_number": 5
    },
    {
     "cell_type": "code",
     "collapsed": false,
     "input": [
      "x = [0, 1, 2]\n",
      "y = [x[i-1] for i in range(len(x))]\n",
      "y"
     ],
     "language": "python",
     "metadata": {},
     "outputs": [
      {
       "metadata": {},
       "output_type": "pyout",
       "prompt_number": 5,
       "text": [
        "[2, 0, 1]"
       ]
      }
     ],
     "prompt_number": 5
    },
    {
     "cell_type": "code",
     "collapsed": false,
     "input": [
      "x = range(2+1)"
     ],
     "language": "python",
     "metadata": {},
     "outputs": [],
     "prompt_number": 6
    },
    {
     "cell_type": "code",
     "collapsed": false,
     "input": [
      "x"
     ],
     "language": "python",
     "metadata": {},
     "outputs": [
      {
       "metadata": {},
       "output_type": "pyout",
       "prompt_number": 7,
       "text": [
        "[0, 1, 2]"
       ]
      }
     ],
     "prompt_number": 7
    },
    {
     "cell_type": "code",
     "collapsed": false,
     "input": [
      "range(0, 1)"
     ],
     "language": "python",
     "metadata": {},
     "outputs": [
      {
       "metadata": {},
       "output_type": "pyout",
       "prompt_number": 9,
       "text": [
        "[0]"
       ]
      }
     ],
     "prompt_number": 9
    },
    {
     "cell_type": "code",
     "collapsed": false,
     "input": [
      "def foo(arg):\n",
      "    return arg\n",
      "\n",
      "x = 1\n",
      "foo(x), foo(-x)"
     ],
     "language": "python",
     "metadata": {},
     "outputs": [
      {
       "metadata": {},
       "output_type": "pyout",
       "prompt_number": 10,
       "text": [
        "(1, -1)"
       ]
      }
     ],
     "prompt_number": 10
    },
    {
     "cell_type": "code",
     "collapsed": false,
     "input": [
      "x = (1, 2)\n",
      "y = 0, *x"
     ],
     "language": "python",
     "metadata": {},
     "outputs": [
      {
       "ename": "SyntaxError",
       "evalue": "invalid syntax (<ipython-input-11-c436dfa57def>, line 2)",
       "output_type": "pyerr",
       "traceback": [
        "\u001b[0;36m  File \u001b[0;32m\"<ipython-input-11-c436dfa57def>\"\u001b[0;36m, line \u001b[0;32m2\u001b[0m\n\u001b[0;31m    y = 0, *x\u001b[0m\n\u001b[0m           ^\u001b[0m\n\u001b[0;31mSyntaxError\u001b[0m\u001b[0;31m:\u001b[0m invalid syntax\n"
       ]
      }
     ],
     "prompt_number": 11
    },
    {
     "cell_type": "code",
     "collapsed": false,
     "input": [
      "x = xrange(10)\n",
      "y = [y for y in range(10)]\n",
      "zip(x, y)"
     ],
     "language": "python",
     "metadata": {},
     "outputs": [
      {
       "metadata": {},
       "output_type": "pyout",
       "prompt_number": 17,
       "text": [
        "[(0, 0),\n",
        " (1, 1),\n",
        " (2, 2),\n",
        " (3, 3),\n",
        " (4, 4),\n",
        " (5, 5),\n",
        " (6, 6),\n",
        " (7, 7),\n",
        " (8, 8),\n",
        " (9, 9)]"
       ]
      }
     ],
     "prompt_number": 17
    },
    {
     "cell_type": "code",
     "collapsed": false,
     "input": [
      "for i in x: print i\n",
      "for i in x: print i"
     ],
     "language": "python",
     "metadata": {},
     "outputs": [
      {
       "output_type": "stream",
       "stream": "stdout",
       "text": [
        "0\n",
        "1\n",
        "2\n",
        "3\n",
        "4\n",
        "5\n",
        "6\n",
        "7\n",
        "8\n",
        "9\n",
        "0\n",
        "1\n",
        "2\n",
        "3\n",
        "4\n",
        "5\n",
        "6\n",
        "7\n",
        "8\n",
        "9\n"
       ]
      }
     ],
     "prompt_number": 18
    },
    {
     "cell_type": "code",
     "collapsed": false,
     "input": [
      "x = [0, 10, 20, 40, 100]\n",
      "y = [0., 20., 40., 30., 30.]\n",
      "intervals = zip(x, x[1:], y, y[1:])\n",
      "m = [(y2 - y1)/(x2 - x1) for x1, x2, y1, y2 in intervals]\n",
      "m"
     ],
     "language": "python",
     "metadata": {},
     "outputs": [
      {
       "metadata": {},
       "output_type": "pyout",
       "prompt_number": 95,
       "text": [
        "[2.0, 2.0, -0.5, 0.0]"
       ]
      }
     ],
     "prompt_number": 95
    },
    {
     "cell_type": "code",
     "collapsed": false,
     "input": [
      "from bisect import bisect_left\n",
      "_y = 40.\n",
      "i = bisect_left(y, _y) - 1\n",
      "print i, x[i], y[i]\n",
      "print (_y - y[i])/m[i]\n",
      "_x = x[i] + (_y - y[i])/m[i]"
     ],
     "language": "python",
     "metadata": {},
     "outputs": [
      {
       "output_type": "stream",
       "stream": "stdout",
       "text": [
        "1 10 20.0\n",
        "10.0\n"
       ]
      }
     ],
     "prompt_number": 117
    },
    {
     "cell_type": "code",
     "collapsed": false,
     "input": [
      "_x"
     ],
     "language": "python",
     "metadata": {},
     "outputs": [
      {
       "metadata": {},
       "output_type": "pyout",
       "prompt_number": 118,
       "text": [
        "20.0"
       ]
      }
     ],
     "prompt_number": 118
    },
    {
     "cell_type": "code",
     "collapsed": false,
     "input": [
      "from collections import defaultdict as dd\n",
      "d = dd(dd)\n",
      "if not d[0]: \n",
      "    print 'not i 0'\n",
      "    print d\n",
      "if not d[0]['a']:\n",
      "    print 'not j a'\n",
      "    print d\n"
     ],
     "language": "python",
     "metadata": {},
     "outputs": [
      {
       "output_type": "stream",
       "stream": "stdout",
       "text": [
        "not i 0\n",
        "defaultdict(<type 'collections.defaultdict'>, {0: defaultdict(None, {})})\n"
       ]
      },
      {
       "ename": "KeyError",
       "evalue": "'a'",
       "output_type": "pyerr",
       "traceback": [
        "\u001b[0;31m---------------------------------------------------------------------------\u001b[0m\n\u001b[0;31mKeyError\u001b[0m                                  Traceback (most recent call last)",
        "\u001b[0;32m<ipython-input-132-d32dd87d55fb>\u001b[0m in \u001b[0;36m<module>\u001b[0;34m()\u001b[0m\n\u001b[1;32m      4\u001b[0m     \u001b[0;32mprint\u001b[0m \u001b[0;34m'not i 0'\u001b[0m\u001b[0;34m\u001b[0m\u001b[0m\n\u001b[1;32m      5\u001b[0m     \u001b[0;32mprint\u001b[0m \u001b[0md\u001b[0m\u001b[0;34m\u001b[0m\u001b[0m\n\u001b[0;32m----> 6\u001b[0;31m \u001b[0;32mif\u001b[0m \u001b[0;32mnot\u001b[0m \u001b[0md\u001b[0m\u001b[0;34m[\u001b[0m\u001b[0;36m0\u001b[0m\u001b[0;34m]\u001b[0m\u001b[0;34m[\u001b[0m\u001b[0;34m'a'\u001b[0m\u001b[0;34m]\u001b[0m\u001b[0;34m:\u001b[0m\u001b[0;34m\u001b[0m\u001b[0m\n\u001b[0m\u001b[1;32m      7\u001b[0m     \u001b[0;32mprint\u001b[0m \u001b[0;34m'not j a'\u001b[0m\u001b[0;34m\u001b[0m\u001b[0m\n\u001b[1;32m      8\u001b[0m     \u001b[0;32mprint\u001b[0m \u001b[0md\u001b[0m\u001b[0;34m\u001b[0m\u001b[0m\n",
        "\u001b[0;31mKeyError\u001b[0m: 'a'"
       ]
      }
     ],
     "prompt_number": 132
    },
    {
     "cell_type": "code",
     "collapsed": false,
     "input": [
      "dd"
     ],
     "language": "python",
     "metadata": {},
     "outputs": [
      {
       "metadata": {},
       "output_type": "pyout",
       "prompt_number": 120,
       "text": [
        "defaultdict(<type 'collections.defaultdict'>, {0: defaultdict(None, {})})"
       ]
      }
     ],
     "prompt_number": 120
    },
    {
     "cell_type": "code",
     "collapsed": false,
     "input": [
      "dd[1]"
     ],
     "language": "python",
     "metadata": {},
     "outputs": [
      {
       "metadata": {},
       "output_type": "pyout",
       "prompt_number": 121,
       "text": [
        "defaultdict(None, {})"
       ]
      }
     ],
     "prompt_number": 121
    },
    {
     "cell_type": "code",
     "collapsed": false,
     "input": [
      "dd"
     ],
     "language": "python",
     "metadata": {},
     "outputs": [
      {
       "metadata": {},
       "output_type": "pyout",
       "prompt_number": 122,
       "text": [
        "defaultdict(<type 'collections.defaultdict'>, {0: defaultdict(None, {}), 1: defaultdict(None, {})})"
       ]
      }
     ],
     "prompt_number": 122
    },
    {
     "cell_type": "code",
     "collapsed": false,
     "input": [],
     "language": "python",
     "metadata": {},
     "outputs": []
    }
   ],
   "metadata": {}
  }
 ]
}